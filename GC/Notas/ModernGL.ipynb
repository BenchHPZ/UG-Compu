{
 "cells": [
  {
   "cell_type": "markdown",
   "metadata": {},
   "source": [
    "# Modern GL"
   ]
  },
  {
   "cell_type": "markdown",
   "metadata": {},
   "source": [
    "Este notebook contendra el tutorial de la librería de python que implementa __Modern GL__ y notas de la\n",
    "[documentacion oficial](https://moderngl.readthedocs.io), además de ejemplos prácticos y de la clase.\n",
    "\n",
    "Se autodefine como \n",
    "> Un modulo de rendering de alto rendimiento para Python\n",
    "\n",
    "e implementa la versión moderna de __OpenGL__ en comparación con __PyOpenGL__ que usa su implementación anterior."
   ]
  },
  {
   "cell_type": "markdown",
   "metadata": {
    "heading_collapsed": true
   },
   "source": [
    "### Instalacion"
   ]
  },
  {
   "cell_type": "markdown",
   "metadata": {
    "hidden": true
   },
   "source": [
    "Se puede instalar desde `pip` con la sentencia\n",
    "```console\n",
    "$ pip install ModernGL\n",
    "```"
   ]
  },
  {
   "cell_type": "markdown",
   "metadata": {},
   "source": [
    "## The Guide"
   ]
  },
  {
   "cell_type": "markdown",
   "metadata": {
    "heading_collapsed": true
   },
   "source": [
    "#### Para empezar"
   ]
  },
  {
   "cell_type": "markdown",
   "metadata": {
    "hidden": true
   },
   "source": [
    "Para renderizar algo se necesita usar desde un `VertexArray`.\n",
    " \n",
    " 1. Estos pueden ser creados desde un objeto `Program` y desde un `Buffer`. \n",
    " 2. Para poder crear un `Program` es necesario suministrar los __shaders__ como _strings_. \n",
    " 3. Despues se debe usar  el `Buffer` con la informacion pertinente, que sera trasladada a un `VertexArray`. \n",
    " 4. Y finalmente renderizar todo esto con el metodo `VertexArray.render()`. \n",
    "\n",
    "Todos los objetos e instancias anteriores deben ser creados desde un objeto `Context`."
   ]
  },
  {
   "cell_type": "markdown",
   "metadata": {
    "heading_collapsed": true
   },
   "source": [
    "### Creacion de contextos"
   ]
  },
  {
   "cell_type": "markdown",
   "metadata": {
    "hidden": true
   },
   "source": [
    "Un objeto `context` le da a __ModernGL__ acceso a las instrucciones de __OpenGL__. A pesar de que `context` se debe crear de manera distinta dependiendo del sistema operativo, __ModernGL__ se encarga de seleccionar la opcion por _default_ del sistema operativo.\n",
    "\n",
    "Luego, los _backend_ de los principales sistemas operativos (con los que trabaja __ModernGL__) permiten dos modos\n",
    " - Dectectar una libreria existente para manejar ventanas\n",
    "```python\n",
    "import moderngl\n",
    "# Crear context\n",
    "ctx = moderngl.create_context()\n",
    "print('El framebuffer por defecto es: ', ctx.screen)\n",
    "```\n",
    " - Crear un `context` sin encabezado (Sin ventana visible)\n",
    "```python\n",
    "import moderngl\n",
    "# Crear context\n",
    "ctx = moderngl.create_context(standalone=True)\n",
    "# Crear framebuffer para renderizar\n",
    "fbo = ctx.simple_framebuffer((100, 100), 4)\n",
    "fbo.use()\n",
    "```\n",
    "\n",
    "#### Version OpenGL\n",
    "\n",
    "__ModernGL__ solo soporta 3.3+ `contexts`. En caso de que necesitemos una version especifica de __OpenGL__, podemos pasarle el argumento `require= version`, donde `version` es el argumento de la version minima solicitada.\n",
    "\n",
    "\n",
    "#### Backend especifico\n",
    "\n",
    "Para definir el _backend_ que usara nuestro programa (modificar el que esta por defecto), se le puede pasar el argumento `backend= 'bck'`, donde `bck` es el motor de ventanas que se desea utilizar.\n",
    "\n"
   ]
  },
  {
   "cell_type": "code",
   "execution_count": 4,
   "metadata": {
    "ExecuteTime": {
     "end_time": "2020-09-16T17:51:39.238854Z",
     "start_time": "2020-09-16T17:51:38.326601Z"
    },
    "hidden": true
   },
   "outputs": [
    {
     "name": "stdout",
     "output_type": "stream",
     "text": [
      "El framebuffer por defecto es:  <Framebuffer: 0>\n"
     ]
    }
   ],
   "source": [
    "import moderngl\n",
    "\n",
    "import glfw # Backebd para crear contexto\n",
    "if glfw.init(): # Iniciamos GLFW\n",
    "    ventana = glfw.create_window(700, 500, \n",
    "            \"Tarea 1 de Graficos por Computadora en Python\", \n",
    "            None, None) # Creamos ventana\n",
    "    # Establecer contexto con la ventana\n",
    "    glfw.make_context_current(ventana)\n",
    "    \n",
    "# Crear context\n",
    "ctx = moderngl.create_context()\n",
    "print('El framebuffer por defecto es: ', ctx.screen)\n",
    "\n",
    "glfw.terminate()"
   ]
  },
  {
   "cell_type": "markdown",
   "metadata": {
    "heading_collapsed": true
   },
   "source": [
    "### Buffer Format"
   ]
  },
  {
   "cell_type": "markdown",
   "metadata": {
    "hidden": true
   },
   "source": [
    "> __VBO__ Vertex Buffer Object\n",
    ">\n",
    "> __VAO__ Vertex Array Objects\n",
    "\n",
    "El __VBO__ es el formato en que guardamos informacion en un `Buffer`, esto se guarda en un _strig_ con formato especificado. \n",
    "\n",
    "El __VBO__ esta compuestos por estructuras _C-likes_. Ademas describe la apariencia y el formato de cada uno de los elementos. Un ejemplo de esto podria ser cuando queremos guardar cordenadas _2D_, este __VBO__ tendria la forma `\"2f8\"`, donde cada elemneto del arreglo consiste de dos _floats_ de 8 bits.\n",
    "\n",
    "El _formato del Buffer_ es usado en el constructor de `Context.vertex_array()`.\n",
    "\n",
    "#### Sintaxis\n",
    "\n",
    "El formato del buffer debe ser como sigue\n",
    "```\n",
    " [count]type[size] [[count]type[size] ... ] [/usage]\n",
    "```\n",
    "Donde:\n",
    " - `count` es un entero opcional, si se omite se considera 1\n",
    " - `type` es un caracter que indica el tipo de dato\n",
    "     + `f` float\n",
    "     + `i` int\n",
    "     + `u` unsigned int\n",
    "     + `x` padding\n",
    " - `size` Numero opcional que representa la cantidad de bytes que se usaran para guardar el tipo.\n",
    " \n",
    " Este patron se puede repetir varias veces para indicar distintos tipos de datos a guardar. Esto se debe seguir de\n",
    " - `/usage` Que consiste en un caracter que indica la manera en que los valores sucesivos deven ser tratados por el shader.\n",
    "     + `/v` por vertice. Cada uno de los siguientes valores del `buffer` seran suministrados a cada vertice.\n",
    "     + `/i` por instancia. Los siguientes valores del `buffer` son pasados a cada instancia.\n",
    "     + `/r` por render. El primer valor del `buffer` sera pasado a cada vertice e instancia.\n",
    "     \n",
    "Es importante notar que la combinacion `f1` tiene propiedades curiosas:\n",
    " \n",
    " 1. Corresponde a un flotante, pero corresponde a un `unsigned bytes`. Estos valores son normalizados, lo que implica que los valores de 0 a 255 son transformados a valores flotantes de 0.0 a 1.0 cuando llegan al `vertex shader`. Se espera que sean usados para pasar colores.\n",
    " 2. Tres de estas instancias `3f1` deben ser asignadas a un atributo `vec3`. Pero en ModernGL 6.0 tambien pueden pasarse a un atributo `vec4`, esto tine la intencion de pasar los colores en formato RGB con un canal alpha.\n",
    "\n",
    "Este formato es especifico a ModernGL, puede ser que se parezca al formato de `struct.pack` pero es importante notar que no son iguales."
   ]
  },
  {
   "cell_type": "markdown",
   "metadata": {
    "heading_collapsed": true,
    "hidden": true
   },
   "source": [
    "#### Ejemplos"
   ]
  },
  {
   "cell_type": "markdown",
   "metadata": {
    "hidden": true
   },
   "source": [
    "Para crear un __VBO__ que contenga las cordenadas de puntos en _2D_, el codigo debe verse \n",
    "```python\n",
    "# Cordenadas (x,y)\n",
    "vertices = [\n",
    "     0.0, 1.0,\n",
    "    -1.0, 0.0,\n",
    "     1.0, 0.0\n",
    "]\n",
    "\n",
    "# guardar en estructura y buffer\n",
    "buffer = struct.pack('6f', vertices)\n",
    "vbo = ctx.buffer(buffer)\n",
    "\n",
    "# Unir VBO y VAO\n",
    "vao = ctx.vertex_array(\n",
    "    shader_program,\n",
    "    [ (vbo, '2f', 'in_vert')],\n",
    "    index_buffer_object\n",
    ")\n",
    "```\n",
    "La linea despues del `shader_program` es la que indica el formato en que se debe leer el `vbo`. Indica que hay dos _floats_ que seran pasados a un atributo `in_vert` declarando en el _vertex shader_ como \n",
    "```\n",
    "in vec2 in_vert;\n",
    "```"
   ]
  },
  {
   "cell_type": "markdown",
   "metadata": {},
   "source": [
    "### Porgram"
   ]
  },
  {
   "cell_type": "markdown",
   "metadata": {},
   "source": [
    "Una de las principales caracteristicas de __ModernGL__ es que te permite definir tus propios shaders para renderizar cosas. Esto complica un poco las cosas pero te da la libertad para poder manipular la informacion como se desee.\n",
    "\n",
    "> __Shader__ Programa que se ejecuta en la _GPU_\n",
    "\n",
    "Antes de empezar a programar los _shaders_ es bueno notar que la esquina superior derecha de la pantalla corespone a las cordenadas $(1.0, 1.0)$ y, por lo tanto, la esquina inferior izquierda tiene las cordenadas $(-1.0, -1.0)$.\n",
    "\n",
    "Para crear un `Program`, que es la manera en que __ModernGL__ maneja los _shaders_ se debe ligar a un contexto. Esto se hace con la linea\n",
    "```python\n",
    "program = ctx.program()\n",
    "```\n",
    "\n",
    "Este metodo recibe dos argumentos principales `shaders` y `varyings`, que corresponden a la lista de _shaders_ a usar y una lista de nombres variables. La lista de _shaders_ que puede recibir son\n",
    " - `vertex_shader`. El unico obligatorio\n",
    " - `fragment_shader`\n",
    " - `geometry_shader`\n",
    " - `tess_control_shader`\n",
    " - `tess_evaluation_shader`\n",
    " \n",
    "A cada uno de estos argumentos se les debe pasar un _string_ que contenga los `shaders` a usar.\n",
    "\n",
    "Un `vertex_shader` basico, que ponga cordendas 2D dadas en donde corresponda, se ve asi\n",
    "```python\n",
    "in vec2 in_vert;\n",
    "in vec3 in_color;\n",
    "\n",
    "out vec3 v_color;\n",
    "\n",
    "void main(){\n",
    "    v_volor = in_color;\n",
    "    gl_Position = vec4(in_vert, 0.0, 1.0)\n",
    "}\n",
    "```\n",
    "Y el `fragment_shader` que pase el color tal cual se ve\n",
    "```python\n",
    "in vec3 v_color;\n",
    "\n",
    "out vec3 f_color;\n",
    "\n",
    "void main(){\n",
    "    f_color = v_color;\n",
    "}\n",
    "```"
   ]
  },
  {
   "cell_type": "markdown",
   "metadata": {},
   "source": [
    "### Vertex Array"
   ]
  },
  {
   "cell_type": "markdown",
   "metadata": {},
   "source": [
    "Para la creacion y manejo de los arreglos de vertices es recomendado usar la libreria `numpy` y sus metodos y tipos construidos.Unicamente hay que tener cuidado con la manera en que se pasan los datos al constructor del buffer. \n",
    "\n",
    "Para hacer esto es recomendable pasar un `numpy.ndarray` como el arreglo de datos, formateado con el metodo `astype('t')` (donde `t` debe ser cambiado por el tipo y tamanio deseado) y en formato de _bits_ de __C__, lo que se hace con el metodo `tobytes()`. Por lo que al final se puede construir el bufer con la sentencia\n",
    "\n",
    "```python\n",
    "ctx.buffer(vertices.astype('t').tobytes())\n",
    "```\n",
    "lo que nos regresara un __VBO__ para pasarle a\n",
    "```python\n",
    "ctx.simple_vertex_array(program, vbo, 'modo')\n",
    "```\n",
    "que nos dara el __VAO__. (__modo__ debe ser el conjunto de metodos para leer todo lo que este guardado en el buffer)\n",
    "\n",
    "\n",
    "#### Ejemplo\n",
    "\n",
    "Un ejemplo de esto podria ser que quisieramos guardar las cordenadas (x,y) y el respectivo color de cierta cantidad de puntos. Suponiendo que `x` sea un vector con _n_ elementos de las cordenadas _x_ de cada objeto, `y` el vector con las cordenadas _y_, `r` el valor del color en _red_, `g` en _verde_ y `b` en azul. Entonces esto se podria ver asi\n",
    "```python\n",
    "vertices = np.dstack([x, y, r, g, b])\n",
    "\n",
    "vbo = ctx.buffer(vertices.astype('f4').tobytes())\n",
    "vao = ctx.simple_vertex_array(prog, vbo, 'in_vert', 'in_color')\n",
    "```"
   ]
  },
  {
   "cell_type": "markdown",
   "metadata": {
    "ExecuteTime": {
     "end_time": "2020-09-16T19:21:46.020856Z",
     "start_time": "2020-09-16T19:21:46.010332Z"
    }
   },
   "source": [
    "### Renderizar"
   ]
  },
  {
   "cell_type": "markdown",
   "metadata": {},
   "source": [
    "Ahora toca, por fin, mostrar algo en pantalla."
   ]
  },
  {
   "cell_type": "code",
   "execution_count": 25,
   "metadata": {
    "ExecuteTime": {
     "end_time": "2020-09-16T19:39:51.547226Z",
     "start_time": "2020-09-16T19:39:51.422070Z"
    },
    "code_folding": [
     8,
     21
    ]
   },
   "outputs": [],
   "source": [
    "import moderngl\n",
    "import numpy as np\n",
    "\n",
    "from PIL import Image\n",
    "\n",
    "ctx = moderngl.create_standalone_context()\n",
    "\n",
    "prog = ctx.program(\n",
    "    vertex_shader='''\n",
    "        #version 330\n",
    "\n",
    "        in vec2 in_vert;\n",
    "        in vec3 in_color;\n",
    "\n",
    "        out vec3 v_color;\n",
    "\n",
    "        void main() {\n",
    "            v_color = in_color;\n",
    "            gl_Position = vec4(in_vert, 0.0, 1.0);\n",
    "        }\n",
    "    ''',\n",
    "    fragment_shader='''\n",
    "        #version 330\n",
    "\n",
    "        in vec3 v_color;\n",
    "\n",
    "        out vec3 f_color;\n",
    "\n",
    "        void main() {\n",
    "            f_color = v_color;\n",
    "        }\n",
    "    ''',\n",
    ")\n",
    "\n",
    "x = np.linspace(-1.0, 1.0, 50)\n",
    "y = np.random.rand(50) - 0.5\n",
    "b = np.random.rand(50)\n",
    "g = np.random.rand(50)\n",
    "r = np.random.rand(50)\n",
    "\n",
    "vertices = np.dstack([x, y, r, g, b])\n",
    "\n",
    "vbo = ctx.buffer(vertices.astype('f4').tobytes())\n",
    "vao = ctx.simple_vertex_array(prog, vbo, 'in_vert', 'in_color')\n",
    "\n",
    "fbo = ctx.simple_framebuffer((512, 512))\n",
    "fbo.use()\n",
    "fbo.clear(0.0, 0.0, 0.0, 1.0)\n",
    "vao.render(moderngl.LINE_STRIP)\n",
    "\n",
    "Image.frombytes('RGB', fbo.size, fbo.read(), 'raw', 'RGB', 0, -1).show()"
   ]
  },
  {
   "cell_type": "markdown",
   "metadata": {},
   "source": [
    "## Referencias"
   ]
  },
  {
   "cell_type": "code",
   "execution_count": null,
   "metadata": {
    "ExecuteTime": {
     "end_time": "2020-09-15T22:13:31.202141Z",
     "start_time": "2020-09-15T22:13:30.534357Z"
    }
   },
   "outputs": [],
   "source": []
  },
  {
   "cell_type": "code",
   "execution_count": null,
   "metadata": {},
   "outputs": [],
   "source": []
  }
 ],
 "metadata": {
  "hide_input": false,
  "kernelspec": {
   "display_name": "Python 3",
   "language": "python",
   "name": "python3"
  },
  "language_info": {
   "codemirror_mode": {
    "name": "ipython",
    "version": 3
   },
   "file_extension": ".py",
   "mimetype": "text/x-python",
   "name": "python",
   "nbconvert_exporter": "python",
   "pygments_lexer": "ipython3",
   "version": "3.8.2"
  },
  "latex_envs": {
   "LaTeX_envs_menu_present": true,
   "autoclose": false,
   "autocomplete": true,
   "bibliofile": "biblio.bib",
   "cite_by": "apalike",
   "current_citInitial": 1,
   "eqLabelWithNumbers": true,
   "eqNumInitial": 1,
   "hotkeys": {
    "equation": "Ctrl-E",
    "itemize": "Ctrl-I"
   },
   "labels_anchors": false,
   "latex_user_defs": false,
   "report_style_numbering": false,
   "user_envs_cfg": false
  },
  "toc": {
   "base_numbering": 1,
   "nav_menu": {},
   "number_sections": true,
   "sideBar": true,
   "skip_h1_title": true,
   "title_cell": "Indice",
   "title_sidebar": "Contenido",
   "toc_cell": false,
   "toc_position": {},
   "toc_section_display": true,
   "toc_window_display": false
  },
  "varInspector": {
   "cols": {
    "lenName": 16,
    "lenType": 16,
    "lenVar": 40
   },
   "kernels_config": {
    "python": {
     "delete_cmd_postfix": "",
     "delete_cmd_prefix": "del ",
     "library": "var_list.py",
     "varRefreshCmd": "print(var_dic_list())"
    },
    "r": {
     "delete_cmd_postfix": ") ",
     "delete_cmd_prefix": "rm(",
     "library": "var_list.r",
     "varRefreshCmd": "cat(var_dic_list()) "
    }
   },
   "position": {
    "height": "323.85px",
    "left": "776px",
    "right": "20px",
    "top": "120px",
    "width": "350px"
   },
   "types_to_exclude": [
    "module",
    "function",
    "builtin_function_or_method",
    "instance",
    "_Feature"
   ],
   "window_display": false
  }
 },
 "nbformat": 4,
 "nbformat_minor": 4
}
