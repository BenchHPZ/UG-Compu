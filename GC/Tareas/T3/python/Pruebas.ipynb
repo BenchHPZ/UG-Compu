{
 "cells": [
  {
   "cell_type": "markdown",
   "metadata": {},
   "source": [
    "# Tarea 1\n",
    "\n",
    "Este notebook ayudara a crear todos los modulos necesarios para esta tarea (Ze Pupette)."
   ]
  },
  {
   "cell_type": "markdown",
   "metadata": {},
   "source": [
    "## Pila de matrices"
   ]
  },
  {
   "cell_type": "code",
   "execution_count": null,
   "metadata": {},
   "outputs": [],
   "source": []
  },
  {
   "cell_type": "markdown",
   "metadata": {},
   "source": [
    "## Visualizacion en OpenGl"
   ]
  },
  {
   "cell_type": "code",
   "execution_count": 2,
   "metadata": {
    "ExecuteTime": {
     "end_time": "2020-10-09T06:20:56.728147Z",
     "start_time": "2020-10-09T06:20:56.536740Z"
    },
    "init_cell": true
   },
   "outputs": [],
   "source": [
    "import glfw\n",
    "import moderngl\n",
    "import numpy as np\n",
    "\n",
    "from OpenGL.GL import *\n",
    "from OpenGL.arrays import ArrayDatatype\n",
    "\n",
    "from PIL import Image"
   ]
  },
  {
   "cell_type": "code",
   "execution_count": 4,
   "metadata": {
    "ExecuteTime": {
     "end_time": "2020-10-09T06:22:42.095926Z",
     "start_time": "2020-10-09T06:22:30.040180Z"
    }
   },
   "outputs": [
    {
     "name": "stdout",
     "output_type": "stream",
     "text": [
      "b'4.6 (Compatibility Profile) Mesa 20.0.8'\n",
      "#version 330 core\n",
      "layout(location = 0) in vec4 position;\n",
      "\n",
      "void main(){\n",
      " \tgl_Position = position; \n",
      "};\n",
      "\n",
      "#version 330 core\n",
      "layout(location = 0) out vec4 color;\n",
      "\n",
      "void main(){\n",
      " \tcolor = vec4(1.0,1.0,0.0,1.0); \n",
      "};\n"
     ]
    }
   ],
   "source": [
    "def get_shader(vs='vertexShader.bch', fs='fragmentShader.bch'):\n",
    "    \"\"\" Get shader from separated files \"\"\"\n",
    "    vertex_shader = \"\".join(open(vs, 'r'))\n",
    "    fragment_shader = \"\".join(open(fs, 'r'))\n",
    "    \n",
    "    return vertex_shader, fragment_shader\n",
    "\n",
    "    \n",
    "def compile_shader(tipo, shader):\n",
    "    try:\n",
    "        shader_id = glCreateShader(tipo)\n",
    "        glShaderSource( shader_id, shader)\n",
    "        glCompileShader( shader_id )\n",
    "\n",
    "\n",
    "        result = glGetShaderiv( shader_id, GL_COMPILE_STATUS)\n",
    "        if result == GL_FALSE:\n",
    "            print(\"Error al crear el shader\")\n",
    "            glDeleteShader(shader_id)\n",
    "            return None\n",
    "        \n",
    "        print(shader)\n",
    "        return shader_id\n",
    "    except:\n",
    "        raise Exception(\"Error al compilar shaders\")\n",
    "\n",
    "def createShader():\n",
    "    vs, fs = get_shader()\n",
    "    \n",
    "    program = glCreateProgram()\n",
    "    vs = compile_shader(GL_VERTEX_SHADER, vs)\n",
    "    fs = compile_shader(GL_FRAGMENT_SHADER, fs)\n",
    "    glLinkProgram(program)\n",
    "    glValidateProgram(program)\n",
    "    \n",
    "    glDeleteShader(vs)\n",
    "    glDeleteShader(fs)\n",
    "    \n",
    "    return program\n",
    "\n",
    "\n",
    "def main():\n",
    "    # GLFW window\n",
    "    if not glfw.init():\n",
    "        return None\n",
    "    ventana = glfw.create_window(512, 512,\n",
    "                                 \"La marioneta\",\n",
    "                                 None, None)\n",
    "    if not ventana:\n",
    "        glfw.terminate()\n",
    "        return None\n",
    "    glfw.make_context_current(ventana)\n",
    "    print(glGetString(GL_VERSION) )\n",
    "        \n",
    "    dtype = np.float32\n",
    "\n",
    "    posiciones = np.array( [-0.5,-0.5,\n",
    "                             0.0, 0.5,\n",
    "                             0.5,-0.5 ],\n",
    "                          dtype=np.dtype)\n",
    "    _helper = np.array([1.0,1.0],\n",
    "                       dtype=np.dtype)\n",
    "    \n",
    "    buffer = glGenBuffers(1)\n",
    "    glBindBuffer( GL_ARRAY_BUFFER, buffer)\n",
    "    glBufferData( GL_ARRAY_BUFFER, \n",
    "                 ArrayDatatype.arrayByteCount(posiciones), \n",
    "                 posiciones, GL_STATIC_DRAW)\n",
    "    \n",
    "    glEnableVertexAttribArray(0)\n",
    "    glVertexAttribPointer(0, 2, GL_FLOAT, GL_FALSE, \n",
    "                          ArrayDatatype.arrayByteCount(_helper),\n",
    "                          0)\n",
    "    \n",
    "    programShader = createShader()\n",
    "    glUseProgram(programShader)\n",
    "    \n",
    "    while not glfw.window_should_close(ventana):\n",
    "        \n",
    "        glClear( GL_COLOR_BUFFER_BIT );\n",
    "\n",
    "        glDrawArrays(GL_TRIANGLES, 0, 3);\n",
    "        \n",
    "        glfw.swap_buffers(ventana)\n",
    "        glfw.poll_events()\n",
    "        \n",
    "        \n",
    "    glDeleteProgram(programShader)\n",
    "    glfw.terminate()\n",
    "    \n",
    "    \n",
    "main()"
   ]
  },
  {
   "cell_type": "code",
   "execution_count": 5,
   "metadata": {
    "ExecuteTime": {
     "end_time": "2020-10-09T06:00:40.441164Z",
     "start_time": "2020-10-09T06:00:39.400523Z"
    }
   },
   "outputs": [
    {
     "ename": "KeyError",
     "evalue": "'in_vert'",
     "output_type": "error",
     "traceback": [
      "\u001b[0;31m---------------------------------------------------------------------------\u001b[0m",
      "\u001b[0;31mKeyError\u001b[0m                                  Traceback (most recent call last)",
      "\u001b[0;32m<ipython-input-5-c4560ca0def1>\u001b[0m in \u001b[0;36m<module>\u001b[0;34m\u001b[0m\n\u001b[1;32m     63\u001b[0m \u001b[0;34m\u001b[0m\u001b[0m\n\u001b[1;32m     64\u001b[0m \u001b[0;34m\u001b[0m\u001b[0m\n\u001b[0;32m---> 65\u001b[0;31m \u001b[0mmain\u001b[0m\u001b[0;34m(\u001b[0m\u001b[0;34m)\u001b[0m\u001b[0;34m\u001b[0m\u001b[0;34m\u001b[0m\u001b[0m\n\u001b[0m",
      "\u001b[0;32m<ipython-input-5-c4560ca0def1>\u001b[0m in \u001b[0;36mmain\u001b[0;34m()\u001b[0m\n\u001b[1;32m     31\u001b[0m \u001b[0;34m\u001b[0m\u001b[0m\n\u001b[1;32m     32\u001b[0m     \u001b[0mvbo\u001b[0m \u001b[0;34m=\u001b[0m \u001b[0mctx\u001b[0m\u001b[0;34m.\u001b[0m\u001b[0mbuffer\u001b[0m\u001b[0;34m(\u001b[0m\u001b[0mvertices\u001b[0m\u001b[0;34m.\u001b[0m\u001b[0mastype\u001b[0m\u001b[0;34m(\u001b[0m\u001b[0;34m'f4'\u001b[0m\u001b[0;34m)\u001b[0m\u001b[0;34m.\u001b[0m\u001b[0mtobytes\u001b[0m\u001b[0;34m(\u001b[0m\u001b[0;34m)\u001b[0m\u001b[0;34m)\u001b[0m\u001b[0;34m\u001b[0m\u001b[0;34m\u001b[0m\u001b[0m\n\u001b[0;32m---> 33\u001b[0;31m     \u001b[0mvao\u001b[0m \u001b[0;34m=\u001b[0m \u001b[0mctx\u001b[0m\u001b[0;34m.\u001b[0m\u001b[0msimple_vertex_array\u001b[0m\u001b[0;34m(\u001b[0m\u001b[0mprog\u001b[0m\u001b[0;34m,\u001b[0m \u001b[0mvbo\u001b[0m\u001b[0;34m,\u001b[0m \u001b[0;34m'in_vert'\u001b[0m\u001b[0;34m,\u001b[0m \u001b[0;34m'in_color'\u001b[0m\u001b[0;34m)\u001b[0m\u001b[0;34m\u001b[0m\u001b[0;34m\u001b[0m\u001b[0m\n\u001b[0m\u001b[1;32m     34\u001b[0m \u001b[0;34m\u001b[0m\u001b[0m\n\u001b[1;32m     35\u001b[0m     \u001b[0mfbo\u001b[0m \u001b[0;34m=\u001b[0m \u001b[0mctx\u001b[0m\u001b[0;34m.\u001b[0m\u001b[0msimple_framebuffer\u001b[0m\u001b[0;34m(\u001b[0m\u001b[0;34m(\u001b[0m\u001b[0;36m512\u001b[0m\u001b[0;34m,\u001b[0m \u001b[0;36m512\u001b[0m\u001b[0;34m)\u001b[0m\u001b[0;34m)\u001b[0m\u001b[0;34m\u001b[0m\u001b[0;34m\u001b[0m\u001b[0m\n",
      "\u001b[0;32m~/Documents/Academico/UG/LicenciaturaDEMAT/GitHubRepo/GC/GC-env/lib/python3.8/site-packages/moderngl/context.py\u001b[0m in \u001b[0;36msimple_vertex_array\u001b[0;34m(self, program, buffer, index_buffer, index_element_size, *attributes)\u001b[0m\n\u001b[1;32m   1033\u001b[0m             \u001b[0;32mraise\u001b[0m \u001b[0mSyntaxError\u001b[0m\u001b[0;34m(\u001b[0m\u001b[0;34m'Change simple_vertex_array to vertex_array'\u001b[0m\u001b[0;34m)\u001b[0m\u001b[0;34m\u001b[0m\u001b[0;34m\u001b[0m\u001b[0m\n\u001b[1;32m   1034\u001b[0m \u001b[0;34m\u001b[0m\u001b[0m\n\u001b[0;32m-> 1035\u001b[0;31m         \u001b[0mcontent\u001b[0m \u001b[0;34m=\u001b[0m \u001b[0;34m[\u001b[0m\u001b[0;34m(\u001b[0m\u001b[0mbuffer\u001b[0m\u001b[0;34m,\u001b[0m \u001b[0mdetect_format\u001b[0m\u001b[0;34m(\u001b[0m\u001b[0mprogram\u001b[0m\u001b[0;34m,\u001b[0m \u001b[0mattributes\u001b[0m\u001b[0;34m)\u001b[0m\u001b[0;34m)\u001b[0m \u001b[0;34m+\u001b[0m \u001b[0mattributes\u001b[0m\u001b[0;34m]\u001b[0m\u001b[0;34m\u001b[0m\u001b[0;34m\u001b[0m\u001b[0m\n\u001b[0m\u001b[1;32m   1036\u001b[0m         \u001b[0;32mreturn\u001b[0m \u001b[0mself\u001b[0m\u001b[0;34m.\u001b[0m\u001b[0mvertex_array\u001b[0m\u001b[0;34m(\u001b[0m\u001b[0mprogram\u001b[0m\u001b[0;34m,\u001b[0m \u001b[0mcontent\u001b[0m\u001b[0;34m,\u001b[0m \u001b[0mindex_buffer\u001b[0m\u001b[0;34m,\u001b[0m \u001b[0mindex_element_size\u001b[0m\u001b[0;34m)\u001b[0m\u001b[0;34m\u001b[0m\u001b[0;34m\u001b[0m\u001b[0m\n\u001b[1;32m   1037\u001b[0m \u001b[0;34m\u001b[0m\u001b[0m\n",
      "\u001b[0;32m~/Documents/Academico/UG/LicenciaturaDEMAT/GitHubRepo/GC/GC-env/lib/python3.8/site-packages/moderngl/program.py\u001b[0m in \u001b[0;36mdetect_format\u001b[0;34m(program, attributes, mode)\u001b[0m\n\u001b[1;32m    227\u001b[0m             \u001b[0;32mraise\u001b[0m \u001b[0mValueError\u001b[0m\u001b[0;34m(\u001b[0m\u001b[0;34m'invalid format mode: {}'\u001b[0m\u001b[0;34m.\u001b[0m\u001b[0mformat\u001b[0m\u001b[0;34m(\u001b[0m\u001b[0mmode\u001b[0m\u001b[0;34m)\u001b[0m\u001b[0;34m)\u001b[0m\u001b[0;34m\u001b[0m\u001b[0;34m\u001b[0m\u001b[0m\n\u001b[1;32m    228\u001b[0m \u001b[0;34m\u001b[0m\u001b[0m\n\u001b[0;32m--> 229\u001b[0;31m     \u001b[0;32mreturn\u001b[0m \u001b[0;34m' '\u001b[0m\u001b[0;34m.\u001b[0m\u001b[0mjoin\u001b[0m\u001b[0;34m(\u001b[0m\u001b[0;34m'%d%s'\u001b[0m \u001b[0;34m%\u001b[0m \u001b[0mfmt\u001b[0m\u001b[0;34m(\u001b[0m\u001b[0mprogram\u001b[0m\u001b[0;34m[\u001b[0m\u001b[0ma\u001b[0m\u001b[0;34m]\u001b[0m\u001b[0;34m)\u001b[0m \u001b[0;32mfor\u001b[0m \u001b[0ma\u001b[0m \u001b[0;32min\u001b[0m \u001b[0mattributes\u001b[0m\u001b[0;34m)\u001b[0m\u001b[0;34m\u001b[0m\u001b[0;34m\u001b[0m\u001b[0m\n\u001b[0m",
      "\u001b[0;32m~/Documents/Academico/UG/LicenciaturaDEMAT/GitHubRepo/GC/GC-env/lib/python3.8/site-packages/moderngl/program.py\u001b[0m in \u001b[0;36m<genexpr>\u001b[0;34m(.0)\u001b[0m\n\u001b[1;32m    227\u001b[0m             \u001b[0;32mraise\u001b[0m \u001b[0mValueError\u001b[0m\u001b[0;34m(\u001b[0m\u001b[0;34m'invalid format mode: {}'\u001b[0m\u001b[0;34m.\u001b[0m\u001b[0mformat\u001b[0m\u001b[0;34m(\u001b[0m\u001b[0mmode\u001b[0m\u001b[0;34m)\u001b[0m\u001b[0;34m)\u001b[0m\u001b[0;34m\u001b[0m\u001b[0;34m\u001b[0m\u001b[0m\n\u001b[1;32m    228\u001b[0m \u001b[0;34m\u001b[0m\u001b[0m\n\u001b[0;32m--> 229\u001b[0;31m     \u001b[0;32mreturn\u001b[0m \u001b[0;34m' '\u001b[0m\u001b[0;34m.\u001b[0m\u001b[0mjoin\u001b[0m\u001b[0;34m(\u001b[0m\u001b[0;34m'%d%s'\u001b[0m \u001b[0;34m%\u001b[0m \u001b[0mfmt\u001b[0m\u001b[0;34m(\u001b[0m\u001b[0mprogram\u001b[0m\u001b[0;34m[\u001b[0m\u001b[0ma\u001b[0m\u001b[0;34m]\u001b[0m\u001b[0;34m)\u001b[0m \u001b[0;32mfor\u001b[0m \u001b[0ma\u001b[0m \u001b[0;32min\u001b[0m \u001b[0mattributes\u001b[0m\u001b[0;34m)\u001b[0m\u001b[0;34m\u001b[0m\u001b[0;34m\u001b[0m\u001b[0m\n\u001b[0m",
      "\u001b[0;32m~/Documents/Academico/UG/LicenciaturaDEMAT/GitHubRepo/GC/GC-env/lib/python3.8/site-packages/moderngl/program.py\u001b[0m in \u001b[0;36m__getitem__\u001b[0;34m(self, key)\u001b[0m\n\u001b[1;32m     71\u001b[0m             \u001b[0mprogram\u001b[0m\u001b[0;34m[\u001b[0m\u001b[0;34m'color'\u001b[0m\u001b[0;34m]\u001b[0m\u001b[0;34m.\u001b[0m\u001b[0mwrite\u001b[0m\u001b[0;34m(\u001b[0m\u001b[0mbuffer\u001b[0m\u001b[0;34m)\u001b[0m\u001b[0;34m\u001b[0m\u001b[0;34m\u001b[0m\u001b[0m\n\u001b[1;32m     72\u001b[0m         \"\"\"\n\u001b[0;32m---> 73\u001b[0;31m         \u001b[0;32mreturn\u001b[0m \u001b[0mself\u001b[0m\u001b[0;34m.\u001b[0m\u001b[0m_members\u001b[0m\u001b[0;34m[\u001b[0m\u001b[0mkey\u001b[0m\u001b[0;34m]\u001b[0m\u001b[0;34m\u001b[0m\u001b[0;34m\u001b[0m\u001b[0m\n\u001b[0m\u001b[1;32m     74\u001b[0m \u001b[0;34m\u001b[0m\u001b[0m\n\u001b[1;32m     75\u001b[0m     \u001b[0;32mdef\u001b[0m \u001b[0m__setitem__\u001b[0m\u001b[0;34m(\u001b[0m\u001b[0mself\u001b[0m\u001b[0;34m,\u001b[0m \u001b[0mkey\u001b[0m\u001b[0;34m,\u001b[0m \u001b[0mvalue\u001b[0m\u001b[0;34m)\u001b[0m\u001b[0;34m:\u001b[0m\u001b[0;34m\u001b[0m\u001b[0;34m\u001b[0m\u001b[0m\n",
      "\u001b[0;31mKeyError\u001b[0m: 'in_vert'"
     ]
    }
   ],
   "source": [
    "\"\"\"\n",
    "\n",
    "def main():\n",
    "    # GLFW window\n",
    "    if not glfw.init():\n",
    "        return None\n",
    "    ventana = glfw.create_window(512, 512,\n",
    "                                \"La marioneta\",\n",
    "                                None, None)\n",
    "    if not ventana:\n",
    "        glfw.terminate()\n",
    "        return None\n",
    "    glfw.make_context_current(ventana)\n",
    "\n",
    "\n",
    "    # Contexto de opengl\n",
    "    ctx = moderngl.create_context()\n",
    "\n",
    "\n",
    "    vertex_shader = \"\".join(open('vertexShader.bch', 'r'))\n",
    "    fragment_shader = \"\".join(open('fragmentShader.bch', 'r'))\n",
    "\n",
    "    prog = ctx.program(vertex_shader=vertex_shader, \n",
    "                       fragment_shader=fragment_shader, )\n",
    "\n",
    "    x = np.linspace(-1.0, 1.0, 50)\n",
    "    y = np.random.rand(50) - 0.5\n",
    "    b = np.random.rand(50)\n",
    "    g = np.random.rand(50)\n",
    "    r = np.random.rand(50)\n",
    "\n",
    "    vertices = np.dstack([x, y, r, g, b])\n",
    "\n",
    "    vbo = ctx.buffer(vertices.astype('f4').tobytes())\n",
    "    vao = ctx.simple_vertex_array(prog, vbo, 'in_vert', 'in_color')\n",
    "\n",
    "    fbo = ctx.simple_framebuffer((512, 512))\n",
    "    \n",
    "    fbo.use()\n",
    "    fbo.clear(0.0, 0.0, 0.0, 1.0)\n",
    "    vao.render(moderngl.LINE_STRIP)\n",
    "    \n",
    "    \n",
    "    i=0\n",
    "    while not glfw.window_should_close(ventana):\n",
    "        \n",
    "        glClear(GL_COLOR_BUFFER_BIT)\n",
    "        \n",
    "        glBegin( GL_TRIANGLES)\n",
    "        \n",
    "        glVertex2f(-0.5, -0.5)\n",
    "        glVertex2f( 0.0,  0.5)\n",
    "        glVertex2f( 0.5, -0.5)\n",
    "        \n",
    "        glEnd()\n",
    "\n",
    "        #i=1\n",
    "        \n",
    "        glfw.swap_buffers(ventana)\n",
    "        #glfw.wait_events()\n",
    "        glfw.poll_events()\n",
    "    \n",
    "    \n",
    "    glfw.terminate()\n",
    "    \n",
    "    \n",
    "main()\n",
    "\"\"\"\n",
    "None"
   ]
  },
  {
   "cell_type": "code",
   "execution_count": null,
   "metadata": {},
   "outputs": [],
   "source": []
  },
  {
   "cell_type": "markdown",
   "metadata": {},
   "source": [
    "## GUI  y concatenar lo anterior"
   ]
  },
  {
   "cell_type": "code",
   "execution_count": 5,
   "metadata": {
    "ExecuteTime": {
     "end_time": "2020-10-09T03:20:26.205005Z",
     "start_time": "2020-10-09T03:20:22.839789Z"
    }
   },
   "outputs": [],
   "source": [
    "import tkinter as tk\n",
    "\n",
    "w = tk.Tk()\n",
    "\n",
    "w.mainloop()"
   ]
  },
  {
   "cell_type": "code",
   "execution_count": null,
   "metadata": {},
   "outputs": [],
   "source": []
  }
 ],
 "metadata": {
  "hide_input": false,
  "kernelspec": {
   "display_name": "Python 3",
   "language": "python",
   "name": "python3"
  },
  "language_info": {
   "codemirror_mode": {
    "name": "ipython",
    "version": 3
   },
   "file_extension": ".py",
   "mimetype": "text/x-python",
   "name": "python",
   "nbconvert_exporter": "python",
   "pygments_lexer": "ipython3",
   "version": "3.8.2"
  },
  "latex_envs": {
   "LaTeX_envs_menu_present": true,
   "autoclose": false,
   "autocomplete": true,
   "bibliofile": "biblio.bib",
   "cite_by": "apalike",
   "current_citInitial": 1,
   "eqLabelWithNumbers": true,
   "eqNumInitial": 1,
   "hotkeys": {
    "equation": "Ctrl-E",
    "itemize": "Ctrl-I"
   },
   "labels_anchors": false,
   "latex_user_defs": false,
   "report_style_numbering": false,
   "user_envs_cfg": false
  },
  "toc": {
   "base_numbering": 1,
   "nav_menu": {},
   "number_sections": true,
   "sideBar": true,
   "skip_h1_title": true,
   "title_cell": "Indice",
   "title_sidebar": "Contenido",
   "toc_cell": false,
   "toc_position": {},
   "toc_section_display": true,
   "toc_window_display": false
  },
  "varInspector": {
   "cols": {
    "lenName": 16,
    "lenType": 16,
    "lenVar": 40
   },
   "kernels_config": {
    "python": {
     "delete_cmd_postfix": "",
     "delete_cmd_prefix": "del ",
     "library": "var_list.py",
     "varRefreshCmd": "print(var_dic_list())"
    },
    "r": {
     "delete_cmd_postfix": ") ",
     "delete_cmd_prefix": "rm(",
     "library": "var_list.r",
     "varRefreshCmd": "cat(var_dic_list()) "
    }
   },
   "types_to_exclude": [
    "module",
    "function",
    "builtin_function_or_method",
    "instance",
    "_Feature"
   ],
   "window_display": false
  }
 },
 "nbformat": 4,
 "nbformat_minor": 4
}
