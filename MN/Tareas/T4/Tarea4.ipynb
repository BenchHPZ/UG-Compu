{
 "cells": [
  {
   "cell_type": "markdown",
   "metadata": {},
   "source": [
    "# Tarea 3\n",
    "\n",
    "_Tarea 4_ de _Benjamín Rivera_ para el curso de __Métodos Numéricos__ impartido por _Joaquín Peña Acevedo_. Fecha limite de entrega __27 de Septiembre de 2020__."
   ]
  },
  {
   "cell_type": "markdown",
   "metadata": {},
   "source": [
    "### Como ejecutar"
   ]
  },
  {
   "cell_type": "markdown",
   "metadata": {},
   "source": [
    "##### Requerimientos\n",
    "\n",
    "Este programa se ejecuto en mi computadora con la version de __Python 3.8.2__ y con estos\n",
    "[requerimientos](https://github.com/BenchHPZ/UG-Compu/blob/master/MN/requerimientos.txt)\n",
    "\n",
    "#### Jupyter\n",
    "\n",
    "En caso de tener acceso a un _servidor jupyter_ ,con los requerimientos antes mencionados, unicamente basta con ejecutar todas las celdas de este _notebook_. Probablemente no todas las celdas de _markdown_ produzcan el mismo resultado por las \n",
    "[_Nbextensions_](jupyter-contrib-nbextensions.readthedocs.io).\n",
    "\n",
    "#### Consola\n",
    "\n",
    "Habrá archivos e instrucciones para poder ejecutar cada uno de los ejercicios desde la consola.\n",
    "\n",
    "#### Si todo sale mal\n",
    "\n",
    "<a href=\"https://colab.research.google.com/gist/BenchHPZ/813abd96c1dac91b038905ac85cc425c/tarea3.ipynb\">\n",
    "    <img src=\"../../../assets/colab-badge.svg\" \n",
    "         alt=\"Open In Colab\"/>\n",
    "</a>\n",
    "\n",
    "En caso de que todo salga mal, tratare de dejar una copia disponible en __GoogleColab__ que se pueda ejecutar con la versión de __Python__ de _GoogleColab_"
   ]
  },
  {
   "cell_type": "code",
   "execution_count": 2,
   "metadata": {
    "ExecuteTime": {
     "end_time": "2020-09-27T08:24:57.664847Z",
     "start_time": "2020-09-27T08:24:57.655576Z"
    },
    "init_cell": true
   },
   "outputs": [],
   "source": [
    "usage = \"\"\"\n",
    "Programa correspondiente a la Tarea4 de Metodos Numericos. Este\n",
    "programa espera leer los archivos de tipo npy\n",
    "\n",
    "Alumno: Benjamin Rivera\n",
    "\n",
    "Usage:\n",
    "  Tarea4.py ejercicio1 <matA> <vecB> [-p]\n",
    "  Tarea4.py ejercicio2\n",
    "  Tarea4.py -h | --help\n",
    "\n",
    "Options:\n",
    "  -h --help          Show this screen.\n",
    "  -v --version          Show version.\n",
    "  --path=<path>   Directorio para buscar archivos [default: data/].\n",
    "\"\"\"\n",
    "\n",
    "import sys\n",
    "import scipy\n",
    "import numpy as np\n",
    "import matplotlib.pyplot as plt\n",
    "from copy import deepcopy\n",
    "from scipy.linalg import solve_triangular\n",
    "\n",
    "NOTEBOOK = True\n",
    "\n",
    "\n",
    "if __name__ == \"__main__\" and not NOTEBOOK:\n",
    "\n",
    "    import doctest\n",
    "    from docopt import docopt\n",
    "    \n",
    "    doctest.testmod()\n",
    "    args = docopt(usage, version='Tarea4, prb')\n",
    "    \n",
    "    if len(sys.argv) >= 2:\n",
    "        print(args)\n",
    "\n",
    "        if   args['ejercicio1']:\n",
    "            Ejercicio1(args['<matA>'], args['<vecB>'], args['--path'])\n",
    "        elif args['ejercicio2']:\n",
    "            Ejercicio2(args['<matA>'], args['<vecB>'], args['--path'])\n"
   ]
  },
  {
   "cell_type": "markdown",
   "metadata": {},
   "source": [
    "## Ejercicio 1\n",
    "\n",
    "Programar el algoritmo de factorizaci'on $LU$ con pivoteo parcial y probarlo resolviendo un sistema de ecuaciones lineales.\n"
   ]
  },
  {
   "cell_type": "code",
   "execution_count": 3,
   "metadata": {
    "ExecuteTime": {
     "end_time": "2020-09-27T08:24:57.776649Z",
     "start_time": "2020-09-27T08:24:57.668089Z"
    },
    "code_folding": [
     0,
     2,
     53,
     60
    ]
   },
   "outputs": [],
   "source": [
    "# Parte 1\n",
    "\n",
    "def Algoritmo1 (A, n, t,/,dtype=np.float64):\n",
    "    \"\"\" Algoritmo1 de notas de la tarea \n",
    "    \n",
    "    Python dificulta el pase de variables por referencia,\n",
    "    por lo que regresaremos las matrices L, U y p mediante\n",
    "    return.\n",
    "    \"\"\"\n",
    "    # Inicializar\n",
    "    L = np.identity(n, dtype=dtype)\n",
    "    U = np.copy(A)\n",
    "    p = [p_i for p_i in range(n)]\n",
    "    \n",
    "    for k in range(n):\n",
    "        # Encuentra pivote\n",
    "        r = max([r_i for r_i in range(k, n)], \n",
    "                key=lambda r_i: abs(U[r_i,k]))\n",
    "        \n",
    "        if abs(U[r,k]) < t:\n",
    "            return 1, None\n",
    "        \n",
    "        # Permutacion de matrices\n",
    "        if r != k:\n",
    "            # Intercambiar filas k,r\n",
    "            for j in range(n):                \n",
    "                U[k,j], U[r,j] = U[r,j], U[k,j]\n",
    "            \n",
    "            # Registrar cambio de filas\n",
    "            p[k], p[r] = p[r], p[k]\n",
    "            if k > 0:\n",
    "                # cambio de filas de matriz L\n",
    "                for j in range(k-1):\n",
    "                    L[k,j], L[r,j] = L[r,j], L[k,j]\n",
    "        \n",
    "        # Reescribir las matrices\n",
    "        for i in range(k+1, n):\n",
    "            L[i,k] = U[i,k]/U[k,k]\n",
    "            for j in range(k, n):\n",
    "                U[i,j] -= L[i,k]*U[k,j]\n",
    "                \n",
    "    return 0, L, U, p\n",
    "\n",
    "def factLU(A, n, t,/,dtype=np.float64):\n",
    "    \"\"\" Generar factorizacion A=LU con pivoteo parcial\n",
    "    \n",
    "    Funcion para hacer la factorizacion LU con pivoteo \n",
    "    parcial.\n",
    "    \n",
    "    Python dificulta el pase de variables por referencia,\n",
    "    por lo que regresaremos las matrices L, U y p mediante\n",
    "    return.\n",
    "    \n",
    "        Input:\n",
    "            A := apuntador a la matriz a factorizar\n",
    "            n := tamanio n de la matriz\n",
    "            t := tolerancia de cercania con el 0\n",
    "            \n",
    "            dtype := [opcional] Tipo de dato a usar\n",
    "\n",
    "        Output: ret, L, U, p\n",
    "            ret := Variable de estado que sera\n",
    "                0 si se pudo factorizar\n",
    "                1 si hubo algun problema\n",
    "            L := Matriz triangular inferior obtenida de\n",
    "                la descomposicion de A, tamanio nxn\n",
    "            U := Matriz triangular inferior con tamanio\n",
    "                nxn de A = LU\n",
    "            p := vector de permutacion de pivoteo parcial\n",
    "    \"\"\"\n",
    "    sz = A.shape; n = sz[0]\n",
    "    ret = -1, None, None, None\n",
    "\n",
    "    # corroboramos las dimensiones\n",
    "    if sz[0] == sz[1]: #Matriz cuadrada\n",
    "        ret = 0, None, None, None\n",
    "    \n",
    "    # Ejecutamos algoritmo 1\n",
    "    if ret[0] == 0:\n",
    "        ret = Algoritmo1(A, n, t, dtype=dtype)\n",
    "        \n",
    "    return ret"
   ]
  },
  {
   "cell_type": "code",
   "execution_count": 4,
   "metadata": {
    "ExecuteTime": {
     "end_time": "2020-09-27T08:24:58.178621Z",
     "start_time": "2020-09-27T08:24:57.780841Z"
    },
    "code_folding": []
   },
   "outputs": [],
   "source": [
    "# Parte 2\n",
    "\n",
    "# Para mejor rendimiento usare la implementacion de scipy\n",
    "#solo hay que tener cuidado porque funciona con numpy.float64\n",
    "backwardSubstitution = lambda U,b: solve_triangular(U, b, lower=False)\n",
    "forwardSubstitution = lambda L,b: solve_triangular(L, b, lower=True)\n",
    "\n",
    "\n",
    "def genSolLU(L, U, n, b, p, t,/, dtype=np.float64):\n",
    "    \"\"\" Generar solucion de LUX = pb \n",
    "    \n",
    "    Funcion que trata de resolver el sistema LUx = Pb, \n",
    "    donde L es una matriz triangular inferior y U es una \n",
    "    matriz triangular superior.\n",
    "    \n",
    "    Debe crear un arraglo $\\hat{b} = (\\hat{b_1}, \\dots,\n",
    "    \\hat{b_n})^T $ con los elementos $ b = (b_1, \\dots, \n",
    "    b_n)^T$ reordenados de acuerdo al vec $p [\\hat{b_1}\n",
    "    = b_{p_i}]$\n",
    "    \n",
    "        Input:\n",
    "            L := Apuntador a matriz L\n",
    "            U := Apuntador a matriz U\n",
    "            n := tamanio de la amtriz\n",
    "            b := el vactor b\n",
    "            p := el apuntador a un arreglo de enteros de \n",
    "                longitud n\n",
    "            t := tolerancia de cercania con 0\n",
    "\n",
    "        Output:\n",
    "            ret := apuntoador a arreglo de soluciones x.\n",
    "                En caso de que no se encuentre solucion,\n",
    "                se devuelve NULL\n",
    "    \"\"\"\n",
    "    pb = np.matrix([b[i,0] for i in p]).transpose() # vector \\bar{b}\n",
    "    # Tratar de resolver LUx = pb\n",
    "    try:\n",
    "        # Ly=b (forward)\n",
    "        y = forwardSubstitution(L, pb)\n",
    "        # Ux=y (backward)\n",
    "        x = backwardSubstitution(U, y)\n",
    "        return x\n",
    "    \n",
    "    except Exception as e:\n",
    "        print(f'Err: {e}')\n",
    "        # Si la matriz es singular\n",
    "        return None"
   ]
  },
  {
   "cell_type": "code",
   "execution_count": 5,
   "metadata": {
    "ExecuteTime": {
     "end_time": "2020-09-27T08:24:58.247532Z",
     "start_time": "2020-09-27T08:24:58.181533Z"
    },
    "code_folding": [
     0
    ]
   },
   "outputs": [],
   "source": [
    "# Parte 3\n",
    "\n",
    "def solFactLU( A, b,/, t=np.finfo(np.float64).eps, dtype=np.float64):\n",
    "    \"\"\" Resuelve el sistema Ax=b\n",
    "    \n",
    "    Esta funcion trata de resolver el sistema de ecuaciones \n",
    "    Ax=b usando la factorizacion LU. El ejercicio pide\n",
    "    crear las matrices LU y el arreglo p pero eso se hace\n",
    "    en `factLU`.\n",
    "    \n",
    "        Input:\n",
    "            A := Matriz para resolver y factorizar\n",
    "            b := vector de respuestas\n",
    "        Output:\n",
    "            ret := se regresa el vector x respuesta, o None\n",
    "                en caso de que no haya habido respuestas.\n",
    "    \"\"\"\n",
    "    n = len(A)\n",
    "    ret, L, U, p = factLU(A, n, t, dtype)\n",
    "    if ret == 0:\n",
    "        return genSolLU(L, U, n, b, p, t, dtype)\n",
    "    else:\n",
    "        return None"
   ]
  },
  {
   "cell_type": "code",
   "execution_count": 6,
   "metadata": {
    "ExecuteTime": {
     "end_time": "2020-09-27T08:24:58.335637Z",
     "start_time": "2020-09-27T08:24:58.249231Z"
    },
    "code_folding": [
     0,
     2,
     6,
     14,
     17,
     38
    ]
   },
   "outputs": [],
   "source": [
    "# Parte 4\n",
    "\n",
    "def show1D( x,sz,/, max_sz=8, show=True):\n",
    "    \"\"\" Funcion que recibe un arreglo 1D y, en caso de\n",
    "    que no sea muy grande, lo imprime en pantalla. En\n",
    "    caso de que lo sea, imprime datos representativos.\n",
    "        Input:\n",
    "            x := Apuntador al arreglo 1D para imprimir\n",
    "            sz := Tamanio del arreglo. (para la imple_\n",
    "                mentacion en python es inecesario, pe_\n",
    "                ro lo solicita el ejercicio)\n",
    "            max_sz := Maximo de elementos a imprimir\n",
    "            prnt := Indica si el string obtenido se \n",
    "                debe imprimir en pantalla\n",
    "        Output:\n",
    "            Esta funcion regresa\n",
    "            \n",
    "        _Doctest:\n",
    "            >>> show1D([1,2,3,8,5,6,7,8,9,0], 10, prnt=False)\n",
    "            '1, 2, 3, 8, ... , 7, 8, 9, 0'\n",
    "            \n",
    "            >>> show1D([1,2,3,8], 4, prnt=False)\n",
    "            '1, 2, 3, 8'\n",
    "    \"\"\"\n",
    "    ret = '=('\n",
    "    \n",
    "    if sz <= max_sz:\n",
    "        ret = str(x)[1:-1]\n",
    "    else:\n",
    "        mid = max_sz//2\n",
    "        \n",
    "        ret = str(x[ :mid])[1:-1]\n",
    "        ret += ', ... , '\n",
    "        ret += str(x[-mid:])[1:-1]\n",
    "    \n",
    "    if show: print(ret)\n",
    "    return ret \n",
    "\n",
    "def readFile(file,/, path='datos/npy/', ext='.npy', dtype=np.float64):\n",
    "    \"\"\" Funcion para cargar archivos en memoria.\n",
    "    \n",
    "    Funcion para cargar los archivos en memoria en el \n",
    "    formato que se meustra en el punto 4 del ejercicio 2.\n",
    "    No lleva el path, ni la extension, solo el nombre del\n",
    "    archivo. Por default trata de leer los archivos npy\n",
    "        \n",
    "        Input:\n",
    "            file := nombre del archivo sin extension\n",
    "            path := directorio para buscar el archivo\n",
    "            ext := extension del archivo a buscar\n",
    "            dtype := tipo de dato para guardar los valores\n",
    "    \"\"\"\n",
    "    try:\n",
    "        return np.asmatrix(np.load(file= str(path+file+ext), \n",
    "                                   allow_pickle=False),\n",
    "                          dtype=dtype)\n",
    "    except:\n",
    "        raise Exception(\"Error al encontrar el archivo solicitado.\")\n",
    "\n",
    "def Ejercicio1(matA, vecb,/, path='datosLU/npy/', dtype=np.float64):\n",
    "    \n",
    "    A = readFile(matA, path=path, dtype=dtype)\n",
    "    b = readFile(vecb, path=path, dtype=dtype).transpose()\n",
    "    \n",
    "    print(f' Size\\n A := {A.shape}, b := {b.shape}')\n",
    "    \n",
    "    x = solFactLU(A, b)\n",
    "\n",
    "    if not isinstance(x, np.ndarray):\n",
    "        print('La matriz es singular')\n",
    "    else:\n",
    "        print('x =>')\n",
    "        show1D(x, len(x))\n",
    "        error = np.linalg.norm(A*x-b.transpose()) #Norma de numpy\n",
    "        print(f'Error =\\n     {error}')"
   ]
  },
  {
   "cell_type": "code",
   "execution_count": 7,
   "metadata": {
    "ExecuteTime": {
     "end_time": "2020-09-27T08:25:27.944257Z",
     "start_time": "2020-09-27T08:24:58.337629Z"
    },
    "code_folding": [
     0
    ]
   },
   "outputs": [
    {
     "name": "stdout",
     "output_type": "stream",
     "text": [
      " Size\n",
      " A := (5, 5), b := (5, 1)\n",
      "x =>\n",
      "[-1.59276006]\n",
      " [-0.6615294 ]\n",
      " [ 0.07245867]\n",
      " [ 1.53885238]\n",
      " [-0.55274998]\n",
      "Error =\n",
      "     79.18429857423777\n",
      "\n",
      "\n",
      " Size\n",
      " A := (50, 50), b := (50, 1)\n",
      "x =>\n",
      "[-4.61269450e+16]\n",
      " [-4.01251736e+15]\n",
      " [-1.23061213e+10]\n",
      " [-8.39451558e+09], ... , [-2805.59934209]\n",
      " [ 1700.57368067]\n",
      " [-1983.03283935]\n",
      " [-8070.952726  ]\n",
      "Error =\n",
      "     11277.171179812098\n",
      "\n",
      "\n",
      " Size\n",
      " A := (500, 500), b := (500, 1)\n",
      "x =>\n",
      "[-6.77521047e+22]\n",
      " [ 1.17903375e+20]\n",
      " [ 2.09143243e+19]\n",
      " [ 1.29143263e+20], ... , [-5.69485138e+11]\n",
      " [ 6.32088421e+11]\n",
      " [ 1.94677309e+09]\n",
      " [-6.40471784e+11]\n",
      "Error =\n",
      "     220943697.4180571\n",
      "\n",
      "\n"
     ]
    }
   ],
   "source": [
    "# Parte 5\n",
    "\n",
    "if NOTEBOOK:    \n",
    "    for sz in [5, 50, 500]:\n",
    "        Ejercicio1('matrizA'+str(sz), 'vecb'+str(sz))\n",
    "        print('\\n')"
   ]
  },
  {
   "cell_type": "markdown",
   "metadata": {},
   "source": [
    "#### Como ejecutar\n",
    "\n",
    "![Ejemplo ejecucion consola](assets/T3-E1.png)"
   ]
  },
  {
   "cell_type": "markdown",
   "metadata": {},
   "source": [
    "## Ejercicio 2\n",
    "\n",
    "Programar el algoritmo de \\textbf{factorizaci\\'on de Cholesky} y resuelva un sistema de ecuaciones lineales.\n"
   ]
  },
  {
   "cell_type": "code",
   "execution_count": 17,
   "metadata": {
    "ExecuteTime": {
     "end_time": "2020-09-27T08:31:51.264655Z",
     "start_time": "2020-09-27T08:31:51.252366Z"
    },
    "code_folding": []
   },
   "outputs": [],
   "source": [
    "# Parte 1\n",
    "\n",
    "def factChol(A, n, t):\n",
    "    \"\"\" Factorizacion de Cholesky\n",
    "    \n",
    "    Funcion que busca calcular la matriz $L$ de la \n",
    "    factorizacion de Cholesky.\n",
    "    \n",
    "        Input:\n",
    "            A := Apuntador a matriz A\n",
    "            n := tamanio de la matriz cuadarada n\n",
    "            t := Tolerancia con cercania a cero \n",
    "        Output:\n",
    "            L := Matriz L, None si algo salio mal\n",
    "    \"\"\"\n",
    "    try:\n",
    "        L = np.identity(n)\n",
    "\n",
    "        for j in range(n):\n",
    "            L[j,j] = np.sqrt(A[j,j] - sum([L[j,k]**2 for k in range(j)]))\n",
    "\n",
    "            for i in range(j+1, n):\n",
    "                L[i,j] = (A[i,j] - sum(L[i,k]*L[j,k] for k in range(j))\n",
    "                         )/L[j,j]\n",
    "        return L\n",
    "\n",
    "    except Exception as e:\n",
    "        print(f'Error: {e}')\n",
    "\n",
    "    return None"
   ]
  },
  {
   "cell_type": "code",
   "execution_count": 18,
   "metadata": {
    "ExecuteTime": {
     "end_time": "2020-09-27T08:31:52.478996Z",
     "start_time": "2020-09-27T08:31:52.474178Z"
    },
    "code_folding": [
     0,
     2,
     5
    ]
   },
   "outputs": [],
   "source": [
    "# Parte 2\n",
    "\n",
    "def transpose(M, n):\n",
    "    \"\"\" Calculo de la matriz transpuesta \n",
    "        \n",
    "        _Doctest:\n",
    "            >>> transpose(np.matrix([[1,2],[3,4]]), 2)\n",
    "            array([[1, 3],\n",
    "                   [2, 4]])\n",
    "    \"\"\"\n",
    "    ret = np.copy(M)\n",
    "    \n",
    "    for i in range(n):\n",
    "        for j in range(n):\n",
    "            ret[j,i] = M[i,j]\n",
    "        \n",
    "    return ret\n"
   ]
  },
  {
   "cell_type": "code",
   "execution_count": 19,
   "metadata": {
    "ExecuteTime": {
     "end_time": "2020-09-27T08:31:52.860693Z",
     "start_time": "2020-09-27T08:31:52.855122Z"
    },
    "code_folding": [
     0,
     10,
     16
    ]
   },
   "outputs": [],
   "source": [
    "# Parte 3\n",
    "\n",
    "def solChol( A, n, b,/, t=np.finfo(np.float64).eps, dtype=np.float64):\n",
    "    \"\"\" Funcion para resolver con Cholesky\n",
    "    \n",
    "    Esta funcion recibira una funcion A simetrica y\n",
    "    positiva. Luego con ella se usara alguna implemen_\n",
    "    tacion de forwardSubstitution para resolver el\n",
    "    sistema Ax=b => LL^Tx=b\n",
    "    \n",
    "        Input:\n",
    "            A := Apuntador a matriz A del sistema\n",
    "            n := tamanio n de matriz A\n",
    "            b := apuntador a vector b del sistema\n",
    "            t := tolerancia de similaridad a cero\n",
    "        \n",
    "        Output:\n",
    "            ret := None si algo salio mal, en otro\n",
    "                caso se regresa el apuntador al \n",
    "                vector de respuestas\n",
    "    \"\"\"\n",
    "    L = factChol(A, n, t)\n",
    "    \n",
    "    if not isinstance(L, np.ndarray):\n",
    "        return None\n",
    "    else:\n",
    "        return genSolLU(L, L.transpose(), n, b, [i for i in range(n)], t)\n",
    "        "
   ]
  },
  {
   "cell_type": "code",
   "execution_count": 20,
   "metadata": {
    "ExecuteTime": {
     "end_time": "2020-09-27T08:31:53.577604Z",
     "start_time": "2020-09-27T08:31:53.276300Z"
    }
   },
   "outputs": [],
   "source": [
    "# Parte 4\n",
    "def Ejercicio2(matA, vecB,/, path='datosChol/npy/', dtype=np.float64):\n",
    "    A = readFile(matA, path=path, dtype=dtype)\n",
    "    b = readFile(vecB, path=path, dtype=dtype).transpose()\n",
    "    \n",
    "    print(f' Size\\n A := {A.shape}, b := {b.shape}')\n",
    "    \n",
    "    x = solChol(A, len(A), b)\n",
    "\n",
    "    if not isinstance(x, np.ndarray):\n",
    "        print('La matriz es singular')\n",
    "    else:\n",
    "        print('x =>')\n",
    "        show1D(x, len(x))\n",
    "        error = np.linalg.norm(A*x-b.transpose()) #Norma de numpy\n",
    "        print(f'Error =\\n     {error}')"
   ]
  },
  {
   "cell_type": "code",
   "execution_count": 21,
   "metadata": {
    "ExecuteTime": {
     "end_time": "2020-09-27T08:32:04.446864Z",
     "start_time": "2020-09-27T08:31:54.113864Z"
    }
   },
   "outputs": [
    {
     "name": "stdout",
     "output_type": "stream",
     "text": [
      " Size\n",
      " A := (5, 5), b := (5, 1)\n",
      "x =>\n",
      "[ 3081.0484097 ]\n",
      " [-6499.54355634]\n",
      " [-5898.43734767]\n",
      " [-2215.32263164]\n",
      " [-2092.459337  ]\n",
      "Error =\n",
      "     9.813041367486225\n",
      "\n",
      "\n",
      " Size\n",
      " A := (50, 50), b := (50, 1)\n",
      "x =>\n",
      "[ 9.66990267e+15]\n",
      " [-2.65458392e+15]\n",
      " [-2.04242294e+15]\n",
      " [ 3.42632604e+15], ... , [ 1.28518615e+07]\n",
      " [-1.11195375e+05]\n",
      " [ 1.56146299e+05]\n",
      " [-3.49228255e+03]\n",
      "Error =\n",
      "     717.0017444741419\n",
      "\n",
      "\n",
      " Size\n",
      " A := (500, 500), b := (500, 1)\n"
     ]
    },
    {
     "name": "stderr",
     "output_type": "stream",
     "text": [
      "<ipython-input-17-4d933d506b9a>:20: RuntimeWarning: invalid value encountered in sqrt\n",
      "  L[j,j] = np.sqrt(A[j,j] - sum([L[j,k]**2 for k in range(j)]))\n"
     ]
    },
    {
     "name": "stdout",
     "output_type": "stream",
     "text": [
      "Err: array must not contain infs or NaNs\n",
      "La matriz es singular\n",
      "\n",
      "\n"
     ]
    }
   ],
   "source": [
    "# Parte 5\n",
    "\n",
    "if NOTEBOOK:    \n",
    "    for sz in [5, 50, 500]:\n",
    "        Ejercicio2('matSim'+str(sz), 'vecb'+str(sz))\n",
    "        print('\\n')"
   ]
  },
  {
   "cell_type": "markdown",
   "metadata": {},
   "source": [
    "#### Como ejecutar\n",
    "\n",
    "![Ejemplo ejecucion consola](assets/T3-E2.png)"
   ]
  },
  {
   "cell_type": "code",
   "execution_count": null,
   "metadata": {},
   "outputs": [],
   "source": []
  }
 ],
 "metadata": {
  "hide_input": false,
  "kernelspec": {
   "display_name": "MN-env",
   "language": "python",
   "name": "mn-env"
  },
  "language_info": {
   "codemirror_mode": {
    "name": "ipython",
    "version": 3
   },
   "file_extension": ".py",
   "mimetype": "text/x-python",
   "name": "python",
   "nbconvert_exporter": "python",
   "pygments_lexer": "ipython3",
   "version": "3.8.2"
  },
  "latex_envs": {
   "LaTeX_envs_menu_present": true,
   "autoclose": false,
   "autocomplete": true,
   "bibliofile": "biblio.bib",
   "cite_by": "apalike",
   "current_citInitial": 1,
   "eqLabelWithNumbers": true,
   "eqNumInitial": 1,
   "hotkeys": {
    "equation": "Ctrl-E",
    "itemize": "Ctrl-I"
   },
   "labels_anchors": false,
   "latex_user_defs": false,
   "report_style_numbering": false,
   "user_envs_cfg": false
  },
  "toc": {
   "base_numbering": 1,
   "nav_menu": {},
   "number_sections": true,
   "sideBar": true,
   "skip_h1_title": true,
   "title_cell": "Indice",
   "title_sidebar": "Contenido",
   "toc_cell": false,
   "toc_position": {},
   "toc_section_display": true,
   "toc_window_display": false
  },
  "varInspector": {
   "cols": {
    "lenName": 16,
    "lenType": 16,
    "lenVar": 40
   },
   "kernels_config": {
    "python": {
     "delete_cmd_postfix": "",
     "delete_cmd_prefix": "del ",
     "library": "var_list.py",
     "varRefreshCmd": "print(var_dic_list())"
    },
    "r": {
     "delete_cmd_postfix": ") ",
     "delete_cmd_prefix": "rm(",
     "library": "var_list.r",
     "varRefreshCmd": "cat(var_dic_list()) "
    }
   },
   "types_to_exclude": [
    "module",
    "function",
    "builtin_function_or_method",
    "instance",
    "_Feature"
   ],
   "window_display": false
  }
 },
 "nbformat": 4,
 "nbformat_minor": 4
}
