{
 "cells": [
  {
   "cell_type": "markdown",
   "metadata": {},
   "source": [
    "# Tarea 5\n",
    "\n",
    "_Tarea 5_ de _Benjamín Rivera_ para el curso de __Métodos Numéricos__ impartido por _Joaquín Peña Acevedo_. Fecha limite de entrega __4 de Octubre de 2020__."
   ]
  },
  {
   "cell_type": "markdown",
   "metadata": {},
   "source": [
    "### Como ejecutar"
   ]
  },
  {
   "cell_type": "markdown",
   "metadata": {},
   "source": [
    "##### Requerimientos\n",
    "\n",
    "Este programa se ejecuto en mi computadora con la version de __Python 3.8.2__ y con estos\n",
    "[requerimientos](https://github.com/BenchHPZ/UG-Compu/blob/master/MN/requerimientos.txt)\n",
    "\n",
    "#### Jupyter\n",
    "\n",
    "En caso de tener acceso a un _servidor jupyter_ ,con los requerimientos antes mencionados, unicamente basta con ejecutar todas las celdas de este _notebook_. Probablemente no todas las celdas de _markdown_ produzcan el mismo resultado por las \n",
    "[_Nbextensions_](jupyter-contrib-nbextensions.readthedocs.io).\n",
    "\n",
    "#### Consola\n",
    "\n",
    "Habrá archivos e instrucciones para poder ejecutar cada uno de los ejercicios desde la consola.\n",
    "\n",
    "#### Si todo sale mal\n",
    "\n",
    "<a href=\"https://colab.research.google.com/gist/BenchHPZ/\">\n",
    "    <img src=\"../../../assets/colab-badge.svg\" \n",
    "         alt=\"Open In Colab\"/>\n",
    "</a>\n",
    "\n",
    "En caso de que todo salga mal, tratare de dejar una copia disponible en __GoogleColab__ que se pueda ejecutar con la versión de __Python__ de _GoogleColab_"
   ]
  },
  {
   "cell_type": "code",
   "execution_count": 1,
   "metadata": {
    "ExecuteTime": {
     "end_time": "2020-10-06T02:44:43.847866Z",
     "start_time": "2020-10-06T02:44:41.585841Z"
    },
    "init_cell": true
   },
   "outputs": [],
   "source": [
    "usage = \"\"\"\n",
    "Programa correspondiente a la Tarea 5 de Metodos Numericos. \n",
    "Este programa espera leer los archivos de tipo npy\n",
    "\n",
    "Alumno: Benjamin Rivera\n",
    "\n",
    "Usage:\n",
    "  Tarea5.py ejercicio1 <matA> <vecB> <N>[--path=<path>]\n",
    "  Tarea5.py -h | --help\n",
    "\n",
    "Options:\n",
    "  -h --help       Show this screen.\n",
    "  -v --version    Show version.\n",
    "  --path=<path>   Directorio para buscar archivos [default: data/].\n",
    "\"\"\"\n",
    "\n",
    "import sys\n",
    "import scipy\n",
    "import numpy as np\n",
    "import matplotlib.pyplot as plt\n",
    "from scipy.linalg import solve_triangular # Para backward y forward substitution\n",
    "\n",
    "NOTEBOOK = True\n",
    "\n",
    "\n",
    "if __name__ == \"__main__\" and not NOTEBOOK:\n",
    "\n",
    "    import doctest\n",
    "    from docopt import docopt\n",
    "    \n",
    "    doctest.testmod()\n",
    "    args = docopt(usage, version='Tarea4, prb')\n",
    "    \n",
    "\n",
    "    if args['ejercicio3']:\n",
    "        Ejercicio3(args['<matA>'], args['<vecB>'], args['<N>'], args['--path'])"
   ]
  },
  {
   "cell_type": "markdown",
   "metadata": {
    "heading_collapsed": true
   },
   "source": [
    "## Ejercicio 1"
   ]
  },
  {
   "cell_type": "markdown",
   "metadata": {
    "hidden": true
   },
   "source": [
    "Considere la matriz\n",
    "\\begin{equation*}\n",
    "    A = \\begin{pmatrix}\n",
    "            a^2 & a & a/2 & 1 \\\\\n",
    "            a & -9 & 1 & 0 \\\\\n",
    "            a/2 & 1 & 10 & 0 \\\\\n",
    "            1 & 0 & 0 & a\n",
    "        \\end{pmatrix}\n",
    "\\end{equation*}\n",
    "\n",
    "Da un rango de valores para $a$ de manera que garantice la convergencia del método de Jacobi."
   ]
  },
  {
   "cell_type": "markdown",
   "metadata": {
    "ExecuteTime": {
     "end_time": "2020-10-04T05:33:40.985145Z",
     "start_time": "2020-10-04T05:33:40.981528Z"
    },
    "hidden": true
   },
   "source": [
    "### Resp"
   ]
  },
  {
   "cell_type": "markdown",
   "metadata": {
    "hidden": true
   },
   "source": [
    "Por las notas del curso (ppt clase 9, diapositiva 8-41), sabemos que el método de Jacobi converge cuando la matriz $A$ es \\textbf{estrictamente diagonal dominante}. Y esto es cierto cuando\n",
    "\n",
    "\\begin{equation*}\n",
    "    \\forall i \\in [1,\\dots,n] , |a_{i,i}| > \\sum_{j=1, j\\neq i}^{n} |a_{i,j}|\n",
    "\\end{equation*}\n",
    "\n",
    "si extendemos estas desigualdades para la matriz $A$ nos queda que\n",
    "\n",
    "\\begin{eqnarray}\n",
    "    sol &=&\n",
    "    \\begin{cases}\n",
    "        |a^2| &>& |a| + |a/2| + |1| \\\\\n",
    "        |-9|  &>& |a| + |1| + |0| \\\\\n",
    "        |10|  &>& |a/2| + |1| + |0| \\\\\n",
    "        |a|  &>& |1| + |0| + |0| \n",
    "    \\end{cases} \\\\\n",
    "    && \\text{despues de simplificar queda que} \\\\\n",
    "    &=& \\begin{cases}\n",
    "        a^2 &>& |a| + |a/2| + 1 \\\\\n",
    "        8   &>& |a| \\\\\n",
    "        9  &>& |a/2| \\\\\n",
    "        |a| &>& 1 \n",
    "    \\end{cases} \\\\\n",
    "    && \\\\\n",
    "    &=& \\begin{cases}\n",
    "        a^2 &>& |a| + |a/2| + 1 \\\\\n",
    "        64   &>& a^2 \\\\\n",
    "        4*91  &>& a^2 \\\\\n",
    "        a^2 &>& 1 \n",
    "    \\end{cases} \\label{eq: red}\\\\\n",
    "    && \\text{realcionamos \\ref{eq: red}.4 con \\ref{eq: red}.3 y \\ref{eq: red}.2} \\\\\n",
    "    &=& \\begin{cases}\n",
    "        a^2 &>& |a| + |a/2| + 1 \\\\\n",
    "        8^2   &>& a^2 >  1\\\\\n",
    "        4*9^2  &>& a^2 > 1\\\\\n",
    "    \\end{cases} \\label{eq: cuadrado}\\\\\n",
    "    && \\text{de esto solo nos importa \\ref{eq: cuadrado}.1 y \\ref{eq: cuadrado}.2} \\\\\n",
    "    &=& \\begin{cases}\n",
    "        a^2 &>& 3|a|/2 + 1 \\\\\n",
    "        8   &>& a >  1\\\\\n",
    "    \\end{cases} \\label{eq: final}\\\\\n",
    "\\end{eqnarray}\n",
    "\n",
    "Podemos calcular los intervalos de soluci\\'on de \\ref{eq: final}. Estos quedan\n",
    "\n",
    "\\begin{equation}\n",
    "    \\begin{cases}\n",
    "        a^2 > 3|a|/2 + 1 &\\Rightarrow& (-\\infty, -2) \\cup(2, \\infty)  \\\\\n",
    "        8   > a >  1     &\\Rightarrow& (1, 8)\n",
    "    \\end{cases}\n",
    "    \\label{eq: casi sol}\n",
    "\\end{equation}\n",
    "\n",
    "Y la solucion que buscamos es la interseccion de \\ref{eq: casi sol}. De manera que, para que la matriz $A$ converja con el metodo de Jacobi, se necesita que $x \\in (2,8)$."
   ]
  },
  {
   "cell_type": "markdown",
   "metadata": {
    "heading_collapsed": true
   },
   "source": [
    "## Ejercicio 2"
   ]
  },
  {
   "cell_type": "markdown",
   "metadata": {
    "hidden": true
   },
   "source": [
    "Sea $A \\in \\mathbb R^{n\\times n}$ una matriz tridiagonal y que las tres diagonales de interes se almacenan en un arreglo $B_{n \\times 3}$.\n",
    "\n",
    "Escribe las expresiones para calcular las actualizaciones de las componentes del vector $x^{i+1} = \\left( x^{i+1}_0, \\dots, x^{i+1}_{n-1} \\right)$ de acuerdo con \\textit{Gauss-Seidel}. Especificamente escribir la expresion para actualizar $x^{i+1}_0, x^{i+1}_i$ para $i = 1,2,\\dots, n-2$; ademas de $x^{i+1}_{n-1}$ usando los coeficientes $a_{i,j}$ de $A$ y $b_{ij}$ de $B$. "
   ]
  },
  {
   "cell_type": "markdown",
   "metadata": {
    "hidden": true
   },
   "source": [
    "### Respuesta"
   ]
  },
  {
   "cell_type": "markdown",
   "metadata": {
    "hidden": true
   },
   "source": [
    "\\par Sea $A$ una matriz tridiagonal con elementos $a_{i,j}$, $B$ el arreglo descrito anteriormente con elementos $b'_{i,j}$, $b$ el vector de terminos independientes con elementos $b_i$ y $x$ el vector solucion con $x_i^{(t)}$ su elemento $i$ de la iteraci\\'on $t$.\n",
    "\n",
    "\\par Se da que en el m\\'etodo de \\textit{Gauss-Seidel} original tenemos que los componentes $x^{(t+1)}$ se calculan siguiendo \\verb|forwardSubstitution|\n",
    "\n",
    "\\begin{equation}\n",
    "\tx_{i}^{(t+1)} = \\frac{1}{a_{i,i}}\\left( b_i - \\sum_{j=0}^{i-1} a_{j,j}x_{j}^{(t+1)} - \\sum_{j=i+1}^{n-1} a_{i,j}x_j^{(t)}\\right)\n",
    "\t\\label{eq: GS original}\n",
    "\\end{equation}\n",
    "\n",
    "\\noindent pero como en este ejercicio estamos trabajando con una matriz tridiagonal, lo que implica que solo habr\\'a elementos distitnos de cero en las tres diagonales de interes; entonces podemos reescribir la ecuaci\\'on~\\ref{eq: GS original}, lo que queda como\n",
    "\n",
    "\\begin{eqnarray*}\n",
    "\tx_{i}^{(t+1)} &=& \\frac{1}{a_{i,i}}\\left( b_i - a_{i, j-1}x_{i-1}^{t+1} - a_{i, j+1}x_{i+1}^{t}\\right)\n",
    "\t\\label{eq: GS tridiagonal} \\\\\n",
    "\t &=& \\frac{1}{b'_{1,i}}\\left( b_i - b'_{i,0}x_{i-1}^{t+1} - b'_{i,2}x_{i+1}^{t}\\right)\n",
    "\t\\qquad\\text{Usando el arreglo B} \\label{eq: GS tridiagonal con B}\n",
    "\\end{eqnarray*}\n",
    "\n",
    "\\noindent esto se puede usar $\\forall i = 0,1,\\dots,n-1,n$ sobre el arreglo $B$.\n",
    "\n",
    "\\par Espec\\'ificamente podemos definir al elemento $x_0^{t+1}$ como\n",
    "\\begin{eqnarray*}\n",
    "\tx_0^{t+1} &=& \\frac{1}{a_{0,0}} \\left( b_0 - a_{0, 1}x_1^{t}  \\right) \\\\\n",
    "\t\t&=& \\frac{1}{b_{0,1}} \\left( b_0 - b'_{0, 2}x_1^{t}  \\right)\n",
    "\\end{eqnarray*}\n",
    "\n",
    "\\noindent y para el elemento $x_{n-1}^{i+1}$ queda que\n",
    "\\begin{eqnarray*}\n",
    "\tx_{n-1}^{i+1} &=& \\frac{1}{a_{n-1,n-1}} \\left( b_{n-1} - a_{n-1, n-2}x_{n-2}^{t+1}  \\right) \\\\\n",
    "\t\t&=& \\frac{1}{a_{n-1,1}} \\left( b_{n-1} - b'_{n-1, 0}x_{n-2}^{t+1}  \\right)\n",
    "\\end{eqnarray*}"
   ]
  },
  {
   "cell_type": "markdown",
   "metadata": {},
   "source": [
    "## Ejercicio 3"
   ]
  },
  {
   "cell_type": "markdown",
   "metadata": {},
   "source": [
    "Programa el metodo de \\textit{Gauss-Seidel} para resolver sistemas tridiagonales. "
   ]
  },
  {
   "cell_type": "code",
   "execution_count": 65,
   "metadata": {
    "ExecuteTime": {
     "end_time": "2020-10-04T18:21:54.645347Z",
     "start_time": "2020-10-04T18:21:54.636682Z"
    },
    "code_folding": [
     2,
     26
    ]
   },
   "outputs": [],
   "source": [
    "# Extras\n",
    "\n",
    "def data4mFile(n_file,/,path='datos/npy/', ext='npy', dtype=np.float64):\n",
    "    \"\"\" Cargar matrices y vectores de memoria\n",
    "    \n",
    "    Funcion para cargar los archivos en memoria. El nombre del\n",
    "    archivo no espera path, ni la extension, solo el nombre. Por \n",
    "    default trata de leer los archivos .npy, pero numpy soporta \n",
    "    leer de otros formatos.\n",
    "    \n",
    "        Input:\n",
    "            n_file := nombre del archivo sin extension\n",
    "            path := directorio para buscar el archivo\n",
    "            ext := extension del archivo a buscar (sin punto)\n",
    "            dtype := tipo de dato para guardar los valores\n",
    "        Output:\n",
    "            Regresa el una instancia np.matrix con los datos\n",
    "                obtenidos del archivo cargado.\n",
    "    \"\"\"\n",
    "    try:\n",
    "        return np.asmatrix(np.load(file=str(path+n_file+'.'+ext),\n",
    "                                   allow_pickle=False),\n",
    "                           dtype=dtype)\n",
    "    except:\n",
    "        raise Exception(\"Error al cargar la informacion.\")\n",
    "        \n",
    "def show1D(vec,/, max_sz=8, show=True):\n",
    "    \"\"\" Implementacion para pprint vector 1D.\n",
    "    \n",
    "    Funcion para generar string para poder imporimir un\n",
    "    vector de manera reducida, dando un maximo de elementos \n",
    "    a imprimir. Lo puede imprimir directamente si se quiere\n",
    "    \n",
    "    Input:\n",
    "        vec := vector de informacion a imprimir.\n",
    "        [opcionales]\n",
    "        max_sz := Maximo de elementos a imprimir.\n",
    "        show := Imprimir vector\n",
    "        \n",
    "    _Doctest:\n",
    "        >>> show1D([1,2,3,4], show=False)\n",
    "        '1, 2, 3, 4'\n",
    "        \n",
    "        >>> show1D([1,2,3,4,5,6,7,8,9], show=False)\n",
    "        '1, 2, 3, 4, ..., 6, 7, 8, 9'\n",
    "    \"\"\"\n",
    "    n=0\n",
    "    # En caso de que venga de instancia de np.data\n",
    "    try:\n",
    "        shape = vec.shape\n",
    "        if len(shape) < 2:\n",
    "            raise Exception('Array 1D')\n",
    "        else:\n",
    "            if shape[0] == 1:\n",
    "                get = lambda i: vec[0,i]\n",
    "                n = shape[1]\n",
    "            elif shape[1] == 1:\n",
    "                get = lambda i: vec[i,0]\n",
    "                n = shape[0]\n",
    "            else:\n",
    "                raise Exception('No arreglo 1D')\n",
    "    \n",
    "    except AttributeError:\n",
    "        get = lambda i: vec[i]\n",
    "        n = len(vec)\n",
    "    except Exception('No arreglo 1D'):\n",
    "        print(e)\n",
    "    \n",
    "    ret = '  '\n",
    "    if n <= max_sz:\n",
    "        for i in range(n): ret += str(get(i))+', '\n",
    "    else:\n",
    "        for i in range(4): ret += str(get(i))+', '\n",
    "        ret += '..., '\n",
    "        for i in range(4): ret += str(get(-(4-i)))+', '\n",
    "    \n",
    "    ret = ret[2:-2]\n",
    "    if show: print(ret)\n",
    "    return ret        \n"
   ]
  },
  {
   "cell_type": "code",
   "execution_count": 143,
   "metadata": {
    "ExecuteTime": {
     "end_time": "2020-10-04T23:31:58.094019Z",
     "start_time": "2020-10-04T23:31:58.085538Z"
    },
    "code_folding": [
     2
    ]
   },
   "outputs": [],
   "source": [
    "# Parte 1\n",
    "\n",
    "def diagonalesRelevantes(A, dtype=np.float64):\n",
    "    \"\"\" Funcion que otiene las diagonales relevantes de A.\n",
    "    \n",
    "    Esta funcion, con A una matriz tridiagonal cuadrada(n) extrae_\n",
    "    ra las diagonales relevantes y las pondra en un arreglo B de \n",
    "    3xn, donde la columna 0 correspondera a la diagonal -1, la col_\n",
    "    umna 1 a la diagonal de A y la columna 2 a la diagonal +1 de\n",
    "    la matriz A.\n",
    "    Se espera, y corrobora, que A sea instancia de np.matrix para\n",
    "    usar su metodos\n",
    "    \n",
    "    Input:\n",
    "        A := Matriz tridiagonal cuadrada instancia de np.matrix\n",
    "    Output:\n",
    "        B := Arreglo de valores relevantes de A\n",
    "    \n",
    "    \"\"\"\n",
    "    if isinstance(A, (np.matrix)): # Verificar instancia de numpy\n",
    "        n = A.shape[0] if A.shape[0]==A.shape[1] else 0 # Verificar A es cuadrada\n",
    "        B = np.zeros((n, 3), dtype=dtype) # Reservar memoria de B\n",
    "        \n",
    "        B[1:, 0] = A.diagonal(-1)            # Diagonal inferior\n",
    "        B[ :, 1] = A.diagonal( 0)            # Diagonal de matriz\n",
    "        B[:-1,2] = A.diagonal( 1)            # Diagonal superior\n",
    "\n",
    "        return B\n",
    "    else:\n",
    "        raise Exception(\"A no es instancia de np.matrix\") "
   ]
  },
  {
   "cell_type": "code",
   "execution_count": 190,
   "metadata": {
    "ExecuteTime": {
     "end_time": "2020-10-05T01:08:53.825347Z",
     "start_time": "2020-10-05T01:08:53.796982Z"
    },
    "code_folding": [
     2,
     22,
     33
    ]
   },
   "outputs": [],
   "source": [
    "# Parte 2\n",
    "\n",
    "def error_GS(B, xt, b,/, dtype=np.float64):\n",
    "    \"\"\" Funcion para calular el error || Ax^t - b|| desde B \"\"\"\n",
    "    \n",
    "    n = len(xt) # esperamos que las dimensiones coincidan\n",
    "    vec = np.asmatrix(np.zeros((n,1)),\n",
    "                      dtype=dtype)\n",
    "    # En vec generaremos Ax^t\n",
    "    \n",
    "    vec[0,0] = B[0,1]*xt[0,0] + B[0,2]*xt[1,0] # Calculamos el primer elemento\n",
    "    \n",
    "    # Calculamos hasta el penultimo\n",
    "    for i in range(1, n-1):\n",
    "        vec[i,0] = B[i,0]*xt[i-1,0] + B[i,1]*xt[i,0] + B[i,2]*xt[i+1,0]\n",
    "    \n",
    "    n = n-1 # Calculamos el ultimo\n",
    "    vec[n,0] = B[n,0]*xt[n-1,0] + B[n,1]*xt[n,0]\n",
    "    \n",
    "    return np.linalg.norm(vec - b)\n",
    "\n",
    "\n",
    "def GaussSeidel_tridiagonal(B, xt, b, N,/, t=None, dtype=np.float64):\n",
    "    \"\"\" Implementacion de GaussSeidel para matrices tridiagonales.\n",
    "    \n",
    "    Esta funcion trata de resolver un sistema de ecuaciones Ax = b \n",
    "    con A una matriz (nxn) cuadrada tridiagonal y estas diagonales \n",
    "    almacenadas en el arreglo B (3xn). \n",
    "    \n",
    "    Respecto a la tolerancia t del metodo, en caso de ser None, se\n",
    "    tomara el epsilon para el tipo de dato dtype que se le pase a \n",
    "    la funcion (calculado por numpy)\n",
    "    \n",
    "    Input:\n",
    "        B := arreglo (3xn) de la diagonales relecantes para el metodo\n",
    "        x0 := vector (nx1) inicial de aproximacion de respuestas\n",
    "        b :=  vector (nx1) de terminos independientes\n",
    "        N := maximo numero de iteraciones del metodo\n",
    "        \n",
    "        t := Tolerancia del metodo (default: None)\n",
    "        dtype := Tipop de dato para trabajar con el metodo\n",
    "    \n",
    "    Output:\n",
    "        x, n, e\n",
    "        x := vector respuesta en la iteracion en que se detenga\n",
    "        n := iteracion en la que se detuvo el metodo\n",
    "        e := error al momento de detenerse\n",
    "    \"\"\"\n",
    "    # Inicializacion\n",
    "    if t == None: t = np.finfo(dtype).eps   # Correcion tolerancia\n",
    "    sz = len(b)\n",
    "    e = float('inf')                  # Error inicial es infinito\n",
    "    n = 0                                      # Iteracion inicial\n",
    "    \n",
    "    while n < N:\n",
    "        \n",
    "        # Primer elemento de iteracion\n",
    "        i = 0\n",
    "        xt[i,0] = (b[i,0] - B[i,2]*xt[i+1,0])/B[i,1]\n",
    "        # Iteracion del metodo\n",
    "        for i in range(1, sz-1):\n",
    "            xt[i,0] = (b[i,0] - B[i,0]*xt[i-1,0] - B[i,2]*xt[i+1,0])/B[i,1]\n",
    "        # Ultimo elemento de iteracion\n",
    "        i = sz-1\n",
    "        xt[i,0] = (b[i,0] - B[i,0]*xt[i-1,0])/B[i,1]\n",
    "        \n",
    "        # avance bucle verificacion tolerancia\n",
    "        e = error_GS(B, xt, b, dtype=dtype)\n",
    "        if e < t: \n",
    "            break\n",
    "        n += 1\n",
    "            \n",
    "    return xt, n, e"
   ]
  },
  {
   "cell_type": "code",
   "execution_count": 191,
   "metadata": {
    "ExecuteTime": {
     "end_time": "2020-10-05T01:08:54.166033Z",
     "start_time": "2020-10-05T01:08:54.156221Z"
    },
    "code_folding": [
     2,
     10
    ]
   },
   "outputs": [],
   "source": [
    "# Parte 3\n",
    "\n",
    "def Ejercicio3(mat, vecb, N,/, path='datos/npy/', show=True):\n",
    "    \"\"\" Funcion para ejecutar la parte 3 de la tarea \n",
    "    \n",
    "    Esta funcion usara las funciones diagonalesRelevantes, error_GS,\n",
    "    GaussSeidel_tridiagonal, data4mFile y show1D para tratar de \n",
    "    resolver un sistema Ax = b mediante la variante del metodo de\n",
    "    Gauss-Seidel para matrices tridiagonales cuadradas\n",
    "    \n",
    "    Input:\n",
    "        mat := nombre del archivo que contiene una matriz\n",
    "            tridiagonal\n",
    "        vecb := nombre del archivo con el vector de terminos\n",
    "            independientes\n",
    "        N := numero maximo de iteraciones para el metodo\n",
    "        \n",
    "        path := directorio para buscar los archivos\n",
    "        show := Indica si se desea imprimir los detalles\n",
    "    \"\"\"\n",
    "    dtype = np.float64\n",
    "    t = (np.finfo(dtype).eps)**(1/2)\n",
    "    \n",
    "    A = data4mFile(mat,  dtype=dtype)\n",
    "    b = data4mFile(vecb, dtype=dtype).transpose()\n",
    "    \n",
    "    x0 = np.zeros(b.shape, dtype=dtype)\n",
    "    \n",
    "    # Suponemos que A si es tridiagonal\n",
    "    B = diagonalesRelevantes(A, dtype=dtype)\n",
    "    \n",
    "    xt, n, e = GaussSeidel_tridiagonal(B, x0, b, N, t=t, dtype=dtype)\n",
    "    conv = True if e < t else False\n",
    "    \n",
    "    if show:\n",
    "        # Segunda solucion\n",
    "        x = np.linalg.solve(A, b)\n",
    "        # Print\n",
    "        __ = f'Matriz de \"{mat}\" con el vector de \"{vecb}\"'\n",
    "        __ += f'\\n\\tIteraciones: {n}'\n",
    "        __ += f'\\n\\tError: {e}'\n",
    "        __ += f'\\n\\tSol: {show1D(xt,show=False)}\\n'\n",
    "        __ += ('El metodo converge' if e < t else 'El metodo no converge')\n",
    "        __ += f'\\nLa diferencia entre soluciones es {np.linalg.norm(x - xt)}'\n",
    "        print(__)\n",
    "    \n",
    "    return e, n, conv\n"
   ]
  },
  {
   "cell_type": "code",
   "execution_count": 240,
   "metadata": {
    "ExecuteTime": {
     "end_time": "2020-10-05T01:45:57.685900Z",
     "start_time": "2020-10-05T01:45:56.879415Z"
    },
    "collapsed": true
   },
   "outputs": [
    {
     "name": "stdout",
     "output_type": "stream",
     "text": [
      "Matriz de \"matrizA6\" con el vector de \"vecb6\"\n",
      "\tIteraciones: 0\n",
      "\tError: inf\n",
      "\tSol: 0.0, 0.0, 0.0, 0.0, 0.0, 0.0\n",
      "El metodo no converge\n",
      "La diferencia entre soluciones es 2.449489742783178\n",
      "Matriz de \"matrizA6\" con el vector de \"vecb6\"\n",
      "\tIteraciones: 5\n",
      "\tError: 0.00022626705409276946\n",
      "\tSol: 0.9999715782516367, 1.000046095638286, 0.9999528204288628, 1.000020636310501, 0.9999923716262922, 1.0000011924468593\n",
      "El metodo no converge\n",
      "La diferencia entre soluciones es 7.51264727492206e-05\n",
      "Matriz de \"matrizA6\" con el vector de \"vecb6\"\n",
      "\tIteraciones: 9\n",
      "\tError: 1.8517803127045294e-09\n",
      "\tSol: 1.0000000003609595, 0.9999999996391488, 1.0000000003090268, 0.9999999998701277, 1.0000000000473834, 0.9999999999925931\n",
      "El metodo converge\n",
      "La diferencia entre soluciones es 6.125110654833705e-10\n",
      "Matriz de \"matrizA6\" con el vector de \"vecb6\"\n",
      "\tIteraciones: 9\n",
      "\tError: 1.8517803127045294e-09\n",
      "\tSol: 1.0000000003609595, 0.9999999996391488, 1.0000000003090268, 0.9999999998701277, 1.0000000000473834, 0.9999999999925931\n",
      "El metodo converge\n",
      "La diferencia entre soluciones es 6.125110654833705e-10\n",
      "Matriz de \"matrizA6\" con el vector de \"vecb6\"\n",
      "\tIteraciones: 9\n",
      "\tError: 1.8517803127045294e-09\n",
      "\tSol: 1.0000000003609595, 0.9999999996391488, 1.0000000003090268, 0.9999999998701277, 1.0000000000473834, 0.9999999999925931\n",
      "El metodo converge\n",
      "La diferencia entre soluciones es 6.125110654833705e-10\n",
      "Matriz de \"matrizA6\" con el vector de \"vecb6\"\n",
      "\tIteraciones: 9\n",
      "\tError: 1.8517803127045294e-09\n",
      "\tSol: 1.0000000003609595, 0.9999999996391488, 1.0000000003090268, 0.9999999998701277, 1.0000000000473834, 0.9999999999925931\n",
      "El metodo converge\n",
      "La diferencia entre soluciones es 6.125110654833705e-10\n",
      "Matriz de \"matrizA6\" con el vector de \"vecb6\"\n",
      "\tIteraciones: 9\n",
      "\tError: 1.8517803127045294e-09\n",
      "\tSol: 1.0000000003609595, 0.9999999996391488, 1.0000000003090268, 0.9999999998701277, 1.0000000000473834, 0.9999999999925931\n",
      "El metodo converge\n",
      "La diferencia entre soluciones es 6.125110654833705e-10\n",
      "Matriz de \"matrizA6\" con el vector de \"vecb6\"\n",
      "\tIteraciones: 9\n",
      "\tError: 1.8517803127045294e-09\n",
      "\tSol: 1.0000000003609595, 0.9999999996391488, 1.0000000003090268, 0.9999999998701277, 1.0000000000473834, 0.9999999999925931\n",
      "El metodo converge\n",
      "La diferencia entre soluciones es 6.125110654833705e-10\n",
      "Matriz de \"matrizA20\" con el vector de \"vecb20\"\n",
      "\tIteraciones: 0\n",
      "\tError: inf\n",
      "\tSol: 0.0, 0.0, 0.0, 0.0, ..., 0.0, 0.0, 0.0, 0.0\n",
      "El metodo no converge\n",
      "La diferencia entre soluciones es 44.72135954999579\n",
      "Matriz de \"matrizA20\" con el vector de \"vecb20\"\n",
      "\tIteraciones: 5\n",
      "\tError: 5.2135922638126534e+17\n",
      "\tSol: 10510715.21822592, 1872849342.4323115, 335161007203.7978, 30692230637880.035, ..., 4.099992817956197e+16, 4.332425697334634e+17, 3.365085604102188e+17, 6.572227164204795e+17\n",
      "El metodo no converge\n",
      "La diferencia entre soluciones es 8.573144572254433e+17\n",
      "Matriz de \"matrizA20\" con el vector de \"vecb20\"\n",
      "\tIteraciones: 10\n",
      "\tError: 2.1453562634774947e+30\n",
      "\tSol: -4.325493091370833e+19, -7.706464998382885e+21, -1.3791289121479942e+24, -1.2629315580338113e+26, ..., -1.687103028015392e+29, -1.782760425966517e+30, -1.3847085054535812e+30, -2.704424173623813e+30\n",
      "El metodo no converge\n",
      "La diferencia entre soluciones es 3.527786386918865e+30\n",
      "Matriz de \"matrizA20\" con el vector de \"vecb20\"\n",
      "\tIteraciones: 15\n",
      "\tError: 8.827765445581566e+42\n",
      "\tSol: 1.7798646821865153e+32, 3.171075432413957e+34, 5.674874034154363e+36, 5.196742264243895e+38, ..., 6.942133605708313e+41, 7.335747052314032e+42, 5.69783308475235e+42, 1.1128232022110846e+43\n",
      "El metodo no converge\n",
      "La diferencia entre soluciones es 1.451622338717728e+43\n",
      "Matriz de \"matrizA20\" con el vector de \"vecb20\"\n",
      "\tIteraciones: 20\n",
      "\tError: 3.6324709362165934e+55\n",
      "\tSol: -7.323831572435901e+44, -1.3048420255161528e+47, -2.3351113169951127e+49, -2.1383684641646873e+51, ..., -2.8565664452140027e+54, -3.0185314876376157e+55, -2.3445585643800182e+55, -4.5790726589847025e+55\n",
      "El metodo no converge\n",
      "La diferencia entre soluciones es 5.97317179331505e+55\n",
      "Matriz de \"matrizA20\" con el vector de \"vecb20\"\n",
      "\tIteraciones: 25\n",
      "\tError: 1.4946981978392363e+68\n",
      "\tSol: 3.0136284762679543e+57, 5.3691965008129655e+59, 9.608574269562953e+61, 8.799011873257374e+63, ..., 1.1754270832835685e+67, 1.242072862774836e+68, 9.647448038654873e+67, 1.8842082349289435e+68\n",
      "El metodo no converge\n",
      "La diferencia entre soluciones es 2.4578556226939094e+68\n",
      "Matriz de \"matrizA20\" con el vector de \"vecb20\"\n",
      "\tIteraciones: 35\n",
      "\tError: 2.5307907379234587e+93\n",
      "\tSol: 5.102610711852639e+82, 9.091007665622408e+84, 1.6269030631878133e+87, 1.4898297050140288e+89, ..., 1.990207775575571e+92, 2.1030509714140467e+93, 1.6334850858936836e+93, 3.190300728381666e+93\n",
      "El metodo no converge\n",
      "La diferencia entre soluciones es 4.1615881079264364e+93\n",
      "Matriz de \"matrizA20\" con el vector de \"vecb20\"\n",
      "\tIteraciones: 50\n",
      "\tError: 1.7632355142337908e+131\n",
      "\tSol: -3.5550566420321894e+120, -6.3338257628323356e+122, -1.1334849682523423e+125, -1.0379841393747967e+127, ..., -1.3866041858041658e+130, -1.4652235388231731e+131, -1.1380707508761582e+131, -2.2227248824152343e+131\n",
      "El metodo no converge\n",
      "La diferencia entre soluciones es 2.8994336977579156e+131\n",
      "Matriz de \"matrizA500\" con el vector de \"vecb500\"\n",
      "\tIteraciones: 0\n",
      "\tError: inf\n",
      "\tSol: 0.0, 0.0, 0.0, 0.0, ..., 0.0, 0.0, 0.0, 0.0\n",
      "El metodo no converge\n",
      "La diferencia entre soluciones es 2236.06797749979\n",
      "Matriz de \"matrizA500\" con el vector de \"vecb500\"\n",
      "\tIteraciones: 5\n",
      "\tError: 14.176187474228898\n",
      "\tSol: -99.63958099545093, 99.47440006331433, -99.59286032243953, 99.70598909314587, ..., -99.91668866583471, 99.9348818313726, -99.96581153196503, 99.99173629461029\n",
      "El metodo no converge\n",
      "La diferencia entre soluciones es 5.874263087048714\n",
      "Matriz de \"matrizA500\" con el vector de \"vecb500\"\n",
      "\tIteraciones: 10\n",
      "\tError: 0.038973335267423345\n",
      "\tSol: -99.99917521831776, 99.99893028154601, -99.99925001852736, 99.99948437479507, ..., -99.99998299574862, 99.99998753009527, -99.99999350241926, 99.9999984294677\n",
      "El metodo no converge\n",
      "La diferencia entre soluciones es 0.015979939541367193\n",
      "Matriz de \"matrizA500\" con el vector de \"vecb500\"\n",
      "\tIteraciones: 15\n",
      "\tError: 0.00010199731641958948\n",
      "\tSol: -99.99999855757989, 99.99999805927155, -99.99999854223792, 99.99999893159874, ..., -99.99999999646232, 99.99999999750894, -99.99999999870863, 99.99999999968786\n",
      "El metodo no converge\n",
      "La diferencia entre soluciones es 4.2453048360324766e-05\n",
      "Matriz de \"matrizA500\" con el vector de \"vecb500\"\n",
      "\tIteraciones: 20\n",
      "\tError: 2.970999512048245e-07\n",
      "\tSol: -99.99999999713852, 99.99999999618126, -99.99999999708542, 99.99999999772496, ..., -99.9999999999992, 99.99999999999949, -99.99999999999974, 99.99999999999993\n",
      "El metodo no converge\n",
      "La diferencia entre soluciones es 1.2607776366756404e-07\n",
      "Matriz de \"matrizA500\" con el vector de \"vecb500\"\n",
      "\tIteraciones: 22\n",
      "\tError: 9.286484050814949e-09\n",
      "\tSol: -99.99999999992775, 99.9999999998994, -99.99999999991924, 99.99999999993344, ..., -99.99999999999999, 100.0, -100.0, 100.0\n",
      "El metodo converge\n",
      "La diferencia entre soluciones es 3.9575573020619025e-09\n",
      "Matriz de \"matrizA500\" con el vector de \"vecb500\"\n",
      "\tIteraciones: 22\n",
      "\tError: 9.286484050814949e-09\n",
      "\tSol: -99.99999999992775, 99.9999999998994, -99.99999999991924, 99.99999999993344, ..., -99.99999999999999, 100.0, -100.0, 100.0\n",
      "El metodo converge\n",
      "La diferencia entre soluciones es 3.9575573020619025e-09\n",
      "Matriz de \"matrizA500\" con el vector de \"vecb500\"\n",
      "\tIteraciones: 22\n",
      "\tError: 9.286484050814949e-09\n",
      "\tSol: -99.99999999992775, 99.9999999998994, -99.99999999991924, 99.99999999993344, ..., -99.99999999999999, 100.0, -100.0, 100.0\n",
      "El metodo converge\n",
      "La diferencia entre soluciones es 3.9575573020619025e-09\n"
     ]
    }
   ],
   "source": [
    "# Parte 4\n",
    "\n",
    "if NOTEBOOK:\n",
    "    sizes = ['6', '20', '500']\n",
    "    data = {}\n",
    "    for sz in sizes:\n",
    "        data[sz] = [[],[],[]]\n",
    "        \n",
    "    itr = [0, 5, 10, 15, 20, 25, 35, 50]\n",
    "\n",
    "    for sz in sizes:\n",
    "        for N in itr:\n",
    "            e, n, conv = Ejercicio3('matrizA'+sz, 'vecb'+sz, N, show=True)\n",
    "            data[sz][0].append(e)\n",
    "            data[sz][1].append(n)\n",
    "            data[sz][2].append(conv)\n"
   ]
  },
  {
   "cell_type": "code",
   "execution_count": 249,
   "metadata": {
    "ExecuteTime": {
     "end_time": "2020-10-05T01:52:00.808250Z",
     "start_time": "2020-10-05T01:52:00.425420Z"
    }
   },
   "outputs": [
    {
     "name": "stderr",
     "output_type": "stream",
     "text": [
      "<ipython-input-249-735f8276e7b2>:18: UserWarning: You have mixed positional and keyword arguments, some input may be discarded.\n",
      "  fig.legend([e, i, c],        # The line objects\n"
     ]
    },
    {
     "data": {
      "image/png": "[encoded data removed]",
      "text/plain": [
       "<Figure size 720x720 with 4 Axes>"
      ]
     },
     "metadata": {
      "needs_background": "light"
     },
     "output_type": "display_data"
    }
   ],
   "source": [
    "\n",
    "PLOT = True\n",
    "if PLOT:\n",
    "    rng = itr\n",
    "    fig, ax = plt.subplots(2, 2, figsize=(10,10))\n",
    "    ax[0,1].axis('off')\n",
    "    \n",
    "    for sz in sizes:\n",
    "        if sz == '6': i,j = 0,0\n",
    "        elif sz == '20': i,j = 1,0\n",
    "        elif sz == '500': i,j = 1,1\n",
    "        \n",
    "        ax[i,j].set_title(sz)\n",
    "        a = ax[i,j].plot(rng, data[sz][0], '-x')\n",
    "        b = ax[i,j].plot(rng, data[sz][1], '-o')\n",
    "        c = ax[i,j].plot(rng, data[sz][2], '*')    \n",
    "    \n",
    "    labels = ['error', 'iteraciones', 'conv']\n",
    "    fig.legend([e, i, c],        # The line objects\n",
    "           labels=labels,        # The labels for each line\n",
    "           loc=\"upper right\",    # Position of legend\n",
    "           borderaxespad=0.1,    # Small spacing around legend box\n",
    "           fontsize='xx-large'\n",
    "           )\n",
    "    \n",
    "    plt.show()"
   ]
  },
  {
   "cell_type": "markdown",
   "metadata": {
    "ExecuteTime": {
     "end_time": "2020-10-05T01:46:49.578740Z",
     "start_time": "2020-10-05T01:46:49.571854Z"
    }
   },
   "source": [
    "En la figura anterior podemos ver como convergen, o no, el metodo para los distintos datos proporcionados. Se grafica el error, de manera directa; las iteraciones con las que termina el metodo; y si converge o no, donde 0 es no y 1 es si. Todos estos datos se grafican contra el limite superior de iteraciones que se le pasa al metodo."
   ]
  },
  {
   "cell_type": "code",
   "execution_count": null,
   "metadata": {},
   "outputs": [],
   "source": []
  }
 ],
 "metadata": {
  "author": "",
  "hide_input": false,
  "kernelspec": {
   "display_name": "MN-env",
   "language": "python",
   "name": "mn-env"
  },
  "language_info": {
   "codemirror_mode": {
    "name": "ipython",
    "version": 3
   },
   "file_extension": ".py",
   "mimetype": "text/x-python",
   "name": "python",
   "nbconvert_exporter": "python",
   "pygments_lexer": "ipython3",
   "version": "3.8.2"
  },
  "latex_envs": {
   "LaTeX_envs_menu_present": true,
   "autoclose": false,
   "autocomplete": true,
   "bibliofile": "biblio.bib",
   "cite_by": "apalike",
   "current_citInitial": 1,
   "eqLabelWithNumbers": true,
   "eqNumInitial": 1,
   "hotkeys": {
    "equation": "Ctrl-E",
    "itemize": "Ctrl-I"
   },
   "labels_anchors": false,
   "latex_user_defs": false,
   "report_style_numbering": false,
   "user_envs_cfg": false
  },
  "toc": {
   "base_numbering": 1,
   "nav_menu": {},
   "number_sections": true,
   "sideBar": true,
   "skip_h1_title": true,
   "title_cell": "Indice",
   "title_sidebar": "Contenido",
   "toc_cell": false,
   "toc_position": {},
   "toc_section_display": true,
   "toc_window_display": false
  },
  "varInspector": {
   "cols": {
    "lenName": 16,
    "lenType": 16,
    "lenVar": 40
   },
   "kernels_config": {
    "python": {
     "delete_cmd_postfix": "",
     "delete_cmd_prefix": "del ",
     "library": "var_list.py",
     "varRefreshCmd": "print(var_dic_list())"
    },
    "r": {
     "delete_cmd_postfix": ") ",
     "delete_cmd_prefix": "rm(",
     "library": "var_list.r",
     "varRefreshCmd": "cat(var_dic_list()) "
    }
   },
   "types_to_exclude": [
    "module",
    "function",
    "builtin_function_or_method",
    "instance",
    "_Feature"
   ],
   "window_display": false
  }
 },
 "nbformat": 4,
 "nbformat_minor": 4
}
