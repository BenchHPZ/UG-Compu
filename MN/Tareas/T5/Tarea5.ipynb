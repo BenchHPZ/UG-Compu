{
 "cells": [
  {
   "cell_type": "markdown",
   "metadata": {},
   "source": [
    "# Tarea 5\n",
    "\n",
    "_Tarea 5_ de _Benjamín Rivera_ para el curso de __Métodos Numéricos__ impartido por _Joaquín Peña Acevedo_. Fecha limite de entrega __4 de Octubre de 2020__."
   ]
  },
  {
   "cell_type": "markdown",
   "metadata": {},
   "source": [
    "### Como ejecutar"
   ]
  },
  {
   "cell_type": "markdown",
   "metadata": {},
   "source": [
    "##### Requerimientos\n",
    "\n",
    "Este programa se ejecuto en mi computadora con la version de __Python 3.8.2__ y con estos\n",
    "[requerimientos](https://github.com/BenchHPZ/UG-Compu/blob/master/MN/requerimientos.txt)\n",
    "\n",
    "#### Jupyter\n",
    "\n",
    "En caso de tener acceso a un _servidor jupyter_ ,con los requerimientos antes mencionados, unicamente basta con ejecutar todas las celdas de este _notebook_. Probablemente no todas las celdas de _markdown_ produzcan el mismo resultado por las \n",
    "[_Nbextensions_](jupyter-contrib-nbextensions.readthedocs.io).\n",
    "\n",
    "#### Consola\n",
    "\n",
    "Habrá archivos e instrucciones para poder ejecutar cada uno de los ejercicios desde la consola.\n",
    "\n",
    "#### Si todo sale mal\n",
    "\n",
    "<a href=\"https://colab.research.google.com/gist/BenchHPZ/\">\n",
    "    <img src=\"../../../assets/colab-badge.svg\" \n",
    "         alt=\"Open In Colab\"/>\n",
    "</a>\n",
    "\n",
    "En caso de que todo salga mal, tratare de dejar una copia disponible en __GoogleColab__ que se pueda ejecutar con la versión de __Python__ de _GoogleColab_"
   ]
  },
  {
   "cell_type": "markdown",
   "metadata": {
    "heading_collapsed": true
   },
   "source": [
    "## Ejercicio 1"
   ]
  },
  {
   "cell_type": "markdown",
   "metadata": {
    "hidden": true
   },
   "source": [
    "Considere la matriz\n",
    "\\begin{equation*}\n",
    "    A = \\begin{pmatrix}\n",
    "            a^2 & a & a/2 & 1 \\\\\n",
    "            a & -9 & 1 & 0 \\\\\n",
    "            a/2 & 1 & 10 & 0 \\\\\n",
    "            1 & 0 & 0 & a\n",
    "        \\end{pmatrix}\n",
    "\\end{equation*}\n",
    "\n",
    "Da un rango de valores para $a$ de manera que garantice la convergencia del método de Jacobi."
   ]
  },
  {
   "cell_type": "markdown",
   "metadata": {
    "ExecuteTime": {
     "end_time": "2020-10-04T05:33:40.985145Z",
     "start_time": "2020-10-04T05:33:40.981528Z"
    },
    "hidden": true
   },
   "source": [
    "### Resp"
   ]
  },
  {
   "cell_type": "markdown",
   "metadata": {
    "hidden": true
   },
   "source": [
    "Por las notas del curso (ppt clase 9, diapositiva 8-41), sabemos que el método de Jacobi converge cuando la matriz $A$ es \\textbf{estrictamente diagonal dominante}. Y esto es cierto cuando\n",
    "\n",
    "\\begin{equation*}\n",
    "    \\forall i \\in [1,\\dots,n] , |a_{i,i}| > \\sum_{j=1, j\\neq i}^{n} |a_{i,j}|\n",
    "\\end{equation*}\n",
    "\n",
    "si extendemos estas desigualdades para la matriz $A$ nos queda que\n",
    "\n",
    "\\begin{eqnarray}\n",
    "    sol &=&\n",
    "    \\begin{cases}\n",
    "        |a^2| &>& |a| + |a/2| + |1| \\\\\n",
    "        |-9|  &>& |a| + |1| + |0| \\\\\n",
    "        |10|  &>& |a/2| + |1| + |0| \\\\\n",
    "        |a|  &>& |1| + |0| + |0| \n",
    "    \\end{cases} \\\\\n",
    "    && \\text{despues de simplificar queda que} \\\\\n",
    "    &=& \\begin{cases}\n",
    "        a^2 &>& |a| + |a/2| + 1 \\\\\n",
    "        8   &>& |a| \\\\\n",
    "        9  &>& |a/2| \\\\\n",
    "        |a| &>& 1 \n",
    "    \\end{cases} \\\\\n",
    "    && \\\\\n",
    "    &=& \\begin{cases}\n",
    "        a^2 &>& |a| + |a/2| + 1 \\\\\n",
    "        64   &>& a^2 \\\\\n",
    "        4*91  &>& a^2 \\\\\n",
    "        a^2 &>& 1 \n",
    "    \\end{cases} \\label{eq: red}\\\\\n",
    "    && \\text{realcionamos \\ref{eq: red}.4 con \\ref{eq: red}.3 y \\ref{eq: red}.2} \\\\\n",
    "    &=& \\begin{cases}\n",
    "        a^2 &>& |a| + |a/2| + 1 \\\\\n",
    "        8^2   &>& a^2 >  1\\\\\n",
    "        4*9^2  &>& a^2 > 1\\\\\n",
    "    \\end{cases} \\label{eq: cuadrado}\\\\\n",
    "    && \\text{de esto solo nos importa \\ref{eq: cuadrado}.1 y \\ref{eq: cuadrado}.2} \\\\\n",
    "    &=& \\begin{cases}\n",
    "        a^2 &>& 3|a|/2 + 1 \\\\\n",
    "        8   &>& a >  1\\\\\n",
    "    \\end{cases} \\label{eq: final}\\\\\n",
    "\\end{eqnarray}\n",
    "\n",
    "Podemos calcular los intervalos de soluci\\'on de \\ref{eq: final}. Estos quedan\n",
    "\n",
    "\\begin{equation}\n",
    "    \\begin{cases}\n",
    "        a^2 > 3|a|/2 + 1 &\\Rightarrow& (-\\infty, -2) \\cup(2, \\infty)  \\\\\n",
    "        8   > a >  1     &\\Rightarrow& (1, 8)\n",
    "    \\end{cases}\n",
    "    \\label{eq: casi sol}\n",
    "\\end{equation}\n",
    "\n",
    "Y la solucion que buscamos es la interseccion de \\ref{eq: casi sol}. De manera que, para que la matriz $A$ converja con el metodo de Jacobi, se necesita que $x \\in (2,8)$."
   ]
  },
  {
   "cell_type": "markdown",
   "metadata": {},
   "source": [
    "## Ejercicio 2"
   ]
  },
  {
   "cell_type": "markdown",
   "metadata": {},
   "source": [
    "Sea $A \\in \\mathbb R^{n\\times n}$ una matriz tridiagonal y que las tres diagonales de interes se almacenan en un arreglo $B_{n \\times 3}$.\n",
    "\n",
    "Escribe las expresiones para calcular las actualizaciones de las componentes del vector $x^{i+1} = \\left( x^{i+1}_0, \\dots, x^{i+1}_{n-1} \\right)$ de acuerdo con \\textit{Gauss-Seidel}. Especificamente escribir la expresion para actualizar $x^{i+1}_0, x^{i+1}_i$ para $i = 1,2,\\dots, n-2$; ademas de $x^{i+1}_{n-1}$ usando los coeficientes $a_{i,j}$ de $A$ y $b_{ij}$ de $B$. "
   ]
  },
  {
   "cell_type": "markdown",
   "metadata": {},
   "source": [
    "### Respuesta"
   ]
  },
  {
   "cell_type": "markdown",
   "metadata": {},
   "source": [
    "\\par Sea $A$ una matriz tridiagonal con elementos $a_{i,j}$, $B$ el arreglo descrito anteriormente con elementos $b'_{i,j}$, $b$ el vector de terminos independientes con elementos $b_i$ y $x$ el vector solucion con $x_i^{(t)}$ su elemento $i$ de la iteraci\\'on $t$.\n",
    "\n",
    "\\par Se da que en el m\\'etodo de \\textit{Gauss-Seidel} original tenemos que los componentes $x^{(t+1)}$ se calculan siguiendo \\verb|forwardSubstitution|\n",
    "\n",
    "\\begin{equation}\n",
    "\tx_{i}^{(t+1)} = \\frac{1}{a_{i,i}}\\left( b_i - \\sum_{j=0}^{i-1} a_{j,j}x_{j}^{(t+1)} - \\sum_{j=i+1}^{n-1} a_{i,j}x_j^{(t)}\\right)\n",
    "\t\\label{eq: GS original}\n",
    "\\end{equation}\n",
    "\n",
    "\\noindent pero como en este ejercicio estamos trabajando con una matriz tridiagonal, lo que implica que solo habr\\'a elementos distitnos de cero en las tres diagonales de interes; entonces podemos reescribir la ecuaci\\'on~\\ref{eq: GS original}, lo que queda como\n",
    "\n",
    "\\begin{eqnarray*}\n",
    "\tx_{i}^{(t+1)} &=& \\frac{1}{a_{i,i}}\\left( b_i - a_{i, j-1}x_j^{t+1} - a_{i, j+1}x_j^{t}\\right)\n",
    "\t\\label{eq: GS tridiagonal} \\\\\n",
    "\t &=& \\frac{1}{b'_{1,i}}\\left( b_i - b'_{i,0}x_j^{t+1} - b'_{i,2}x_j^{t}\\right)\n",
    "\t\\qquad\\text{Usando el arreglo B} \\label{eq: GS tridiagonal con B}\n",
    "\\end{eqnarray*}\n",
    "\n",
    "\\noindent esto se puede usar $\\forall i = 0,1,\\dots,n-1,n$ sobre el arreglo $B$.\n",
    "\n",
    "\\par Espec\\'ificamente podemos definir al elemento $x_0^{t+1}$ como\n",
    "    \\begin{eqnarray*}\n",
    "\t\tx_0^{t+1} &=& \\frac{1}{a_{0,0}} \\left( b_0 - a_{0, 1}  \\right) \\\\\n",
    "\t\t\t&=& \\frac{1}{b_{0,1}} \\left( b_0 - b'_{0, 2}  \\right)\n",
    "\t\\end{eqnarray*}\n",
    "\t\n",
    "\\noindent y para el elemento $x_{n-1}^{i+1}$ queda que\n",
    "\t\\begin{eqnarray*}\n",
    "\t\tx_{n-1}^{i+1} &=& \\frac{1}{a_{n-1,n-1}} \\left( b_{n-1} - a_{n-1, n-2}  \\right) \\\\\n",
    "\t\t\t&=& \\frac{1}{a_{n-1,1}} \\left( b_{n-1} - b'_{n-1, 0}  \\right)\n",
    "\t\\end{eqnarray*}"
   ]
  },
  {
   "cell_type": "markdown",
   "metadata": {},
   "source": [
    "## Ejercicio 3"
   ]
  },
  {
   "cell_type": "markdown",
   "metadata": {},
   "source": [
    "Programa el metodo de \\textit{Gauss-Seidel} para resolver sistemas tridiagonales. "
   ]
  },
  {
   "cell_type": "code",
   "execution_count": null,
   "metadata": {},
   "outputs": [],
   "source": []
  }
 ],
 "metadata": {
  "author": "",
  "hide_input": false,
  "kernelspec": {
   "display_name": "MN-env",
   "language": "python",
   "name": "mn-env"
  },
  "language_info": {
   "codemirror_mode": {
    "name": "ipython",
    "version": 3
   },
   "file_extension": ".py",
   "mimetype": "text/x-python",
   "name": "python",
   "nbconvert_exporter": "python",
   "pygments_lexer": "ipython3",
   "version": "3.8.2"
  },
  "latex_envs": {
   "LaTeX_envs_menu_present": true,
   "autoclose": false,
   "autocomplete": true,
   "bibliofile": "biblio.bib",
   "cite_by": "apalike",
   "current_citInitial": 1,
   "eqLabelWithNumbers": true,
   "eqNumInitial": 1,
   "hotkeys": {
    "equation": "Ctrl-E",
    "itemize": "Ctrl-I"
   },
   "labels_anchors": false,
   "latex_user_defs": false,
   "report_style_numbering": false,
   "user_envs_cfg": false
  },
  "toc": {
   "base_numbering": 1,
   "nav_menu": {},
   "number_sections": true,
   "sideBar": true,
   "skip_h1_title": true,
   "title_cell": "Indice",
   "title_sidebar": "Contenido",
   "toc_cell": false,
   "toc_position": {},
   "toc_section_display": true,
   "toc_window_display": false
  },
  "varInspector": {
   "cols": {
    "lenName": 16,
    "lenType": 16,
    "lenVar": 40
   },
   "kernels_config": {
    "python": {
     "delete_cmd_postfix": "",
     "delete_cmd_prefix": "del ",
     "library": "var_list.py",
     "varRefreshCmd": "print(var_dic_list())"
    },
    "r": {
     "delete_cmd_postfix": ") ",
     "delete_cmd_prefix": "rm(",
     "library": "var_list.r",
     "varRefreshCmd": "cat(var_dic_list()) "
    }
   },
   "types_to_exclude": [
    "module",
    "function",
    "builtin_function_or_method",
    "instance",
    "_Feature"
   ],
   "window_display": false
  }
 },
 "nbformat": 4,
 "nbformat_minor": 4
}
