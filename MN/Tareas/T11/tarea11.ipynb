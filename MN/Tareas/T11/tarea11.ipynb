{
 "cells": [
  {
   "cell_type": "markdown",
   "metadata": {},
   "source": [
    "# Tarea 11\n",
    "\n",
    "_Tarea 11_ de _Benjamín Rivera_\n",
    "para el curso de __Métodos Numéricos__\n",
    "impartido por _Joaquín Peña Acevedo_.\n",
    "\n",
    "Fecha limite de entrega __...__."
   ]
  },
  {
   "cell_type": "code",
   "execution_count": 1,
   "metadata": {},
   "outputs": [],
   "source": [
    "import sys\n",
    "import seaborn as sns\n",
    "import scipy\n",
    "\n",
    "import numpy as np\n",
    "import matplotlib.pyplot as plt\n",
    "from scipy.linalg import solve_triangular # Para backward y forward substitution\n",
    "\n",
    "NOTEBOOK = True"
   ]
  },
  {
   "cell_type": "markdown",
   "metadata": {},
   "source": [
    "## Ejercicio 1\n",
    "\n",
    "Programar el __metodo de Runge-Kutta__ de orden 2 para resolver un problemade valor inicial:\n",
    "y(a)    =y0;\n",
    "\n",
    "$$ (PVI)\n",
    "\\begin{cases}\n",
    "\ty' = f(x, y) \\quad x \\in (a, b] \\\\\n",
    "\ty(a) = y_0\n",
    "\\end{cases}$$"
   ]
  },
  {
   "cell_type": "markdown",
   "metadata": {},
   "source": [
    "### Solucion numerica del PVI\n",
    "\n",
    "Escribir el codigo de la funcion que calcula la solucion numerica del PVI con __algoritmo de RungeKutta__ de segundo orden.  La funcion debe recibir como argumentos:\n",
    " - un arreglo con los puntos de la particion uniforme $a=x_0< x_1< \\dots < x_n=n$,\n",
    " - un valor inicial $y0$, \n",
    " - el numero de subdivisiones $n$ del intervalo $[a, b]$, y\n",
    " - el apuntador la funcion $f(x, y)$.\n",
    "\n",
    "Crear el arreglo para almacenar los valores $y_0, y_1, \\dots , y_n$.  Hacer $y_0=y0$, $h=x_1 - x_0$\n",
    "y para cada $i= 0,1, \\dots, n-1$ calcular \n",
    "\\begin{eqnarray*}\n",
    " K_1 &=& f(x_i, y_i), \\\\\n",
    " K_2 &=& f(x_i+h, yi_+h K_1), \\\\\n",
    " y_{i+1} &=& y_i+ 0.5h(K_1+K_2)\n",
    "\\end{eqnarray*}\n",
    "La funci ́on debe devolver el arreglo con los valores $y_i$."
   ]
  },
  {
   "cell_type": "code",
   "execution_count": 2,
   "metadata": {},
   "outputs": [],
   "source": [
    "def runge_kutta(xs, y0, n, f):\n",
    "    \"\"\" Funcion que implementa el algoritmo deRunge-Kutta. \"\"\"\n",
    "    \n",
    "    ys = np.zeros(n+1)\n",
    "    ys[0] = y0\n",
    "    h = xs[1] - xs[0]\n",
    "\n",
    "    for i in range(n):\n",
    "        K1 = f(xs[i], ys[i])\n",
    "        K2 = f(xs[i] + h, ys[i] + h*K1)\n",
    "        ys[i+1] = ys[i] + 0.5*h*(K1 + K2)\n",
    "    \n",
    "    return ys\n"
   ]
  },
  {
   "cell_type": "markdown",
   "metadata": {},
   "source": [
    "### Linea de comandos\n",
    "\n",
    "Escriba el programa que reciba desde la lınea de comandos el valor $n$ que define el numero de divisiones del intervalo de solucion $[a, b]$. Programe la funcion $f$ que corresponde al problema de valor inicial:\n",
    "\n",
    "$$ (PVS) \n",
    "\\begin{cases}\n",
    "    y' = 4x^2 - 6x + \\frac{y}{x} \\quad x\\in(1,6] \\\\\n",
    "    y(1) = 4\n",
    "\\end{cases}$$\n",
    "\n",
    "La  solucion  analıtica  de  este  problema es $y(x)  =-6x2+ 8x+ 2x3$. Genere una particion del intervalo $[1,6]$ con $x_k= 1 +hk$, para $k= 0,1, \\dots, n$, con $h= (6−1)/n$, y calcule los valores de la solucion numerica $y_0, y_1, y_2, \\dots, y_n$ del _PVI_ usando la funcion del inciso anterior.\n",
    "\n",
    "Programe la funcion que evalua la solucion analıtica $y(x)$ y haga que el programa calcule el maximo del error relativo:\n",
    "$$E_{max}= \\max_{k=1,\\dots,n} \\frac{|y_k - y(x_k)|}{|y(x_k)|} $$\n",
    "\n",
    "Haga que el programa imprima los valores $E_{max}$"
   ]
  },
  {
   "cell_type": "code",
   "execution_count": 3,
   "metadata": {},
   "outputs": [],
   "source": [
    "# definimos f\n",
    "def f(x, y):\n",
    "    return 4*x**2-6*x+(y/x)\n",
    "def y(x):\n",
    "    return -6*x**2 + 8*x + 2*x**3"
   ]
  },
  {
   "cell_type": "code",
   "execution_count": 4,
   "metadata": {},
   "outputs": [],
   "source": [
    "def gui(n, f=f, y=y, a=1, b=6, y0=4):\n",
    "    \"\"\" Funcion para llamar a la funcion del ejercicio anterior con un\n",
    "    caso especifico\n",
    "    \"\"\"\n",
    "    \n",
    "    part = np.linspace(a, b, n+1, True)\n",
    "    ys = runge_kutta(part, y0, n, f)\n",
    "    \n",
    "    xs = part\n",
    "    e_max = max([abs(ys[k] - y(xs[k]))\n",
    "                 / abs(y(xs[k])) \n",
    "                 for k in range(1, n+1)])\n",
    "    \n",
    "    print(e_max)\n"
   ]
  },
  {
   "cell_type": "markdown",
   "metadata": {},
   "source": [
    "### Prueba\n",
    "\n",
    "Prueba  el  programa  con $n= 10$  y $n=100$, y  escriba  un  comentario  sobre  los resultados obtenidos."
   ]
  },
  {
   "cell_type": "code",
   "execution_count": 5,
   "metadata": {},
   "outputs": [
    {
     "name": "stdout",
     "output_type": "stream",
     "text": [
      "0.015873015873015987\n",
      "0.0005800005553969491\n",
      "0.0001404937293847703\n"
     ]
    }
   ],
   "source": [
    "gui(10)\n",
    "gui(50)\n",
    "gui(100)"
   ]
  },
  {
   "cell_type": "markdown",
   "metadata": {},
   "source": [
    "Además de los solicitados, también probe el metodo para $n = 50$. Me sorprende lo rapido que decience el error con _relativamente_ pocas iteraciones"
   ]
  },
  {
   "cell_type": "code",
   "execution_count": null,
   "metadata": {},
   "outputs": [],
   "source": []
  }
 ],
 "metadata": {
  "kernelspec": {
   "display_name": "Python 3",
   "language": "python",
   "name": "python3"
  },
  "language_info": {
   "codemirror_mode": {
    "name": "ipython",
    "version": 3
   },
   "file_extension": ".py",
   "mimetype": "text/x-python",
   "name": "python",
   "nbconvert_exporter": "python",
   "pygments_lexer": "ipython3",
   "version": "3.8.5"
  }
 },
 "nbformat": 4,
 "nbformat_minor": 4
}
