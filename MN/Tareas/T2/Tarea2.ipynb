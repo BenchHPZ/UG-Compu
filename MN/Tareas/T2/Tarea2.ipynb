{
 "cells": [
  {
   "cell_type": "markdown",
   "metadata": {},
   "source": [
    "# Tarea 2\n",
    "\n",
    "_Tarea 2_ de _Benjamín Rivera_ para el curso de __Métodos Numéricos__ impartido por _Joaquín Peña Acevedo_. Fecha limite de entrega __13 de Septiembre de 2020__."
   ]
  },
  {
   "cell_type": "markdown",
   "metadata": {},
   "source": [
    "### Como ejecutar"
   ]
  },
  {
   "cell_type": "markdown",
   "metadata": {},
   "source": [
    "##### Requerimientos\n",
    "\n",
    "Este programa se ejecuto en mi computadora con la version de __Python 3.8.2__ y con estos\n",
    "[requerimientos](https://github.com/BenchHPZ/UG-Compu/blob/master/MN/requerimientos.txt)\n",
    "\n",
    "#### Jupyter\n",
    "\n",
    "En caso de tener acceso a un _servidor jupyter_ ,con los requerimientos antes mencionados, unicamente basta con ejecutar todas las celdas de este _notebook_. Probablemente no todas las celdas de _markdown_ produzcan el mismo resultado por las \n",
    "[_Nbextensions_](jupyter-contrib-nbextensions.readthedocs.io).\n",
    "\n",
    "#### Consola\n",
    "\n",
    "Habrá archivos e instrucciones para poder ejecutar cada uno de los ejercicios desde la consola.\n",
    "\n",
    "#### Si todo sale mal\n",
    "\n",
    "<a href=\"https://colab.research.google.com/gist/BenchHPZ/5079d3b77ed0de33f82807bf61345b25/tarea2.ipynb\">\n",
    "    <img src=\"../../../assets/colab-badge.svg\" \n",
    "         alt=\"Open In Colab\"/>\n",
    "</a>\n",
    "\n",
    "En caso de que todo salga mal, tratare de dejar una copia disponible en __GoogleColab__ que se pueda ejecutar con la versión de __Python__ de _GoogleColab_"
   ]
  },
  {
   "cell_type": "code",
   "execution_count": null,
   "metadata": {
    "ExecuteTime": {
     "end_time": "2020-09-13T23:46:35.839256Z",
     "start_time": "2020-09-13T23:46:33.386Z"
    },
    "init_cell": true
   },
   "outputs": [],
   "source": [
    "import sys\n",
    "\n",
    "import numpy as np\n",
    "import matplotlib.pyplot as plt\n",
    "import warnings\n",
    "\n",
    "from math import atan, cos, exp, log, pi, sin\n",
    "\"\"\"\n",
    "# Para probar que todo sale bien\n",
    "if __name__ == \"__main__\":\n",
    "    import doctest\n",
    "    doctest.testmod()\n",
    "    \n",
    "    if len(sys.argv) >= 2:\n",
    "        ejercicio = sys.argv[1].lower()\n",
    "\n",
    "        if ejercicio == 'ejercicio1':\n",
    "            print(Ejercicio1())\n",
    "        elif ejercicio == 'ejercicio3':\n",
    "            print(Ejercicio3())\n",
    "        elif ejercicio == 'ejercicio4':\n",
    "            print(Ejercicio4())\n",
    "        elif ejercicio == 'ejercicio5':\n",
    "            print(Ejercicio5())\n",
    "        else:\n",
    "            print(')= ... =(')\n",
    "\"\"\"\n",
    "print(\"Todo bien con la importacion xD\")"
   ]
  },
  {
   "cell_type": "markdown",
   "metadata": {
    "heading_collapsed": true
   },
   "source": [
    "## Ejercicio 1"
   ]
  },
  {
   "cell_type": "markdown",
   "metadata": {
    "hidden": true
   },
   "source": [
    "Considere la funcion $f(x) = x + \\ln\\sqrt{x} − 2.5$. Verique que la funcion $g(x) = 2.5 −\\ln\\sqrt x$ cumple con las condiciones del teorema de punto fijo en el intervalo $I = [1, 3]$, de modo que puede usarse para encontrar una raız de $f(x)$. Estime el numero de iteraciones que requiere el algoritmo de punto fijo para aproximar a la raız de $f(x)$ con un error menor a $10^{−6}$, partiendo de cualquier punto en el intervalo $I$."
   ]
  },
  {
   "cell_type": "markdown",
   "metadata": {
    "hidden": true
   },
   "source": [
    "\\textbf{Respuesta.} Suponemos que $\\ln x = \\log_e x$. Podemos ver que la funci\\'on $g$ es constante, por lo que \\'unicamente falta corroborar que \n",
    "\\begin{equation*} a \\leq g(x) \\leq b,\\quad \\forall x \\in [a,b] \\end{equation*}\n",
    "\n",
    "Empezamos por verificar los valores para los que $a \\leq g(x)$, de manera que\n",
    "\\begin{eqnarray*}\n",
    "    a &\\leq& g(x) \\\\ && \\\\\n",
    "    1 &\\leq& 2.5- \\ln\\sqrt x \\\\\n",
    "    0 &\\leq& 1.5- \\ln\\sqrt x \\\\\n",
    "    \\ln\\sqrt x &\\leq& 1.5 \\\\\n",
    "    &\\Downarrow& \\\\\n",
    "    \\sqrt x &\\leq& e^{1.5} \\\\\n",
    "    x &\\leq& e^3 \\sim 20.08\n",
    "\\end{eqnarray*}\n",
    "Por otro lado, se da que \n",
    "\\begin{eqnarray*}\n",
    "    g(x) &\\leq& b \\\\ && \\\\\n",
    "    2.5- \\ln\\sqrt x &\\leq& 3 \\\\\n",
    "    -ln\\sqrt x &\\leq& 0.5 \\\\\n",
    "    ln\\sqrt x &\\geq& -0.5 \\\\\n",
    "    &\\Downarrow& \\\\\n",
    "    \\sqrt x &\\geq& e^{-0.5} \\\\\n",
    "    x &\\geq& e^{-1} \\sim 0.36\n",
    "\\end{eqnarray*}\n",
    "Por los dos resultados anteriores tenemos que, para todo el intervalo $[1,3]$,se cumple que $a \\leq g(x) \\leq b$. De manera que la funci\\'on $g$ cumple con el \\textbf{Teorema de punto fijo} y se puede usar para encontrar una ra\\'iz de $f(x)$."
   ]
  },
  {
   "cell_type": "code",
   "execution_count": 6,
   "metadata": {
    "ExecuteTime": {
     "end_time": "2020-09-13T23:46:32.648382Z",
     "start_time": "2020-09-13T23:46:32.482819Z"
    },
    "code_folding": [
     0,
     5,
     13
    ],
    "hidden": true
   },
   "outputs": [
    {
     "name": "stdout",
     "output_type": "stream",
     "text": [
      "(2.1234737040050793, 8)\n"
     ]
    }
   ],
   "source": [
    "# Funcion, implementacion\n",
    "def metodo_punto_fijo(g, x, n, t=0,/,v=True):\n",
    "    \"\"\" Implementacion del metodo de punto fijo, esta\n",
    "    funcion recibe tres parametros obligatorios y uno\n",
    "    opcional.\n",
    "    Input:\n",
    "        g := La derivada de la funcion g del metodo\n",
    "        x := La aproximaxion de la raiz de f\n",
    "        n := numero de iteraciones requeridas\n",
    "        t := Tolerancia de la variable. Default a 0\n",
    "        \n",
    "        v := [opcional] Indica si se quiere imprimir \n",
    "            las iteraciones en pantalla\n",
    "    Output:\n",
    "        (x,k)\n",
    "        x := aproximaxion de la raiz\n",
    "        k := ultima iteracion realizada\n",
    "        \n",
    "    _Doctest\n",
    "        >>> metodo_punto_fijo(lambda x : 2.5 - log(x**(1/2)), 2, 20, 1.0e-6, False)\n",
    "        (2.1234737040050793, 8)\n",
    "    \"\"\"\n",
    "    tp = np.float64     # Tipo de dato para operaciones\n",
    "    \n",
    "    if v: print(f\"x = {x}\")\n",
    "    for _ in range(n):\n",
    "        x = tp(g(x))               # Actualizamos el valor de x\n",
    "        error = abs(x - tp(g(x)))  # Diferencia entre el punto\n",
    "        \n",
    "        if v: print(f\"\\t x={x:2.15e} | error={error:2.15e}\")\n",
    "        if error <= t: break\n",
    "\n",
    "    return (x,_)\n",
    "\n",
    "# ejercicio\n",
    "def Ejercicio1():\n",
    "    g = lambda x : 2.5 - log(x**(1/2))\n",
    "    return metodo_punto_fijo(g, 2, 20, 1.0e-6, False)\n",
    "\n",
    "print(Ejercicio1())"
   ]
  },
  {
   "cell_type": "markdown",
   "metadata": {
    "hidden": true
   },
   "source": [
    "\\par De manera pr\\'actica podemos ver en la celda anterior que se puede encontrar una ra\\'iz, con la tolerancia indicada, en 8 iteraciones. \n",
    "\n",
    "\\textbf{Estimaci\\'on} La diferencia entre dos iteraciones del metodo, especificamente con la funcion $g$, esta dada por\n",
    "\\begin{eqnarray*}\n",
    "    d(x) = \\left| g(x) - g(g(x)) \\right| &=& \\left| 2.5-\\ln\\sqrt x - \\left(2.5 - \\ln\\sqrt{2.5 - \\ln\\sqrt x} \\right)\\right| \\\\\n",
    "        &=& \\left| 2.5-\\ln\\sqrt x - 2.5 + \\ln\\sqrt{2.5 - \\ln\\sqrt x} \\right| \\\\\n",
    "        &=& \\left| \\ln\\sqrt{2.5 - \\ln\\sqrt x} -\\ln\\sqrt x \\right| \\\\\n",
    "        &=& \\left| \\frac{\\ln(2.5 - \\ln\\sqrt x)}{2} - \\frac{\\ln x}{2} \\right| \\\\\n",
    "        &=& \\left| \\frac{1}{2} \\, \\ln\\frac{5- \\ln x}{2x}\\right|\n",
    "\\end{eqnarray*}\n",
    "\n",
    "Podemos ver que, si esta funcion no tuviera el valor absoluto ($h$), ser\\'ia una funci\\'on descendente en el rango $I$. Donde $h(a) = \\frac{ln(5/2)}{2} \\sim 0.45$, $h(b) = \\frac{\\, ln(5/6 - 1/6 \\, ln(3))}{2} \\sim -0.21$, por lo que el rango de la funci\\'on $d$ es $[0, 0.45]$. De esto vemos que el mayor _paso_ que podemos dar es de $0.45$. Suponemos que estamos trabajando en una maquina con $64 bits$ , por lo que el _epsilon_ de la maquina es del orden $\\epsilon_m \\sim e-16$\n",
    "\n",
    "Sabemos que la ra\\'iz de $f$ en  el intervalo $I$ es $\\sim 2.1234$. Adem\\'as, el valor m\\'as alejado de este es 1. Partiendo de $1$ necesitamos primero 3 iteraciones para llegar a $2.1$.\n",
    "\n",
    "Se necesitan m\\'as de 3 iteraciones.\n"
   ]
  },
  {
   "cell_type": "markdown",
   "metadata": {
    "hidden": true
   },
   "source": [
    "### Como ejecutar"
   ]
  },
  {
   "cell_type": "markdown",
   "metadata": {
    "hidden": true
   },
   "source": [
    "Este ejercicio no tendra implementaci\\'on en \\textbf{GoogleColab} porque no se requiere correr directamente.\n",
    "\n",
    "Para ejecutar este ejercicio en __consola__ es importante ubicarse en la misma carpeta del \n",
    "[archivo `Tarea2.py`](https://github.com/BenchHPZ/UG-Compu/blob/master/MN/Tareas/T2/Tarea2.py)\n",
    "y ejecutar el siguiente comando en consola\n",
    "```console\n",
    "python3 Tarea2.py Ejercicio1\n",
    "```\n",
    "Este programa no espera recibir argumento alguno."
   ]
  },
  {
   "cell_type": "markdown",
   "metadata": {
    "heading_collapsed": true
   },
   "source": [
    "## Ejercicio 2"
   ]
  },
  {
   "cell_type": "markdown",
   "metadata": {
    "hidden": true
   },
   "source": [
    "Explique como usar el __Teorema 1__, junto con alg\\'un m\\'etodo de c\\'alculo de ra\\'ices visto en clase para tratar de encontrar todas las ra\\'ices de un polinomio, adem\\'as mencione la conveniencia de usarlo en funci\\'on de $\\eta$.\n",
    "\n",
    "\\textbf{Teorema 1}. Todos los ceros del polinomio $p_n(x) = a_{n}x^{n} + a_{n-1}x^{n-1} +\\dots+ a_1x + a_0$ de grad $n$ est\\'an contenidos en el c\\'irculo $\\Omega$ del plano complejo definido por\n",
    "\\begin{equation*} \\Omega =\\{ z\\in\\mathbb C: |z| \\leq 1 + \\eta \\} \\quad\\text{con }\\eta = \\max_{0\\leq k\\leq n-1}\\left| \\frac{a_k}{a_n}\\right| \n",
    "\\end{equation*}\n"
   ]
  },
  {
   "cell_type": "markdown",
   "metadata": {
    "hidden": true
   },
   "source": [
    "__Respuesta__ Con inspiraci\\'on en el \\textit{ejercicio 4}, tratamos de encontrar una manera de usar el \\textbf{Teorema 1} con el \\textit{m\\'etodo de la secante}.\n",
    "\n",
    "De manera general podemos considerar que \\'unicamente nos interesan los puntos del circulo $\\Omega$ cuya parte imaginaria es $0$, esto porque estamos buscando ra\\'ices del polinomio en los $\\mathbb R$. De manera que, siendo $z$ un numero complejo, $z.r$ la parte su parte real y $z.i$ su parte imaginaria, tenemos que\n",
    "\\begin{eqnarray*}\n",
    "    |z| &\\leq& 1+ \\eta \\\\\n",
    "    \\sqrt{z.r^2 + z.i^2} &\\leq& 1+ \\eta \\\\\n",
    "    \\sqrt{z.r^2} &\\leq& 1+\\eta \\\\\n",
    "    |z.r| &\\leq& 1+\\eta\n",
    "\\end{eqnarray*}\n",
    "\n",
    "por lo que todos los $x$ del dominio de la funcion $f$ que sean ra\\'ices deben de estar en el intervalo $[-(1+\\eta), 1+\\eta]$. \n",
    "\n",
    "__Aqui podemos notar que, mientras m\\'as chico sea $\\eta$, habra menos valores donde debamos buscar las ra\\'ices__\n",
    "\n",
    "Para poder implementar esta idea con alg\\'un m\\'etodo, este requeriria ir encontrando las ra\\'ices en orden. Dicho de otra manera, un m\\'etodo que nos asegure encontrar la ra\\'iz m\\'as cercana que exista al punto inicial que le otorguemos. Esto nos permitiria poder explorar todo el intervalo creado por el \\textbf{Teorema 1} y encontrar todas las ra\\'ices del polinomio. "
   ]
  },
  {
   "cell_type": "markdown",
   "metadata": {},
   "source": [
    "## Ejercicio 3"
   ]
  },
  {
   "cell_type": "markdown",
   "metadata": {},
   "source": [
    "__Respuesta__"
   ]
  },
  {
   "cell_type": "code",
   "execution_count": null,
   "metadata": {
    "ExecuteTime": {
     "end_time": "2020-09-13T23:46:35.840823Z",
     "start_time": "2020-09-13T23:46:33.394Z"
    },
    "code_folding": [
     1,
     3,
     19,
     24,
     51,
     61,
     68,
     73
    ],
    "init_cell": true
   },
   "outputs": [],
   "source": [
    "# funcion, implementacion\n",
    "def metodo_secante(f, x0, x1, t, N,/, v=True, tDato=np.float64):\n",
    "    \"\"\" Implementacion del metodo de la secante. Pseudocodigo obtenido de las \n",
    "    notas de clase. Argumentos:\n",
    "        Input:\n",
    "            f := Funcion fx del metodo.\n",
    "            x0,x1 := Valores de los puntos iniciales.\n",
    "            t := Valor de la tolerancia del metodo.\n",
    "            N := Maximo numero de iteraciones.\n",
    "            [Opcionales]\n",
    "            v := [True] Indica si se desea imprimir los resultados \n",
    "                en pantalla.\n",
    "            tDato := [np.float64] Espera uno de los tipos de datos\n",
    "                de numpy para manejar la presicion dentro del metodo.\n",
    "        Output:\n",
    "            (xk, f(xk), k, res)\n",
    "            xk := Ultimo punto generado por el algoritmo\n",
    "            f(xk) := Valor del xk evaluado en f\n",
    "            k := Iteraciones realizadas\n",
    "            res := Variable formateada como se solicita\n",
    "                0 -> abs(fxk) < t\n",
    "                1 -> fxk - fxk1 casi cero\n",
    "                2 -> ninguna de los anteriores\n",
    "                \n",
    "    _Doctest\n",
    "        >>> metodo_secante((lambda x: x- 2*sin(x)), 1.1, 8.453, 1e-11, 10, False)\n",
    "        (1.895494267033981, 0.0, 7, 0)\n",
    "    \n",
    "    \"\"\"\n",
    "    td = tDato # tipo de dato a usar\n",
    "    # Inicializando variables\n",
    "    ret = None; t = td(t)\n",
    "    f0 = td(f(x0)); f1 = td(f(x1))\n",
    "    x0 = td(x0); x1 = td(x1)\n",
    "    \n",
    "    if v: t_x0=x0; t_x1=x1; t_f1=f1;\n",
    "    \n",
    "    if abs(f0) < t or abs(f1) < t:\n",
    "        ret = (x0 if abs(f0)<abs(f1) else x1, \n",
    "               f0 if abs(f0)<abs(f1) else f1, \n",
    "               0, 0)\n",
    "\n",
    "    else:\n",
    "        for k in range(1,N+1):\n",
    "            if v: print(f'k={k:3d} | xk={x1:9.6f} | f(xk)= {f1:14.7e}')\n",
    "            \n",
    "            with warnings.catch_warnings():\n",
    "                warnings.filterwarnings('error')\n",
    "                try:\n",
    "                    # Operacion principal\n",
    "                    temp = td(x1 - f1*(x1 - x0)/(f1 - f0))\n",
    "                except RuntimeWarning:\n",
    "                    ret = (x0 ,  # Regresmos raiz x0 antes de error \n",
    "                           f0 ,  # Regresamos evalucaion de raiz antes de error\n",
    "                           k-1,   # Con k iteraciones\n",
    "                           1)   # Terminamos por division de casi cero\n",
    "                    break  # Salimos del bucle\n",
    "            \n",
    "            x0, f0 = x1, f1            # Recorrer valores viejos\n",
    "            x1 = temp; f1 = td(f(x1))  # Guardar y calcular el nuevo valor\n",
    "            \n",
    "            if abs(f1) < t: # Verificar tolerancia\n",
    "                ret = (x1,  # Regresmos posible raiz x1 \n",
    "                       f1,  # Regresamos evalucaion de raiz\n",
    "                       k,   # Con k iteraciones\n",
    "                       0)   # Terminamos porque se alcanzo la tolerancia\n",
    "                break  # Salimos del bucle\n",
    "                \n",
    "        if ret == None:\n",
    "            ret = (x0 if abs(f0)<abs(f1) else x1,  # Regresamos la ultima posible raiz calculada\n",
    "                   f0 if abs(f0)<abs(f1) else f1, # Regresamos la evaluacion de la posible raiz\n",
    "                   k, 2)                # Iteracion k y terminacion por fin de bucle\n",
    "            \n",
    "    if v:\n",
    "        print('Resultado final \\n'\n",
    "              f'\\t x0={t_x0:7.4f}, \\n\\t '\n",
    "                 f'x1={t_x1:7.4f}, f(x1)= {t_f1:13.9e}, \\n\\t '\n",
    "                 f'k ={ret[2]:2d}, xk={ret[0]:6.4f}, f(xk)={ret[1]:8.4e}, \\n\\t '\n",
    "               f'res ={ret[-1]}')\n",
    "        \n",
    "    return ret\n",
    "\n",
    "# prueba, ejercicio de las notas de la clase 5\n",
    "#f = lambda x: x- 2*sin(x)\n",
    "#print(metodo_secante(f, 1.1, 8.453, 1e-11, 10, False))"
   ]
  },
  {
   "cell_type": "code",
   "execution_count": 8,
   "metadata": {
    "ExecuteTime": {
     "end_time": "2020-09-13T23:46:34.105258Z",
     "start_time": "2020-09-13T23:46:33.519599Z"
    },
    "code_folding": [
     6
    ]
   },
   "outputs": [
    {
     "name": "stdout",
     "output_type": "stream",
     "text": [
      "k=  1 | xk=15.000000 | f(xk)=  1.0686475e+13\n",
      "k=  2 | xk= 3.000000 | f(xk)=  3.9442879e+02\n",
      "k=  3 | xk= 3.000000 | f(xk)=  3.9442879e+02\n",
      "k=  4 | xk= 2.510548 | f(xk)=  1.4306670e+02\n",
      "k=  5 | xk= 2.231968 | f(xk)=  7.8596661e+01\n",
      "k=  6 | xk= 1.892347 | f(xk)=  3.6129816e+01\n",
      "k=  7 | xk= 1.603404 | f(xk)=  1.7096730e+01\n",
      "k=  8 | xk= 1.343858 | f(xk)=  7.3542093e+00\n",
      "k=  9 | xk= 1.147938 | f(xk)=  2.7851891e+00\n",
      "k= 10 | xk= 1.028508 | f(xk)=  7.9408843e-01\n",
      "k= 11 | xk= 0.980878 | f(xk)=  1.3092111e-01\n",
      "k= 12 | xk= 0.971474 | f(xk)=  7.8274317e-03\n",
      "k= 13 | xk= 0.970877 | f(xk)=  8.3965349e-05\n",
      "k= 14 | xk= 0.970870 | f(xk)=  5.4658317e-08\n",
      "Resultado final \n",
      "\t x0= 3.0000, \n",
      "\t x1=15.0000, f(x1)= 1.068647458e+13, \n",
      "\t k =14, xk=0.9709, f(xk)=3.8192e-13, \n",
      "\t res =0\n",
      "---------------------------------------------\n",
      "\n",
      "k=  1 | xk=-0.800000 | f(xk)=  4.1270510e+00\n",
      "k=  2 | xk=-1.007542 | f(xk)=  1.0377431e+00\n",
      "k=  3 | xk=-1.077258 | f(xk)=  2.0697954e+00\n",
      "k=  4 | xk=-0.937441 | f(xk)=  1.2562805e+00\n",
      "k=  5 | xk=-0.721527 | f(xk)=  5.4939572e+00\n",
      "k=  6 | xk=-1.001450 | f(xk)=  1.0060801e+00\n",
      "k=  7 | xk=-1.064202 | f(xk)=  1.7894625e+00\n",
      "k=  8 | xk=-0.920859 | f(xk)=  1.4799830e+00\n",
      "k=  9 | xk=-0.235364 | f(xk)= -8.6802909e-01\n",
      "k= 10 | xk=-0.488782 | f(xk)=  1.6385517e+00\n",
      "k= 11 | xk=-0.323123 | f(xk)= -1.6936284e+00\n",
      "k= 12 | xk=-0.407322 | f(xk)= -6.7040135e-01\n",
      "k= 13 | xk=-0.462487 | f(xk)=  8.1126572e-01\n",
      "k= 14 | xk=-0.432282 | f(xk)= -5.8181942e-02\n",
      "k= 15 | xk=-0.434304 | f(xk)= -3.8747730e-03\n",
      "k= 16 | xk=-0.434448 | f(xk)=  2.4348491e-05\n",
      "Resultado final \n",
      "\t x0=-0.7500, \n",
      "\t x1=-0.8000, f(x1)= 4.127050983e+00, \n",
      "\t k =16, xk=-0.4344, f(xk)=-9.9678e-09, \n",
      "\t res =0\n",
      "---------------------------------------------\n",
      "\n",
      "k=  1 | xk= 0.600000 | f(xk)=  5.4041950e-01\n",
      "k=  2 | xk=-0.103929 | f(xk)= -1.0355708e-01\n",
      "k=  3 | xk= 0.009269 | f(xk)=  9.2688075e-03\n",
      "k=  4 | xk=-0.000030 | f(xk)= -3.0298567e-05\n",
      "Resultado final \n",
      "\t x0= 0.5000, \n",
      "\t x1= 0.6000, f(x1)= 5.404195003e-01, \n",
      "\t k = 4, xk=0.0000, f(xk)=8.6485e-10, \n",
      "\t res =0\n",
      "---------------------------------------------\n",
      "\n",
      "k=  1 | xk= 2.800000 | f(xk)=  1.2277724e+00\n",
      "k=  2 | xk=-5.342829 | f(xk)= -1.3857703e+00\n",
      "k=  3 | xk=-1.025283 | f(xk)= -7.9788123e-01\n",
      "k=  4 | xk= 4.834477 | f(xk)=  1.3668253e+00\n",
      "k=  5 | xk= 1.134544 | f(xk)=  8.4834676e-01\n",
      "k=  6 | xk=-4.919372 | f(xk)= -1.3702509e+00\n",
      "k=  7 | xk=-1.180351 | f(xk)= -8.6792665e-01\n",
      "k=  8 | xk= 5.280012 | f(xk)=  1.3836198e+00\n",
      "k=  9 | xk= 1.309991 | f(xk)=  9.1879710e-01\n",
      "k= 10 | xk=-6.537395 | f(xk)= -1.4190068e+00\n",
      "k= 11 | xk=-1.774166 | f(xk)= -1.0575375e+00\n",
      "k= 12 | xk=12.161436 | f(xk)=  1.4887538e+00\n",
      "k= 13 | xk= 4.013633 | f(xk)=  1.3266170e+00\n",
      "k= 14 | xk=-62.652410 | f(xk)= -1.5548366e+00\n",
      "k= 15 | xk=-26.679316 | f(xk)= -1.5333316e+00\n",
      "k= 16 | xk=2538.249192 | f(xk)=  1.5704024e+00\n",
      "k= 17 | xk=1240.467304 | f(xk)=  1.5699902e+00\n",
      "k= 18 | xk=-4942056.218483 | f(xk)= -1.5707961e+00\n",
      "k= 19 | xk=-2469773.635260 | f(xk)= -1.5707959e+00\n",
      "k= 20 | xk=19172755786885.507812 | f(xk)=  1.5707963e+00\n",
      "k= 21 | xk=9586375423042.201172 | f(xk)=  1.5707963e+00\n",
      "k= 22 | xk=-288580144149777399511252992.000000 | f(xk)= -1.5707963e+00\n",
      "k= 23 | xk=-144290072074879130568491008.000000 | f(xk)= -1.5707963e+00\n",
      "Resultado final \n",
      "\t x0= 2.0000, \n",
      "\t x1= 2.8000, f(x1)= 1.227772386e+00, \n",
      "\t k =22, xk=-288580144149777399511252992.0000, f(xk)=-1.5708e+00, \n",
      "\t res =1\n",
      "---------------------------------------------\n",
      "\n",
      "[(0.9708700202758297, 3.8191672047105385e-13, 14, 0), (-0.43444687459757464, -9.967753733519658e-09, 16, 0), (8.648514335884798e-10, 8.648514335884798e-10, 4, 0), (-2.885801441497774e+26, -1.5707963267948966, 22, 1)]\n"
     ]
    }
   ],
   "source": [
    "# Ejercicio\n",
    "\"\"\" En el diccionario 'funciones' se guardan cada uno de los incisos de \n",
    "la parte 3 del ejercicio, esto se hace en el formato [f,x0,x1]. Donde f\n",
    "es la funcion en formato lambda y x0,x1 son los puntos iniciales del me_\n",
    "todo.\n",
    "\"\"\"\n",
    "def Ejercicio3(v=True):\n",
    "    ret = []\n",
    "    \n",
    "    funciones = {\n",
    "        'a': [(lambda x: exp(2*x)-x-6), 3, 15],\n",
    "        'b': [(lambda x: 3*cos(3*pi*x) - 4*x), -0.75, -0.8],\n",
    "        'c': [(lambda x: atan(x)), 0.5, 0.6],\n",
    "        'd': [(lambda x: atan(x)), 2.0, 2.8]\n",
    "    }\n",
    "    t = 2.220446049250313e-16**(1/2) # Tolerancia obtenida de la Tarea1\n",
    "    N = 30  # Por iluminacion divina\n",
    "\n",
    "    for f, x0, x1 in funciones.values():\n",
    "        ret.append( metodo_secante(f, x0, x1, t, N, v=v) )\n",
    "        if v: print('-'*45 + '\\n')\n",
    "        \n",
    "    return ret\n",
    "\n",
    "print(Ejercicio3())"
   ]
  },
  {
   "cell_type": "markdown",
   "metadata": {
    "heading_collapsed": true
   },
   "source": [
    "### Como ejecutar"
   ]
  },
  {
   "cell_type": "markdown",
   "metadata": {
    "hidden": true
   },
   "source": [
    "[GoogleColab](https://colab.research.google.com/gist/BenchHPZ/.../---.ipynb)\n",
    "<a href=\"https://colab.research.google.com/gist/BenchHPZ/.../---.ipynb\">\n",
    "    <img src=\"../../../assets/colab-badge.svg\" \n",
    "         alt=\"Open In Colab\"/>\n",
    "</a>\n",
    "\n",
    "Para ejecutar este ejercicio en __consola__ es importante ubicarse en la misma carpeta del \n",
    "[archivo `Tarea2.py`](https://github.com/BenchHPZ/UG-Compu/blob/master/MN/Tareas/T2/Tarea2.py)\n",
    "y ejecutar el siguiente comando en consola\n",
    "```console\n",
    "python3 Tarea2.py Ejercicio3\n",
    "```\n",
    "Este programa no espera recibir argumento alguno. La salida debe ser similar a la siguiente imagen\n",
    "\n",
    "![Evidencia Ejecucion](assets/E3-1.png)"
   ]
  },
  {
   "cell_type": "markdown",
   "metadata": {},
   "source": [
    "## Ejercicio 4"
   ]
  },
  {
   "cell_type": "markdown",
   "metadata": {},
   "source": [
    "__Respuesta__ Es posible que este metodo encuentre puntos que no corresponden a las raices, pero estos son facilmente identificables en la grafica. Este error se da porque no se filtra el resultado res del metodo de la secante."
   ]
  },
  {
   "cell_type": "code",
   "execution_count": null,
   "metadata": {
    "ExecuteTime": {
     "end_time": "2020-09-13T23:46:35.841801Z",
     "start_time": "2020-09-13T23:46:33.400Z"
    },
    "code_folding": [
     1,
     5,
     19,
     25
    ],
    "init_cell": true
   },
   "outputs": [],
   "source": [
    "# funcion, implementacion\n",
    "def f_polinomio(coef):\n",
    "    \"\"\" Funcion que genera una funcion polinomial de una \n",
    "    variable dados sus coeficientes\n",
    "    \n",
    "    _Doctest\n",
    "        >>> (f_polinomio([1,0,0]))(2)\n",
    "        4\n",
    "        \n",
    "        >>> (f_polinomio([1,0]))(123)\n",
    "        123\n",
    "    \"\"\"\n",
    "    grado = len(coef)-1\n",
    "    \n",
    "    def f(x):\n",
    "        return sum([coef[n]*x**(grado-n) for n in range(grado+1)])\n",
    "        \n",
    "    return f\n",
    "####\n",
    "def eta_Teorema1(coef):\n",
    "    \"\"\" Funcion que calcula la variable eta del \n",
    "    Teorema 1\n",
    "    \"\"\"\n",
    "    return max([abs(ak/coef[0]) for ak in coef[1:]])\n",
    "####\n",
    "def Teorema1(f, eta,/, metodo=metodo_secante):\n",
    "    \"\"\" Impementacion de los conceptos del Teorema 1. \n",
    "        \n",
    "        _Doctest\n",
    "    \"\"\"\n",
    "    t = 2.220446049250313e-16**(1/2) # Tolerancia obtenida de la Tarea 1\n",
    "    p = 1.0e-2 # Paso entre pruebas; definido arbitrariamente en funcio de la visualizacion de la grafica\n",
    "    N = 40     # Por iluminacion divina\n",
    "\n",
    "    I = [-int(eta+1), int(eta+1)] # Limite proporcionado por el Teorema 1\n",
    "    r_min = metodo(f, I[0], I[0]+2, t, N, False)[0] # Calculamos la raiz mas chica\n",
    "    r_max = metodo(f, I[1]-2, I[1], t, N, False)[0] # Calculamos la raiz mas grande\n",
    "    \n",
    "    ret = [r_min] # Inicializamos la lista de raices y agregamos la menor\n",
    "    \n",
    "    if not (r_max <= r_min): # En caso de que sean distintas buscamos mas\n",
    "        xk = r_min+p\n",
    "        fa = f(r_min+p) # Evaluacion de raiz anterior\n",
    "        \n",
    "        while xk < r_max: # iteramos hasta llegar a la raiz maxima encontrada\n",
    "            xk += p # Avanzamos un paso entre rmin y rmax\n",
    "            if f(xk)*fa < 0:  # Buscamos un cambio de signo\n",
    "                ret.append(metodo(f, xk-p, xk, t, N, False)[0]) # agregamos nueva raiz encontrada\n",
    "                fa = f(xk) # Actualizamos valor de referencia para cambio de signo\n",
    "        \n",
    "        ret.append(r_max) # Agregamos la mas grande\n",
    "    \n",
    "    return ret"
   ]
  },
  {
   "cell_type": "code",
   "execution_count": 10,
   "metadata": {
    "ExecuteTime": {
     "end_time": "2020-09-13T23:46:35.058214Z",
     "start_time": "2020-09-13T23:46:34.447950Z"
    },
    "code_folding": []
   },
   "outputs": [
    {
     "data": {
      "image/png": "[encoded data removed]",
      "text/plain": [
       "<Figure size 432x288 with 1 Axes>"
      ]
     },
     "metadata": {
      "needs_background": "light"
     },
     "output_type": "display_data"
    },
    {
     "data": {
      "text/plain": [
       "[-2.5000000000005103, 2.666666666666667, 3.9999999999994396, 4.000000000000094]"
      ]
     },
     "execution_count": 10,
     "metadata": {},
     "output_type": "execute_result"
    }
   ],
   "source": [
    "# ejercicio\n",
    "def Ejercicio4():\n",
    "    coef = [6, -25, -24, 110, -72, 320]\n",
    "\n",
    "    eta = eta_Teorema1(coef)\n",
    "    f = f_polinomio(coef)\n",
    "\n",
    "    raices = Teorema1(f, eta)\n",
    "\n",
    "\n",
    "    \"\"\" Grafica del resultado\"\"\"\n",
    "    fig, ax = plt.subplots()  # Inicializar la grafica\n",
    "\n",
    "    ls = np.arange(raices[0] -2.0, # r min\n",
    "                   raices[-1]+2.0, # r max\n",
    "                   0.01)\n",
    "    ax.plot(ls, [f(x) for x in ls], label='Polinomio f(x)')   # Graficar la funcion\n",
    "    plt.plot(raices, [f(r) for r in raices], 'rx', label='Raices') # Graficar las raices\n",
    "\n",
    "    ax.set(xlabel='x', ylabel='f(x)', title='Grafica ejercicio 4')\n",
    "    # Para mejorar visualizacion\n",
    "    plt.axis([raices[0] -2.0, # r min \n",
    "              raices[-1]+2.0, # r max\n",
    "              -4000, 4000])   # Arbitrario para limites en y\n",
    "\n",
    "    plt.legend() # Mostrar leyenda de graficos mostrados\n",
    "    ax.grid(True) # Mostrar etiquetas de graficas\n",
    "    ax.axhline(y=0, color='k') # Eje y\n",
    "    ax.axvline(x=0, color='k') # Eje x\n",
    "\n",
    "    plt.show()\n",
    "    \n",
    "    return raices\n",
    "    \n",
    "Ejercicio4()"
   ]
  },
  {
   "cell_type": "markdown",
   "metadata": {
    "heading_collapsed": true
   },
   "source": [
    "### Como ejecutar"
   ]
  },
  {
   "cell_type": "markdown",
   "metadata": {
    "hidden": true
   },
   "source": [
    "[GoogleColab](https://colab.research.google.com/gist/BenchHPZ/.../---.ipynb)\n",
    "<a href=\"https://colab.research.google.com/gist/BenchHPZ/.../---.ipynb\">\n",
    "    <img src=\"../../../assets/colab-badge.svg\" \n",
    "         alt=\"Open In Colab\"/>\n",
    "</a>\n",
    "\n",
    "Para ejecutar este ejercicio en __consola__ es importante ubicarse en la misma carpeta del \n",
    "[archivo `Tarea2.py`](https://github.com/BenchHPZ/UG-Compu/blob/master/MN/Tareas/T2/Tarea2.py)\n",
    "y ejecutar el siguiente comando en consola\n",
    "```console\n",
    "python3 Tarea2.py Ejercicio4\n",
    "```\n",
    "Este programa no espera recibir argumento alguno. La salida debe ser similar a la siguiente imagen\n",
    "\n",
    "![Evidencia Ejecucion](assets/E4-1.png)"
   ]
  },
  {
   "cell_type": "markdown",
   "metadata": {},
   "source": [
    "## Ejercicio 5"
   ]
  },
  {
   "cell_type": "markdown",
   "metadata": {},
   "source": [
    "__Respuesta__"
   ]
  },
  {
   "cell_type": "code",
   "execution_count": null,
   "metadata": {
    "ExecuteTime": {
     "end_time": "2020-09-13T23:46:35.842917Z",
     "start_time": "2020-09-13T23:46:33.402Z"
    },
    "code_folding": [
     4,
     8,
     13
    ],
    "init_cell": true
   },
   "outputs": [],
   "source": [
    "# funcion, implementacion\n",
    "def metodo_horner(n, a, x0,/,v=True, td=np.float64):\n",
    "    \"\"\" Implementacion del metodo de horner, basado\n",
    "    en el pseudocodigo del documento de la tarea.\n",
    "        Input\n",
    "            n := Grado del polinomio\n",
    "            a := Arreglo de coeficientes\n",
    "            x0 := Punto inicial del metodo\n",
    "        Output\n",
    "            (y, b)\n",
    "            y := evaluacion final\n",
    "            b := coeficientes de polinomio asociado\n",
    "    \n",
    "    _Doctest\n",
    "        >>> 0\n",
    "        0\n",
    "    \"\"\"\n",
    "    x0 = td(x0)\n",
    "    a = [td(c) for c in a] # Normalizar el tipo de dato\n",
    "    b = a[:]               # Reservar memoria xP\n",
    "    \n",
    "    for k in range(1,n):\n",
    "        b[k] = a[k] - b[k-1]*x0\n",
    "    return a[-1]-b[-2]*x0"
   ]
  },
  {
   "cell_type": "code",
   "execution_count": 12,
   "metadata": {
    "ExecuteTime": {
     "end_time": "2020-09-13T23:46:35.554206Z",
     "start_time": "2020-09-13T23:46:35.066313Z"
    },
    "code_folding": [
     1
    ]
   },
   "outputs": [
    {
     "name": "stdout",
     "output_type": "stream",
     "text": [
      "k=  0\n",
      "  px= 2835.000000 | dif_p=-30780.000000\n",
      " dpx= 2835.000000 | dif_d=25443.000000\n",
      "k=  1\n",
      "  px=  788.425780 | dif_p=-16561.514891\n",
      " dpx=  788.425780 | dif_d=17684.557377\n",
      "k=  2\n",
      "  px=  -45.844732 | dif_p=-7979.828634\n",
      " dpx=  -45.844732 | dif_d=11417.915526\n",
      "k=  3\n",
      "  px= -212.626585 | dif_p=-3208.668531\n",
      " dpx= -212.626585 | dif_d= 6658.427630\n",
      "k=  4\n",
      "  px=  -84.690012 | dif_p= -857.931844\n",
      " dpx=  -84.690012 | dif_d= 3304.650249\n",
      "k=  5\n",
      "  px=  108.161574 | dif_p=   84.470201\n",
      " dpx=  108.161574 | dif_d= 1167.421318\n",
      "k=  6\n",
      "  px=  250.013584 | dif_p=  310.768406\n",
      " dpx=  250.013584 | dif_d=   -1.061857\n",
      "k=  7\n",
      "  px=  309.762253 | dif_p=  251.491600\n",
      " dpx=  309.762253 | dif_d= -478.164598\n",
      "k=  8\n",
      "  px=  312.036645 | dif_p=  133.622630\n",
      " dpx=  312.036645 | dif_d= -541.736862\n",
      "k=  9\n",
      "  px=  308.120655 | dif_p=   38.754355\n",
      " dpx=  308.120655 | dif_d= -441.035243\n",
      "k= 10\n",
      "  px=  346.875010 | dif_p=  -38.754355\n",
      " dpx=  346.875010 | dif_d= -367.644970\n",
      "k= 11\n",
      "  px=  445.659275 | dif_p= -133.622630\n",
      " dpx=  445.659275 | dif_d= -426.401918\n",
      "k= 12\n",
      "  px=  561.253853 | dif_p= -251.491600\n",
      " dpx=  561.253853 | dif_d= -606.314603\n",
      "k= 13\n",
      "  px=  560.781990 | dif_p= -310.768406\n",
      " dpx=  560.781990 | dif_d= -751.486190\n",
      "k= 14\n",
      "  px=  192.631775 | dif_p=  -84.470201\n",
      " dpx=  192.631775 | dif_d= -532.036491\n",
      "k= 15\n",
      "  px= -942.621856 | dif_p=  857.931844\n",
      " dpx= -942.621856 | dif_d=  584.976028\n",
      "k= 16\n",
      "  px=-3421.295116 | dif_p= 3208.668531\n",
      " dpx=-3421.295116 | dif_d= 3364.632245\n",
      "k= 17\n",
      "  px=-8025.673366 | dif_p= 7979.828634\n",
      " dpx=-8025.673366 | dif_d= 8833.230383\n",
      "k= 18\n",
      "  px=-15773.089111 | dif_p=16561.514891\n",
      " dpx=-15773.089111 | dif_d=18307.364002\n",
      "k= 19\n",
      "  px=-27945.000000 | dif_p=30780.000000\n",
      " dpx=-27945.000000 | dif_d=33423.000000\n",
      "\n",
      "---FIN---\n",
      "Ep=6020.705109125281 | Ed=6716.752874460997\n",
      "(6020.705109125281, 6716.752874460997)\n"
     ]
    }
   ],
   "source": [
    "# ejercicio\n",
    "def Ejercicio5(v=True):\n",
    "    \"\"\" Ejercicio 6 de Tarea 2\"\"\"\n",
    "    dt = np.float64\n",
    "\n",
    "    coef = [6, -25, -24, 110, -72, 320]\n",
    "    coef_dx = [30, -100, -72, 220, -72]\n",
    "    muestras = 20\n",
    "    \n",
    "    Ep = 0; Ed = 0\n",
    "    xs = np.linspace(-5, 5, num=muestras, dtype=dt)\n",
    "    \n",
    "    f = f_polinomio(coef)\n",
    "    df = f_polinomio(coef_dx)\n",
    "    \n",
    "    for k in range(20):\n",
    "        px  = metodo_horner(len(coef), coef, xs[k])\n",
    "        dpx = metodo_horner(len(coef)-1, coef, xs[k])\n",
    "        \n",
    "        dif_p = (f(xs[k]) - px)\n",
    "        dif_d = (df(xs[k]) - dpx)\n",
    "        \n",
    "        Ep += abs(dif_p)\n",
    "        Ed += abs(dif_d)\n",
    "        if v: print(f'k={k:3d}\\n  px={px:12.6f} | dif_p={dif_p:12.6f}'\n",
    "                           f'\\n dpx={dpx:12.6f} | dif_d={dif_d:12.6f}')\n",
    "        \n",
    "    if v: print(f'\\n---FIN---\\n'\n",
    "                f'Ep={Ep/20} | Ed={Ed/20}')\n",
    "    \n",
    "    return (Ep/20, Ed/20)\n",
    "\n",
    "print(Ejercicio5())"
   ]
  },
  {
   "cell_type": "code",
   "execution_count": 13,
   "metadata": {
    "ExecuteTime": {
     "end_time": "2020-09-13T23:46:35.672677Z",
     "start_time": "2020-09-13T23:46:35.555759Z"
    },
    "code_folding": [
     2,
     7
    ]
   },
   "outputs": [],
   "source": [
    "# alternativas\n",
    "\"\"\" Alternativa a np.linspace\"\"\"\n",
    "def linspace(start, stop, n):\n",
    "    \"\"\" Programa que entrega un arreglo de numeros\n",
    "    equitativamnte espaciado de n elementos empe_\n",
    "    zando en start y hasta stop.\n",
    "    \n",
    "    _Doctest\n",
    "        >>> linspace(-5,5,3)\n",
    "        [-5.0, 0.0, 5.0]\n",
    "    \"\"\"\n",
    "    step = (stop-start)/(n-1)\n",
    "    return [start+step*(i) for i in range(n)]"
   ]
  },
  {
   "cell_type": "markdown",
   "metadata": {},
   "source": [
    "### Ejercicio 5"
   ]
  },
  {
   "cell_type": "markdown",
   "metadata": {},
   "source": [
    "[GoogleColab](https://colab.research.google.com/gist/BenchHPZ/.../---.ipynb)\n",
    "<a href=\"https://colab.research.google.com/gist/BenchHPZ/.../---.ipynb\">\n",
    "    <img src=\"../../../assets/colab-badge.svg\" \n",
    "         alt=\"Open In Colab\"/>\n",
    "</a>\n",
    "\n",
    "Para ejecutar este ejercicio en __consola__ es importante ubicarse en la misma carpeta del \n",
    "[archivo `Tarea2.py`](https://github.com/BenchHPZ/UG-Compu/blob/master/MN/Tareas/T2/Tarea2.py)\n",
    "y ejecutar el siguiente comando en consola\n",
    "```console\n",
    "python3 Tarea2.py Ejercicio5\n",
    "```\n",
    "Este programa no espera recibir argumento alguno. La salida debe ser similar a la siguiente imagen\n",
    "\n",
    "![Evidencia Ejecucion](assets/E5-1.png)"
   ]
  },
  {
   "cell_type": "code",
   "execution_count": null,
   "metadata": {},
   "outputs": [],
   "source": []
  }
 ],
 "metadata": {
  "author": "",
  "hide_input": false,
  "kernelspec": {
   "display_name": "MN-env",
   "language": "python",
   "name": "mn-env"
  },
  "language_info": {
   "codemirror_mode": {
    "name": "ipython",
    "version": 3
   },
   "file_extension": ".py",
   "mimetype": "text/x-python",
   "name": "python",
   "nbconvert_exporter": "python",
   "pygments_lexer": "ipython3",
   "version": "3.8.2"
  },
  "latex_envs": {
   "LaTeX_envs_menu_present": true,
   "autoclose": false,
   "autocomplete": true,
   "bibliofile": "biblio.bib",
   "cite_by": "apalike",
   "current_citInitial": 1,
   "eqLabelWithNumbers": true,
   "eqNumInitial": 1,
   "hotkeys": {
    "equation": "Ctrl-E",
    "itemize": "Ctrl-I"
   },
   "labels_anchors": false,
   "latex_user_defs": false,
   "report_style_numbering": false,
   "user_envs_cfg": false
  },
  "toc": {
   "base_numbering": 1,
   "nav_menu": {},
   "number_sections": true,
   "sideBar": true,
   "skip_h1_title": true,
   "title_cell": "Indice",
   "title_sidebar": "Contenido",
   "toc_cell": false,
   "toc_position": {},
   "toc_section_display": true,
   "toc_window_display": false
  },
  "varInspector": {
   "cols": {
    "lenName": 16,
    "lenType": 16,
    "lenVar": 40
   },
   "kernels_config": {
    "python": {
     "delete_cmd_postfix": "",
     "delete_cmd_prefix": "del ",
     "library": "var_list.py",
     "varRefreshCmd": "print(var_dic_list())"
    },
    "r": {
     "delete_cmd_postfix": ") ",
     "delete_cmd_prefix": "rm(",
     "library": "var_list.r",
     "varRefreshCmd": "cat(var_dic_list()) "
    }
   },
   "position": {
    "height": "576.85px",
    "left": "1483px",
    "right": "20px",
    "top": "150px",
    "width": "350px"
   },
   "types_to_exclude": [
    "module",
    "function",
    "builtin_function_or_method",
    "instance",
    "_Feature"
   ],
   "window_display": false
  }
 },
 "nbformat": 4,
 "nbformat_minor": 4
}
