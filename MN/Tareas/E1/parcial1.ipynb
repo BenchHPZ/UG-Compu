{
 "cells": [
  {
   "cell_type": "markdown",
   "metadata": {
    "ExecuteTime": {
     "end_time": "2020-10-22T21:56:43.973585Z",
     "start_time": "2020-10-22T21:56:43.963116Z"
    }
   },
   "source": [
    "# Examen 1\n",
    "\n",
    "Notebook correspondiente al primer parcial de Metodos Numericos"
   ]
  },
  {
   "cell_type": "code",
   "execution_count": 20,
   "metadata": {
    "ExecuteTime": {
     "end_time": "2020-10-23T01:03:24.664777Z",
     "start_time": "2020-10-23T01:03:24.659860Z"
    },
    "init_cell": true
   },
   "outputs": [],
   "source": [
    "from helper import *\n",
    "\n",
    "import sys\n",
    "import scipy\n",
    "\n",
    "import matplotlib.pyplot as plt\n",
    "import numpy as np\n",
    "import seaborn as sns\n",
    "\n",
    "from math import *\n",
    "from scipy.linalg import solve_triangular\n",
    "\n",
    "NOTEBOOK = True"
   ]
  },
  {
   "cell_type": "markdown",
   "metadata": {},
   "source": [
    "## Ejercicio 1\n",
    "\n",
    "Usando los códigos de la __Tarea2__, escriba un programa que trate de obtener todas las raı́ces reales del polinomio mediante lo que se conoce como el método de Newton-Horner."
   ]
  },
  {
   "cell_type": "code",
   "execution_count": 2,
   "metadata": {
    "ExecuteTime": {
     "end_time": "2020-10-23T00:57:34.019947Z",
     "start_time": "2020-10-23T00:57:33.979836Z"
    },
    "code_folding": []
   },
   "outputs": [],
   "source": [
    "\n",
    "def metodo_newton_horner(n, a, x0, N, t=None, dtype=np.float64):\n",
    "        \n",
    "    c = np.copy(a)\n",
    "    r = np.zeros(n, dtype=dtype)\n",
    "    retm = 0\n",
    "    \n",
    "    for m in range(n):\n",
    "        x = x0\n",
    "        res = False\n",
    "        for k in range(N):\n",
    "            px, b = metodo_horner(n-m+1, c, x, \n",
    "                                  dtype=dtype)\n",
    "            if abs(px) < t:\n",
    "                r[m-1] = x\n",
    "                c = np.copy(b)\n",
    "                res = True\n",
    "                break\n",
    "            else:\n",
    "                dpx, b = metodo_horner(n-m, b, x, \n",
    "                                       dtype=dtype)\n",
    "                x = x - px/dpx\n",
    "        \n",
    "        if res == False:\n",
    "            break\n",
    "        retm += 1\n",
    "    print(b)\n",
    "    return r, retm\n",
    "\n"
   ]
  },
  {
   "cell_type": "code",
   "execution_count": 3,
   "metadata": {
    "ExecuteTime": {
     "end_time": "2020-10-23T00:57:34.114797Z",
     "start_time": "2020-10-23T00:57:34.024676Z"
    }
   },
   "outputs": [],
   "source": [
    "\"\"\"  Entonces el m altera el movimiento en el bucle????   \"\"\"\n",
    "def Algoritmo2(n, a, x0, t, N, dtype=np.float64):\n",
    "    \n",
    "    c = np.copy(a)\n",
    "    r = np.zeros(n)\n",
    "    \n",
    "    m=0\n",
    "    while m < (n):\n",
    "        x = x0\n",
    "        res = False\n",
    "        for k in range(N):\n",
    "            px, b = metodo_horner(n-m+1, c, x,\n",
    "                                  dtype=dtype)\n",
    "            if abs(px) < t:\n",
    "                r[m-1] = x\n",
    "                c = np.copy(b)\n",
    "                res = True\n",
    "                break\n",
    "            else:\n",
    "                dpx, b = metodo_horner(n-m, b, x,\n",
    "                                       dtype=dtype)\n",
    "                x = x- px/dpx\n",
    "                \n",
    "        if res == False:\n",
    "            m = m-1\n",
    "            break\n",
    "        m +=1\n",
    "        print(k)\n",
    "        \n",
    "    return r, m"
   ]
  },
  {
   "cell_type": "code",
   "execution_count": 4,
   "metadata": {
    "ExecuteTime": {
     "end_time": "2020-10-23T00:57:34.212139Z",
     "start_time": "2020-10-23T00:57:34.118940Z"
    }
   },
   "outputs": [
    {
     "name": "stdout",
     "output_type": "stream",
     "text": [
      "299\n",
      "0\n",
      "0\n",
      "0\n",
      "0\n",
      "Encontramos 5 raices, las que son \n",
      "[ 0.  0.  0.  0. 10.]\n"
     ]
    }
   ],
   "source": [
    "def Ejercicio1():\n",
    "    dtype = np.float64\n",
    "\n",
    "    coef = [1/5, 3, 101/20, -129/2, -483/4, 585/2]\n",
    "    coef = np.array(coef, dtype=dtype, copy=True)\n",
    "    \n",
    "    x0 = 0\n",
    "    T = (np.finfo(dtype).eps)**(1/2)\n",
    "    N = 500\n",
    "    \n",
    "    ## Probado con Algoritmo2 y con metodo_newton_horner\n",
    "    r, m = Algoritmo2(5, coef, x0, T, N, dtype=dtype)\n",
    "    \n",
    "    if True:\n",
    "        print(f'Encontramos {m} raices, las que son ', end='')\n",
    "        print(show1D(r))\n",
    "        print(r)\n",
    "        \n",
    "        mi = min(r); ma = max(r);\n",
    "        intervalo = np.linspace(mi-0.5, ma+0.5, \n",
    "                                endpoint=True)        \n",
    "Ejercicio1()"
   ]
  },
  {
   "cell_type": "markdown",
   "metadata": {
    "ExecuteTime": {
     "end_time": "2020-10-22T23:44:46.956232Z",
     "start_time": "2020-10-22T23:44:46.925068Z"
    }
   },
   "source": [
    "### No funciona y no se porque"
   ]
  },
  {
   "cell_type": "markdown",
   "metadata": {},
   "source": [
    "## Ejercicio 2\n",
    "\n",
    "Me embobe en el anterior porque pense que estaba muy simple, pra cuando me di cuenta el profesor ya habian pasado 2:45 hrs. Por eso no acabe este."
   ]
  },
  {
   "cell_type": "code",
   "execution_count": null,
   "metadata": {},
   "outputs": [],
   "source": []
  },
  {
   "cell_type": "code",
   "execution_count": 5,
   "metadata": {
    "ExecuteTime": {
     "end_time": "2020-10-23T00:57:34.280793Z",
     "start_time": "2020-10-23T00:57:34.219245Z"
    }
   },
   "outputs": [],
   "source": [
    "# Parte 3\n",
    "# Solucion de minimos cuadrados\n",
    "\n",
    "def minimosCuadrados(A, b,/, dtype=np.float64):\n",
    "    \"\"\" Funcion que calcula la solucion de minimos cuadrados.\n",
    "    \n",
    "    Funcion que calcula la solucion de minimos cuadrado. Para\n",
    "    esto se basa de funciones ya implementadas para calcular\n",
    "    A^t@A y A^tb, para luego calcular la solucion del sitema\n",
    "    A^t@Ax = A^tb con fact de Cholesky.\n",
    "    \n",
    "    La funcion devuelve la solucion del sistema x si se encontro\n",
    "    y None en caso de que no se haya encontrado.\n",
    "    \n",
    "    A pesar de que la funcion tambien pide que se pasen las\n",
    "    dimensiones de las matrices, la forma pythonica no lo \n",
    "    requiere; por lo que seran obtenidas dentro del metodo.\n",
    "    \n",
    "    Input:\n",
    "        A := apuntador a matriz A\n",
    "        b := apuntador a vector b\n",
    "        \n",
    "    Output:\n",
    "        x := si existe sus valors; None en otro caso\n",
    "    \"\"\"\n",
    "    x = np.zeros((A.shape[0],1))\n",
    "        \n",
    "    At = A.transpose()@A\n",
    "    yt = A.transpose()*b\n",
    "    \n",
    "    return solChol(At, At.shape[0], yt)"
   ]
  },
  {
   "cell_type": "code",
   "execution_count": 18,
   "metadata": {
    "ExecuteTime": {
     "end_time": "2020-10-23T01:03:16.679005Z",
     "start_time": "2020-10-23T01:03:16.663262Z"
    }
   },
   "outputs": [],
   "source": [
    "\n",
    "def Ejercicio1(d, n_tabla, n,/,path='datos/', dtype=np.float64, plot=True, prnt=True, ask=True):\n",
    "    # Cargar datos\n",
    "    tabla = np.load(path+n_tabla, allow_pickle=False)\n",
    "\n",
    "    info = {'minx': min(tabla[0,:]),\n",
    "            'maxx': max(tabla[1,:])}\n",
    "    # Valores obtenidos\n",
    "    x = np.ravel(tabla[0,:])\n",
    "    y = np.ravel(tabla[1,:])\n",
    "    rng = np.linspace(info['minx'], info['maxx'], num=d)\n",
    "    \n",
    "    T = ceil(info['maxx'])\n",
    "    nf = T-1\n",
    "    def fk(k):\n",
    "        return k/T\n",
    "    \n",
    "    \n",
    "    if plot and ask: \n",
    "        plot_ej1_1(x,y)\n",
    "        try:\n",
    "            print(f\"Seguro que quieres usar grado {n} para aproximar?\")\n",
    "            inp = input(\"[S para mantener]: \").lower().strip()\n",
    "\n",
    "            if not inp.startswith('s'):\n",
    "                n = int(inp)\n",
    "        finally:\n",
    "            if prnt: print(f'n={n}')\n",
    "\n",
    "            \n",
    "    \n",
    "    sz = len(x)\n",
    "    if n < sz:\n",
    "        # Crear matriz a\n",
    "        A = np.ones((sz, 2*n+1), \n",
    "                    dtype=dtype)\n",
    "        for i in range(1,n):\n",
    "            A[0,i] = 1 # Por el c0\n",
    "            for k in range(sz):\n",
    "                \"\"\" Debemos asignar a los elementos \n",
    "                    A[k,i] la expresion de sale del desarrollo\n",
    "                \"\"\"\n",
    "                x = [k,i]\n",
    "                A[k,2*i-1] = cos(2*pi*fk(i))*x\n",
    "                A[k,2*i]   = sin(2*pi*fk(i))*x\n",
    "        # vector y\n",
    "        b = np.matrix(tabla[1,:]).transpose()\n",
    "\n",
    "        coef = minimosCuadrados(A, b)\n",
    "        p = f_polinomio(coef)\n",
    "        write2Dvec(path+'resp-'+n_tabla, x, [p(xi) for xi in x])\n",
    "\n",
    "        if plot: \n",
    "            plot_ej1_2(x, y, p, rng)\n",
    "        if prnt:\n",
    "            print(f'Se encontraron los coeficientes')\n",
    "            print('\\t'+show1D(coef, show=False))\n",
    "            print(f'Error = {error_ej1(p, x, y)}')\n",
    "    else:\n",
    "        raise Exception(\"Sistema indeterminado\")"
   ]
  },
  {
   "cell_type": "code",
   "execution_count": 23,
   "metadata": {
    "ExecuteTime": {
     "end_time": "2020-10-23T01:05:14.239731Z",
     "start_time": "2020-10-23T01:05:14.236951Z"
    }
   },
   "outputs": [],
   "source": [
    "\"\"\"\n",
    "No corre, pero asi se ejecutaria en caso de qe si\n",
    "\n",
    "# Parte 5\n",
    "if NOTEBOOK:\n",
    "    Ejercicio1(50, 'caso1.npy', 2)\"\"\"\n",
    "None"
   ]
  },
  {
   "cell_type": "markdown",
   "metadata": {},
   "source": [
    "# Comentario\n",
    "\n",
    "Mejor dejelo como examen tarea, esto es damasiada presion xD\n",
    "\n",
    "Entrego porque se acabo el tiempo."
   ]
  },
  {
   "cell_type": "code",
   "execution_count": null,
   "metadata": {},
   "outputs": [],
   "source": []
  },
  {
   "cell_type": "code",
   "execution_count": null,
   "metadata": {},
   "outputs": [],
   "source": []
  }
 ],
 "metadata": {
  "hide_input": false,
  "kernelspec": {
   "display_name": "MN-env",
   "language": "python",
   "name": "mn-env"
  },
  "language_info": {
   "codemirror_mode": {
    "name": "ipython",
    "version": 3
   },
   "file_extension": ".py",
   "mimetype": "text/x-python",
   "name": "python",
   "nbconvert_exporter": "python",
   "pygments_lexer": "ipython3",
   "version": "3.8.5"
  },
  "latex_envs": {
   "LaTeX_envs_menu_present": true,
   "autoclose": false,
   "autocomplete": true,
   "bibliofile": "biblio.bib",
   "cite_by": "apalike",
   "current_citInitial": 1,
   "eqLabelWithNumbers": true,
   "eqNumInitial": 1,
   "hotkeys": {
    "equation": "Ctrl-E",
    "itemize": "Ctrl-I"
   },
   "labels_anchors": false,
   "latex_user_defs": false,
   "report_style_numbering": false,
   "user_envs_cfg": false
  },
  "toc": {
   "base_numbering": 1,
   "nav_menu": {},
   "number_sections": true,
   "sideBar": true,
   "skip_h1_title": true,
   "title_cell": "Indice",
   "title_sidebar": "Contenido",
   "toc_cell": false,
   "toc_position": {},
   "toc_section_display": true,
   "toc_window_display": false
  },
  "varInspector": {
   "cols": {
    "lenName": 16,
    "lenType": 16,
    "lenVar": 40
   },
   "kernels_config": {
    "python": {
     "delete_cmd_postfix": "",
     "delete_cmd_prefix": "del ",
     "library": "var_list.py",
     "varRefreshCmd": "print(var_dic_list())"
    },
    "r": {
     "delete_cmd_postfix": ") ",
     "delete_cmd_prefix": "rm(",
     "library": "var_list.r",
     "varRefreshCmd": "cat(var_dic_list()) "
    }
   },
   "types_to_exclude": [
    "module",
    "function",
    "builtin_function_or_method",
    "instance",
    "_Feature"
   ],
   "window_display": false
  }
 },
 "nbformat": 4,
 "nbformat_minor": 4
}
