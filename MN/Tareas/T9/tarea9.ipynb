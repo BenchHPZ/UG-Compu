{
 "cells": [
  {
   "cell_type": "markdown",
   "metadata": {},
   "source": [
    "# Tarea 9\n",
    "\n",
    "_Tarea 9_ de _Benjamín Rivera_\n",
    "para el curso de __Métodos Numéricos__\n",
    "impartido por _Joaquín Peña Acevedo_.\n",
    "Fecha limite de entrega __...__."
   ]
  },
  {
   "cell_type": "code",
   "execution_count": 1,
   "metadata": {},
   "outputs": [],
   "source": [
    "import sys\n",
    "import seaborn as sns\n",
    "import scipy\n",
    "\n",
    "import numpy as np\n",
    "import matplotlib.pyplot as plt\n",
    "from scipy.linalg import solve_triangular # Para backward y forward substitution\n",
    "\n",
    "NOTEBOOK = True"
   ]
  },
  {
   "cell_type": "markdown",
   "metadata": {},
   "source": [
    "## Ejercicio 1.\n",
    "\n",
    "Escriba un programa que interpole un conjunto de puntos $\\{(x_0 , f_0 ), ..., (x_n , f_n )\\}$ mediante un spline natural cúbico."
   ]
  },
  {
   "cell_type": "markdown",
   "metadata": {},
   "source": [
    "### Parte 1\n",
    "\n",
    "Escriba una función que reciba como argumentos:\n",
    " - Un apuntador a un arreglo 2D de tamaño (n + 1) × 2 en el que cada fila tiene las coordenadas $(x_i , f_i)$ de un punto en el plano.\n",
    " - el entero $n$,\n",
    "\n",
    "La función debe resolver el sistema triadiagonal que permite calcular los valores $M_0 , M_1 , ..., M_n$ de las segundas derivadas del spline en los nodos $x_0 < x_1 < ... < x_n$ ,\n",
    "y para que el spline sea “natural” se debe tener que $M_0 = M_n = 0$.\n",
    "La función debe devolver un arreglo con los valores $M_0 , M_1 , ..., M_n$."
   ]
  },
  {
   "cell_type": "code",
   "execution_count": 2,
   "metadata": {},
   "outputs": [],
   "source": [
    "def una_funcion( arreglo, n, dtype=np.float64):\n",
    "    \n",
    "    # Extraccion de vectores del arreglo\n",
    "    xs = arreglo[0]\n",
    "    fxs = arreglo[1]\n",
    "    \n",
    "    # inicializacion de vectores\n",
    "    hs = np.zeros(n-1)\n",
    "    bs = np.zeros(n-1)\n",
    "    \n",
    "    us = np.zeros(n-1)\n",
    "    ds = np.zeros(n-1)\n",
    "    \n",
    "    Ms = np.zeros(n)\n",
    "    \n",
    "    lim = n-1\n",
    "    \n",
    "    for i in range(lim):\n",
    "        hs[i] = xs[i+1] - xs[i]\n",
    "        bs[i] = 6*(fxs[i+1] - fxs[i])/hs[i]\n",
    "    \n",
    "    us[1] = 2*(hs[0] + hs[1])\n",
    "    ds[1] = bs[1] - bs[0]\n",
    "    for i in range(2, lim):\n",
    "        us[i] = 2*(hs[i] + hs[i-1]) - hs[i-1]**2/us[i-1]\n",
    "    \n",
    "    # Calculo de coeficientes\n",
    "    Ms[-1] = 0\n",
    "    for i in range(n-2, 0, -1):\n",
    "        Ms[i] = (ds[i] - hs[i]*Ms[i+1])/us[i]      \n",
    "    Ms[0] = 0\n",
    "    \n",
    "    return Ms"
   ]
  },
  {
   "cell_type": "markdown",
   "metadata": {},
   "source": [
    "### Parte 2\n",
    "\n",
    "Escriba una función para evaluar el spline cúbico en un punto $x$. Debe recibir \n",
    " - el apuntador a la matriz que tiene los $n + 1$ puntos $(x_i , f_i )$, \n",
    " - el arreglo que tiene los valores de los coeficientes $M_0 , M_1 , ..., M_n$ del spline natural, \n",
    " - el entero $n$ y \n",
    " - un valor $x ∈ [x_0 , x_n ]$. \n",
    "\n",
    "La función debe determinar el subintervalo $[x_{i−1} , x_i ]$ que contiene el punto $x$ y que devuelve el valor del polinomio cúbico\n",
    "\n",
    "$$ S_{i-1}(x) = M_{i-1}\\frac{(x_i - x)^3}{6*h_i} + M_i\\frac{(x - x_{i-1})^3}{6h_i} + C_{i-1}(x - x_{i-1}) + C_{i-1} $$\n",
    "\n",
    "donde\n",
    "\n",
    "$$ h_i = x_i - x_{i-1}, \\quad C_{i-1} = f_{i-1} - M_{i-1}\\frac{h_i^2}{6}, \\quad C_{i-1} = \\frac{f_i - f_{i-1}}{h_i} - \\frac{h_i}{6} (M_i - M_{i-1})$$\n"
   ]
  },
  {
   "cell_type": "code",
   "execution_count": 3,
   "metadata": {},
   "outputs": [],
   "source": [
    "def polinomio(arreglo, Ms, n, x):\n",
    "    \"\"\" Polinomio para evaluar. \"\"\"\n",
    "    xs = arreglo[0]\n",
    "    fs = arreglo[1]\n",
    "    \n",
    "\n",
    "    def h(i):\n",
    "        \"\"\" Parte h del polinomio a evaluar. \"\"\"\n",
    "        nonlocal xs\n",
    "        return xs[i] - xs[i-1]\n",
    "\n",
    "    def Cg(im1):\n",
    "        \"\"\" Parte C gorro del polinomio a evaluar. \n",
    "        \n",
    "        Se calculara el valor de i-1 en funcion del i dado.\n",
    "        \"\"\"\n",
    "        nonlocal Ms, fs, xs\n",
    "        i = im1\n",
    "        return fs[i] - Ms[i]*h(i+1)**2/6\n",
    "\n",
    "    def C(im1):\n",
    "        \"\"\" Parte C del polinomio a evaluar. \n",
    "        \n",
    "        Se calculara el valor de i-1 en funcion del i dado.\n",
    "        \"\"\"\n",
    "        nonlocal Ms, fs, xs\n",
    "        i = im1\n",
    "        return (fs[i+1] - fs[i])/h(i+1) - (Ms[i+1] - Ms[i])*h(i+1)/6\n",
    "    \n",
    "    # Identificacion del intervalo\n",
    "    i = 1\n",
    "    while i <= len(xs):\n",
    "        if xs[i-1] <= x <= xs[i]:\n",
    "            break\n",
    "        i += 1\n",
    "    \n",
    "    # evaluacion del polinomio\n",
    "    try:\n",
    "        return Ms[i-1]*(xs[i] - x)**3/(6*h(i)) + Ms[i]*(x - xs[i-1])**3/(6*h(i)) + C(i-1)*(x - xs[i-1]) + Cg(i-1)\n",
    "    except:\n",
    "        return 0\n"
   ]
  },
  {
   "cell_type": "markdown",
   "metadata": {},
   "source": [
    "### Parte 3\n",
    "\n",
    "Escriba el programa que recibe desde la lı́nea de comandos \n",
    " - un entero $n$, y \n",
    " - los valores $a$ y $b$; \n",
    "que corresponden a los extremos del intervalo $[a, b]$ y $n$ es el número de divisiones que se harán de ese intervalo.\n",
    "\n",
    "El programa debe generar una partición del intervalo $[a, b]$, $a = x_0 < x_1 < ... < x_n = b$, y evaluar la función $f(x) = x + (1 + x) \\sin(x^2) + 2 cos(6x)$ en esos puntos. Cree una matriz de tamaño $(n + 1) \\times 2$ que tenga en cada fila los puntos $(x_i , f_i)$.\n",
    "\n",
    "Use las funciones anteriores para obtener los coeficientes del spline natural $s(x)$ que interpola al conjunto de puntos.\n",
    "\n",
    "Defina $m = 100$ y genere una partición uniforme del intervalo $[a, b]$ con $m+1$ puntos: $a = z_0 < z_1 < ... < z_m = b$. Evalue el spline en los puntos $z_0 , z_1 , ..., z_m$. Genere un archivo de texto que tenga tres columnas, de modo que cada fila del archivo tenga los siguientes datos:\n",
    "$$ z_i \\quad f(z_i) \\quad s(z_i) $$"
   ]
  },
  {
   "cell_type": "code",
   "execution_count": 4,
   "metadata": {},
   "outputs": [],
   "source": [
    "def fun(x):\n",
    "    return x + (1+x)*np.sin(x**2) + 2*np.cos(6*x)"
   ]
  },
  {
   "cell_type": "code",
   "execution_count": 5,
   "metadata": {},
   "outputs": [],
   "source": [
    "def parte3(n, a, b):\n",
    "    f = np.vectorize(fun)\n",
    "    # Para guardar en formato npy en local\n",
    "    ext = \".npy\" \n",
    "    file_name = \"datos\"\n",
    "    path = \"./\"\n",
    "    file_path = path+file_name+ext\n",
    "    \n",
    "    # particion\n",
    "    xs = np.linspace(a, b, num=n+1, retstep=True)[0]\n",
    "    fs = f(xs)\n",
    "    \n",
    "    # matriz\n",
    "    mat = np.array([xs, fs])\n",
    "    \n",
    "    # valores y funciones\n",
    "    Ms = una_funcion( mat, n+1)\n",
    "    S = np.vectorize(lambda x: polinomio(mat, Ms, n+1, x))\n",
    "    \n",
    "    # Nuevas evaluaciones\n",
    "    m = 100\n",
    "    xs = np.linspace(a, b, num=m+1, retstep=True)[0]\n",
    "    fs = f(xs)\n",
    "    ss = S(xs)\n",
    "    \n",
    "    # Guardar datos\n",
    "    with open(file_path, 'wb') as fil:\n",
    "        # Guardar z_i, f(z_i). s(z_i)\n",
    "        np.save(fil, np.array([xs, fs, ss]))"
   ]
  },
  {
   "cell_type": "markdown",
   "metadata": {},
   "source": [
    "### Parte 4 \n",
    "\n",
    "Pruebe el programa con $a = −3, b = 3, n = 10$ y con $n = 30$. Usando los archivos de salida, genere las gráficas que muestre la comporación de la gráfica de $f(x)$ y la del spline natural cúbico $s(x)$."
   ]
  },
  {
   "cell_type": "code",
   "execution_count": 6,
   "metadata": {},
   "outputs": [],
   "source": [
    "def tarea9(n, a, b):\n",
    "    ext = \".npy\" \n",
    "    file_name = \"datos\"\n",
    "    path = \"./\"\n",
    "    file_path = path + file_name + ext\n",
    "    \n",
    "    parte3(n, a, b)\n",
    "    xs, fs, ss = np.load(file_path)\n",
    "    \n",
    "    plt.plot(xs, fs, '--', color='grey')\n",
    "    plt.plot(xs, ss, '--', color='blue')\n",
    "\n",
    "    plt.grid(axis='x', color='0.95')\n",
    "    plt.show()"
   ]
  },
  {
   "cell_type": "code",
   "execution_count": 7,
   "metadata": {},
   "outputs": [
    {
     "data": {
      "image/png": "[encoded data removed]",
      "text/plain": [
       "<Figure size 432x288 with 1 Axes>"
      ]
     },
     "metadata": {
      "needs_background": "light"
     },
     "output_type": "display_data"
    }
   ],
   "source": [
    "tarea9(10, -3, 3)"
   ]
  },
  {
   "cell_type": "code",
   "execution_count": 8,
   "metadata": {},
   "outputs": [
    {
     "data": {
      "image/png": "[encoded data removed]",
      "text/plain": [
       "<Figure size 432x288 with 1 Axes>"
      ]
     },
     "metadata": {
      "needs_background": "light"
     },
     "output_type": "display_data"
    }
   ],
   "source": [
    "tarea9(30, -3, 3)"
   ]
  },
  {
   "cell_type": "code",
   "execution_count": null,
   "metadata": {},
   "outputs": [],
   "source": []
  }
 ],
 "metadata": {
  "kernelspec": {
   "display_name": "Python 3",
   "language": "python",
   "name": "python3"
  },
  "language_info": {
   "codemirror_mode": {
    "name": "ipython",
    "version": 3
   },
   "file_extension": ".py",
   "mimetype": "text/x-python",
   "name": "python",
   "nbconvert_exporter": "python",
   "pygments_lexer": "ipython3",
   "version": "3.8.5"
  },
  "toc-autonumbering": false,
  "toc-showcode": false,
  "toc-showmarkdowntxt": false
 },
 "nbformat": 4,
 "nbformat_minor": 4
}
