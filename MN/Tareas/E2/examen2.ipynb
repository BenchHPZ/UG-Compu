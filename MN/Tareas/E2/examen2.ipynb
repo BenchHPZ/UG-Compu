{
 "cells": [
  {
   "cell_type": "markdown",
   "metadata": {},
   "source": [
    "# Segundo examen parcial. Metodos Numericos\n",
    "\n",
    "__Alumno__ Benjamin Rivera \\\n",
    "__Fecha__ Diciembre 10, 2020 \\\n",
    "__Entrega__ 17:45\n",
    "\n",
    "Se recomienda ejecutar desde un servidor __jupyter__"
   ]
  },
  {
   "cell_type": "code",
   "execution_count": 1,
   "metadata": {},
   "outputs": [],
   "source": [
    "import sys\n",
    "import seaborn as sns\n",
    "import scipy\n",
    "import numpy as np\n",
    "from numpy import linalg as LA\n",
    "import matplotlib.pyplot as plt\n",
    "from scipy.linalg import solve_triangular \n",
    "\n",
    "\n",
    "from helper import romberg_iterativo\n",
    "\n",
    "NOTEBOOK = True"
   ]
  },
  {
   "cell_type": "markdown",
   "metadata": {},
   "source": [
    "## Primera perdicion (Ejercicio 1)\n",
    "\n"
   ]
  },
  {
   "cell_type": "code",
   "execution_count": 2,
   "metadata": {},
   "outputs": [],
   "source": [
    "# Archivo.\n",
    "def load_data(file_name , path_dir = 'datosEjercicio1'):\n",
    "    full_path = path_dir+'/'+file_name\n",
    "\n",
    "    # Guardando datos\n",
    "    return np.load(full_path)\n"
   ]
  },
  {
   "cell_type": "code",
   "execution_count": 3,
   "metadata": {},
   "outputs": [],
   "source": [
    "def creacion_matrices(datos):\n",
    "    \"\"\" Funcion para crear las matrices D, M, P en \n",
    "    funcion de los datos recividos (2*m)\n",
    "    \n",
    "    return D, M, P\n",
    "    \"\"\"\n",
    "    m = datos.shape[0]\n",
    "    \n",
    "    D = np.ones((m, 4))\n",
    "    D[:, 0:2] = datos[:, 0:2]\n",
    "    D[:, 3] = (datos[:,0]**2 \n",
    "               + datos[:,1]**2) / 2\n",
    "    \n",
    "    M = np.array([[1, 0, 0, 0],\n",
    "         [0, 1, 0, 0],\n",
    "         [0, 0, 0,-1],\n",
    "         [0, 0,-1, 0]])\n",
    "    \n",
    "    dmults = D.transpose() @ D\n",
    "    P = (1/m)*((dmults) @ M)\n",
    "  \n",
    "    return D, M, P\n"
   ]
  },
  {
   "cell_type": "code",
   "execution_count": 4,
   "metadata": {},
   "outputs": [],
   "source": [
    "def potencia_inversa(P, x = np.array([1,0,0,0]), k=0, T=np.sqrt(np.finfo(float).eps)):\n",
    "    \"\"\" Metodo de la potencia inversa \"\"\"\n",
    "    \n",
    "    while True:\n",
    "        y = LA.solve(P, x) # yk, xk\n",
    "        x = y/LA.norm(y) # xk1, yk\n",
    "        lamb = x @ P @ x.transpose()\n",
    "        \n",
    "        eps = LA.norm(P@x - lamb*x)\n",
    "        if eps <= T:\n",
    "            break\n",
    "    return x\n",
    "\n",
    "def v2u(v):\n",
    "    \"\"\" Definimos u en funcion de v. \"\"\"\n",
    "    return (v[0]/v[2], v[1]/v[2], 1, v[3]/v[2])\n",
    "\n",
    "def circle(u):\n",
    "    \"\"\" Calculamos las caracteristicas del circulo. \"\"\"\n",
    "    c = (u[0], u[1])\n",
    "    r = np.sqrt(u[0]**2 + u[1]**2 - 2*u[3])\n",
    "    return c, r"
   ]
  },
  {
   "cell_type": "code",
   "execution_count": 5,
   "metadata": {},
   "outputs": [],
   "source": [
    "def Ejercicio1(file_name):\n",
    "    \n",
    "    A = load_data(file_name)    \n",
    "    D, M, P = creacion_matrices(A)\n",
    "    c, r = circle(v2u(potencia_inversa(P)))\n",
    "    \n",
    "    m = A.shape[0]\n",
    "    print(f\"{m} {c} {r}\")\n",
    "    \n",
    "    fig, ax = plt.subplots()\n",
    "    \n",
    "    ax.plot(A[:,0], A[:,1], 'ro')\n",
    "    circ = plt.Circle(c, r, color='c')\n",
    "    ax.add_artist(circ)\n",
    "    "
   ]
  },
  {
   "cell_type": "code",
   "execution_count": 6,
   "metadata": {},
   "outputs": [
    {
     "name": "stdout",
     "output_type": "stream",
     "text": [
      "30 (2.972448019693739, 6.05683761891574) 4.395180050602966\n",
      "30 (3.0332852128152776, 6.060505617651551) 4.450456035305542\n"
     ]
    },
    {
     "data": {
      "image/png": "[encoded data removed]",
      "text/plain": [
       "<Figure size 432x288 with 1 Axes>"
      ]
     },
     "metadata": {
      "needs_background": "light"
     },
     "output_type": "display_data"
    },
    {
     "data": {
      "image/png": "[encoded data removed]",
      "text/plain": [
       "<Figure size 432x288 with 1 Axes>"
      ]
     },
     "metadata": {
      "needs_background": "light"
     },
     "output_type": "display_data"
    }
   ],
   "source": [
    "if not NOTEBOOK:\n",
    "    file_name = str(input(\"Ingrese el nombre del archivo:\\n\"))\n",
    "else:\n",
    "    file_name = 'conjunto2D_1.npy'\n",
    "    Ejercicio1(file_name)\n",
    "    file_name = 'conjunto2D_2.npy'\n",
    "    Ejercicio1(file_name)"
   ]
  },
  {
   "cell_type": "markdown",
   "metadata": {},
   "source": [
    "## Segunda perdicion (Ejercicio 2)\n",
    "\n"
   ]
  },
  {
   "cell_type": "code",
   "execution_count": 7,
   "metadata": {},
   "outputs": [
    {
     "data": {
      "text/plain": [
       "array([[0.08712121, 0.08807406],\n",
       "       [0.06439394, 0.05962968],\n",
       "       [0.0530303 , 0.04560159],\n",
       "       [0.04734848, 0.03761705],\n",
       "       [0.04450758, 0.03261789]])"
      ]
     },
     "execution_count": 7,
     "metadata": {},
     "output_type": "execute_result"
    }
   ],
   "source": [
    "def F(n):\n",
    "    return lambda x: x**n/(5+x)\n",
    "\n",
    "def prepare(m, N):\n",
    "    mat = np.ones((N, 2))\n",
    "    \n",
    "    for i in range(N):\n",
    "        f = F(i+1) \n",
    "        mat[i,0] = romberg_iterativo(f, m, (0, 1))\n",
    "        mat[i,1] = romberg_iterativo(f, m+1, (0, 1))\n",
    "    \n",
    "    return mat\n",
    "\n",
    "prepare(1, 5)"
   ]
  },
  {
   "cell_type": "code",
   "execution_count": 8,
   "metadata": {},
   "outputs": [
    {
     "data": {
      "text/plain": [
       "array([0.08839222, 0.05803892, 0.04313873, 0.03430633, 0.02846835])"
      ]
     },
     "execution_count": 8,
     "metadata": {},
     "output_type": "execute_result"
    }
   ],
   "source": [
    "def fun(N):\n",
    "    \"\"\" Funcion que genera el arreglo n, usando \n",
    "    la furmula 2 de la tarea.\n",
    "    \"\"\"\n",
    "    ret = np.ones(N)\n",
    "    \n",
    "    ret[0] = 1 - 5*np.log(6/5)\n",
    "    for n in range(1, N):\n",
    "        ret[n] = 1/(n+1) - 5*ret[n-1]\n",
    "        \n",
    "    return ret\n",
    "\n",
    "fun(5)"
   ]
  },
  {
   "cell_type": "code",
   "execution_count": 9,
   "metadata": {},
   "outputs": [
    {
     "name": "stdout",
     "output_type": "stream",
     "text": [
      "1 0.08839213832343877 0.08839221603022707 8.791142489541554e-07\n",
      "2 0.05803930838280623 0.05803891984886467 6.6943241121852485e-06\n",
      "3 0.04313933455081259 0.04313873408900998 1.3919125291702169e-05\n",
      "4 0.034307141943202654 0.03430632955495011 2.367985808578842e-05\n",
      "5 0.02846937653924657 0.02846835222524946 3.597950224502694e-05\n",
      "6 0.024326141779807322 0.024324905540419356 5.081937773593723e-05\n",
      "7 0.02123406331383248 0.02123261515504607 6.819979600726614e-05\n",
      "8 0.01883858432321541 0.018836924224769652 8.812225044496816e-05\n",
      "9 0.016928361912422196 0.016926489987262844 0.00011057922609622257\n",
      "10 0.01536963436670621 0.015367550063685786 0.00013561175046162278\n",
      "11 0.01407363450028484 0.01407134059066198 0.00016299340606107686\n",
      "12 0.01297914773508081 0.012976630380023432 0.00019395380257318675\n",
      "13 0.012042596609890353 0.012039925022959766 0.00022184475799783677\n",
      "14 0.011232118179042485 0.011228946313772595 0.00028239244097417294\n",
      "15 0.010523876985802429 0.010521935097803692 0.00018452211113422398\n",
      "16 0.009899687674542124 0.00989032451098154 0.0009458039352758288\n",
      "17 0.009345435004655983 0.009371906856857001 0.002832597111619705\n",
      "18 0.008849995830827767 0.008696021271270546 0.01739826351339868\n",
      "19 0.008404486393695745 0.009151472591015689 0.08887945822367706\n",
      "20 0.00800172590092671 0.00424263704492156 0.4697847567572635\n",
      "21 0.00763584721784568 0.026405862394439816 2.4581444129378176\n",
      "22 0.007302009665923652 -0.08657476651765363 12.856293058837322\n",
      "23 0.006996183998939501 0.47635209345783336 67.08741644445601\n",
      "24 0.006714989248621034 -2.3400938006225003 349.48809342517615\n",
      "25 0.006455567408542122 11.740469003112501 1817.6579521386925\n"
     ]
    }
   ],
   "source": [
    "def escoger_m(N = 25):\n",
    "    m = 1\n",
    "    while True:\n",
    "        A = prepare(m, N)\n",
    "        E = abs(sum(A[:,0] - A[:,1]))/N\n",
    "        if E < 0.00001:\n",
    "            return m, E\n",
    "        m+=1\n",
    "\n",
    "def comparar():\n",
    "    N = 25\n",
    "    \n",
    "    m, E = escoger_m(N=N)\n",
    "    A = prepare(m, N)\n",
    "    b = fun(N)\n",
    "\n",
    "    \n",
    "    for n in range(len(b)):\n",
    "        dif = abs((b[n] - A[n,1])/A[n,1])\n",
    "        print(f'{n+1} {A[n,1]} {b[n]} {dif}')\n",
    "    \n",
    "comparar()    "
   ]
  },
  {
   "cell_type": "markdown",
   "metadata": {},
   "source": [
    "### Comentario\n",
    "\n",
    "El salto lo identifico en la aproximacion con `n=21`. Despues de eso el error ya no se puede reducir por que va arrastrando el error. \n",
    "\n",
    "Considero el error de la primera aproximacion se va introduciendo por los errores de valor flotante de la maquina, los cuales posteriormente no intenta corregir.\n",
    "\n",
    "Respecto al metodo de romberg, ya habiamos notado que si es posible mejorar la precision en algun intervalo aumentando la discretizacion, sin embargo, eventualmente se vuelve a descomponer. Respecto a la aproximacion por formula, creo que no es posible mejorar este error incluso aumentando la discretizacion; esto debido a que es error del acarreo y no precisamente de la tecnica del metodo."
   ]
  },
  {
   "cell_type": "code",
   "execution_count": null,
   "metadata": {},
   "outputs": [],
   "source": []
  }
 ],
 "metadata": {
  "kernelspec": {
   "display_name": "Python 3",
   "language": "python",
   "name": "python3"
  },
  "language_info": {
   "codemirror_mode": {
    "name": "ipython",
    "version": 3
   },
   "file_extension": ".py",
   "mimetype": "text/x-python",
   "name": "python",
   "nbconvert_exporter": "python",
   "pygments_lexer": "ipython3",
   "version": "3.8.5"
  }
 },
 "nbformat": 4,
 "nbformat_minor": 4
}
