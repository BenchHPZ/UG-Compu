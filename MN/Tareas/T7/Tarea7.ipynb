{
 "cells": [
  {
   "cell_type": "markdown",
   "metadata": {},
   "source": [
    "# Tarea 6\n",
    "\n",
    "_Tarea 7_ de _Benjamín Rivera_\n",
    "para el curso de __Métodos Numéricos__\n",
    "impartido por _Joaquín Peña Acevedo_.\n",
    "Fecha limite de entrega __...__."
   ]
  },
  {
   "cell_type": "code",
   "execution_count": 2,
   "metadata": {
    "ExecuteTime": {
     "end_time": "2020-10-06T20:20:17.380260Z",
     "start_time": "2020-10-06T20:20:17.366484Z"
    },
    "init_cell": true
   },
   "outputs": [],
   "source": [
    "import sys\n",
    "import seaborn as sns\n",
    "import scipy\n",
    "\n",
    "import numpy as np\n",
    "import matplotlib.pyplot as plt\n",
    "from scipy.linalg import solve_triangular # Para backward y forward substitution\n",
    "\n",
    "NOTEBOOK = True"
   ]
  },
  {
   "cell_type": "markdown",
   "metadata": {},
   "source": [
    "## Ejercicio 1\n",
    "\n",
    "Sea $V = [v_1, \\dots, v_n]$ matris de tamanio n con $v_i$ la coilmna i-esima.\n",
    "Dados un angulo $\\theta$ e indices $i,j$, se define la rotacion de Givens $G(i, j, \\theta)$.\n",
    "El objetivo es calcular el producto $VG(i, j, \\theta)$ sin tener queonstruir su rotacion de Givens."
   ]
  },
  {
   "cell_type": "markdown",
   "metadata": {
    "ExecuteTime": {
     "end_time": "2020-10-06T19:35:05.261497Z",
     "start_time": "2020-10-06T19:35:05.191435Z"
    },
    "code_folding": [
     3
    ],
    "pycharm": {
     "name": "#%% md\n"
    }
   },
   "source": [
    "Comida internacional"
   ]
  },
  {
   "cell_type": "code",
   "execution_count": 5,
   "metadata": {},
   "outputs": [
    {
     "name": "stdout",
     "output_type": "stream",
     "text": [
      "run\n"
     ]
    }
   ],
   "source": [
    "def run():\n",
    "    print('run')\n",
    "\n",
    "for i in range(10):\n",
    "    if i >= 9:\n",
    "        run()\n"
   ]
  }
 ],
 "metadata": {
  "hide_input": false,
  "kernelspec": {
   "display_name": "PyCharm (MN)",
   "language": "python",
   "name": "pycharm-27de4704"
  },
  "language_info": {
   "codemirror_mode": {
    "name": "ipython",
    "version": 3
   },
   "file_extension": ".py",
   "mimetype": "text/x-python",
   "name": "python",
   "nbconvert_exporter": "python",
   "pygments_lexer": "ipython3",
   "version": "3.8.5"
  },
  "latex_envs": {
   "LaTeX_envs_menu_present": true,
   "autoclose": false,
   "autocomplete": true,
   "bibliofile": "biblio.bib",
   "cite_by": "apalike",
   "current_citInitial": 1,
   "eqLabelWithNumbers": true,
   "eqNumInitial": 1,
   "hotkeys": {
    "equation": "Ctrl-E",
    "itemize": "Ctrl-I"
   },
   "labels_anchors": false,
   "latex_user_defs": false,
   "report_style_numbering": false,
   "user_envs_cfg": false
  },
  "toc": {
   "base_numbering": 1,
   "nav_menu": {},
   "number_sections": true,
   "sideBar": true,
   "skip_h1_title": true,
   "title_cell": "Indice",
   "title_sidebar": "Contenido",
   "toc_cell": false,
   "toc_position": {},
   "toc_section_display": true,
   "toc_window_display": false
  },
  "varInspector": {
   "cols": {
    "lenName": 16,
    "lenType": 16,
    "lenVar": 40
   },
   "kernels_config": {
    "python": {
     "delete_cmd_postfix": "",
     "delete_cmd_prefix": "del ",
     "library": "var_list.py",
     "varRefreshCmd": "print(var_dic_list())"
    },
    "r": {
     "delete_cmd_postfix": ") ",
     "delete_cmd_prefix": "rm(",
     "library": "var_list.r",
     "varRefreshCmd": "cat(var_dic_list()) "
    }
   },
   "types_to_exclude": [
    "module",
    "function",
    "builtin_function_or_method",
    "instance",
    "_Feature"
   ],
   "window_display": false
  }
 },
 "nbformat": 4,
 "nbformat_minor": 4
}
