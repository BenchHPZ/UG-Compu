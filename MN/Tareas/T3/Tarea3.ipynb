{
 "cells": [
  {
   "cell_type": "markdown",
   "metadata": {},
   "source": [
    "# Tarea 3\n",
    "\n",
    "_Tarea 3_ de _Benjamín Rivera_ para el curso de __Métodos Numéricos__ impartido por _Joaquín Peña Acevedo_. Fecha limite de entrega __20 de Septiembre de 2020__."
   ]
  },
  {
   "cell_type": "markdown",
   "metadata": {
    "heading_collapsed": true
   },
   "source": [
    "### Como ejecutar"
   ]
  },
  {
   "cell_type": "markdown",
   "metadata": {
    "hidden": true
   },
   "source": [
    "##### Requerimientos\n",
    "\n",
    "Este programa se ejecuto en mi computadora con la version de __Python 3.8.2__ y con estos\n",
    "[requerimientos](https://github.com/BenchHPZ/UG-Compu/blob/master/MN/requerimientos.txt)\n",
    "\n",
    "#### Jupyter\n",
    "\n",
    "En caso de tener acceso a un _servidor jupyter_ ,con los requerimientos antes mencionados, unicamente basta con ejecutar todas las celdas de este _notebook_. Probablemente no todas las celdas de _markdown_ produzcan el mismo resultado por las \n",
    "[_Nbextensions_](jupyter-contrib-nbextensions.readthedocs.io).\n",
    "\n",
    "#### Consola\n",
    "\n",
    "Habrá archivos e instrucciones para poder ejecutar cada uno de los ejercicios desde la consola.\n",
    "\n",
    "#### Si todo sale mal\n",
    "\n",
    "<a href=\"https://colab.research.google.com/gist/BenchHPZ/...\">\n",
    "    <img src=\"../../../assets/colab-badge.svg\" \n",
    "         alt=\"Open In Colab\"/>\n",
    "</a>\n",
    "\n",
    "En caso de que todo salga mal, tratare de dejar una copia disponible en __GoogleColab__ que se pueda ejecutar con la versión de __Python__ de _GoogleColab_"
   ]
  },
  {
   "cell_type": "code",
   "execution_count": 1,
   "metadata": {
    "ExecuteTime": {
     "end_time": "2020-09-20T05:39:10.636638Z",
     "start_time": "2020-09-20T05:39:10.265766Z"
    },
    "hidden": true,
    "init_cell": true
   },
   "outputs": [
    {
     "name": "stdout",
     "output_type": "stream",
     "text": [
      "Todo bien con la importacion xD\n"
     ]
    }
   ],
   "source": [
    "# Init cell\n",
    "import sys\n",
    "import numpy as np\n",
    "import matplotlib.pyplot as plt\n",
    "\n",
    "notebook = True\n",
    "\n",
    "\n",
    "# Para probar que todo sale bien\n",
    "if __name__ == \"__main__\" and not notebook:\n",
    "    import doctest\n",
    "    doctest.testmod()\n",
    "    \n",
    "    if len(sys.argv) >= 2:\n",
    "        ejercicio = sys.argv[1].lower()\n",
    "\n",
    "        if ejercicio == 'ejercicio2':\n",
    "            print(Ejercicio1( sys.argv[2], sys.argv[3]))\n",
    "        elif ejercicio == 'ejercicio3':\n",
    "            print(Ejercicio3())\n",
    "        else:\n",
    "            print(')= ... =(')\n",
    "\n",
    "if notebook:\n",
    "    print(\"Todo bien con la importacion xD\")"
   ]
  },
  {
   "cell_type": "markdown",
   "metadata": {},
   "source": [
    "## Ejercicio 1"
   ]
  },
  {
   "cell_type": "code",
   "execution_count": null,
   "metadata": {},
   "outputs": [],
   "source": []
  },
  {
   "cell_type": "code",
   "execution_count": null,
   "metadata": {},
   "outputs": [],
   "source": []
  },
  {
   "cell_type": "code",
   "execution_count": null,
   "metadata": {},
   "outputs": [],
   "source": []
  },
  {
   "cell_type": "markdown",
   "metadata": {},
   "source": [
    "## Ejercicio 2"
   ]
  },
  {
   "cell_type": "code",
   "execution_count": 2,
   "metadata": {
    "ExecuteTime": {
     "end_time": "2020-09-20T05:39:11.493386Z",
     "start_time": "2020-09-20T05:39:10.638796Z"
    },
    "code_folding": [
     0,
     4,
     12
    ]
   },
   "outputs": [],
   "source": [
    "def show1D( x,sz,/, max_sz=8, prnt=True):\n",
    "    \"\"\" Funcion que recibe un arreglo 1D y, en caso de\n",
    "    que no sea muy grande, lo imprime en pantalla. En\n",
    "    caso de que lo sea, imprime datos representativos.\n",
    "        Input:\n",
    "            x := Apuntador al arreglo 1D para imprimir\n",
    "            sz := Tamanio del arreglo. (para la imple_\n",
    "                mentacion en python es inecesario, pe_\n",
    "                ro lo solicita el ejercicio)\n",
    "            max_sz := Maximo de elementos a imprimir\n",
    "            prnt := Indica si el string obtenido se \n",
    "                debe imprimir en pantalla\n",
    "        Output:\n",
    "            Esta funcion regresa\n",
    "            \n",
    "        _Doctest:\n",
    "            >>> show1D([1,2,3,8,5,6,7,8,9,0], 10, prnt=False)\n",
    "            '1, 2, 3, 8, ... , 7, 8, 9, 0'\n",
    "            \n",
    "            >>> show1D([1,2,3,8], 4, prnt=False)\n",
    "            '1, 2, 3, 8'\n",
    "    \"\"\"\n",
    "    ret = '=('\n",
    "    \n",
    "    if sz <= max_sz:\n",
    "        ret = str(x)[1:-1]\n",
    "    else:\n",
    "        mid = max_sz//2\n",
    "        \n",
    "        ret = str(x[ :mid])[1:-1]\n",
    "        ret += ', ... , '\n",
    "        ret += str(x[-mid:])[1:-1]\n",
    "    \n",
    "    if prnt: print(ret)\n",
    "    return ret       "
   ]
  },
  {
   "cell_type": "code",
   "execution_count": 3,
   "metadata": {
    "ExecuteTime": {
     "end_time": "2020-09-20T05:39:12.216107Z",
     "start_time": "2020-09-20T05:39:11.500810Z"
    },
    "code_folding": [
     0
    ]
   },
   "outputs": [],
   "source": [
    "def forwardSubstitution( L, n, b, t,/,dtype=np.float64):\n",
    "    \"\"\" Funcion que implementa el metodo desustitucion pa_\n",
    "    ra adelante dada una matriz triangular inferior.\n",
    "        Input:\n",
    "            L := apuntador a la matriz L\n",
    "            n := tamanio de la matriz L\n",
    "            b := apuntador al vector b\n",
    "            t := tolerancia de 0's\n",
    "        Otput:\n",
    "            ret := vector x de respuestas si se encontro, o\n",
    "                None en caso de que hay habido algun error\n",
    "                \n",
    "        _Doctest:\n",
    "            >>> forwardSubstitution(np.matrix([[1,0],[0,1]]), 1, np.matrix([[3,4]]), 0.1)\n",
    "            matrix([[3.],\n",
    "                    [4.]])\n",
    "    \"\"\"\n",
    "    # verificamos sea matriz cuadrada\n",
    "    if len(L) == b.size:\n",
    "        n = len(L)\n",
    "        # verificamos que la matriz tenga solucion\n",
    "        for i in range(n):\n",
    "            if abs(L[i,i]) <= t:\n",
    "                print(\"Err: 0 o casi cero en diagonal\")\n",
    "                return None\n",
    "        \n",
    "        x = np.zeros((n), dtype=dtype)\n",
    "        for i in range(n):\n",
    "            x[i] = (b[0,i] - np.sum([L[i,j]*x[j] for j in range(i-1)],\n",
    "                                    dtype=dtype))/L[i,i]\n",
    "\n",
    "        return np.asmatrix(x, dtype=dtype).transpose()\n",
    "    \n",
    "    else:\n",
    "        print(\"Err: dimensiones\")\n",
    "        return None"
   ]
  },
  {
   "cell_type": "code",
   "execution_count": 4,
   "metadata": {
    "ExecuteTime": {
     "end_time": "2020-09-20T05:39:13.146256Z",
     "start_time": "2020-09-20T05:39:12.220495Z"
    },
    "code_folding": [
     0,
     18
    ]
   },
   "outputs": [
    {
     "name": "stdout",
     "output_type": "stream",
     "text": [
      "5 5\n",
      "[ 0.33006882]\n",
      " [-0.78428134]\n",
      " [ 0.70227498]\n",
      " [ 0.48272233]\n",
      " [-0.61319569]\n",
      "Error =\n",
      " 12.755173555608748\n",
      "\n",
      "\n",
      "50 50\n",
      "Err: 0 o casi cero en diagonal\n",
      "El sistema no tiene solucion.\n",
      "Y es singular.\n",
      "\n",
      "\n",
      "500 500\n",
      "[ 1.27622082]\n",
      " [ 1.39905809]\n",
      " [-3.80410368]\n",
      " [ 2.83344826], ... , [ 4.01907914e+110]\n",
      " [ 8.50132313e+110]\n",
      " [-6.48257593e+110]\n",
      " [ 1.66110939e+111]\n",
      "Error =\n",
      " 8.245074985591727e+111\n",
      "\n",
      "\n"
     ]
    }
   ],
   "source": [
    "def readFile(file,/, path='datos/npy/', ext='.npy', dtype=np.float64):\n",
    "    \"\"\" Funcion para cargar los archivos en memoria en el \n",
    "    formato que se meustra en el punto 4 del ejercicio 2.\n",
    "    No lleva el path, ni la extension, solo el nombre del\n",
    "    archivo. Por default trata de leer los archivos npy\n",
    "        Input:\n",
    "            file := nombre del archivo sin extension\n",
    "            path := directorio para buscar el archivo\n",
    "            ext := extension del archivo a buscar\n",
    "            dtype := tipo de dato para guardar los valores\n",
    "    \"\"\"\n",
    "    try:\n",
    "        return np.asmatrix(np.load(file= str(path+file+ext), \n",
    "                                   allow_pickle=False),\n",
    "                          dtype=dtype)\n",
    "    except:\n",
    "        raise Exception(\"Error al encontrar el archivo solicitado.\")\n",
    "        \n",
    "def Ejercicio2(f_L, f_b):\n",
    "    \"\"\" Programa para ejecutar el ejercicio 2. espera el nombre\n",
    "    de los archivos de la matriz y el vector soluciones para \n",
    "    funcionar.\n",
    "    \"\"\"\n",
    "    L = readFile(f_L)\n",
    "    b = readFile(f_b)\n",
    "    dtype = np.float64\n",
    "    t = (2.2e-16)**(2/3) # De la tarea 1 y como estamos usando flaot64\n",
    "    \n",
    "    print(len(L), b.size)\n",
    "    \n",
    "    x = forwardSubstitution(L, len(L), b, t, dtype=dtype)\n",
    "    \n",
    "    if not x is None:\n",
    "        show1D(x, len(x))\n",
    "        error = np.linalg.norm(L*x-b.transpose()) #Norma de numpy\n",
    "        print(f'Error =\\n {error}')\n",
    "    else:\n",
    "        print(\"El sistema no tiene solucion.\\nY es singular.\")\n",
    "\n",
    "\n",
    "if notebook:    \n",
    "    for sz in [5, 50, 500]:\n",
    "        Ejercicio2('matL'+str(sz), 'vecb'+str(sz))\n",
    "        print('\\n')"
   ]
  },
  {
   "cell_type": "markdown",
   "metadata": {},
   "source": [
    "[Norma de Numpy](https://numpy.org/doc/stable/reference/generated/numpy.linalg.norm.html)"
   ]
  },
  {
   "cell_type": "markdown",
   "metadata": {},
   "source": [
    "## Ejercicio 3"
   ]
  },
  {
   "cell_type": "code",
   "execution_count": 5,
   "metadata": {
    "ExecuteTime": {
     "end_time": "2020-09-20T05:39:13.529856Z",
     "start_time": "2020-09-20T05:39:13.148597Z"
    },
    "code_folding": [
     0
    ]
   },
   "outputs": [],
   "source": [
    "def backwardSubstitution( U, n, b, t,/,dtype=np.float64):\n",
    "    \"\"\" Funcion que implementa el metodo desustitucion pa_\n",
    "    ra adelante dada una matriz triangular inferior.\n",
    "        Input:\n",
    "            U := apuntador a la matriz U\n",
    "            n := tamanio de la matriz U\n",
    "            b := apuntador al vector b\n",
    "            t := tolerancia de 0's\n",
    "        Otput:\n",
    "            ret := vector x de respuestas si se encontro, o\n",
    "                None en caso de que hay habido algun error\n",
    "                \n",
    "    \"\"\"\n",
    "    # verificamos sea matriz cuadrada\n",
    "    if len(U) == b.size:\n",
    "        n = len(U)\n",
    "        # verificamos que la matriz tenga solucion\n",
    "        for i in range(n):\n",
    "            if abs(U[i,i]) <= t:\n",
    "                print(\"Err: 0 o casi cero en diagonal\")\n",
    "                return None\n",
    "        \n",
    "        x = np.zeros((n), dtype=dtype)\n",
    "        for i in range(n):\n",
    "            x[i] = (b[0,i] - sum(U[i,j]*x[j] for j in range(i, n)))/U[i,i]\n",
    "            if abs(x[i]) <= t:\n",
    "                print('Err: valor muy cercano a 0')\n",
    "                return None\n",
    "\n",
    "        return np.asmatrix(x, dtype=dtype).transpose()\n",
    "    \n",
    "    else:\n",
    "        print(\"Err: dimensiones\")\n",
    "        return None"
   ]
  },
  {
   "cell_type": "code",
   "execution_count": 6,
   "metadata": {
    "ExecuteTime": {
     "end_time": "2020-09-20T05:39:13.825040Z",
     "start_time": "2020-09-20T05:39:13.537458Z"
    },
    "code_folding": [
     0,
     22
    ]
   },
   "outputs": [
    {
     "name": "stdout",
     "output_type": "stream",
     "text": [
      "5 5\n",
      "Err: 0 o casi cero en diagonal\n",
      "El sistema no tiene solucion.\n",
      "Y es singular.\n",
      "\n",
      "\n",
      "50 50\n",
      "[-1.01801394]\n",
      " [ 0.40010265]\n",
      " [ 0.74149862]\n",
      " [-1.70775669], ... , [ 1.21802717]\n",
      " [ 0.40288299]\n",
      " [ 4.24649867]\n",
      " [-0.38446395]\n",
      "Error =\n",
      " 111938.96476609966\n",
      "\n",
      "\n",
      "500 500\n",
      "[-1.16445171]\n",
      " [-1.99336824]\n",
      " [-0.07815743]\n",
      " [-0.74288533], ... , [2.70578551]\n",
      " [2.62355832]\n",
      " [0.65785483]\n",
      " [1.29749623]\n",
      "Error =\n",
      " 56175.81236228779\n",
      "\n",
      "\n"
     ]
    }
   ],
   "source": [
    "def Ejercicio3(f_L, f_b):\n",
    "    \"\"\" Programa para ejecutar el ejercicio 2. espera el nombre\n",
    "    de los archivos de la matriz y el vector soluciones para \n",
    "    funcionar.\n",
    "    \"\"\"\n",
    "    U = readFile(f_L)\n",
    "    b = readFile(f_b)\n",
    "    dtype = np.float64\n",
    "    t = (2.2e-16)**(2/3) # De la tarea 1 y como estamos usando flaot64\n",
    "    \n",
    "    print(len(U), b.size)\n",
    "    \n",
    "    x = backwardSubstitution(U, len(U), b, t, dtype=dtype)\n",
    "    \n",
    "    if not x is None:\n",
    "        show1D(x, len(x))\n",
    "        error = np.linalg.norm(U*x-b.transpose()) #Norma de numpy\n",
    "        print(f'Error =\\n {error}')\n",
    "    else:\n",
    "        print(\"El sistema no tiene solucion.\\nY es singular.\")\n",
    "\n",
    "\n",
    "if notebook:    \n",
    "    for sz in [5, 50, 500]:\n",
    "        Ejercicio3('matU'+str(sz), 'vecb'+str(sz))\n",
    "        print('\\n')"
   ]
  }
 ],
 "metadata": {
  "hide_input": false,
  "kernelspec": {
   "display_name": "MN-env",
   "language": "python",
   "name": "mn-env"
  },
  "language_info": {
   "codemirror_mode": {
    "name": "ipython",
    "version": 3
   },
   "file_extension": ".py",
   "mimetype": "text/x-python",
   "name": "python",
   "nbconvert_exporter": "python",
   "pygments_lexer": "ipython3",
   "version": "3.8.2"
  },
  "latex_envs": {
   "LaTeX_envs_menu_present": true,
   "autoclose": false,
   "autocomplete": true,
   "bibliofile": "biblio.bib",
   "cite_by": "apalike",
   "current_citInitial": 1,
   "eqLabelWithNumbers": true,
   "eqNumInitial": 1,
   "hotkeys": {
    "equation": "Ctrl-E",
    "itemize": "Ctrl-I"
   },
   "labels_anchors": false,
   "latex_user_defs": false,
   "report_style_numbering": false,
   "user_envs_cfg": false
  },
  "toc": {
   "base_numbering": 1,
   "nav_menu": {},
   "number_sections": true,
   "sideBar": true,
   "skip_h1_title": true,
   "title_cell": "Indice",
   "title_sidebar": "Contenido",
   "toc_cell": false,
   "toc_position": {},
   "toc_section_display": true,
   "toc_window_display": false
  },
  "varInspector": {
   "cols": {
    "lenName": 16,
    "lenType": 16,
    "lenVar": 40
   },
   "kernels_config": {
    "python": {
     "delete_cmd_postfix": "",
     "delete_cmd_prefix": "del ",
     "library": "var_list.py",
     "varRefreshCmd": "print(var_dic_list())"
    },
    "r": {
     "delete_cmd_postfix": ") ",
     "delete_cmd_prefix": "rm(",
     "library": "var_list.r",
     "varRefreshCmd": "cat(var_dic_list()) "
    }
   },
   "types_to_exclude": [
    "module",
    "function",
    "builtin_function_or_method",
    "instance",
    "_Feature"
   ],
   "window_display": false
  }
 },
 "nbformat": 4,
 "nbformat_minor": 4
}
