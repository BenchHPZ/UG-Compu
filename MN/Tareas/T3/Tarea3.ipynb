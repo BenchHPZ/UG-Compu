{
 "cells": [
  {
   "cell_type": "markdown",
   "metadata": {},
   "source": [
    "# Tarea 3\n",
    "\n",
    "_Tarea 3_ de _Benjamín Rivera_ para el curso de __Métodos Numéricos__ impartido por _Joaquín Peña Acevedo_. Fecha limite de entrega __20 de Septiembre de 2020__."
   ]
  },
  {
   "cell_type": "markdown",
   "metadata": {},
   "source": [
    "### Como ejecutar"
   ]
  },
  {
   "cell_type": "markdown",
   "metadata": {},
   "source": [
    "##### Requerimientos\n",
    "\n",
    "Este programa se ejecuto en mi computadora con la version de __Python 3.8.2__ y con estos\n",
    "[requerimientos](https://github.com/BenchHPZ/UG-Compu/blob/master/MN/requerimientos.txt)\n",
    "\n",
    "#### Jupyter\n",
    "\n",
    "En caso de tener acceso a un _servidor jupyter_ ,con los requerimientos antes mencionados, unicamente basta con ejecutar todas las celdas de este _notebook_. Probablemente no todas las celdas de _markdown_ produzcan el mismo resultado por las \n",
    "[_Nbextensions_](jupyter-contrib-nbextensions.readthedocs.io).\n",
    "\n",
    "#### Consola\n",
    "\n",
    "Habrá archivos e instrucciones para poder ejecutar cada uno de los ejercicios desde la consola.\n",
    "\n",
    "#### Si todo sale mal\n",
    "\n",
    "<a href=\"https://colab.research.google.com/gist/BenchHPZ/813abd96c1dac91b038905ac85cc425c/tarea3.ipynb\">\n",
    "    <img src=\"../../../assets/colab-badge.svg\" \n",
    "         alt=\"Open In Colab\"/>\n",
    "</a>\n",
    "\n",
    "En caso de que todo salga mal, tratare de dejar una copia disponible en __GoogleColab__ que se pueda ejecutar con la versión de __Python__ de _GoogleColab_"
   ]
  },
  {
   "cell_type": "code",
   "execution_count": 32,
   "metadata": {
    "ExecuteTime": {
     "end_time": "2020-09-26T05:14:43.302622Z",
     "start_time": "2020-09-26T05:14:43.289141Z"
    },
    "init_cell": true
   },
   "outputs": [
    {
     "name": "stdout",
     "output_type": "stream",
     "text": [
      "Todo bien con la importacion xD\n"
     ]
    }
   ],
   "source": [
    "# Init cell\n",
    "import sys\n",
    "import numpy as np\n",
    "import matplotlib.pyplot as plt\n",
    "from scipy.linalg import solve_triangular\n",
    "\n",
    "notebook = True\n",
    "\n",
    "\n",
    "\n",
    "if __name__ == \"__main__\" and not notebook:\n",
    "    import doctest\n",
    "    doctest.testmod()\n",
    "    \n",
    "    if len(sys.argv) >= 2:\n",
    "        ejercicio = sys.argv[1].lower()\n",
    "\n",
    "        if ejercicio == 'ejercicio2':\n",
    "            print(Ejercicio2( sys.argv[2], sys.argv[3]))\n",
    "        elif ejercicio == 'ejercicio3':\n",
    "            print(Ejercicio3( sys.argv[2], sys.argv[3]))\n",
    "        else:\n",
    "            print(')= ... =(')\n",
    "\n",
    "if notebook:\n",
    "    print(\"Todo bien con la importacion xD\")"
   ]
  },
  {
   "cell_type": "markdown",
   "metadata": {
    "heading_collapsed": true
   },
   "source": [
    "## Ejercicio 1"
   ]
  },
  {
   "cell_type": "markdown",
   "metadata": {
    "hidden": true
   },
   "source": [
    "### .\n",
    "\n",
    "Muestre que la inversa de $L_k$ es $L^{-1}_k = I + l_ke_k^T$. Asi, la inversa de una matriz triangular inferior elemental es otra matriz triangular inferior elemental. "
   ]
  },
  {
   "cell_type": "markdown",
   "metadata": {
    "hidden": true
   },
   "source": [
    "Sabemos que, si la matriz es invertible, entonces $L_kL_k^{-1} = I$. \n",
    "\n",
    "Procedemos por contradiccion. Supongamos que $L^{-1}_k \\neq I + l_ke_k^T$, de manera que $L_k(I + l_ke_k^T) \\neq I$; si desarrolamos lo anterior resulta que\n",
    "\n",
    "\\begin{eqnarray*}\n",
    "    L_k(I + l_ke_k^T) &\\neq& I \\\\\n",
    "    (I - l_ke_k^T)(I + l_ke_k^T) &\\neq& I \\\\\n",
    "    I^2 - (l_ke_k^T)^2 &\\neq& I \\\\\n",
    "    I - (l_ke_k^T)^2 &\\neq& I \\\\ \n",
    "\\end{eqnarray*}\n",
    "\n",
    "lo cual es cierto siempre que $(l_ke_k^T)^2 \\neq \\bar{0}$. Sin embargo, por la manera en que estan definidas $l_ke_k^T$, $(l_ke_k^T)^2 = 0$. Por lo que llegamos auna contradicion y $L^{-1}_k = I + l_ke_k^T$.\n"
   ]
  },
  {
   "cell_type": "markdown",
   "metadata": {
    "hidden": true
   },
   "source": [
    "### .\n",
    "\n",
    "Muestre que $L^{-1}_{k-1}L^{-1}_k = I + l_{k-1}e^T_k + l_ke^t_k$ y con esto demostrar que \n",
    "\n",
    "\\begin{equation*} L = L^{-1}_1 L^{-1}_2 \\dots L^{-1}_{n-1} = I + \\sum_{k=1}^{n-1}l_ke_k^T\n",
    "\\end{equation*}\n",
    "\n",
    "por lo que $L$ es una matriz triangular inferior con 1's en la diagonal\n"
   ]
  },
  {
   "cell_type": "markdown",
   "metadata": {
    "hidden": true
   },
   "source": [
    "\\textbf{Parte 1} Por definicion y el punto anterior\n",
    "\n",
    "\\begin{eqnarray*}\n",
    "    L_{k-1}^{-1}L_{k}^{-1} &=& (I + l_{k-1}e_{k-1}^T)(I + l_ke_k^T) \\\\\n",
    "        &=& I^2 + l_{k-1}e_{k-1}^T(l_ke_k^T) + l_{k-1}e_{k-1}^T + l_ke_k^T \\\\\n",
    "        &&\\text{y como sabemos que la multiplicacion de las submatrices $l,e$ es 0} \\\\\n",
    "        &=& I + \\bar{0} + l_{k-1}e_{k-1}^T + l_ke_k^T \\\\\n",
    "        &=& I + l_{k-1}e_{k-1}^T + l_ke_k^T \n",
    "\\end{eqnarray*}\n",
    "\n",
    "\\textbf{Parte 2} ..."
   ]
  },
  {
   "cell_type": "markdown",
   "metadata": {},
   "source": [
    "## Ejercicio 2"
   ]
  },
  {
   "cell_type": "code",
   "execution_count": 3,
   "metadata": {
    "ExecuteTime": {
     "end_time": "2020-09-26T04:39:36.441360Z",
     "start_time": "2020-09-26T04:39:35.189864Z"
    },
    "code_folding": [
     0,
     4,
     12
    ]
   },
   "outputs": [],
   "source": [
    "def show1D( x,sz,/, max_sz=8, show=True):\n",
    "    \"\"\" Funcion que recibe un arreglo 1D y, en caso de\n",
    "    que no sea muy grande, lo imprime en pantalla. En\n",
    "    caso de que lo sea, imprime datos representativos.\n",
    "        Input:\n",
    "            x := Apuntador al arreglo 1D para imprimir\n",
    "            sz := Tamanio del arreglo. (para la imple_\n",
    "                mentacion en python es inecesario, pe_\n",
    "                ro lo solicita el ejercicio)\n",
    "            max_sz := Maximo de elementos a imprimir\n",
    "            prnt := Indica si el string obtenido se \n",
    "                debe imprimir en pantalla\n",
    "        Output:\n",
    "            Esta funcion regresa\n",
    "            \n",
    "        _Doctest:\n",
    "            >>> show1D([1,2,3,8,5,6,7,8,9,0], 10, prnt=False)\n",
    "            '1, 2, 3, 8, ... , 7, 8, 9, 0'\n",
    "            \n",
    "            >>> show1D([1,2,3,8], 4, prnt=False)\n",
    "            '1, 2, 3, 8'\n",
    "    \"\"\"\n",
    "    ret = '=('\n",
    "    \n",
    "    if sz <= max_sz:\n",
    "        ret = str(x)[1:-1]\n",
    "    else:\n",
    "        mid = max_sz//2\n",
    "        \n",
    "        ret = str(x[ :mid])[1:-1]\n",
    "        ret += ', ... , '\n",
    "        ret += str(x[-mid:])[1:-1]\n",
    "    \n",
    "    if show: print(ret)\n",
    "    return ret       "
   ]
  },
  {
   "cell_type": "code",
   "execution_count": 4,
   "metadata": {
    "ExecuteTime": {
     "end_time": "2020-09-26T04:39:36.511105Z",
     "start_time": "2020-09-26T04:39:36.444887Z"
    },
    "code_folding": []
   },
   "outputs": [],
   "source": [
    "def forwardSubstitution( L, n, b, t,/,dtype=np.float64):\n",
    "    \"\"\" Funcion que implementa el metodo desustitucion pa_\n",
    "    ra adelante dada una matriz triangular inferior.\n",
    "        Input:\n",
    "            L := apuntador a la matriz L\n",
    "            n := tamanio de la matriz L\n",
    "            b := apuntador al vector b\n",
    "            t := tolerancia de 0's\n",
    "        Otput:\n",
    "            ret := vector x de respuestas si se encontro, o\n",
    "                None en caso de que hay habido algun error\n",
    "                \n",
    "        _Doctest:\n",
    "            >>> forwardSubstitution(np.matrix([[1,0],[0,1]]), 1, np.matrix([[3,4]]), 0.1)\n",
    "            matrix([[3.],\n",
    "                    [4.]])\n",
    "    \"\"\"\n",
    "\n",
    "    if len(L) == b.size:\n",
    "        n = len(L)\n",
    "        # verificamos que la matriz tenga solucion\n",
    "        for i in range(n):\n",
    "            if abs(L[i,i]) <= t:\n",
    "                print(\"Err: 0 o casi cero en diagonal\")\n",
    "                return None\n",
    "        \n",
    "        x = np.zeros((n), dtype=dtype)\n",
    "        for i in range(n):\n",
    "            x[i] = (b[0,i] - np.sum([L[i,j]*x[j] for j in range(i-1)],\n",
    "                                    dtype=dtype)\n",
    "                   )/L[i,i]\n",
    "\n",
    "        return np.asmatrix(x, dtype=dtype).transpose()\n",
    "    \n",
    "    else:\n",
    "        print(\"Err: dimensiones\")\n",
    "        return None"
   ]
  },
  {
   "cell_type": "code",
   "execution_count": 5,
   "metadata": {
    "ExecuteTime": {
     "end_time": "2020-09-26T04:39:37.214791Z",
     "start_time": "2020-09-26T04:39:36.512726Z"
    },
    "code_folding": []
   },
   "outputs": [
    {
     "name": "stdout",
     "output_type": "stream",
     "text": [
      "5 5\n",
      "[ 0.33006882]\n",
      " [-0.78428134]\n",
      " [ 0.70227498]\n",
      " [ 0.48272233]\n",
      " [-0.61319569]\n",
      "Error =\n",
      " 12.755173555608748\n",
      "\n",
      "\n",
      "50 50\n",
      "Err: 0 o casi cero en diagonal\n",
      "El sistema no tiene solucion.\n",
      "Y es singular.\n",
      "\n",
      "\n",
      "500 500\n",
      "[ 1.27622082]\n",
      " [ 1.39905809]\n",
      " [-3.80410368]\n",
      " [ 2.83344826], ... , [ 4.01907914e+110]\n",
      " [ 8.50132313e+110]\n",
      " [-6.48257593e+110]\n",
      " [ 1.66110939e+111]\n",
      "Error =\n",
      " 8.245074985591727e+111\n",
      "\n",
      "\n"
     ]
    }
   ],
   "source": [
    "def readFile(file,/, path='datos/npy/', ext='.npy', dtype=np.float64):\n",
    "    \"\"\" Funcion para cargar los archivos en memoria en el \n",
    "    formato que se meustra en el punto 4 del ejercicio 2.\n",
    "    No lleva el path, ni la extension, solo el nombre del\n",
    "    archivo. Por default trata de leer los archivos npy\n",
    "        Input:\n",
    "            file := nombre del archivo sin extension\n",
    "            path := directorio para buscar el archivo\n",
    "            ext := extension del archivo a buscar\n",
    "            dtype := tipo de dato para guardar los valores\n",
    "    \"\"\"\n",
    "    try:\n",
    "        return np.asmatrix(np.load(file= str(path+file+ext), \n",
    "                                   allow_pickle=False),\n",
    "                          dtype=dtype)\n",
    "    except:\n",
    "        raise Exception(\"Error al encontrar el archivo solicitado.\")\n",
    "        \n",
    "def Ejercicio2(f_L, f_b):\n",
    "    \"\"\" Programa para ejecutar el ejercicio 2. espera el nombre\n",
    "    de los archivos de la matriz y el vector soluciones para \n",
    "    funcionar.\n",
    "    \"\"\"\n",
    "    L = readFile(f_L)\n",
    "    b = readFile(f_b)\n",
    "    dtype = np.float64\n",
    "    t = (2.2e-16)**(2/3) # De la tarea 1 y como estamos usando flaot64\n",
    "    \n",
    "    print(len(L), b.size)\n",
    "    \n",
    "    x = forwardSubstitution(L, len(L), b, t, dtype=dtype)\n",
    "    \n",
    "    if not x is None:\n",
    "        show1D(x, len(x))\n",
    "        error = np.linalg.norm(L*x-b.transpose()) #Norma de numpy\n",
    "        print(f'Error =\\n {error}')\n",
    "    else:\n",
    "        print(\"El sistema no tiene solucion.\\nY es singular.\")\n",
    "\n",
    "\n",
    "if notebook:    \n",
    "    for sz in [5, 50, 500]:\n",
    "        Ejercicio2('matL'+str(sz), 'vecb'+str(sz))\n",
    "        print('\\n')"
   ]
  },
  {
   "cell_type": "markdown",
   "metadata": {
    "heading_collapsed": true
   },
   "source": [
    "#### Como ejecutar\n",
    "Para ejecutar en consola se necesita estar en el mismo directorio que la carpeta de la tarea `datos`. Como nombre de los archivos no se espera la direccion completa ni la extension del archivo. Se infiere automatincamente que los datos sera obtenidos del subdirectorio `datos/npy` y con la extension `.npy`. De manera qu la ejecucion debe parecerse a lo siguiente\n",
    "```console\n",
    "python3 Tarea3.py Ejercicio2 matL5 vecb5\n",
    "```\n",
    "lo que debe producir la salida\n",
    "\n",
    "![Ejemplo ejecucion consola](assets/T3-E2.png)\n",
    "\n"
   ]
  },
  {
   "cell_type": "markdown",
   "metadata": {},
   "source": [
    "## Ejercicio 3\n",
    "\n",
    "[Norma de Numpy](https://numpy.org/doc/stable/reference/generated/numpy.linalg.norm.html)"
   ]
  },
  {
   "cell_type": "code",
   "execution_count": 19,
   "metadata": {
    "ExecuteTime": {
     "end_time": "2020-09-26T04:47:31.057738Z",
     "start_time": "2020-09-26T04:47:31.042304Z"
    },
    "code_folding": []
   },
   "outputs": [],
   "source": [
    "def backwardSubstitution( U, n, b, t,/,dtype=np.float64):\n",
    "    \"\"\" Funcion que implementa el metodo desustitucion pa_\n",
    "    ra atras dada una matriz triangular inferior.\n",
    "        Input:\n",
    "            U := apuntador a la matriz U\n",
    "            n := tamanio de la matriz U\n",
    "            b := apuntador al vector b\n",
    "            t := tolerancia de 0's\n",
    "        Otput:\n",
    "            ret := vector x de respuestas si se encontro, o\n",
    "                None en caso de que hay habido algun error\n",
    "                \n",
    "    \"\"\"\n",
    "    \n",
    "    if len(U) == b.size:\n",
    "        n = len(U)\n",
    "        \n",
    "        # verificamos que la matriz tenga solucion\n",
    "        for i in range(n):\n",
    "            if abs(U[i,i]) <= t:\n",
    "                print(\"Err: 0 o casi cero en diagonal\")\n",
    "                return None\n",
    "        \n",
    "        x = np.zeros((n), dtype=dtype)\n",
    "        for i in range(n-1, -1, -1):\n",
    "            x[i] = (b[0,i] - np.sum([U[i,j]*x[j] for j in range(i+1-1, n)],\n",
    "                                    dtype=dtype)\n",
    "                   )/U[i,i]\n",
    "\n",
    "        return np.asmatrix(x, dtype=dtype).transpose()\n",
    "    \n",
    "    else:\n",
    "        print(\"Err: dimensiones\")\n",
    "        return None\n"
   ]
  },
  {
   "cell_type": "code",
   "execution_count": 20,
   "metadata": {
    "ExecuteTime": {
     "end_time": "2020-09-26T04:47:32.243890Z",
     "start_time": "2020-09-26T04:47:32.094575Z"
    },
    "code_folding": [],
    "collapsed": true
   },
   "outputs": [
    {
     "name": "stdout",
     "output_type": "stream",
     "text": [
      "5 5\n",
      "Err: 0 o casi cero en diagonal\n",
      "El sistema no tiene solucion.\n",
      "Y es singular.\n",
      "\n",
      "\n",
      "50 50\n",
      "[ 1.76160471e+15]\n",
      " [-4.50692072e+15]\n",
      " [ 7.27394101e+13]\n",
      " [ 6.62574710e+14], ... , [-2.96030701]\n",
      " [ 1.04582814]\n",
      " [ 2.64891114]\n",
      " [-0.38446395]\n",
      "Error =\n",
      " 15.155075012507066\n",
      "\n",
      "\n",
      "500 500\n",
      "[ 7.41601169e+141]\n",
      " [-4.27114460e+142]\n",
      " [-1.15567637e+141]\n",
      " [ 6.22209212e+141], ... , [-3.67045535]\n",
      " [ 1.29204355]\n",
      " [ 0.70500787]\n",
      " [ 1.29749623]\n",
      "Error =\n",
      " 1.9978749809209134e+128\n",
      "\n",
      "\n"
     ]
    }
   ],
   "source": [
    "\n",
    "def Ejercicio3(f_U, f_b):\n",
    "    \"\"\" Programa para ejecutar el ejercicio 3. espera el nombre\n",
    "    de los archivos de la matriz y el vector soluciones para \n",
    "    funcionar.\n",
    "    \"\"\"\n",
    "    U = readFile(f_U)\n",
    "    b = readFile(f_b)\n",
    "    dtype = np.float64\n",
    "    t = (2.2e-16)**(2/3) # De la tarea 1 y como estamos usando flaot64\n",
    "    \n",
    "    print(len(U), b.size)\n",
    "    \n",
    "    x = backwardSubstitution(U, len(U), b, t, dtype=dtype)\n",
    "    \n",
    "    if not x is None:\n",
    "        show1D(x, len(x))\n",
    "        error = np.linalg.norm(U*x-b.transpose()) #Norma de numpy\n",
    "        print(f'Error =\\n {error}')\n",
    "    else:\n",
    "        print(\"El sistema no tiene solucion.\\nY es singular.\")\n",
    "\n",
    "\n",
    "if notebook:    \n",
    "    for sz in [5, 50, 500]:\n",
    "        Ejercicio3('matU'+str(sz), 'vecb'+str(sz))\n",
    "        print('\\n')"
   ]
  },
  {
   "cell_type": "code",
   "execution_count": 38,
   "metadata": {
    "ExecuteTime": {
     "end_time": "2020-09-26T05:18:15.939801Z",
     "start_time": "2020-09-26T05:18:15.926239Z"
    }
   },
   "outputs": [
    {
     "data": {
      "text/plain": [
       "numpy.float64"
      ]
     },
     "execution_count": 38,
     "metadata": {},
     "output_type": "execute_result"
    }
   ],
   "source": [
    "U = readFile('matU50')\n",
    "b = readFile('vecb50').transpose()\n",
    "\n",
    "backwardSubstitution2 = lambda a,b: solve_triangular(a, b, lower=False)\n",
    "\n",
    "type(backwardSubstitution2(U, b)[0,0])"
   ]
  },
  {
   "cell_type": "markdown",
   "metadata": {},
   "source": [
    "#### Como ejecutar\n",
    "\n",
    "Para ejecutar en consola se necesita estar en el mismo directorio que la carpeta de la tarea `datos`. Como nombre de los archivos no se espera la direccion completa ni la extension del archivo. Se infiere automatincamente que los datos sera obtenidos del subdirectorio `datos/npy` y con la extension `.npy`. De manera qu la ejecucion debe parecerse a lo siguiente\n",
    "```console\n",
    "python3 Tarea3.py Ejercicio3 matU5 vecb5\n",
    "```\n",
    "lo que debe producir la salida\n",
    "\n",
    "![Ejemplo ejecucion consola](assets/T3-E3.png)"
   ]
  },
  {
   "cell_type": "code",
   "execution_count": null,
   "metadata": {},
   "outputs": [],
   "source": []
  }
 ],
 "metadata": {
  "hide_input": false,
  "kernelspec": {
   "display_name": "MN-env",
   "language": "python",
   "name": "mn-env"
  },
  "language_info": {
   "codemirror_mode": {
    "name": "ipython",
    "version": 3
   },
   "file_extension": ".py",
   "mimetype": "text/x-python",
   "name": "python",
   "nbconvert_exporter": "python",
   "pygments_lexer": "ipython3",
   "version": "3.8.2"
  },
  "latex_envs": {
   "LaTeX_envs_menu_present": true,
   "autoclose": false,
   "autocomplete": true,
   "bibliofile": "biblio.bib",
   "cite_by": "apalike",
   "current_citInitial": 1,
   "eqLabelWithNumbers": true,
   "eqNumInitial": 1,
   "hotkeys": {
    "equation": "Ctrl-E",
    "itemize": "Ctrl-I"
   },
   "labels_anchors": false,
   "latex_user_defs": false,
   "report_style_numbering": false,
   "user_envs_cfg": false
  },
  "toc": {
   "base_numbering": 1,
   "nav_menu": {},
   "number_sections": true,
   "sideBar": true,
   "skip_h1_title": true,
   "title_cell": "Indice",
   "title_sidebar": "Contenido",
   "toc_cell": false,
   "toc_position": {},
   "toc_section_display": true,
   "toc_window_display": false
  },
  "varInspector": {
   "cols": {
    "lenName": 16,
    "lenType": 16,
    "lenVar": 40
   },
   "kernels_config": {
    "python": {
     "delete_cmd_postfix": "",
     "delete_cmd_prefix": "del ",
     "library": "var_list.py",
     "varRefreshCmd": "print(var_dic_list())"
    },
    "r": {
     "delete_cmd_postfix": ") ",
     "delete_cmd_prefix": "rm(",
     "library": "var_list.r",
     "varRefreshCmd": "cat(var_dic_list()) "
    }
   },
   "types_to_exclude": [
    "module",
    "function",
    "builtin_function_or_method",
    "instance",
    "_Feature"
   ],
   "window_display": false
  }
 },
 "nbformat": 4,
 "nbformat_minor": 4
}
