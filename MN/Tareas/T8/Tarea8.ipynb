{
 "cells": [
  {
   "cell_type": "markdown",
   "metadata": {},
   "source": [
    "# Tarea 8\n",
    "\n",
    "_Tarea 8_ de _Benjamín Rivera_ para el curso de __Métodos Numéricos__ impartido por _Joaquín Peña Acevedo_. Fecha limite de entrega __1 de Noviembre de 2020__."
   ]
  },
  {
   "cell_type": "code",
   "execution_count": 1,
   "metadata": {},
   "outputs": [],
   "source": [
    "\n",
    "import matplotlib.pyplot as plt\n",
    "import numpy as np\n",
    "import numpy.linalg as LA\n",
    "import scipy as sp\n",
    "import seaborn as sns\n",
    "\n",
    "from scipy.linalg import solve_triangular # Para backward y forward substitution\n",
    "from scipy.linalg import svdvals\n",
    "\n",
    "\n",
    "NOTEBOOK = True"
   ]
  },
  {
   "cell_type": "markdown",
   "metadata": {
    "pycharm": {
     "name": "#%% md\n"
    }
   },
   "source": [
    "## Ejercicio 1\n",
    "\n",
    "Programar y probar el método de descomposición en valores singulares. Anque algoritmo permite factorizar una matriz rectangular, el programa se va a probar con matrices cuadradas para revisar su número de condición y el uso de la factorización para resolver sistemas de ecuaciones."
   ]
  },
  {
   "cell_type": "markdown",
   "metadata": {},
   "source": [
    "### Implementar Algoritmo 1\n",
    "\n",
    "Escriba una función que implemente el Algoritmo 1 para obtener las matrices U, V y el arreglo s de la descomposición en valores singulares de una matriz A."
   ]
  },
  {
   "cell_type": "code",
   "execution_count": 2,
   "metadata": {},
   "outputs": [
    {
     "name": "stdout",
     "output_type": "stream",
     "text": [
      "[[0.00699 0.557   0.211  ]\n",
      " [0.8823  0.5234  0.873  ]\n",
      " [0.1685  0.4473  0.3882 ]]\n",
      "\n",
      "[[0.3032 0.7275 0.7104]\n",
      " [0.956  0.709  0.4727]\n",
      " [0.1611 0.85   0.8247]]\n",
      "\n",
      "[0.9999067265913241, 0.3135876751977431, 0.585319352113929]\n",
      "\n",
      "------------------------------------\n",
      "[[0.00699 0.211   0.557  ]\n",
      " [0.8823  0.873   0.5234 ]\n",
      " [0.1685  0.3882  0.4473 ]]\n",
      "\n",
      "[[0.3032 0.7104 0.7275]\n",
      " [0.956  0.4727 0.709 ]\n",
      " [0.1611 0.8247 0.85  ]]\n",
      "\n",
      "[0.9999067265913241, 0.585319352113929, 0.3135876751977431]\n",
      "\n"
     ]
    }
   ],
   "source": [
    "def reordenar_matriz(mat, orden):\n",
    "    if type(mat) == np.matrix:\n",
    "        return np.concatenate([mat[:, i] for i in orden],\n",
    "                              axis=1)\n",
    "    else:\n",
    "        return [mat[i] for i in orden]\n",
    "        \n",
    "\n",
    "def ordenar(M1: np.matrix, M2: np.matrix, v: list) -> tuple:\n",
    "    \"\"\" Funcion para reordenar las columnas de las\n",
    "    matrices como se pide en Algoritmo 1.\n",
    "    \"\"\"\n",
    "    # Buscamos el orden en funcion de s O(nlog n)\n",
    "    orden = [i for i in range(len(v))]\n",
    "    orden.sort(key=lambda i: v[i],\n",
    "               reverse=True)\n",
    "    # -------------------------------\n",
    "    # Reordenamos los recibidos O(3n)\n",
    "    M1 = reordenar_matriz(M1, orden)\n",
    "    M2 = reordenar_matriz(M2, orden)\n",
    "    v = reordenar_matriz(v, orden)\n",
    "    # --------------------------\n",
    "    # Regresamos los reordenados\n",
    "    return M1, M2, v\n",
    "\n",
    "\n",
    "if NOTEBOOK and True:\n",
    "    \"\"\" Parte para probar el uso de ordenar. \"\"\"\n",
    "    n = 3\n",
    "    U = np.matrix(np.random.rand(n, n), dtype=np.float16)\n",
    "    V = np.matrix(np.random.rand(n, n), dtype=np.float16)\n",
    "    s = list(np.random.rand(1, n).flatten())\n",
    "    print(U, end='\\n\\n')\n",
    "    print(V, end='\\n\\n')\n",
    "    print(s, end='\\n\\n')\n",
    "\n",
    "    print('-'*n*12)\n",
    "    U, V, s = ordenar(U, V, s)\n",
    "    print(U, end='\\n\\n')\n",
    "    print(V, end='\\n\\n')\n",
    "    print(s, end='\\n\\n')\n"
   ]
  },
  {
   "cell_type": "code",
   "execution_count": 3,
   "metadata": {
    "collapsed": false,
    "jupyter": {
     "outputs_hidden": false
    },
    "pycharm": {
     "name": "#%%\n"
    }
   },
   "outputs": [],
   "source": [
    "def Algoritmo1(A: np.matrix, m: int, n: int, T=None, N=100, dtype=np.float64):\n",
    "    \"\"\" Descomopsocion en valores singulares. \n",
    "    \n",
    "    Input:\n",
    "        A := Matriz de mxn con columnas $a_i, i\\in [0,n]$\n",
    "    \"\"\"\n",
    "    # En caso de no pasar tolerancia lo ponemos al epsilon del tipo de dato\n",
    "    if T is None:\n",
    "        T = np.finfo(dtype).eps ** (1 / 2)\n",
    "\n",
    "    if not isinstance(A, np.matrix):\n",
    "        try:\n",
    "            A = np.matrix(A)\n",
    "        except:\n",
    "            raise Exception(\"=( nshe k pz\")\n",
    "\n",
    "    # Inicializar valores\n",
    "    V = np.matrix(np.identity(n), \n",
    "                  dtype=dtype)\n",
    "    k = 0\n",
    "    F = 1\n",
    "\n",
    "    while k < N and F > 0:\n",
    "        k = k+1\n",
    "        F = 0\n",
    "        for i in range(n-1):\n",
    "            for j in range(i+1, n):\n",
    "                alpha = dtype(A[:, i].transpose()*A[:, i])\n",
    "                gamma = dtype(A[:, j].transpose()*A[:, j])\n",
    "                beta  = dtype(A[:, i].transpose()*A[:, j])\n",
    "\n",
    "                if alpha*gamma > np.finfo(dtype).eps and abs(beta) > T*alpha*gamma:\n",
    "                    F = 1\n",
    "                    if beta != 0:\n",
    "                        nu = (gamma - alpha)/(2*beta)\n",
    "                        t = 1/(abs(nu) + np.sqrt(1 + nu**2))\n",
    "                        if nu < 0:\n",
    "                            t = -t\n",
    "                        c = 1/np.sqrt(1 + t**2)\n",
    "                        s = t*c\n",
    "                    else:\n",
    "                        c = 1\n",
    "                        s = 0\n",
    "                    \n",
    "                    # Modificacion de A\n",
    "                    a = A[:, i]\n",
    "                    b = A[:, j]\n",
    "                    \n",
    "                    A[:, i] = c*a - s*b\n",
    "                    A[:, j] = s*a + c*b\n",
    "\n",
    "                    # Modificacion de V\n",
    "                    a = V[:, i]\n",
    "                    b = V[:, j]\n",
    "                    \n",
    "                    V[:, i] = c*a - s*b\n",
    "                    V[:, j] = s*a + c*b\n",
    "    \n",
    "    s = []\n",
    "    for j in range(n):\n",
    "        s.append(LA.norm(A[:, j].flatten()\n",
    "                         , 2))\n",
    "\n",
    "    A, V, s = ordenar(A, V, s)\n",
    "    \n",
    "    U = np.matrix(np.zeros((m, n)),\n",
    "                  dtype=dtype)\n",
    "    for j in range(n):\n",
    "        U[:, j] = A[:, j]/s[j]\n",
    "\n",
    "    return U, V, s\n"
   ]
  },
  {
   "cell_type": "markdown",
   "metadata": {
    "pycharm": {
     "name": "#%% md\n"
    }
   },
   "source": [
    "### Funcion de solucion\n",
    "\n",
    "Escriba una función que calcule una aproximación de la solución del sistema $Ax = b$ usando la descomposición en valores singulares de la siguiente manera. La función recibe las matrices $U$ y $V$ , el arreglo $s$ con los valores singulares (calculados con la funcion del inciso anterior), su tamaño n (por matrices cuadradas) y un ı́ndice k. La función debe devolver el vector\n",
    "$$\n",
    "    x = \\sum_{i=1}^k \\frac{u_i^T b}{s_i} v_i\n",
    "$$\n",
    "donde $u_i, v_i$ son los i-esimas columnas de las matrices $U, V$ (correpondientemente).\n",
    "\n",
    "#### Nota\n",
    "\n",
    "Dado que la expresion requiere del vector $b$, que es el vector de terminos dependientes del sistema, este tambien sera pasado a la funcion a pesar de que no se pido en el enunciado. Hay que tener cuidado con sus dimensiones."
   ]
  },
  {
   "cell_type": "code",
   "execution_count": 35,
   "metadata": {},
   "outputs": [],
   "source": [
    "def aproximacion_solucion(U: np.matrix, V: np.matrix, s: list, \n",
    "                          b: np.matrix, n: int, k: int):\n",
    "    return sum([ ((b*U[:,i].transpose())\n",
    "                  /s[i])*V[:, i] \n",
    "               for i in range(k)])"
   ]
  },
  {
   "cell_type": "markdown",
   "metadata": {},
   "source": [
    "### Interfaz 1\n",
    "\n",
    "Escriba un programa que reciba desde la lı́nea de comandos el nombre de un archivo que contiene una matriz.\n",
    "\n",
    "Lea el archivo para crear la matriz $A$ y use la función del primer inciso para calcular su descomposición en valores singulares tomando $\\tau = \\sqrt{\\epsilon_m}$\n",
    "\n",
    "Imprima la siguiente información:\n",
    " 1. Dimensiones $m, n$\n",
    " 2. El valor del error de la ortogonalidad de $U$, $||I - U^TU||$\n",
    " 3. El valor del error de la ortogonalidad de $V$, $||I - V^TV||$\n",
    " 4. Crear la matriz $S$ con $s$ en su diagonal e imprimir $||A - USV^T ||$.\n",
    " 5. El numero de condicion de la matriz $k_2 = \\frac{s_1}{s_n}$\n",
    " \n",
    "Puede eligir la norma matricial para calcular los errores."
   ]
  },
  {
   "cell_type": "code",
   "execution_count": 5,
   "metadata": {
    "collapsed": false,
    "jupyter": {
     "outputs_hidden": false
    },
    "pycharm": {
     "name": "#%%\n"
    }
   },
   "outputs": [],
   "source": [
    "def load_matrix(file_name: str, \n",
    "                path = \"datos/\", ext=\".npy\", \n",
    "                dtype=np.float64) -> np.matrix:\n",
    "    \"\"\" Funcion para cargar una matriz de un archivo. \"\"\"\n",
    "    if ext == \".npy\":\n",
    "        return np.matrix(np.load(path+file_name+ext, \n",
    "                                 allow_pickle=True),\n",
    "                         dtype=dtype)\n",
    "    \n",
    "    else:\n",
    "        \"\"\" Sin fomato especifico, esperamoe esta en texto\n",
    "        con condificacion estandar 'utf-8' e iran siendo \n",
    "        ingresados como fuera de esperarse.\n",
    "        \"\"\"\n",
    "        return np.matrix(np.loadtxt(path+file_name+ext),\n",
    "                         dtype=dtype)"
   ]
  },
  {
   "cell_type": "code",
   "execution_count": 6,
   "metadata": {
    "collapsed": false,
    "jupyter": {
     "outputs_hidden": false
    },
    "pycharm": {
     "name": "#%%\n"
    }
   },
   "outputs": [],
   "source": [
    "def proceso( file_name: str, path = \"datos/\", ext=\".npy\", show=True):\n",
    "    lon = 100\n",
    "    dtype = np.float64\n",
    "    \n",
    "    # Cargar matriz\n",
    "    A = load_matrix(file_name, path, ext, \n",
    "                    dtype=dtype)\n",
    "    szA = A.shape\n",
    "    # Descomposicion\n",
    "    U, V, s = Algoritmo1(A, szA[0], szA[1])\n",
    "    \n",
    "    I = np.identity(szA[1])\n",
    "    # Errores ortogonalidad\n",
    "    errU = LA.norm( I - U.transpose()*U)\n",
    "    errV = LA.norm( I - V.transpose()*V)\n",
    "    \n",
    "    # Error de la factorizacion\n",
    "    S = np.diag(s)\n",
    "    errS = LA.norm( A - U*S*V.transpose())\n",
    "    \n",
    "    # Condicion de matrix\n",
    "    k2 = s[1]/s[-1]\n",
    "    \n",
    "    if show:\n",
    "        print('-'*lon)\n",
    "        print(f\"Dimensiones\\n\\t m={szA[0]}, n={szA[1]}\")\n",
    "        print(f\"Errores ortogonaldad\")\n",
    "        print(f\"\\t U -> {errU}\")\n",
    "        print(f\"\\t V -> {errV}\")\n",
    "        print(f\"Error factorizacion\")\n",
    "        print(f\"\\t s -> {s}\")\n",
    "        print(f\"\\t S -> {errS}\")\n",
    "        print(f\"Condicion de matriz\\n\\t {k2}\")\n",
    "        print('-'*lon)\n",
    "    \n",
    "    return U, V, s\n"
   ]
  },
  {
   "cell_type": "code",
   "execution_count": 7,
   "metadata": {},
   "outputs": [
    {
     "name": "stdout",
     "output_type": "stream",
     "text": [
      "----------------------------------------------------------------------------------------------------\n",
      "Dimensiones\n",
      "\t m=5, n=5\n",
      "Errores ortogonaldad\n",
      "\t U -> 2.122411848634482e-08\n",
      "\t V -> 1.2914954894440789\n",
      "Error factorizacion\n",
      "\t s -> [5.668182669132584, 5.539783461443808, 3.580430538421286, 0.9564239531731384, 0.45613123053785987]\n",
      "\t S -> 6.20438087415781\n",
      "Condicion de matriz\n",
      "\t 12.14515273359252\n",
      "----------------------------------------------------------------------------------------------------\n",
      "[[ 0.24507182 -0.90270864  1.0648785   0.83548115  0.41287544]\n",
      " [ 0.71778638 -1.33941771  0.55354223  0.4567546  -1.03591622]\n",
      " [-1.74882695 -1.18155014  1.0253082  -2.96266235  1.00376056]\n",
      " [ 1.45478487  0.01716455 -1.22855353 -2.85284197 -0.34251647]\n",
      " [ 0.12012564  0.00428951 -0.54711507 -1.57187169  0.50304521]]\n",
      "[4.62546674 3.18677891 2.15964637 0.85253219 0.20911506]\n"
     ]
    }
   ],
   "source": [
    "if NOTEBOOK:\n",
    "    U, V, s = proceso('matA5')\n",
    "    S = np.diag(s)\n",
    "    A = U*S*V.transpose()\n",
    "    print(A)\n",
    "    print(svdvals(A))"
   ]
  },
  {
   "cell_type": "markdown",
   "metadata": {},
   "source": [
    "Aqui note que no esta funcionando mi Algoritmo 1, creo que el problema esta en el calculo de la norma. Cuando este resultado es comparado contra las funciones implementadas en nmumpy, los valores difieren por mucho."
   ]
  },
  {
   "cell_type": "markdown",
   "metadata": {},
   "source": [
    "### Pruebas\n",
    "\n",
    "Genere el vector $x$ que tiene sus entradas iguales a $1$ y calcule el vector $b = Ax$.\n",
    "\n",
    "Use la función del inciso 2 para calcular la solución $x_1$ del sistema de ecuaciones\n",
    "usando $k = n$. Imprima las primeras y últimas entradas del vector $x_1$ y reporte el\n",
    "error $||x − x_1||$ y $||Ax_1 − b||$."
   ]
  },
  {
   "cell_type": "code",
   "execution_count": 44,
   "metadata": {},
   "outputs": [
    {
     "name": "stdout",
     "output_type": "stream",
     "text": [
      "----------------------------------------------------------------------------------------------------\n",
      "Dimensiones\n",
      "\t m=5, n=5\n",
      "Errores ortogonaldad\n",
      "\t U -> 2.122411848634482e-08\n",
      "\t V -> 1.2914954894440789\n",
      "Error factorizacion\n",
      "\t s -> [5.668182669132584, 5.539783461443808, 3.580430538421286, 0.9564239531731384, 0.45613123053785987]\n",
      "\t S -> 6.20438087415781\n",
      "Condicion de matriz\n",
      "\t 12.14515273359252\n",
      "----------------------------------------------------------------------------------------------------\n",
      "[[ 1.9834636 ]\n",
      " [-3.8776106 ]\n",
      " [-3.999597  ]\n",
      " [-6.15011408]\n",
      " [-2.49258567]]\n",
      "[[ 1.01183074]\n",
      " [-1.97809812]\n",
      " [-2.04032744]\n",
      " [-3.13737771]\n",
      " [-1.27155084]]\n",
      "6.355362840222379\n",
      "40.38798399875771\n"
     ]
    },
    {
     "ename": "TypeError",
     "evalue": "'list' object cannot be interpreted as an integer",
     "output_type": "error",
     "traceback": [
      "\u001b[0;31m---------------------------------------------------------------------------\u001b[0m",
      "\u001b[0;31mTypeError\u001b[0m                                 Traceback (most recent call last)",
      "\u001b[0;32m<ipython-input-44-15962d939156>\u001b[0m in \u001b[0;36m<module>\u001b[0;34m\u001b[0m\n\u001b[1;32m     18\u001b[0m     ks = ([k for k in range(len(s)-1)\n\u001b[1;32m     19\u001b[0m           if s[k] > eps**(2/3) and s[k+1] <= eps**(2/3)])\n\u001b[0;32m---> 20\u001b[0;31m     \u001b[0msol2\u001b[0m \u001b[0;34m=\u001b[0m \u001b[0maproximacion_solucion\u001b[0m\u001b[0;34m(\u001b[0m\u001b[0mU\u001b[0m\u001b[0;34m,\u001b[0m \u001b[0mV\u001b[0m\u001b[0;34m,\u001b[0m \u001b[0ms\u001b[0m\u001b[0;34m,\u001b[0m \u001b[0mb\u001b[0m\u001b[0;34m,\u001b[0m \u001b[0mn\u001b[0m\u001b[0;34m,\u001b[0m \u001b[0mks\u001b[0m\u001b[0;34m)\u001b[0m\u001b[0;34m\u001b[0m\u001b[0;34m\u001b[0m\u001b[0m\n\u001b[0m\u001b[1;32m     21\u001b[0m     \u001b[0mprint\u001b[0m\u001b[0;34m(\u001b[0m\u001b[0msol2\u001b[0m\u001b[0;34m)\u001b[0m\u001b[0;34m\u001b[0m\u001b[0;34m\u001b[0m\u001b[0m\n\u001b[1;32m     22\u001b[0m     \u001b[0mprint\u001b[0m\u001b[0;34m(\u001b[0m\u001b[0mLA\u001b[0m\u001b[0;34m.\u001b[0m\u001b[0mnorm\u001b[0m\u001b[0;34m(\u001b[0m\u001b[0mx\u001b[0m \u001b[0;34m-\u001b[0m \u001b[0msol\u001b[0m\u001b[0;34m)\u001b[0m\u001b[0;34m)\u001b[0m\u001b[0;34m\u001b[0m\u001b[0;34m\u001b[0m\u001b[0m\n",
      "\u001b[0;32m<ipython-input-35-098f5df2ac65>\u001b[0m in \u001b[0;36maproximacion_solucion\u001b[0;34m(U, V, s, b, n, k)\u001b[0m\n\u001b[1;32m      3\u001b[0m     return sum([ ((b*U[:,i].transpose())\n\u001b[1;32m      4\u001b[0m                   /s[i])*V[:, i] \n\u001b[0;32m----> 5\u001b[0;31m                for i in range(k)])\n\u001b[0m",
      "\u001b[0;31mTypeError\u001b[0m: 'list' object cannot be interpreted as an integer"
     ]
    }
   ],
   "source": [
    "if NOTEBOOK:\n",
    "    n = 5\n",
    "    file_name = 'matA' + str(n)\n",
    "    \n",
    "    A = load_matrix(file_name)\n",
    "    U, V, s = proceso(file_name)\n",
    "    \n",
    "    x = np.matrix([1 for n in range(n)]).transpose()\n",
    "    b = A*x\n",
    "    \n",
    "    print(b)\n",
    "    sol = aproximacion_solucion(U, V, s, b, n, n)\n",
    "    print(sol)\n",
    "    print(LA.norm(x - sol))\n",
    "    print(LA.norm(A*sol - b))\n",
    "    \n",
    "    eps = np.finfo(float).eps\n",
    "    ks = ([k for k in range(len(s)-1)\n",
    "          if s[k] > eps**(2/3) and s[k+1] <= eps**(2/3)])\n",
    "    sol2 = aproximacion_solucion(U, V, s, b, n, ks)\n",
    "    print(sol2)\n",
    "    print(LA.norm(x - sol))\n",
    "    print(LA.norm(A*sol - b))"
   ]
  },
  {
   "cell_type": "code",
   "execution_count": null,
   "metadata": {},
   "outputs": [],
   "source": []
  }
 ],
 "metadata": {
  "kernelspec": {
   "display_name": "PyCharm (MN)",
   "language": "python",
   "name": "pycharm-27de4704"
  },
  "language_info": {
   "codemirror_mode": {
    "name": "ipython",
    "version": 3
   },
   "file_extension": ".py",
   "mimetype": "text/x-python",
   "name": "python",
   "nbconvert_exporter": "python",
   "pygments_lexer": "ipython3",
   "version": "3.8.5"
  },
  "toc-autonumbering": true
 },
 "nbformat": 4,
 "nbformat_minor": 4
}
