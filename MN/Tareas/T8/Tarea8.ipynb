{
 "cells": [
  {
   "cell_type": "markdown",
   "metadata": {},
   "source": [
    "# Tarea 8\n",
    "\n",
    "_Tarea 8_ de _Benjamín Rivera_ para el curso de __Métodos Numéricos__ impartido por _Joaquín Peña Acevedo_. Fecha limite de entrega __1 de Noviembre de 2020__."
   ]
  },
  {
   "cell_type": "code",
   "execution_count": 1,
   "metadata": {},
   "outputs": [],
   "source": [
    "\n",
    "import matplotlib.pyplot as plt\n",
    "import numpy as np\n",
    "from numpy import linalg as LA\n",
    "import seaborn as sns\n",
    "import scipy as sp\n",
    "from scipy.linalg import solve_triangular # Para backward y forward substitution\n",
    "\n",
    "NOTEBOOK = True"
   ]
  },
  {
   "cell_type": "markdown",
   "metadata": {
    "pycharm": {
     "name": "#%% md\n"
    }
   },
   "source": [
    "## Ejercicio 1\n",
    "\n",
    "Programar y probar el método de descomposición en valores singulares. Anque algoritmo permite factorizar una matriz rectangular, el programa se va a probar con matrices cuadradas para revisar su número de condición y el uso de la factorización para resolver sistemas de ecuaciones."
   ]
  },
  {
   "cell_type": "markdown",
   "metadata": {},
   "source": [
    "### Implementar Algoritmo 1\n",
    "\n",
    "Escriba una función que implemente el Algoritmo 1 para obtener las matrices U, V y el arreglo s de la descomposición en valores singulares de una matriz A."
   ]
  },
  {
   "cell_type": "code",
   "execution_count": 2,
   "metadata": {},
   "outputs": [
    {
     "name": "stdout",
     "output_type": "stream",
     "text": [
      "[[0.538  0.771 ]\n",
      " [0.4976 0.785 ]]\n",
      "\n",
      "[[0.9023 0.3386]\n",
      " [0.744  0.1248]]\n",
      "\n",
      "[0.70038923 0.98527191]\n",
      "\n",
      "------------------------\n",
      "[[0.771  0.538 ]\n",
      " [0.785  0.4976]]\n",
      "\n",
      "[[0.3386 0.9023]\n",
      " [0.1248 0.744 ]]\n",
      "\n",
      "[0.9852719110897654, 0.7003892272142301]\n",
      "\n"
     ]
    }
   ],
   "source": [
    "def reordenar_matriz(mat, orden):\n",
    "    if type(mat) == np.matrix:\n",
    "        return np.concatenate([mat[:,i] for i in orden], \n",
    "                              axis=1)\n",
    "    else:\n",
    "        return [mat[i] for i in orden]\n",
    "        \n",
    "\n",
    "def ordenar(M1: np.matrix, M2: np.matrix, v: list) -> tuple:\n",
    "    \"\"\" Funcion para reordenar las columnas de las\n",
    "    matrices como se pide en Algoritmo 1.\n",
    "    \"\"\"\n",
    "    # Buscamos el orden en funcion de s O(nlog n)\n",
    "    orden = [i for i in range(len(v))]\n",
    "    orden.sort(key=lambda i: v[i],\n",
    "               reverse=True)\n",
    "    # -------------------------------\n",
    "    # Reordenamos los recibidos O(3n)\n",
    "    M1 = reordenar_matriz(M1, orden)\n",
    "    M2 = reordenar_matriz(M2, orden)\n",
    "    v  = reordenar_matriz(v, orden) \n",
    "    # --------------------------\n",
    "    # Regresamos los reordenados\n",
    "    return M1, M2, v\n",
    "\n",
    "\n",
    "if NOTEBOOK and True:\n",
    "    \"\"\" Parte para probar el uso de ordenar. \"\"\"\n",
    "    n = 3\n",
    "    U = np.matrix(np.random.rand(n, n), dtype=np.float16)\n",
    "    V = np.matrix(np.random.rand(n, n), dtype=np.float16)\n",
    "    s = np.random.rand(1, n).flatten()\n",
    "    print(U, end='\\n\\n')\n",
    "    print(V, end='\\n\\n')\n",
    "    print(s, end='\\n\\n')\n",
    "\n",
    "    print('-'*n*12)\n",
    "    U, V, s = ordenar(U, V, s)\n",
    "    print(U, end='\\n\\n')\n",
    "    print(V, end='\\n\\n')\n",
    "    print(s, end='\\n\\n')"
   ]
  },
  {
   "cell_type": "code",
   "execution_count": 3,
   "metadata": {
    "collapsed": false,
    "jupyter": {
     "outputs_hidden": false
    },
    "pycharm": {
     "name": "#%%\n"
    }
   },
   "outputs": [],
   "source": [
    "# Algoritmo 1\n",
    "def Algoritmo1(A: np.matrix, m: int, n: int, T=None, N=100, dtype=np.float64):\n",
    "    \"\"\" Descomopsocion en valores singulares. \n",
    "    \n",
    "    Input:\n",
    "        A := Matriz de mxn con columnas $a_i, i\\in [0,n]$\n",
    "    \"\"\"\n",
    "    # En caso de no pasar tolerancia lo ponemos al epsilon del tipo de dato\n",
    "    if T is None:\n",
    "        T = (np.finfo(dtype).eps)**(1/2)\n",
    "    if not isinstance(A, np.matrix):\n",
    "        try:\n",
    "            A = np.matrix(A)\n",
    "        except:\n",
    "            raise Exception(\"=( nshe k pz\")\n",
    "\n",
    "    # Inicializar valores\n",
    "    V = np.matrix(np.identity(n), \n",
    "                  dtype=dtype)\n",
    "    k = 0\n",
    "    F = 1\n",
    "\n",
    "    while k < N and F > 0:\n",
    "        k = k+1\n",
    "        F = 0\n",
    "        for i in range(n-1):\n",
    "            for j in range(i+1, n):\n",
    "                alpha = A[:, i].transpose()*A[:, i]\n",
    "                gamma = A[:, j].transpose()*A[:, j]\n",
    "                beta  = A[:, i].transpose()*A[:, j]\n",
    "                \n",
    "                if alpha*gamma > np.finfo(dtype).eps and abs(beta) > T*alpha*gamma:\n",
    "                    F = 1\n",
    "                    if beta != 0:\n",
    "                        nu = (gamma - alpha)/(2*beta)\n",
    "                        t = 1/(abs(nu) + np.sqrt(1 + nu**2))\n",
    "                        if nu < 0:\n",
    "                            t *= -1\n",
    "                        c = 1/np.sqrt(1 + t**2)\n",
    "                        s = t*c\n",
    "                    else:\n",
    "                        c = 1; s = 0; t = 0\n",
    "                    \n",
    "                    # Modificacion de A\n",
    "                    a = A[:, i]\n",
    "                    b = A[:, j]\n",
    "                    \n",
    "                    A[:, i] = a*c - b*s\n",
    "                    A[:, j] = a*s + b*c\n",
    "                    \n",
    "                    # Modificacion de V\n",
    "                    a = V[:, i]\n",
    "                    b = V[:, j]\n",
    "                    \n",
    "                    V[:, i] = a*c - b*s\n",
    "                    V[:, j] = a*s + b*c\n",
    "    \n",
    "    s = []\n",
    "    for j in range(n):\n",
    "        s.append( LA.norm(A[:, j], 2) )\n",
    "        \n",
    "    A, V, s = ordenar(A, V, s)\n",
    "    \n",
    "    U = np.identity(n)\n",
    "    for j in range(n):\n",
    "        U[:, j] = np.reshape(A[:, j]/s[j], \n",
    "                             (5))\n",
    "\n",
    "    return U, V, s\n"
   ]
  },
  {
   "cell_type": "markdown",
   "metadata": {},
   "source": [
    "### Funcion de solucion\n",
    "\n",
    "Escriba una función que calcule una aproximación de la solución del sistema $Ax = b$ usando la descomposición en valores singulares de la siguiente manera. La función recibe las matrices $U$ y $V$ , el arreglo $s$ con los valores singulares (calculados con la funcion del inciso anterior), su tamaño n (por matrices cuadradas) y un ı́ndice k. La función debe devolver el vector\n",
    "$$\n",
    "    x = \\sum_{i=1}^k \\frac{u_i^T b}{s_i} v_i\n",
    "$$\n",
    "donde $u_i, v_i$ son los i-esimas columnas de las matrices $U, V$ (correpondientemente).\n",
    "\n",
    "#### Nota\n",
    "\n",
    "Dado que la expresion requiere del vector $b$, que es el vector de terminos dependientes del sistema, este tambien sera pasado a la funcion a pesar de que no se pido en el enunciado. Hay que tener cuidado con sus dimensiones."
   ]
  },
  {
   "cell_type": "code",
   "execution_count": 4,
   "metadata": {},
   "outputs": [],
   "source": [
    "def aproximacion_solucion(U: np.matrix, V: np.matrix, s: list, \n",
    "                          b: np.matrix, n: int, k: int):\n",
    "    return sum([ (U[:,i].transpose()*b)/s[i]*V[:, i] \n",
    "               for i in range(k)])"
   ]
  },
  {
   "cell_type": "markdown",
   "metadata": {},
   "source": [
    "### Interfaz 1\n",
    "\n",
    "Escriba un programa que reciba desde la lı́nea de comandos el nombre de un archivo que contiene una matriz.\n",
    "\n",
    "Lea el archivo para crear la matriz $A$ y use la función del primer inciso para calcular su descomposición en valores singulares tomando $\\tau = \\sqrt{\\epsilon_m}$\n",
    "\n",
    "Imprima la siguiente información:\n",
    " 1. Dimensiones $m, n$\n",
    " 2. El valor del error de la ortogonalidad de $U$, $||I - U^TU||$\n",
    " 3. El valor del error de la ortogonalidad de $V$, $||I - V^TV||$\n",
    " 4. Crear la matriz $S$ con $s$ en su diagonal e imprimir $||A - USV^T ||$.\n",
    " 5. El numero de condicion de la matriz $k_2 = \\frac{s_1}{s_n}$\n",
    " \n",
    "Puede eligir la norma matricial para calcular los errores."
   ]
  },
  {
   "cell_type": "code",
   "execution_count": 5,
   "metadata": {},
   "outputs": [],
   "source": [
    "def load_matrix(file_name: str, \n",
    "                path = \"datos/\", ext=\".npy\", \n",
    "                dtype=np.float64) -> np.matrix:\n",
    "    \"\"\" Funcion para cargar una matriz de un archivo. \"\"\"\n",
    "    if ext == \".npy\":\n",
    "        return np.matrix(np.load(path+file_name+ext, \n",
    "                                 allow_pickle=True),\n",
    "                         dtype=dtype)\n",
    "    \n",
    "    else:\n",
    "        \"\"\" Sin fomato especifico, esperamoe esta en texto\n",
    "        con condificacion estandar 'utf-8' e iran siendo \n",
    "        ingresados como fuera de esperarse.\n",
    "        \"\"\"\n",
    "        return np.matrix(np.loadtxt(path+file_name+ext),\n",
    "                         dtype=dtype)"
   ]
  },
  {
   "cell_type": "code",
   "execution_count": 6,
   "metadata": {},
   "outputs": [],
   "source": [
    "def proceso( file_name: str, path = \"datos/\", ext=\".npy\"):\n",
    "    lon = 100\n",
    "    dtype = np.float64\n",
    "    \n",
    "    # Cargar matriz\n",
    "    A = load_matrix(file_name, path, ext, \n",
    "                    dtype=dtype)\n",
    "    szA = A.shape\n",
    "    # Descomposicion\n",
    "    U, V, s = Algoritmo1(A, szA[0], szA[1])\n",
    "    \n",
    "    I = np.identity(szA[1])\n",
    "    # Errores ortogonalidad\n",
    "    errU = LA.norm( I - U.transpose()*U)\n",
    "    errV = LA.norm( I - V.transpose()*V)\n",
    "    \n",
    "    # Error de la factorizacion\n",
    "    S = np.diag(s)\n",
    "    errS = LA.norm( A - U*S*V.transpose())\n",
    "    \n",
    "    # Condicion de matrix\n",
    "    k2 = s[1]/s[-1]\n",
    "    \n",
    "    print('-'*lon)\n",
    "    print(f\"Dimensiones\\n\\t m={szA[0]}, n={szA[1]}\")\n",
    "    print(f\"Errores ortogonaldad\")\n",
    "    print(f\"\\t U -> {errU}\")\n",
    "    print(f\"\\t V -> {errV}\")\n",
    "    print(f\"Error factorizacion\")\n",
    "    print(f\"\\t s -> {s}\")\n",
    "    print(f\"\\t S -> {errS}\")\n",
    "    print(f\"Condicion de matriz\\n\\t {k2}\")\n",
    "    print('-'*lon)\n",
    "    \n",
    "    return U, V, s\n"
   ]
  },
  {
   "cell_type": "code",
   "execution_count": 7,
   "metadata": {},
   "outputs": [
    {
     "name": "stdout",
     "output_type": "stream",
     "text": [
      "----------------------------------------------------------------------------------------------------\n",
      "Dimensiones\n",
      "\t m=5, n=5\n",
      "Errores ortogonaldad\n",
      "\t U -> 2.159797139132583\n",
      "\t V -> 1.2914954894440789\n",
      "Error factorizacion\n",
      "\t s -> [5.668182669132584, 5.539783461443808, 3.580430538421286, 0.9564239531731384, 0.45613123053785987]\n",
      "\t S -> 8.639275173885142\n",
      "Condicion de matriz\n",
      "\t 12.14515273359252\n",
      "----------------------------------------------------------------------------------------------------\n",
      "\n",
      "[[ 0.10398117  0.31954811 -0.25864805  0.87770245  0.22319612]\n",
      " [ 0.22477076  0.0194396  -0.88716441 -0.20741222 -0.34499231]\n",
      " [-0.8542392   0.44376759 -0.20876335 -0.14546838  0.09274987]\n",
      " [-0.32990332 -0.80044237 -0.28505351  0.14900366  0.38340348]\n",
      " [-0.31639408 -0.24469052  0.14561203  0.378491   -0.82192642]]\n",
      "[[ 0.2051436  -0.33894322 -0.20452588  0.609412    0.2277852 ]\n",
      " [ 0.10715603 -0.15408889  0.4647943  -0.35385843  0.33778523]\n",
      " [-0.01099174  0.3471795  -0.19830619  0.2933302   0.26409681]\n",
      " [ 0.73371923  0.29410531  0.16241412  0.05177398 -0.10460559]\n",
      " [-0.19292378  0.12785815  0.21605645  0.59658682 -0.00472268]]\n",
      "[5.668182669132584, 5.539783461443808, 3.580430538421286, 0.9564239531731384, 0.45613123053785987]\n"
     ]
    }
   ],
   "source": [
    "if True:\n",
    "    _ = proceso('matA5')\n",
    "    \n",
    "    print()\n",
    "    print(_[0])\n",
    "    print(_[1])\n",
    "    print(_[2])"
   ]
  },
  {
   "cell_type": "code",
   "execution_count": 8,
   "metadata": {},
   "outputs": [
    {
     "name": "stdout",
     "output_type": "stream",
     "text": [
      "\n",
      "[[-0.26838471 -0.27706406  0.05167968 -0.62186223  0.67957468]\n",
      " [ 0.04712463 -0.69107825  0.59874707 -0.09076397 -0.39173201]\n",
      " [-0.69562312  0.42522753  0.56039866  0.14533697 -0.01097891]\n",
      " [ 0.64516575  0.2878811   0.56644176  0.09281572  0.41402247]\n",
      " [ 0.16005797  0.42655877  0.06267565 -0.75849303 -0.4617241 ]]\n",
      "[10.0453801   7.58073142  6.06264573  1.05694463  0.8686526 ]\n",
      "[[ 0.64592571  0.1089041  -0.71639276 -0.02889685 -0.23846647]\n",
      " [-0.23331282  0.25227594 -0.3553973  -0.60494665  0.62422295]\n",
      " [ 0.10007065 -0.45205192  0.18905183 -0.76223517 -0.41096457]\n",
      " [-0.25781745  0.7743371   0.07353165 -0.18175952 -0.5435888 ]\n",
      " [ 0.67220616  0.34720003  0.56508997 -0.13843967  0.29849421]]\n",
      "[10.0453801   7.58073142  6.06264573  1.05694463  0.8686526 ]\n"
     ]
    }
   ],
   "source": [
    "from scipy.linalg import svdvals\n",
    "\n",
    "if True:\n",
    "    A = load_matrix('matA5', dtype=np.float64)\n",
    "    _ = np.linalg.svd(A)\n",
    "    \n",
    "    print()\n",
    "    print(_[0])\n",
    "    print(_[1])\n",
    "    print(_[2])\n",
    "    \n",
    "    print(svdvals(A))"
   ]
  },
  {
   "cell_type": "code",
   "execution_count": null,
   "metadata": {},
   "outputs": [],
   "source": []
  }
 ],
 "metadata": {
  "kernelspec": {
   "display_name": "PyCharm (MN)",
   "language": "python",
   "name": "pycharm-27de4704"
  },
  "language_info": {
   "codemirror_mode": {
    "name": "ipython",
    "version": 3
   },
   "file_extension": ".py",
   "mimetype": "text/x-python",
   "name": "python",
   "nbconvert_exporter": "python",
   "pygments_lexer": "ipython3",
   "version": "3.8.5"
  },
  "toc-autonumbering": true
 },
 "nbformat": 4,
 "nbformat_minor": 4
}
