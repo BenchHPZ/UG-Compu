{
 "cells": [
  {
   "cell_type": "markdown",
   "metadata": {},
   "source": [
    "# Tarea 6\n",
    "\n",
    "_Tarea 6_ de _Benjamín Rivera_ para el curso de __Métodos Numéricos__ impartido por _Joaquín Peña Acevedo_. Fecha limite de entrega __11 de Octubre de 2020__."
   ]
  },
  {
   "cell_type": "markdown",
   "metadata": {},
   "source": [
    "### Como ejecutar"
   ]
  },
  {
   "cell_type": "markdown",
   "metadata": {},
   "source": [
    "##### Requerimientos\n",
    "\n",
    "Este programa se ejecuto en mi computadora con la version de __Python 3.8.2__ y con estos\n",
    "[requerimientos](https://github.com/BenchHPZ/UG-Compu/blob/master/MN/requerimientos.txt)\n",
    "\n",
    "#### Jupyter\n",
    "\n",
    "En caso de tener acceso a un _servidor jupyter_ ,con los requerimientos antes mencionados, unicamente basta con ejecutar todas las celdas de este _notebook_. Probablemente no todas las celdas de _markdown_ produzcan el mismo resultado por las \n",
    "[_Nbextensions_](jupyter-contrib-nbextensions.readthedocs.io).\n",
    "\n",
    "#### Consola\n",
    "\n",
    "Habrá archivos e instrucciones para poder ejecutar cada uno de los ejercicios desde la consola.\n",
    "\n",
    "#### Si todo sale mal\n",
    "\n",
    "<a href=\"https://colab.research.google.com/gist/BenchHPZ/\">\n",
    "    <img src=\"../../../assets/colab-badge.svg\" \n",
    "         alt=\"Open In Colab\"/>\n",
    "</a>\n",
    "\n",
    "En caso de que todo salga mal, tratare de dejar una copia disponible en __GoogleColab__ que se pueda ejecutar con la versión de __Python__ de _GoogleColab_"
   ]
  },
  {
   "cell_type": "code",
   "execution_count": 1,
   "metadata": {
    "ExecuteTime": {
     "end_time": "2020-10-06T17:17:27.365200Z",
     "start_time": "2020-10-06T17:17:26.303368Z"
    },
    "init_cell": true
   },
   "outputs": [],
   "source": [
    "usage = \"\"\"\n",
    "Programa correspondiente a la Tarea 6 de Metodos Numericos. \n",
    "Este programa espera leer los archivos de tipo npy\n",
    "\n",
    "Alumno: Benjamin Rivera\n",
    "\n",
    "Usage:\n",
    "  Tarea6.py ejercicio1 <d> <tabla> <n> [--path=<path>]\n",
    "  Tarea6.py -h | --help\n",
    "\n",
    "Options:\n",
    "  -h --help       Show this screen.\n",
    "  -v --version    Show version.\n",
    "  --path=<path>   Directorio para buscar archivos [default: data/].\n",
    "\"\"\"\n",
    "\n",
    "import sys\n",
    "import seaborn as sns\n",
    "import scipy\n",
    "\n",
    "import numpy as np\n",
    "import matplotlib.pyplot as plt\n",
    "from scipy.linalg import solve_triangular # Para backward y forward substitution\n",
    "\n",
    "NOTEBOOK = True\n",
    "\n",
    "\n",
    "if __name__ == \"__main__\" and not NOTEBOOK:\n",
    "\n",
    "    import doctest\n",
    "    from docopt import docopt\n",
    "    \n",
    "    doctest.testmod()\n",
    "    args = docopt(usage, version='Tarea6. Benjamin Rivera')\n",
    "    \n",
    "\n",
    "    if args['ejercicio1']:\n",
    "        Ejercicio1(args['<d>'], args['<tabla>'], args['<n>'], path=args['--path'])"
   ]
  },
  {
   "cell_type": "markdown",
   "metadata": {},
   "source": [
    "## Ejercicio 1"
   ]
  },
  {
   "cell_type": "code",
   "execution_count": 2,
   "metadata": {
    "ExecuteTime": {
     "end_time": "2020-10-06T17:09:48.455284Z",
     "start_time": "2020-10-06T17:09:48.434667Z"
    },
    "code_folding": []
   },
   "outputs": [],
   "source": [
    "# De otros archivos\n",
    "\n",
    "def show1D(vec,/, max_sz=8, show=True):\n",
    "    \"\"\" Implementacion para pprint vector 1D.\n",
    "    \n",
    "    Funcion para generar string para poder imporimir un\n",
    "    vector de manera reducida, dando un maximo de elementos \n",
    "    a imprimir. Lo puede imprimir directamente si se quiere\n",
    "    \n",
    "    Input:\n",
    "        vec := vector de informacion a imprimir.\n",
    "        [opcionales]\n",
    "        max_sz := Maximo de elementos a imprimir.\n",
    "        show := Imprimir vector\n",
    "        \n",
    "    _Doctest:\n",
    "        >>> show1D([1,2,3,4], show=False)\n",
    "        '1, 2, 3, 4'\n",
    "        \n",
    "        >>> show1D([1,2,3,4,5,6,7,8,9], show=False)\n",
    "        '1, 2, 3, 4, ..., 6, 7, 8, 9'\n",
    "    \"\"\"\n",
    "    n=0\n",
    "    # En caso de que venga de instancia de np.data\n",
    "    try:\n",
    "        shape = vec.shape\n",
    "        if len(shape) < 2:\n",
    "            raise Exception('Array 1D')\n",
    "        else:\n",
    "            if shape[0] == 1:\n",
    "                get = lambda i: vec[0,i]\n",
    "                n = shape[1]\n",
    "            elif shape[1] == 1:\n",
    "                get = lambda i: vec[i,0]\n",
    "                n = shape[0]\n",
    "            else:\n",
    "                raise Exception('No arreglo 1D')\n",
    "    \n",
    "    except AttributeError:\n",
    "        get = lambda i: vec[i]\n",
    "        n = len(vec)\n",
    "    except Exception as e:\n",
    "        if e == 'No arreglo 1D':\n",
    "            print(e)\n",
    "    \n",
    "    ret = '  '\n",
    "    if n <= max_sz:\n",
    "        for i in range(n): ret += str(get(i))+', '\n",
    "    else:\n",
    "        for i in range(4): ret += str(get(i))+', '\n",
    "        ret += '..., '\n",
    "        for i in range(4): ret += str(get(-(4-i)))+', '\n",
    "    \n",
    "    ret = ret[2:-2]\n",
    "    if show: print(ret)\n",
    "    return ret        "
   ]
  },
  {
   "cell_type": "code",
   "execution_count": 3,
   "metadata": {
    "ExecuteTime": {
     "end_time": "2020-10-06T17:09:48.609147Z",
     "start_time": "2020-10-06T17:09:48.460278Z"
    },
    "code_folding": [
     3
    ]
   },
   "outputs": [],
   "source": [
    "# Parte 1\n",
    "# Matriz traspuesta\n",
    "'''\n",
    "def traspuesta(A,/, dtype=np.float32):\n",
    "    \"\"\" Funcion que regresa la matriz traspuesta. \"\"\"\n",
    "    sz = A.shape\n",
    "    ret = np.zeros((sz[1], sz[0]),\n",
    "                   dtype=dtype)\n",
    "    \n",
    "    for i in range(sz[0]):\n",
    "        for j in range(sz[1]):\n",
    "            ret[j,i] = A[i,j]\n",
    "            \n",
    "    return ret\n",
    "'''\n",
    "#  Demostracion de poder X'D\n",
    "# en el programa se usara la implementacion de numpy para las clases matrix,\n",
    "# array, etc... de la funcion transpose\n",
    "None"
   ]
  },
  {
   "cell_type": "code",
   "execution_count": 4,
   "metadata": {
    "ExecuteTime": {
     "end_time": "2020-10-06T17:09:48.807284Z",
     "start_time": "2020-10-06T17:09:48.615795Z"
    },
    "code_folding": [
     3
    ]
   },
   "outputs": [],
   "source": [
    "# Parte 2\n",
    "# Producto de matrices\n",
    "'''\n",
    "def prodMat(A, B,/, dtype=np.float32):\n",
    "    szA = A.shape\n",
    "    szB = B.shape\n",
    "    \n",
    "    if szA[1] == szB[0]:\n",
    "        ret = np.zeros((szA[0], szB[1]), dtype=dtype)\n",
    "        \n",
    "        for i in range(szA[0]):\n",
    "            for j in range(szB[1]):\n",
    "                ret[i,j] = sum(A[i,k]*B[k,j] for k in range(szA[1]))\n",
    "        return ret\n",
    "    else:\n",
    "        raise Exception(\"No coinciden las dimensiones\")\n",
    "'''\n",
    "#  Demostracion de poder X'D\n",
    "# en el programa se usara la implementacion de numpy para las clases matrix,\n",
    "# array, etc... de la aritmetica de matrices A@B\n",
    "None"
   ]
  },
  {
   "cell_type": "code",
   "execution_count": 5,
   "metadata": {
    "ExecuteTime": {
     "end_time": "2020-10-06T17:09:49.219931Z",
     "start_time": "2020-10-06T17:09:48.809681Z"
    },
    "code_folding": []
   },
   "outputs": [
    {
     "ename": "NameError",
     "evalue": "name 'A' is not defined",
     "output_type": "error",
     "traceback": [
      "\u001b[0;31m---------------------------------------------------------------------------\u001b[0m",
      "\u001b[0;31mNameError\u001b[0m                                 Traceback (most recent call last)",
      "\u001b[0;32m<ipython-input-5-5012ae749038>\u001b[0m in \u001b[0;36m<module>\u001b[0;34m\u001b[0m\n\u001b[1;32m     28\u001b[0m     \u001b[0;32mreturn\u001b[0m \u001b[0mA\u001b[0m\u001b[0;34m\u001b[0m\u001b[0;34m\u001b[0m\u001b[0m\n\u001b[1;32m     29\u001b[0m \u001b[0;34m\u001b[0m\u001b[0m\n\u001b[0;32m---> 30\u001b[0;31m \u001b[0mminimosCuadrados\u001b[0m\u001b[0;34m(\u001b[0m\u001b[0mA\u001b[0m\u001b[0;34m,\u001b[0m \u001b[0mb\u001b[0m\u001b[0;34m)\u001b[0m\u001b[0;34m\u001b[0m\u001b[0;34m\u001b[0m\u001b[0m\n\u001b[0m",
      "\u001b[0;31mNameError\u001b[0m: name 'A' is not defined"
     ]
    }
   ],
   "source": [
    "# Parte 3\n",
    "# Solucion de minimos cuadrados\n",
    "\n",
    "def minimosCuadrados(A, b,/, dtype=np.float64):\n",
    "    \"\"\" Funcion que calcula la solucion de minimos cuadrados.\n",
    "    \n",
    "    Funcion que calcula la solucion de minimos cuadrado. Para\n",
    "    esto se basa de funciones ya implementadas para calcular\n",
    "    A^t@A y A^tb, para luego calcular la solucion del sitema\n",
    "    A^t@Ax = A^tb con fact de Cholesky.\n",
    "    \n",
    "    La funcion devuelve la solucion del sistema x si se encontro\n",
    "    y None en caso de que no se haya encontrado.\n",
    "    \n",
    "    A pesar de que la funcion tambien pide que se pasen las\n",
    "    dimensiones de las matrices, la forma pythonica no lo \n",
    "    requiere; por lo que seran obtenidas dentro del metodo.\n",
    "    \n",
    "    Input:\n",
    "        A := apuntador a matriz A\n",
    "        b := apuntador a vector b\n",
    "        \n",
    "    Output:\n",
    "        x := si existe sus valors; None en otro caso\n",
    "    \"\"\"\n",
    "    x = None\n",
    "    \n",
    "    return A\n",
    "\n",
    "minimosCuadrados(A, b)"
   ]
  },
  {
   "cell_type": "code",
   "execution_count": 6,
   "metadata": {
    "ExecuteTime": {
     "end_time": "2020-10-06T17:09:57.967785Z",
     "start_time": "2020-10-06T17:09:57.871712Z"
    },
    "code_folding": [
     2,
     18,
     44,
     45,
     72,
     87,
     116,
     118,
     126
    ]
   },
   "outputs": [
    {
     "name": "stdout",
     "output_type": "stream",
     "text": [
      "Seguro que quieres usar grado 2 para aproximar?\n",
      "\n",
      "In da function :3\n",
      "\n",
      "[[12221.22857083 12221.22857083   936.07742583]\n",
      " [12221.22857083 12221.22857083   936.07742583]\n",
      " [  936.07742583   936.07742583   100.        ]]\n"
     ]
    }
   ],
   "source": [
    "# PArte 4\n",
    "\n",
    "def f_polinomio(coef):\n",
    "    \"\"\" Funcion que genera una funcion polinomial de una \n",
    "    variable dados sus coeficientes\n",
    "    \n",
    "    _Doctest\n",
    "        >>> (f_polinomio([1,0,0]))(2)\n",
    "        4\n",
    "        \n",
    "        >>> (f_polinomio([1,0]))(123)\n",
    "        123\n",
    "    \"\"\"\n",
    "    coef = np.ravel(coef)\n",
    "    grado = len(coef)-1\n",
    "    \n",
    "    return lambda x: sum([coef[n]*x**(grado-n) for n in range(grado+1)])\n",
    "\n",
    "def get2Dvec(path,/, dtype=np.float64, info=True):\n",
    "    \"\"\" Funcion para cargar vector 2D.\n",
    "    \n",
    "    Esta funcion tratara de cargar un vector 2D de unarchivo\n",
    "    de texto que tenga dos columnas (correspondientes a dos\n",
    "    vectores y separada por un espacio) con k filas (donde k\n",
    "    es el tamanio de los vectores que estan separados por \\n)\n",
    "    \n",
    "    Los datos los guardaremos en una instancia de np.matrix\n",
    "    \n",
    "    Input:\n",
    "        path := direccion del archivo para cargar los\n",
    "            vectores\n",
    "            \n",
    "        dtype := tipo de dato para usar\n",
    "        info := Indica si queremos extraer la informacion\n",
    "    Output:\n",
    "        (ret, info)\n",
    "        ret := np.matrix de (2,k)\n",
    "        info := Para evitar tener que hacer otro recorrido\n",
    "            sobre el arreglo se puede extraer informacion\n",
    "            en este recorrido\n",
    "            minx := El minimo valor de x\n",
    "            maxx := El maximo valor de x\n",
    "    \"\"\"\n",
    "    \n",
    "    try:\n",
    "        if info: #Declarar info\n",
    "            ret_info = {'minx':  np.Inf,\n",
    "                        'maxx': -np.Inf}\n",
    "        \n",
    "        with open(path, 'r') as file:\n",
    "            \n",
    "            ret = [[],[]]\n",
    "            for line in file:\n",
    "                line = list(map(lambda x:dtype(x), \n",
    "                                line.split(' ')))\n",
    "                ret[0].append( line[0] )\n",
    "                ret[1].append( line[1] )\n",
    "                \n",
    "                # Extrar info\n",
    "                if info:\n",
    "                    # min\n",
    "                    ret_info['minx'] = min(ret_info['minx'], line[0])\n",
    "                    # max\n",
    "                    ret_info['maxx'] = max(ret_info['maxx'], line[0])\n",
    "        \n",
    "        if info:\n",
    "            return np.matrix(ret, dtype=dtype), ret_info\n",
    "        else:\n",
    "            return np.matrix(Ret, dtype=dtype)\n",
    "    except:\n",
    "        raise Exception(\"Error al cargar el archivo\")\n",
    "\n",
    "def plot_ej1_1(x, y):\n",
    "    \"\"\" Funcion 1 para graficar resultados. \n",
    "    \n",
    "    Esta funcion buscca graficar los datos recibidos para poder\n",
    "    tomar la mejor decision respecto al grado a utilizar en la\n",
    "    aproximacion a polinomios.\n",
    "    \n",
    "    Input:\n",
    "        x := Valores de cordenadas x\n",
    "        y := Valores de cordenadas y\n",
    "    \"\"\"\n",
    "    fig, ax = plt.subplots()\n",
    "    sns.scatterplot(x, y, ax=ax)\n",
    "    plt.show()\n",
    "    \n",
    "def plot_ej1_2(x, y, f, rng):\n",
    "    \"\"\" Funcion 2 para graficar resultados\n",
    "    \n",
    "    Esta funcion busca graficar los datos recibidos para mostrar\n",
    "    la posible eproximacion obtenida por el metodo.\n",
    "    Input:\n",
    "        x := Valores de cordenadas x\n",
    "        y := Valores de cordenadas y\n",
    "        f := Funcion polinomica obtenida\n",
    "        rng := particion del rango para graficar\n",
    "    \"\"\"\n",
    "    yf = [f(cx) for cx in rng]\n",
    "    fig, ax = plt.subplots()\n",
    "    sns.scatterplot(x, y, ax=ax)\n",
    "    ax.plot(rng, yf, linestyle= \"-\")\n",
    "    plt.show()\n",
    "\n",
    "\n",
    "def Ejercicio1(d, n_tabla, n,/,path='datos/', dtype=np.float64, plot=True, prnt=True):\n",
    "    n_tabla='puntos2D_conjunto1.txt'\n",
    "    \n",
    "    # Cargar datos\n",
    "    tabla, info = get2Dvec(path+n_tabla, \n",
    "                           dtype=dtype)\n",
    "    # Valores obtenidos\n",
    "    x = np.ravel(tabla[0,:])\n",
    "    y = np.ravel(tabla[1,:])\n",
    "    rng = np.linspace(info['minx'], info['maxx'], num=d)\n",
    "    \n",
    "    if plot: \n",
    "        plot_ej1_1(x,y)\n",
    "    try:\n",
    "        print(f\"Seguro que quieres usar grado {n} para aproximar?\")\n",
    "        #inp = input(\"[S para mantener]: \").lower().strip()\n",
    "        inp = 's'\n",
    "        \n",
    "        if not inp.startswith('s'):\n",
    "            n = np.uint(inp)\n",
    "            if prnt: print(f'n={n}')\n",
    "    except:\n",
    "        if prnt: print(f'Se mantiene n={n}')\n",
    "    \n",
    "    if prnt: print('opt1')\n",
    "    f = np.polynomial.polynomial.Polynomial.fit(x, y, n, domain = (-1, 1))\n",
    "    if plot: plot_ej1_2(x, y, f, rng)\n",
    "        \n",
    "    if prnt: print('opt2')\n",
    "    \n",
    "    sz = len(x)\n",
    "    # Crear matriz a\n",
    "    A = np.ones((sz, n+1), \n",
    "                dtype=dtype)\n",
    "    \n",
    "    for i in range(n):\n",
    "        A[:,i] = tabla[0,:]\n",
    "    # vector y\n",
    "    b = np.matrix(tabla[1,:]).transpose()\n",
    "    \n",
    "    coef = minimosCuadrados(A, b)\n",
    "    #f = f_polinomio(coef)\n",
    "    \n",
    "    if plot: plot_ej1_2(x, y, f, rng)\n",
    "        \n",
    "def minimosCuadrados(A, b,/, dtype=np.float64):\n",
    "    \"\"\" Funcion que calcula la solucion de minimos cuadrados.\n",
    "    \n",
    "    Funcion que calcula la solucion de minimos cuadrado. Para\n",
    "    esto se basa de funciones ya implementadas para calcular\n",
    "    A^t@A y A^tb, para luego calcular la solucion del sitema\n",
    "    A^t@Ax = A^tb con fact de Cholesky.\n",
    "    \n",
    "    La funcion devuelve la solucion del sistema x si se encontro\n",
    "    y None en caso de que no se haya encontrado.\n",
    "    \n",
    "    A pesar de que la funcion tambien pide que se pasen las\n",
    "    dimensiones de las matrices, la forma pythonica no lo \n",
    "    requiere; por lo que seran obtenidas dentro del metodo.\n",
    "    \n",
    "    Input:\n",
    "        A := apuntador a matriz A\n",
    "        b := apuntador a vector b\n",
    "        \n",
    "    Output:\n",
    "        x := si existe sus valors; None en otro caso\n",
    "    \"\"\"\n",
    "    print('\\nIn da function :3\\n')\n",
    "\n",
    "    x = np.zeros((A.shape[0],1))\n",
    "        \n",
    "    At = A.transpose()@A\n",
    "    yt = A.transpose()*b\n",
    "    print(At)\n",
    "    \n",
    "    return A\n",
    "    \n",
    "Ejercicio1(50, None, 2, plot=False, prnt=False)\n"
   ]
  },
  {
   "cell_type": "code",
   "execution_count": null,
   "metadata": {
    "ExecuteTime": {
     "end_time": "2020-10-06T17:09:49.237806Z",
     "start_time": "2020-10-06T17:09:41.762Z"
    }
   },
   "outputs": [],
   "source": [
    "input('prb: ').strip().lower()"
   ]
  },
  {
   "cell_type": "code",
   "execution_count": null,
   "metadata": {},
   "outputs": [],
   "source": []
  },
  {
   "cell_type": "code",
   "execution_count": 4,
   "metadata": {
    "ExecuteTime": {
     "end_time": "2020-10-06T17:21:13.715055Z",
     "start_time": "2020-10-06T17:21:13.660074Z"
    }
   },
   "outputs": [
    {
     "name": "stdout",
     "output_type": "stream",
     "text": [
      "Help on function solChol in module local.Tareas.T4.Tarea4:\n",
      "\n",
      "solChol(A, n, b, /, t=2.220446049250313e-16, dtype=<class 'numpy.float64'>)\n",
      "    Funcion para resolver con Cholesky\n",
      "    \n",
      "    Esta funcion recibira una funcion A simetrica y\n",
      "    positiva. Luego con ella se usara alguna implemen_\n",
      "    tacion de forwardSubstitution para resolver el\n",
      "    sistema Ax=b => LL^Tx=b\n",
      "    \n",
      "        Input:\n",
      "            A := Apuntador a matriz A del sistema\n",
      "            n := tamanio n de matriz A\n",
      "            b := apuntador a vector b del sistema\n",
      "            t := tolerancia de similaridad a cero\n",
      "        \n",
      "        Output:\n",
      "            ret := None si algo salio mal, en otro\n",
      "                caso se regresa el apuntador al \n",
      "                vector de respuestas\n",
      "\n"
     ]
    }
   ],
   "source": [
    "from local.Tareas.T4.Tarea4 import solChol\n",
    "help(solChol)"
   ]
  },
  {
   "cell_type": "code",
   "execution_count": null,
   "metadata": {},
   "outputs": [],
   "source": []
  }
 ],
 "metadata": {
  "hide_input": false,
  "kernelspec": {
   "display_name": "MN-env",
   "language": "python",
   "name": "mn-env"
  },
  "language_info": {
   "codemirror_mode": {
    "name": "ipython",
    "version": 3
   },
   "file_extension": ".py",
   "mimetype": "text/x-python",
   "name": "python",
   "nbconvert_exporter": "python",
   "pygments_lexer": "ipython3",
   "version": "3.8.2"
  },
  "latex_envs": {
   "LaTeX_envs_menu_present": true,
   "autoclose": false,
   "autocomplete": true,
   "bibliofile": "biblio.bib",
   "cite_by": "apalike",
   "current_citInitial": 1,
   "eqLabelWithNumbers": true,
   "eqNumInitial": 1,
   "hotkeys": {
    "equation": "Ctrl-E",
    "itemize": "Ctrl-I"
   },
   "labels_anchors": false,
   "latex_user_defs": false,
   "report_style_numbering": false,
   "user_envs_cfg": false
  },
  "toc": {
   "base_numbering": 1,
   "nav_menu": {},
   "number_sections": true,
   "sideBar": true,
   "skip_h1_title": true,
   "title_cell": "Indice",
   "title_sidebar": "Contenido",
   "toc_cell": false,
   "toc_position": {},
   "toc_section_display": true,
   "toc_window_display": false
  },
  "varInspector": {
   "cols": {
    "lenName": 16,
    "lenType": 16,
    "lenVar": 40
   },
   "kernels_config": {
    "python": {
     "delete_cmd_postfix": "",
     "delete_cmd_prefix": "del ",
     "library": "var_list.py",
     "varRefreshCmd": "print(var_dic_list())"
    },
    "r": {
     "delete_cmd_postfix": ") ",
     "delete_cmd_prefix": "rm(",
     "library": "var_list.r",
     "varRefreshCmd": "cat(var_dic_list()) "
    }
   },
   "types_to_exclude": [
    "module",
    "function",
    "builtin_function_or_method",
    "instance",
    "_Feature"
   ],
   "window_display": false
  }
 },
 "nbformat": 4,
 "nbformat_minor": 4
}
