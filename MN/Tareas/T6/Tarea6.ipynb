{
 "cells": [
  {
   "cell_type": "markdown",
   "metadata": {},
   "source": [
    "# Tarea 6\n",
    "\n",
    "_Tarea 6_ de _Benjamín Rivera_ para el curso de __Métodos Numéricos__ impartido por _Joaquín Peña Acevedo_. Fecha limite de entrega __11 de Octubre de 2020__."
   ]
  },
  {
   "cell_type": "markdown",
   "metadata": {},
   "source": [
    "### Como ejecutar"
   ]
  },
  {
   "cell_type": "markdown",
   "metadata": {},
   "source": [
    "##### Requerimientos\n",
    "\n",
    "Este programa se ejecuto en mi computadora con la version de __Python 3.8.2__ y con estos\n",
    "[requerimientos](https://github.com/BenchHPZ/UG-Compu/blob/master/MN/requerimientos.txt)\n",
    "\n",
    "#### Jupyter\n",
    "\n",
    "En caso de tener acceso a un _servidor jupyter_ ,con los requerimientos antes mencionados, unicamente basta con ejecutar todas las celdas de este _notebook_. Probablemente no todas las celdas de _markdown_ produzcan el mismo resultado por las \n",
    "[_Nbextensions_](jupyter-contrib-nbextensions.readthedocs.io).\n",
    "\n",
    "#### Consola\n",
    "\n",
    "Habrá archivos e instrucciones para poder ejecutar cada uno de los ejercicios desde la consola.\n",
    "\n",
    "#### Si todo sale mal\n",
    "\n",
    "<a href=\"https://colab.research.google.com/gist/BenchHPZ/\">\n",
    "    <img src=\"../../../assets/colab-badge.svg\" \n",
    "         alt=\"Open In Colab\"/>\n",
    "</a>\n",
    "\n",
    "En caso de que todo salga mal, tratare de dejar una copia disponible en __GoogleColab__ que se pueda ejecutar con la versión de __Python__ de _GoogleColab_"
   ]
  },
  {
   "cell_type": "code",
   "execution_count": 68,
   "metadata": {
    "ExecuteTime": {
     "end_time": "2020-10-06T18:36:15.995106Z",
     "start_time": "2020-10-06T18:36:15.977978Z"
    },
    "init_cell": true
   },
   "outputs": [],
   "source": [
    "usage = \"\"\"\n",
    "Programa correspondiente a la Tarea 6 de Metodos Numericos. \n",
    "Este programa espera leer los archivos de tipo npy\n",
    "\n",
    "Alumno: Benjamin Rivera\n",
    "\n",
    "Usage:\n",
    "  Tarea6.py ejercicio1 <d> <tabla> <n> [--path=<path>]\n",
    "  Tarea6.py -h | --help\n",
    "\n",
    "Options:\n",
    "  -h --help       Show this screen.\n",
    "  -v --version    Show version.\n",
    "  --path=<path>   Directorio para buscar archivos [default: data/].\n",
    "\"\"\"\n",
    "\n",
    "import sys\n",
    "import seaborn as sns\n",
    "import scipy\n",
    "\n",
    "import numpy as np\n",
    "import matplotlib.pyplot as plt\n",
    "from scipy.linalg import solve_triangular # Para backward y forward substitution\n",
    "from local.utils import *\n",
    "\n",
    "from local.Tareas.T4.Tarea4 import solChol\n",
    "\n",
    "NOTEBOOK = True\n",
    "\n",
    "\n",
    "if __name__ == \"__main__\" and not NOTEBOOK:\n",
    "\n",
    "    import doctest\n",
    "    from docopt import docopt\n",
    "\n",
    "    doctest.testmod()\n",
    "    args = docopt(usage, version='Tarea6. Benjamin Rivera')\n",
    "\n",
    "\n",
    "    if args['ejercicio1']:\n",
    "        Ejercicio1(args['<d>'], args['<tabla>'], args['<n>'], path=args['--path'])"
   ]
  },
  {
   "cell_type": "markdown",
   "metadata": {},
   "source": [
    "## Ejercicio 1"
   ]
  },
  {
   "cell_type": "code",
   "execution_count": 8,
   "metadata": {
    "ExecuteTime": {
     "end_time": "2020-10-06T17:40:11.131734Z",
     "start_time": "2020-10-06T17:40:11.123906Z"
    },
    "code_folding": [
     3
    ]
   },
   "outputs": [],
   "source": [
    "# Parte 1\n",
    "# Matriz traspuesta\n",
    "'''\n",
    "def traspuesta(A,/, dtype=np.float32):\n",
    "    \"\"\" Funcion que regresa la matriz traspuesta. \"\"\"\n",
    "    sz = A.shape\n",
    "    ret = np.zeros((sz[1], sz[0]),\n",
    "                   dtype=dtype)\n",
    "    \n",
    "    for i in range(sz[0]):\n",
    "        for j in range(sz[1]):\n",
    "            ret[j,i] = A[i,j]\n",
    "            \n",
    "    return ret\n",
    "'''\n",
    "#  Demostracion de poder X'D\n",
    "# en el programa se usara la implementacion de numpy para las clases matrix,\n",
    "# array, etc... de la funcion transpose\n",
    "None"
   ]
  },
  {
   "cell_type": "code",
   "execution_count": 9,
   "metadata": {
    "ExecuteTime": {
     "end_time": "2020-10-06T17:40:11.649270Z",
     "start_time": "2020-10-06T17:40:11.645402Z"
    },
    "code_folding": [
     3
    ]
   },
   "outputs": [],
   "source": [
    "# Parte 2\n",
    "# Producto de matrices\n",
    "'''\n",
    "def prodMat(A, B,/, dtype=np.float32):\n",
    "    szA = A.shape\n",
    "    szB = B.shape\n",
    "    \n",
    "    if szA[1] == szB[0]:\n",
    "        ret = np.zeros((szA[0], szB[1]), dtype=dtype)\n",
    "        \n",
    "        for i in range(szA[0]):\n",
    "            for j in range(szB[1]):\n",
    "                ret[i,j] = sum(A[i,k]*B[k,j] for k in range(szA[1]))\n",
    "        return ret\n",
    "    else:\n",
    "        raise Exception(\"No coinciden las dimensiones\")\n",
    "'''\n",
    "#  Demostracion de poder X'D\n",
    "# en el programa se usara la implementacion de numpy para las clases matrix,\n",
    "# array, etc... de la aritmetica de matrices A@B\n",
    "None"
   ]
  },
  {
   "cell_type": "code",
   "execution_count": 50,
   "metadata": {
    "ExecuteTime": {
     "end_time": "2020-10-06T18:24:28.837048Z",
     "start_time": "2020-10-06T18:24:28.820158Z"
    },
    "code_folding": [
     3
    ]
   },
   "outputs": [],
   "source": [
    "# Parte 3\n",
    "# Solucion de minimos cuadrados\n",
    "\n",
    "def minimosCuadrados(A, b,/, dtype=np.float64):\n",
    "    \"\"\" Funcion que calcula la solucion de minimos cuadrados.\n",
    "    \n",
    "    Funcion que calcula la solucion de minimos cuadrado. Para\n",
    "    esto se basa de funciones ya implementadas para calcular\n",
    "    A^t@A y A^tb, para luego calcular la solucion del sitema\n",
    "    A^t@Ax = A^tb con fact de Cholesky.\n",
    "    \n",
    "    La funcion devuelve la solucion del sistema x si se encontro\n",
    "    y None en caso de que no se haya encontrado.\n",
    "    \n",
    "    A pesar de que la funcion tambien pide que se pasen las\n",
    "    dimensiones de las matrices, la forma pythonica no lo \n",
    "    requiere; por lo que seran obtenidas dentro del metodo.\n",
    "    \n",
    "    Input:\n",
    "        A := apuntador a matriz A\n",
    "        b := apuntador a vector b\n",
    "        \n",
    "    Output:\n",
    "        x := si existe sus valors; None en otro caso\n",
    "    \"\"\"\n",
    "    print('\\nIn da function :3\\n')\n",
    "\n",
    "    x = np.zeros((A.shape[0],1))\n",
    "        \n",
    "    At = A.transpose()@A\n",
    "    yt = A.transpose()*b\n",
    "    \n",
    "    return solChol(At, At.shape[0], yt)"
   ]
  },
  {
   "cell_type": "code",
   "execution_count": 70,
   "metadata": {
    "ExecuteTime": {
     "end_time": "2020-10-06T18:39:27.520202Z",
     "start_time": "2020-10-06T18:39:27.492050Z"
    },
    "code_folding": [
     2,
     28,
     29,
     56,
     71,
     89,
     98
    ]
   },
   "outputs": [],
   "source": [
    "# PArte 4\n",
    "\n",
    "def get2Dvec(path,/, dtype=np.float64, info=True):\n",
    "    \"\"\" Funcion para cargar vector 2D.\n",
    "    \n",
    "    Esta funcion tratara de cargar un vector 2D de unarchivo\n",
    "    de texto que tenga dos columnas (correspondientes a dos\n",
    "    vectores y separada por un espacio) con k filas (donde k\n",
    "    es el tamanio de los vectores que estan separados por \\n)\n",
    "    \n",
    "    Los datos los guardaremos en una instancia de np.matrix\n",
    "    \n",
    "    Input:\n",
    "        path := direccion del archivo para cargar los\n",
    "            vectores\n",
    "            \n",
    "        dtype := tipo de dato para usar\n",
    "        info := Indica si queremos extraer la informacion\n",
    "    Output:\n",
    "        (ret, info)\n",
    "        ret := np.matrix de (2,k)\n",
    "        info := Para evitar tener que hacer otro recorrido\n",
    "            sobre el arreglo se puede extraer informacion\n",
    "            en este recorrido\n",
    "            minx := El minimo valor de x\n",
    "            maxx := El maximo valor de x\n",
    "    \"\"\"\n",
    "    \n",
    "    try:\n",
    "        if info: #Declarar info\n",
    "            ret_info = {'minx':  np.Inf,\n",
    "                        'maxx': -np.Inf}\n",
    "        \n",
    "        with open(path, 'r') as file:\n",
    "            \n",
    "            ret = [[],[]]\n",
    "            for line in file:\n",
    "                line = list(map(lambda x:dtype(x), \n",
    "                                line.split(' ')))\n",
    "                ret[0].append( line[0] )\n",
    "                ret[1].append( line[1] )\n",
    "                \n",
    "                # Extrar info\n",
    "                if info:\n",
    "                    # min\n",
    "                    ret_info['minx'] = min(ret_info['minx'], line[0])\n",
    "                    # max\n",
    "                    ret_info['maxx'] = max(ret_info['maxx'], line[0])\n",
    "        \n",
    "        if info:\n",
    "            return np.matrix(ret, dtype=dtype), ret_info\n",
    "        else:\n",
    "            return np.matrix(Ret, dtype=dtype)\n",
    "    except:\n",
    "        raise Exception(\"Error al cargar el archivo\")\n",
    "\n",
    "def plot_ej1_1(x, y):\n",
    "    \"\"\" Funcion 1 para graficar resultados. \n",
    "    \n",
    "    Esta funcion buscca graficar los datos recibidos para poder\n",
    "    tomar la mejor decision respecto al grado a utilizar en la\n",
    "    aproximacion a polinomios.\n",
    "    \n",
    "    Input:\n",
    "        x := Valores de cordenadas x\n",
    "        y := Valores de cordenadas y\n",
    "    \"\"\"\n",
    "    fig, ax = plt.subplots()\n",
    "    sns.scatterplot(x, y, ax=ax)\n",
    "    plt.show()\n",
    "\n",
    "def plot_ej1_2(x, y, f, rng):\n",
    "    \"\"\" Funcion 2 para graficar resultados\n",
    "    \n",
    "    Esta funcion busca graficar los datos recibidos para mostrar\n",
    "    la posible eproximacion obtenida por el metodo.\n",
    "    Input:\n",
    "        x := Valores de cordenadas x\n",
    "        y := Valores de cordenadas y\n",
    "        f := Funcion polinomica obtenida\n",
    "        rng := particion del rango para graficar\n",
    "    \"\"\"\n",
    "    yf = [f(cx) for cx in rng]\n",
    "    fig, ax = plt.subplots()\n",
    "    sns.scatterplot(x, y, ax=ax)\n",
    "    ax.plot(rng, yf, linestyle= \"-\")\n",
    "    plt.show()\n",
    "\n",
    "def Ejercicio1(d, n_tabla, n,/,path='datos/', dtype=np.float64, plot=True, prnt=True):\n",
    "    # Cargar datos\n",
    "    tabla, info = get2Dvec(path+n_tabla, \n",
    "                           dtype=dtype)\n",
    "    # Valores obtenidos\n",
    "    x = np.ravel(tabla[0,:])\n",
    "    y = np.ravel(tabla[1,:])\n",
    "    rng = np.linspace(info['minx'], info['maxx'], num=d)\n",
    "    \n",
    "    if plot: \n",
    "        plot_ej1_1(x,y)\n",
    "\n",
    "    try:\n",
    "        print(f\"Seguro que quieres usar grado {n} para aproximar?\")\n",
    "        inp = input(\"[S para mantener]: \").lower().strip()\n",
    "        #inp = 's'\n",
    "        \n",
    "        if not inp.startswith('s'):\n",
    "            n = int(inp)\n",
    "    finally:\n",
    "        if prnt: print(f'n={n}')\n",
    "    \"\"\"\n",
    "    #----------------opt implementada por numpy ----------------------------\n",
    "    if prnt: print('opt1')\n",
    "    f = f_polinomio(np.polyfit(x, y, n))\n",
    "    if plot: plot_ej1_2(x, y, f, rng)\n",
    "    \n",
    "    #--------------opt autoimplementada pot yo -----------------------------\n",
    "    if prnt: print('opt2')\n",
    "    \"\"\"\n",
    "    \n",
    "    sz = len(x)\n",
    "    # Crear matriz a\n",
    "    A = np.ones((sz, n+1), \n",
    "                dtype=dtype)\n",
    "    for i in range(n):\n",
    "        A[:,i] = np.power(tabla[0,:], n-i)\n",
    "    # vector y\n",
    "    b = np.matrix(tabla[1,:]).transpose()\n",
    "    \n",
    "    coef = minimosCuadrados(A, b)\n",
    "    f = f_polinomio(coef)\n",
    "    \n",
    "    if plot: \n",
    "        plot_ej1_2(x, y, f, rng)\n"
   ]
  },
  {
   "cell_type": "code",
   "execution_count": null,
   "metadata": {},
   "outputs": [],
   "source": []
  }
 ],
 "metadata": {
  "hide_input": false,
  "kernelspec": {
   "display_name": "MN-env",
   "language": "python",
   "name": "mn-env"
  },
  "language_info": {
   "codemirror_mode": {
    "name": "ipython",
    "version": 3
   },
   "file_extension": ".py",
   "mimetype": "text/x-python",
   "name": "python",
   "nbconvert_exporter": "python",
   "pygments_lexer": "ipython3",
   "version": "3.8.2"
  },
  "latex_envs": {
   "LaTeX_envs_menu_present": true,
   "autoclose": false,
   "autocomplete": true,
   "bibliofile": "biblio.bib",
   "cite_by": "apalike",
   "current_citInitial": 1,
   "eqLabelWithNumbers": true,
   "eqNumInitial": 1,
   "hotkeys": {
    "equation": "Ctrl-E",
    "itemize": "Ctrl-I"
   },
   "labels_anchors": false,
   "latex_user_defs": false,
   "report_style_numbering": false,
   "user_envs_cfg": false
  },
  "toc": {
   "base_numbering": 1,
   "nav_menu": {},
   "number_sections": true,
   "sideBar": true,
   "skip_h1_title": true,
   "title_cell": "Indice",
   "title_sidebar": "Contenido",
   "toc_cell": false,
   "toc_position": {},
   "toc_section_display": true,
   "toc_window_display": false
  },
  "varInspector": {
   "cols": {
    "lenName": 16,
    "lenType": 16,
    "lenVar": 40
   },
   "kernels_config": {
    "python": {
     "delete_cmd_postfix": "",
     "delete_cmd_prefix": "del ",
     "library": "var_list.py",
     "varRefreshCmd": "print(var_dic_list())"
    },
    "r": {
     "delete_cmd_postfix": ") ",
     "delete_cmd_prefix": "rm(",
     "library": "var_list.r",
     "varRefreshCmd": "cat(var_dic_list()) "
    }
   },
   "types_to_exclude": [
    "module",
    "function",
    "builtin_function_or_method",
    "instance",
    "_Feature"
   ],
   "window_display": false
  }
 },
 "nbformat": 4,
 "nbformat_minor": 4
}
