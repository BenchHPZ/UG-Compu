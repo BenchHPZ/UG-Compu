{
 "cells": [
  {
   "cell_type": "markdown",
   "metadata": {},
   "source": [
    "# Tarea 1\n",
    "\n",
    "_Tarea 1_ de _Benjamín Rivera_ para el curso de __Métodos Numéricos__ impartido por _Joaquín Peña Acevedo_. Fecha limite de entrega __6 de Septiembre de 2020__."
   ]
  },
  {
   "cell_type": "markdown",
   "metadata": {
    "heading_collapsed": true
   },
   "source": [
    "## Como ejecutar\n"
   ]
  },
  {
   "cell_type": "markdown",
   "metadata": {
    "heading_collapsed": true,
    "hidden": true
   },
   "source": [
    "### Jupyter\n",
    "\n",
    "En caso de tener acceso a un _servidor jupyter_ es importante verificar que se tengan instalados los [requerimientos](../../requerimientos.txt) especificados en el repositorio de [GitHub](www.google.com).\n",
    "\n",
    "### Consola\n",
    "\n",
    "Este [archivo](./) tiene todas las funciones aqui definidas y en cada ejercicio se especifica como ejecutar."
   ]
  },
  {
   "cell_type": "markdown",
   "metadata": {
    "heading_collapsed": true,
    "hidden": true
   },
   "source": [
    "### Si todo sale mal\n",
    "\n",
    "En caso de que todo salga mal, es posible usar __GoogleColab__"
   ]
  },
  {
   "cell_type": "markdown",
   "metadata": {
    "heading_collapsed": true
   },
   "source": [
    "## Ejercicio 1\n",
    "\n",
    "Supongamos que una computadora tiene 8 dígitos para representar la parte fraccionaria\n",
    "de un número de punto flotante."
   ]
  },
  {
   "cell_type": "markdown",
   "metadata": {
    "hidden": true
   },
   "source": [
    "### Calcular el valor del épsilon de la máquina"
   ]
  },
  {
   "cell_type": "markdown",
   "metadata": {
    "hidden": true
   },
   "source": [
    "Respuesta"
   ]
  },
  {
   "cell_type": "markdown",
   "metadata": {
    "hidden": true
   },
   "source": [
    "### Dar la representación en notación cientifica (mantisa base 2, multiplicada por 2 elevda al exponente correspondiente) del número 5."
   ]
  },
  {
   "cell_type": "markdown",
   "metadata": {
    "hidden": true
   },
   "source": [
    "Respuesta"
   ]
  },
  {
   "cell_type": "markdown",
   "metadata": {
    "hidden": true
   },
   "source": [
    "### Dar la representación científica del npumero consecutico a 5 en la computadora. Escribir la distancia $d_c$ entre 5 y su consecutivo. Expresar $d_c$ en términos del épslon de la máquina. "
   ]
  },
  {
   "cell_type": "markdown",
   "metadata": {
    "hidden": true
   },
   "source": [
    "Respuesta"
   ]
  },
  {
   "cell_type": "markdown",
   "metadata": {
    "hidden": true
   },
   "source": [
    "### Tenemos qe el consecutivo de $5$ es expresable como $5 + d_c$. Si tenemos un $x$ real tal que $x \\in (5, 5+d_c)$ entonces la computadora representara a $x$ como $fl(x)=5$ o $fl(x)5+d_c$. Escribir una cota para el error relativo para las dos posibles represetnaciones de x\n",
    "\n",
    "> Error relativo\n",
    "$$\\left| \\frac{fl(x) - x}{x} \\right|$$"
   ]
  },
  {
   "cell_type": "markdown",
   "metadata": {
    "hidden": true
   },
   "source": [
    "Respuesta"
   ]
  },
  {
   "cell_type": "markdown",
   "metadata": {
    "hidden": true
   },
   "source": [
    "### Explique si los siguientes números tienen respresentación exacta en la computadora, es decir, si $fl(a_i)=a_i$"
   ]
  },
  {
   "cell_type": "markdown",
   "metadata": {
    "hidden": true
   },
   "source": [
    "Respuesta"
   ]
  },
  {
   "cell_type": "markdown",
   "metadata": {
    "hidden": true
   },
   "source": [
    "### De una cota para el error relativo de las restas \\ref{eq: resta 1} y \\ref{eq: resta 2} respecto al verdader valor. Suponga que $fl(x)$ se obtiene por redondeo hacia abajo _(truncamiento)_\n",
    "\n",
    "$$fl(0.9) - fl(0.5)   \\label{eq: resta 1} $$ \n",
    "$$fl(0.9) - fl(0.895) \\label{eq: resta 2} $$"
   ]
  },
  {
   "cell_type": "markdown",
   "metadata": {
    "hidden": true
   },
   "source": [
    "..."
   ]
  },
  {
   "cell_type": "markdown",
   "metadata": {
    "hidden": true
   },
   "source": [
    "Respuesta"
   ]
  },
  {
   "cell_type": "markdown",
   "metadata": {},
   "source": [
    "## Ejercicio 2"
   ]
  },
  {
   "cell_type": "markdown",
   "metadata": {},
   "source": [
    "Programe la función `epsilonFloat` que devuelve el épsilon de la máquina $\\epsilon_m$ para números de simple precisión y la función `epsilonDouble` para números de doble precisión. Usar el algoritmo visto en clase\n",
    "```\n",
    "epsilon = 1.0\n",
    "unidad = 1.0\n",
    "valor = unidad + epsilon\n",
    "while valor > unidad\n",
    "    epsilon = epsilon/2\n",
    "    valor = end + epsilon\n",
    "end while\n",
    "epsilon = epsilon*2\n",
    "```"
   ]
  },
  {
   "cell_type": "code",
   "execution_count": 17,
   "metadata": {
    "ExecuteTime": {
     "end_time": "2020-09-05T06:33:21.421008Z",
     "start_time": "2020-09-05T06:33:21.406413Z"
    },
    "code_folding": [
     2,
     6,
     10,
     25,
     31,
     45,
     48,
     59
    ]
   },
   "outputs": [
    {
     "name": "stdout",
     "output_type": "stream",
     "text": [
      "Se calculalron los epsilons \n",
      "\teF=1.1920928955078125e-07 y \n",
      "\teD=2.220446049250313e-16 \n",
      "para 32 y 64 bits correspondientemente.\n",
      "\n"
     ]
    }
   ],
   "source": [
    "import numpy as np\n",
    "\n",
    "def epsilonMaquina(tipoDato):\n",
    "    \"\"\" Funcion que trata de calcular el epsilon \n",
    "    de la maquina mediante el algoritmo antes pre_\n",
    "    sentado. \n",
    "    Input:\n",
    "        tipoDato := esta pensado para ser uno de \n",
    "            los tipos proporcionados por la li_\n",
    "            breria numpy.\n",
    "    Output:\n",
    "        Regresa el epsilon de la maquina calcula_\n",
    "            do con el tipo de dato especificado.\n",
    "    \"\"\"\n",
    "    epsilon = tipoDato(1.0)\n",
    "    unidad = tipoDato(1.0)\n",
    "    valor = unidad + epsilon\n",
    "    \n",
    "    while valor > unidad:\n",
    "        epsilon = epsilon/tipoDato(2.0)\n",
    "        valor = unidad + epsilon\n",
    "        \n",
    "    return epsilon*2\n",
    "\n",
    "\n",
    "def epsilonFloat():\n",
    "    \"\"\" Calculamos el epsilon de la maquina con \n",
    "    precision de 32bits\n",
    "    \"\"\"\n",
    "    return epsilonMaquina(np.float32)\n",
    "\n",
    "def epsilonDouble():\n",
    "    \"\"\" Calculamos el epsilon de la maquina con\n",
    "    precision de 64 bits\n",
    "        A pesar de que el flotante de python ya\n",
    "    tiene esta precision, creo que es convenien_\n",
    "    te especificarlo.\n",
    "    \"\"\"\n",
    "    return epsilonMaquina(np.float64)\n",
    "\n",
    "# Epsilons calculados\n",
    "eF = epsilonFloat()\n",
    "eD = epsilonDouble()\n",
    "\n",
    "# Imprimir en pantalla\n",
    "print(f'Se calculalron los epsilons \\n\\t{eF=} y \\n\\t{eD=} \\n'\n",
    "      'para 32 y 64 bits correspondientemente.\\n')"
   ]
  },
  {
   "cell_type": "code",
   "execution_count": 18,
   "metadata": {
    "ExecuteTime": {
     "end_time": "2020-09-05T06:33:35.472974Z",
     "start_time": "2020-09-05T06:33:35.458985Z"
    },
    "code_folding": [
     4
    ]
   },
   "outputs": [
    {
     "name": "stdout",
     "output_type": "stream",
     "text": [
      "Con epsilon=1.1920928955078125e-07 y tipo de dato = <class 'numpy.float32'> se da que\n",
      "respuesta(tD(1) + epsilon == tD(1))         ='diferentes'\n",
      "respuesta(epsilon/tD(2) == tD(0))           ='diferentes'\n",
      "respuesta(tD(1) + epsilon/tD(2) == tD(1))   ='diferentes'\n",
      "respuesta(tD(1) - epsilon/tD(2) == tD(1))   ='diferentes'\n",
      "respuesta(tD(1) - epsilon/tD(4) == tD(1))   ='diferentes'\n",
      "respuesta(epsilon**2 == tD(0))              ='diferentes'\n",
      "respuesta(epsilon + epsilon**2 == epsilon)  ='diferentes'\n",
      "respuesta(epsilon - epsilon**2 == epsilon)  ='diferentes'\n",
      "...\n",
      "\n",
      "Con epsilon=2.220446049250313e-16 y tipo de dato = <class 'numpy.float64'> se da que\n",
      "respuesta(tD(1) + epsilon == tD(1))         ='diferentes'\n",
      "respuesta(epsilon/tD(2) == tD(0))           ='diferentes'\n",
      "respuesta(tD(1) + epsilon/tD(2) == tD(1))   ='iguales'\n",
      "respuesta(tD(1) - epsilon/tD(2) == tD(1))   ='diferentes'\n",
      "respuesta(tD(1) - epsilon/tD(4) == tD(1))   ='iguales'\n",
      "respuesta(epsilon**2 == tD(0))              ='diferentes'\n",
      "respuesta(epsilon + epsilon**2 == epsilon)  ='diferentes'\n",
      "respuesta(epsilon - epsilon**2 == epsilon)  ='diferentes'\n",
      "...\n",
      "\n"
     ]
    }
   ],
   "source": [
    "def respuesta(res):\n",
    "    \"\"\" Funcion para formatear la respuesta. \"\"\"\n",
    "    return \"iguales\" if res else \"diferentes\"\n",
    "\n",
    "def comparacion(epsilon, tipoDato):\n",
    "    \"\"\" Esta funcion resivira el epsilon a eva_\n",
    "    luar y el tipo de dato al que este correspon_\n",
    "    de para hacer las comparaciones solicitadas\n",
    "    en el ejercicio.\n",
    "    Input:\n",
    "        En caso de que \n",
    "    Output:\n",
    "        Las respuestas son procesadas por la\n",
    "        funcion respuesta para obtener el for_\n",
    "        mato solicitado\n",
    "            True implica que son iguales\n",
    "            False implica que son diferentes\n",
    "    \"\"\"\n",
    "    tD = tipoDato # Para escribir menos\n",
    "    print(f'Con {epsilon=} y tipo de dato = {str(tD)} se da que')\n",
    "    \n",
    "    # Comprobaciones\n",
    "    print(f'{respuesta(tD(1) + epsilon == tD(1))         =}')\n",
    "    print(f'{respuesta(epsilon/tD(2) == tD(0))           =}')\n",
    "    print(f'{respuesta(tD(1) + epsilon/tD(2) == tD(1))   =}')\n",
    "    print(f'{respuesta(tD(1) - epsilon/tD(2) == tD(1))   =}')\n",
    "    print(f'{respuesta(tD(1) - epsilon/tD(4) == tD(1))   =}')\n",
    "    print(f'{respuesta(epsilon**2 == tD(0))              =}')\n",
    "    print(f'{respuesta(epsilon + epsilon**2 == epsilon)  =}')\n",
    "    print(f'{respuesta(epsilon - epsilon**2 == epsilon)  =}')\n",
    "    \n",
    "    print('...\\n')\n",
    "    \n",
    "# Hacemos la comparacion para 32bits\n",
    "comparacion(eF, np.float32)\n",
    "# y para 64\n",
    "comparacion(eD, np.float64)"
   ]
  },
  {
   "cell_type": "markdown",
   "metadata": {
    "ExecuteTime": {
     "end_time": "2020-09-05T05:49:39.836337Z",
     "start_time": "2020-09-05T05:49:39.830509Z"
    },
    "variables": {
     "eD": "2.220446049250313e-16",
     "eF": "1.1920928955078125e-07"
    }
   },
   "source": [
    "De manera que el programa calculo que el _epsilon de la maquina_ es {{eF}} y {{eD}} para las precisiones de _32_ y _64 bits_ correspondientemente, y repecto a las comparaciones unicamente se encontraron __dos igualdades__ cuando se uso preciosion de _64bits_.\n",
    "\n",
    "#### Como ejecutar\n",
    "\n",
    "Para ejecutar este ejercicio en consola es importante ubicarse en la misma carpeta del \n",
    "[archivo `T1.py`]()\n",
    "y ejecutar este comando en consola\n",
    "```console\n",
    "python3 T1.py\n",
    "```"
   ]
  },
  {
   "cell_type": "code",
   "execution_count": null,
   "metadata": {},
   "outputs": [],
   "source": []
  }
 ],
 "metadata": {
  "hide_input": false,
  "kernelspec": {
   "display_name": "MN-env",
   "language": "python",
   "name": "mn-env"
  },
  "language_info": {
   "codemirror_mode": {
    "name": "ipython",
    "version": 3
   },
   "file_extension": ".py",
   "mimetype": "text/x-python",
   "name": "python",
   "nbconvert_exporter": "python",
   "pygments_lexer": "ipython3",
   "version": "3.8.2"
  },
  "latex_envs": {
   "LaTeX_envs_menu_present": true,
   "autoclose": false,
   "autocomplete": true,
   "bibliofile": "biblio.bib",
   "cite_by": "apalike",
   "current_citInitial": 1,
   "eqLabelWithNumbers": true,
   "eqNumInitial": 1,
   "hotkeys": {
    "equation": "Ctrl-E",
    "itemize": "Ctrl-I"
   },
   "labels_anchors": false,
   "latex_user_defs": false,
   "report_style_numbering": false,
   "user_envs_cfg": false
  },
  "toc": {
   "base_numbering": 1,
   "nav_menu": {},
   "number_sections": true,
   "sideBar": true,
   "skip_h1_title": true,
   "title_cell": "Indice",
   "title_sidebar": "Contenido",
   "toc_cell": false,
   "toc_position": {},
   "toc_section_display": true,
   "toc_window_display": false
  },
  "varInspector": {
   "cols": {
    "lenName": 16,
    "lenType": 16,
    "lenVar": 40
   },
   "kernels_config": {
    "python": {
     "delete_cmd_postfix": "",
     "delete_cmd_prefix": "del ",
     "library": "var_list.py",
     "varRefreshCmd": "print(var_dic_list())"
    },
    "r": {
     "delete_cmd_postfix": ") ",
     "delete_cmd_prefix": "rm(",
     "library": "var_list.r",
     "varRefreshCmd": "cat(var_dic_list()) "
    }
   },
   "types_to_exclude": [
    "module",
    "function",
    "builtin_function_or_method",
    "instance",
    "_Feature"
   ],
   "window_display": false
  }
 },
 "nbformat": 4,
 "nbformat_minor": 4
}
