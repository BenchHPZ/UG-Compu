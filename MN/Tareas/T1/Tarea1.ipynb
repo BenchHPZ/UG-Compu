{
 "cells": [
  {
   "cell_type": "markdown",
   "metadata": {},
   "source": [
    "# Tarea 1\n",
    "\n",
    "_Tarea 1_ de _Benjamín Rivera_ para el curso de __Métodos Numéricos__ impartido por _Joaquín Peña Acevedo_. Fecha limite de entrega __6 de Septiembre de 2020__."
   ]
  },
  {
   "cell_type": "markdown",
   "metadata": {
    "heading_collapsed": true
   },
   "source": [
    "## Como ejecutar\n"
   ]
  },
  {
   "cell_type": "markdown",
   "metadata": {
    "hidden": true
   },
   "source": [
    "#### Requerimientos\n",
    "\n",
    "Este programa se ejecuto en mi computadora con la version de __Python 3.8.2__ y con estos\n",
    "[requerimientos](https://github.com/BenchHPZ/UG-Compu/blob/master/MN/requerimientos.txt)\n",
    "\n",
    "### Jupyter\n",
    "\n",
    "En caso de tener acceso a un _servidor jupyter_ ,con los requerimientos antes mencionados, unicamente basta con ejecutar todas las celdas de este _notebook_. Probablemente no todas las celdas de _markdown_ produzcan el mismo resultado por las \n",
    "[_Nbextensions_](jupyter-contrib-nbextensions.readthedocs.io).\n",
    "\n",
    "### Consola\n",
    "\n",
    "Habrá archivos e instrucciones para poder ejecutar cada uno de los ejercicios desde la consola.\n",
    "\n",
    "### Si todo sale mal\n",
    "\n",
    "En caso de que todo salga mal, tratare de dejar una copia disponible en __GoogleColab__ que se pueda ejecutar con la versión de __Python__ de _GoogleColab_"
   ]
  },
  {
   "cell_type": "markdown",
   "metadata": {
    "heading_collapsed": true
   },
   "source": [
    "## Ejercicio 1\n",
    "\n",
    "Supongamos que una computadora tiene 8 dígitos para representar la parte fraccionaria\n",
    "de un número de punto flotante."
   ]
  },
  {
   "cell_type": "markdown",
   "metadata": {
    "heading_collapsed": true,
    "hidden": true
   },
   "source": [
    "### Calcular el valor del épsilon de la máquina"
   ]
  },
  {
   "cell_type": "markdown",
   "metadata": {
    "hidden": true
   },
   "source": [
    "En clase vimos que si conocemos la cantidad de bits $p$ para representar la parte fraccionaria de la mantisa, entonces \n",
    "\n",
    "\\begin{equation} \\epsilon_m = (1.0)_2 \\times 2^{-p} \\label{eq:epsilon}\\end{equation}\n",
    "\n",
    "Dado que sabemos que la máquina de este ejercicio usara $8bits$ para representar la parte fraccionaria entonces, por \\ref{eq:epsilon}, el $\\epsilon_m$ para este ejercicio es\n",
    "\n",
    "\\begin{equation*} \\epsilon_m = (1.0)_2 \\times 2^{-8} = 3.90625 \\times 10^{-3}\n",
    "\\label{eq:epsilon maquina} \\end{equation*}"
   ]
  },
  {
   "cell_type": "code",
   "execution_count": 1,
   "metadata": {
    "ExecuteTime": {
     "end_time": "2020-09-06T05:39:40.143515Z",
     "start_time": "2020-09-06T05:39:40.137986Z"
    },
    "hidden": true
   },
   "outputs": [
    {
     "name": "stdout",
     "output_type": "stream",
     "text": [
      "0.00390625\n"
     ]
    }
   ],
   "source": [
    "print(2**(-8))"
   ]
  },
  {
   "cell_type": "markdown",
   "metadata": {
    "heading_collapsed": true,
    "hidden": true
   },
   "source": [
    "### Dar la representación en notación cientifica (mantisa base 2, multiplicada por 2 elevda al exponente correspondiente) del número 5."
   ]
  },
  {
   "cell_type": "markdown",
   "metadata": {
    "ExecuteTime": {
     "end_time": "2020-09-05T18:15:18.414113Z",
     "start_time": "2020-09-05T18:15:18.408978Z"
    },
    "hidden": true
   },
   "source": [
    "Sabemos que el número $5$ se representa en binario como $(101)_2$. Como los números se prefieren normalizados entonces debemos representar $(1.01)_2$ en la notación solicitada. Por lo que \n",
    "\n",
    "\\begin{equation*} 5 = (101)_2 \\times 2^0 = (1.01)_2 \\times 2^2 = 1.25 \\times 2^2\n",
    "\\end{equation*}"
   ]
  },
  {
   "cell_type": "markdown",
   "metadata": {
    "heading_collapsed": true,
    "hidden": true
   },
   "source": [
    "### Dar la representación científica del número consecutico a 5 en la computadora. Escribir la distancia $d_c$ entre 5 y su consecutivo. Expresar $d_c$ en términos del épslon de la máquina. "
   ]
  },
  {
   "cell_type": "markdown",
   "metadata": {
    "hidden": true
   },
   "source": [
    "Sabemos que el número consecutivo $(5_c)$ a $5$ en esta computadora es $5+\\epsilon_m$. Si extendemos toda la mantisa de $5$ este se ve $(1.01000000)$. Y sumar $\\epsilon_m$ implica sumar $1$ a la mantisa, enspecificamente en esta computadora, al $bit 8$ de la mantisa. De manera que \n",
    "\n",
    "\\begin{eqnarray*} \n",
    "    5_c &=& 5 + \\epsilon_m \n",
    "    = (1.01)_2 \\times 2^2 + (1.0)_2 \\times 2^{2-8} \\\\ \n",
    "    &=& ((1.01000000)_2 + (0.00000001)_2) \\times 2^2 \\\\\n",
    "    &=& (1.01000001)_2 \\times 2^2 \\\\\n",
    "    &=& 5.015625\n",
    "\\end{eqnarray*}\n",
    "\n",
    "por lo que la distancia entre $5$ y su consecutivo $5+\\epsilon_m$ es\n",
    "\n",
    "\\begin{equation*} d_c = (5+\\epsilon_m)-5 = \\epsilon_m \\times 2^2 = (0.00000001)_2 \\times 2^2 = 0.015625\n",
    "\\end{equation*}"
   ]
  },
  {
   "cell_type": "markdown",
   "metadata": {
    "heading_collapsed": true,
    "hidden": true
   },
   "source": [
    "### Tenemos que el consecutivo de $5$ es expresable como $5 + d_c$. Si tenemos un $x$ real tal que $x \\in (5, 5+d_c)$ entonces la computadora representara a $x$ como $fl(x)=5$ o $fl(x)=5+d_c$. Escribir una cota para el error relativo para las dos posibles represetnaciones de x"
   ]
  },
  {
   "cell_type": "markdown",
   "metadata": {
    "hidden": true
   },
   "source": [
    "> Error relativo\n",
    "\\begin{equation*}\n",
    "    \\left| \\frac{fl(x) - x}{x} \\right|\n",
    "\\end{equation*}\n",
    "\n",
    "Sabemos que las dos posibles representaciones son el _truncamiento_ y el _redondeo_ ,para dar la cota se deben calcular los valores minimos y maximos del error relativo. En general trabajaremos con\n",
    "\n",
    "\\begin{equation} \\label{eq:error relativo}\n",
    "    \\left| \\frac{fl(x) - x}{x} \\right| = \\left| \\frac{fl(x)}{x} - 1 \\right| \n",
    "\\end{equation}\n",
    "\n",
    "Antes de continuar es importante notar lo siguiente. Sabemos que, para ambos casos, el dominio de la función sera $[5, 5+d_c]$. Además, notemos que el rango de $\\frac{fl(x)}{x}$, para nuestro dominio y los dos valores que puede tomar $fl(x)$, es $\\left[ \\frac{5}{5+d_c}, \\frac{5+d_c}{5} \\right]$. Por ultimo, sabemos que $\\frac{fl(x)}{x}$ es descendente para $x>0$."
   ]
  },
  {
   "cell_type": "markdown",
   "metadata": {
    "hidden": true
   },
   "source": [
    "__Truncamiento__ Para el truncamiento $fl(x) = 5$ por lo que debemos calcular la cota para \n",
    "\n",
    "\\begin{equation*} Er_\\_ = \\left| \\frac{5}{x} - 1 \\right|\n",
    "\\end{equation*}\n",
    "\n",
    "En este caso, el rango de $\\frac{fl(x)}{x} = \\frac{5}{x}$ es $\\left[ \\frac{5}{5+d_c}, \\frac{5}{5}=1 \\right]$ por lo que el rango de $Er_\\_$ es $\\left[ 0, |\\frac{5}{5+d_c}-1| \\right]$. Por iluminación divina, suponemos que esta función es ascendente, y por lo tanto $Er_\\_(5) < Er_\\_(5+dc)$. Primero evaluamos la función en estos puntos\n",
    "\n",
    "\\begin{equation*} Er_\\_(5) = \\left|\\frac{5}{5} -1\\right| = 0 \\quad\\quad Er_\\_(5+d_c) = \\left|\\frac{5}{5+d_c} -1 \\right| \\sim 0.00311\n",
    "\\end{equation*}\n",
    "\n",
    "Por lo que, usando el truncamiento, esta __<ins>función esta acotada</ins>__ por $\\left[ Er_\\_(5), Er_\\_(5+d_c) \\right]$\n"
   ]
  },
  {
   "cell_type": "markdown",
   "metadata": {
    "hidden": true
   },
   "source": [
    "__Redondeo__ Procedemos de manera similar al anterior. Para el redondeo tenemos que $fl(x) = 5+d_c$, esto nos da la expresion\n",
    "\n",
    "\\begin{equation*} Er_+ = \\left| \\frac{5+d_c}{x} - 1 \\right|\n",
    "\\end{equation*}\n",
    "\n",
    "Y de manera similar al anterior podemos ver que esta función es descendente, por lo que $Er_+(5+d_c) < Er_+(d_c)$\n",
    "\n",
    "\\begin{equation*} Er_+(5+d_c) = \\left| \\frac{5+d_c}{5+d_c} -1 \\right| = 0 \\quad\\quad Er_+(5) = \\left| \\frac{5+d_c}{5} -1 \\right| \\sim 0.00312\n",
    "\\end{equation*}\n",
    "\n",
    "De manera que esta función queda acotada por $\\left[ Er_+(5+d_c),Er_+(5) \\right]$"
   ]
  },
  {
   "cell_type": "markdown",
   "metadata": {
    "heading_collapsed": true,
    "hidden": true
   },
   "source": [
    "### Explique si los siguientes números tienen respresentación exacta en la computadora, es decir, si $fl(a_i)=a_i$"
   ]
  },
  {
   "cell_type": "markdown",
   "metadata": {
    "hidden": true
   },
   "source": [
    " - $a_1 = \\epsilon/2$\n",
    " \\par Sabemos que en el sistema de este ejercicio ($8bits$ parte flotante) $\\epsilon_m = (1.0)_2 \\times 2^{-8}$, de manera que,\n",
    " \n",
    " \\begin{equation*} \\epsilon_m/2 = \\frac{(1.0)_2 \\times 2^{-8}}{2} = (1.0)_2 \\times 2^{-9}\n",
    " \\end{equation*}\n",
    " \n",
    " por lo que, mientras que el rango del exponente sea suficiente (dado que el ejercicio solo da información del tamaño de la \\textit{matisa}), este número __es representable__ en el sistema.\n",
    "\n",
    "\n",
    " - $a_2 = 1+ \\epsilon/2$ \n",
    " \\par De manera que $a_2$ se expresa como\n",
    " \n",
    " \\begin{equation*} a_2 = (1.0)_2 + \\epsilon/2 = (1.0)_2 + (1.0)_2 \\times 2^{-9} = (1.000000001)_2\n",
    " \\end{equation*}\n",
    " \n",
    " pero como este sistema solo usa $8bits$ para la mantisa entonces, para este sistema\n",
    " \n",
    " \\begin{equation*} a_2 = (1.0)_2 + \\epsilon/2 = (1.000000001)_2 = (1.0)_2\n",
    " \\end{equation*}\n",
    " \n",
    " por lo que este número __no tiene representación__ en este sistema.\n",
    "\n",
    "\n",
    " - $a_3 = 1- \\epsilon$\n",
    " \\par Este número se escribe como\n",
    " \n",
    " \\begin{eqnarray*} \n",
    "     a_3 = 1- \\epsilon &=& (1.0)_2 - (1.0)_2 \\times 2^{-8} \\\\\n",
    "         &=& (1.00000000)_2 - (0.00000001)_2 \\\\\n",
    "         &=& (0.11111111)_2 \\\\\n",
    "         &=& (1.1111111)_2 \\times 2^{-1}\n",
    " \\end{eqnarray*}\n",
    " \n",
    " por lo que este número __si tiene una representación__ en este sistema.\n",
    "\n",
    "\n",
    " - $a_4 = 1- \\epsilon/2$\n",
    " \\par Como con los anteriores, esta operación se expresa como\n",
    " \n",
    " \\begin{eqnarray*}\n",
    "     a_4 = 1- \\epsilon/2 &=& (1.0)_2 - (1.0)_2 \\times 2^{-9} \\\\\n",
    "         &=& (1.00000000)_2 - (0.000000001)_2 \\\\\n",
    "         &=& (0.111111111)_2 \\\\\n",
    "         &=& (1.11111111)_2 \\times 2^{-1}\n",
    " \\end{eqnarray*}\n",
    " \n",
    " el cual __si tiene respresentación__ en el sistema de este ejercicio.\n",
    " \n",
    " \n",
    " - $a_5 = 1- \\epsilon/4$\n",
    " \\par En este inciso primero calcularemos $\\epsilon/4$, para el cual expandimos lo siguiente\n",
    " \n",
    " \\begin{equation*} \\epsilon/4 = \\frac{(1.0)_2 \\times 2^{-8}}{2^2} = (1.0)_2 \\times 2^{-10}\n",
    " \\end{equation*}\n",
    " \n",
    " el cual, mientras el exponente alcance, _si es representable_ en el sistema. Por otro lado, el numero de este inciso nos da\n",
    " \n",
    " \\begin{eqnarray*}\n",
    "     a_5 = 1 - \\epsilon/4 &=& (1.0)_2 - (1.0)_2 \\times 2^{-10} \\\\\n",
    "         &=& (1.00000000)_2 - (0.0000000001)_2 \\\\\n",
    "         &=& (0.1111111111)_2 \\\\\n",
    "         &=& (1.111111111)_2 \\times 2^{-1}\n",
    " \\end{eqnarray*}\n",
    " \n",
    " pero este número tiene una mantisa de $9bits$, por lo cual, __no tiene representación__ en el sistema.\n",
    "\n",
    "\n",
    " - $a_6 = \\epsilon^2$\n",
    " \\par Para este inciso\n",
    " \n",
    " \\begin{equation} a_6 = \\epsilon^2 = ((1.0)_2 \\times 2^{-8})_2^2 = (1.0)_2 \\times 2^{-16} \n",
    " \\end{equation}\n",
    " \n",
    " el cual __si tiene represetación__ en el sistema.\n",
    " \n",
    " \n",
    " - $a_7 = 0.125$\n",
    " \\par Primero pasamos de el número de decimal a binario, de manera que $(0.125)_{10} = (0.001)_{2}$. Luego hay que normalizarlo, por lo que $(0.001)_{2} = (1.0)_{2} \\times 2^{-3}$. Por lo que este numero __si tiene respresentacion__ en el sistema.\n",
    " \n",
    " \n",
    " - $a_8 = 2^{-10}$\n",
    " \\par Y por \\'ultimo, tenemos que\n",
    " \n",
    " \\begin{equation*} a_8 = 2^{-10} = ((10.0)_2)^{-10} = ((1.0)_2 \\times 2^{1})^{-10} = (1.0)_2 \\times 2^{-10}\n",
    " \\end{equation*}\n"
   ]
  },
  {
   "cell_type": "markdown",
   "metadata": {
    "heading_collapsed": true,
    "hidden": true
   },
   "source": [
    "### De una cota para el error relativo de las restas \\ref{eq:resta 1} y \\ref{eq:resta 2} respecto al verdader valor. Suponga que $fl(x)$ se obtiene por redondeo hacia abajo _(truncamiento)_"
   ]
  },
  {
   "cell_type": "markdown",
   "metadata": {
    "hidden": true
   },
   "source": [
    "\\begin{equation}\n",
    "    fl(0.9) - fl(0.5)   \\label{eq:resta 1}\n",
    "\\end{equation} \\begin{equation}\n",
    "    fl(0.9) - fl(0.895) \\label{eq:resta 2}\n",
    "\\end{equation}\n",
    "\n",
    "Para este ejercicio, dado que nos pide usar el \\textit{truncamiento}, definimos a la \\textbf{unidad de redondeo} como $u = \\epsilon_m/2$. Esto tambien nos define a $fl(x)=x(1+\\delta)$ y $|\\delta| \\leq u$. Adem\\'as, siguiendo las notas, podemos usar la cota que ah\\'i se proporciona y sustituir $u$.\n",
    "\n",
    "\\begin{equation} |\\delta_{x-y}| \\leq \\frac{\\epsilon}{2}\\frac{|x|+|y|}{|x-y|} \\label{eq:cota}\n",
    "\\end{equation}\n",
    "\n",
    "Y antes de continuar calculamos $\\epsilon_m/2$ para poder usarlo mas adelante. De manera que \n",
    "\n",
    "\\begin{equation*} \\epsilon_m/2 = \\frac{(1.0)_2 \\times 2^{-8}}{2} = (1.0)_2 \\times 2^{-9}\n",
    "\\end{equation*}\n",
    "\n",
    "Y, como tambien lo usaremos, es bueno tener en cuenta.\n",
    "\n",
    "\\begin{equation*} \\delta_{x-y} = \\frac{fl(x)-fl(y) - (x-y)}{x-y}\n",
    "\\end{equation*}"
   ]
  },
  {
   "cell_type": "markdown",
   "metadata": {
    "hidden": true
   },
   "source": [
    " Empezamos por la operaci\\'on \\ref{eq:resta 1}, de donde obtenemos $x=0.9$ y $y=0.5$. Primero calculamos los valores de maquina de estos.\n",
    " \\begin{eqnarray*}\n",
    "     fl(x) = fl(0.9) &=& (1.1100(1100))_2\\times 2^{-1} \\\\\n",
    "             &=& (1.11001100)_2\\times 2^{-1}  \\quad\\quad\\quad \\text{(Truncamiento (no cabe))} \\\\\n",
    "             &\\sim& 0.8984375\n",
    "            &&\\\\&&\\\\\n",
    "     fl(y) = fl(0.5) &=& (1.0)_2\\times 2^{-1} \\\\\n",
    "             &=& (1.00000000)_2\\times 2^{-1}  \\quad\\quad\\quad \\text{(Truncamiento (si cabe))} \\\\\n",
    "             &=& 0.5\n",
    " \\end{eqnarray*}\n",
    " \n",
    " De manera que, como ya conocemos $\\epsilon_m$, los valores de la operaci\\'on y sus representaciones en el sistema, procedemos a encontrar la cota. Dado que usamos la cota de las notas, unicamente queda sustituir, de esto obtenemos que: \n",
    " \n",
    "\\begin{eqnarray*}\n",
    "    \\delta_{x-y} \\sim -0.00390625 \\\\\n",
    "    \\frac{\\epsilon}{2}\\frac{|x|+|y|}{|x-y|} = 0.00683593\n",
    "\\end{eqnarray*}\n",
    "\n",
    "Por lo que, siguiendo la cota de la ecuaci\\'on \\ref{eq:cota}, podemos decir que esta operaci\\'on esta acotada por\n",
    "\n",
    "\\begin{equation*}\n",
    "    |\\delta_{x-y}| \\sim 0.00390625 \\leq 0.00683593 \\sim \\frac{\\epsilon}{2}\\frac{|x|+|y|}{|x-y|}\n",
    "\\end{equation*}"
   ]
  },
  {
   "cell_type": "markdown",
   "metadata": {
    "hidden": true
   },
   "source": [
    "De manera similar, para la operaci\\'on \\ref{eq:resta 2}, tenemos que $x=0.9$ y $y=0.895$. Calculamos los redondondeos de la computadora.\n",
    "\n",
    " \\begin{eqnarray*}\n",
    "     fl(x) = fl(0.9) &=& (1.1100(1100))_2\\times 2^{-1} \\\\\n",
    "             &=& (1.11001100)_2\\times 2^{-1}  \\quad\\quad\\quad \\text{(Truncamiento (no cabe))} \\\\\n",
    "             &\\sim& 0.8984375\n",
    "            &&\\\\&&\\\\\n",
    "     fl(y) = fl(0.895) &=& (1.1100101000111101)_2\\times 2^{-1} \\\\\n",
    "             &=& (1.11001010)_2\\times 2^{-1}  \\quad\\quad\\quad \\text{(Truncamiento (no cabe))} \\\\\n",
    "             &=& 0.89453125\n",
    " \\end{eqnarray*}\n",
    " \n",
    "Ahora procedemos a calcular los limites de la cota, por lo que\n",
    "\n",
    "\\begin{eqnarray*}\n",
    "    \\delta_{x-y} \\sim  -0.21875\\\\\n",
    "    \\frac{\\epsilon}{2}\\frac{|x|+|y|}{|x-y|} = 0.70117187\n",
    "\\end{eqnarray*}\n",
    "\n",
    "Y por \\'ultimo, seg\\'un  la cota \\ref{eq:cota}, acotamos esta operaci\\'on por\n",
    "\n",
    "\\begin{equation*}\n",
    "    |\\delta_{x-y}| \\sim -0.21875 \\leq 0.70117187 \\sim \\frac{\\epsilon}{2}\\frac{|x|+|y|}{|x-y|}\n",
    "\\end{equation*}"
   ]
  },
  {
   "cell_type": "code",
   "execution_count": 2,
   "metadata": {
    "ExecuteTime": {
     "end_time": "2020-09-06T05:39:41.027868Z",
     "start_time": "2020-09-06T05:39:41.024256Z"
    },
    "code_folding": [
     0
    ],
    "hidden": true
   },
   "outputs": [],
   "source": [
    "# Funciones auxiliares para el Ejercicio 2.3\n",
    "def deltaXY(fx, fy, x, y):\n",
    "    return ((fx-fy)-(x-y))/(x-y)\n",
    "\n",
    "def cotaSup(x, y):\n",
    "    ep2 = 0.001953125\n",
    "    return ep2*(abs(x) + abs(y))/abs(x - y)\n",
    "\n",
    "#print(deltaXY(0.8984375, 0.89453125, 0.9, 0.895))\n",
    "#print(cotaSup(0.9, 0.895))"
   ]
  },
  {
   "cell_type": "markdown",
   "metadata": {},
   "source": [
    "## Ejercicio 2"
   ]
  },
  {
   "cell_type": "markdown",
   "metadata": {},
   "source": [
    "Programe la función `epsilonFloat` que devuelve el épsilon de la máquina $\\epsilon_m$ para números de simple precisión y la función `epsilonDouble` para números de doble precisión.\n",
    "```\n",
    "epsilon = 1.0\n",
    "unidad = 1.0\n",
    "valor = unidad + epsilon\n",
    "while valor > unidad\n",
    "    epsilon = epsilon/2\n",
    "    valor = end + epsilon\n",
    "end while\n",
    "epsilon = epsilon*2\n",
    "```\n",
    "Usar el algoritmo visto en clase."
   ]
  },
  {
   "cell_type": "code",
   "execution_count": 3,
   "metadata": {
    "ExecuteTime": {
     "end_time": "2020-09-06T05:39:41.859334Z",
     "start_time": "2020-09-06T05:39:41.108031Z"
    },
    "code_folding": [
     0,
     8,
     27,
     33
    ]
   },
   "outputs": [
    {
     "name": "stdout",
     "output_type": "stream",
     "text": [
      "Se calculalron los epsilons \n",
      "\teF=1.1920929e-07 y \n",
      "\teD=2.220446049250313e-16 \n",
      "para 32 y 64 bits correspondientemente.\n",
      "\n"
     ]
    }
   ],
   "source": [
    "# Primera parte del ejercicio 1\n",
    "\n",
    "import numpy as np\n",
    "\n",
    "def epsilonMaquina(tipoDato):\n",
    "    \"\"\" Funcion que trata de calcular el epsilon \n",
    "    de la maquina mediante el algoritmo antes pre_\n",
    "    sentado. \n",
    "    Input:\n",
    "        tipoDato := esta pensado para ser uno de \n",
    "            los tipos proporcionados por la li_\n",
    "            breria numpy.\n",
    "    Output:\n",
    "        Regresa el epsilon de la maquina calcula_\n",
    "            do con el tipo de dato especificado.\n",
    "    \"\"\"\n",
    "    epsilon = tipoDato(1.0)\n",
    "    unidad = tipoDato(1.0)\n",
    "    valor = unidad + epsilon\n",
    "    \n",
    "    while valor > unidad:\n",
    "        epsilon = epsilon/tipoDato(2.0)\n",
    "        valor = unidad + epsilon\n",
    "        \n",
    "    return epsilon*2\n",
    "\n",
    "\n",
    "def epsilonFloat():\n",
    "    \"\"\" Calculamos el epsilon de la maquina con \n",
    "    precision de 32bits\n",
    "    \"\"\"\n",
    "    return epsilonMaquina(np.float32)\n",
    "\n",
    "def epsilonDouble():\n",
    "    \"\"\" Calculamos el epsilon de la maquina con\n",
    "    precision de 64 bits\n",
    "        A pesar de que el flotante de python ya\n",
    "    tiene esta precision, creo que es convenien_\n",
    "    te especificarlo.\n",
    "    \"\"\"\n",
    "    return epsilonMaquina(np.float64)\n",
    "\n",
    "# Epsilons calculados\n",
    "eF = np.float32(epsilonFloat())\n",
    "eD = np.float64(epsilonDouble())\n",
    "\n",
    "# Imprimir en pantalla\n",
    "print(f'Se calculalron los epsilons \\n\\t{eF=} y \\n\\t{eD=} \\n'\n",
    "      'para 32 y 64 bits correspondientemente.\\n')"
   ]
  },
  {
   "cell_type": "code",
   "execution_count": 4,
   "metadata": {
    "ExecuteTime": {
     "end_time": "2020-09-06T05:39:41.868055Z",
     "start_time": "2020-09-06T05:39:41.861115Z"
    },
    "code_folding": [
     2,
     6,
     11,
     13
    ]
   },
   "outputs": [
    {
     "name": "stdout",
     "output_type": "stream",
     "text": [
      "Con epsilon=1.1920929e-07 y tipo de dato = <class 'numpy.float32'> se da que\n",
      "respuesta( tD(1 + epsilon )   == 1 )  ='diferentes'\n",
      "respuesta( tD( epsilon/2 )    == 0 )  ='diferentes'\n",
      "respuesta( tD(1 + epsilon/2 ) == 1 )  ='iguales'\n",
      "respuesta( tD(1 - epsilon/2 ) == 1 )  ='diferentes'\n",
      "respuesta( tD(1 - epsilon/4 ) == 1 )  ='iguales'\n",
      "respuesta( tD( epsilon**2 )   == 0 )  ='diferentes'\n",
      "respuesta(epsilon + tD(epsilon**2) == epsilon) ='diferentes'\n",
      "respuesta(epsilon - tD(epsilon**2) == epsilon) ='diferentes'\n",
      "...\n",
      "\n",
      "Con epsilon=2.220446049250313e-16 y tipo de dato = <class 'numpy.float64'> se da que\n",
      "respuesta( tD(1 + epsilon )   == 1 )  ='diferentes'\n",
      "respuesta( tD( epsilon/2 )    == 0 )  ='diferentes'\n",
      "respuesta( tD(1 + epsilon/2 ) == 1 )  ='iguales'\n",
      "respuesta( tD(1 - epsilon/2 ) == 1 )  ='diferentes'\n",
      "respuesta( tD(1 - epsilon/4 ) == 1 )  ='iguales'\n",
      "respuesta( tD( epsilon**2 )   == 0 )  ='diferentes'\n",
      "respuesta(epsilon + tD(epsilon**2) == epsilon) ='diferentes'\n",
      "respuesta(epsilon - tD(epsilon**2) == epsilon) ='diferentes'\n",
      "...\n",
      "\n"
     ]
    }
   ],
   "source": [
    "# Segunda parte del ejercicio 1\n",
    "\n",
    "def respuesta(res):\n",
    "    \"\"\" Funcion para formatear la respuesta. \"\"\"\n",
    "    return \"iguales\" if res else \"diferentes\"\n",
    "\n",
    "def comparacion(epsilon):\n",
    "    \"\"\" Esta funcion resivira el epsilon a eva_\n",
    "    luar y el tipo de dato al que este correspon_\n",
    "    de para hacer las comparaciones solicitadas\n",
    "    en el ejercicio.\n",
    "    Input:\n",
    "        En caso de que \n",
    "    Output:\n",
    "        Las respuestas son procesadas por la\n",
    "        funcion respuesta para obtener el for_\n",
    "        mato solicitado\n",
    "            True implica que son iguales\n",
    "            False implica que son diferentes\n",
    "    \"\"\"\n",
    "    tD = type(epsilon) # Para escribir menos\n",
    "    print(f'Con {epsilon=} y tipo de dato = {str(tD)} se da que')\n",
    "    \n",
    "    # Comprobaciones\n",
    "    print(f'{respuesta( tD(1 + epsilon )   == 1 )  =}')\n",
    "    print(f'{respuesta( tD( epsilon/2 )    == 0 )  =}')\n",
    "    print(f'{respuesta( tD(1 + epsilon/2 ) == 1 )  =}')\n",
    "    print(f'{respuesta( tD(1 - epsilon/2 ) == 1 )  =}')\n",
    "    print(f'{respuesta( tD(1 - epsilon/4 ) == 1 )  =}')\n",
    "    print(f'{respuesta( tD( epsilon**2 )   == 0 )  =}')\n",
    "    print(f'{respuesta(epsilon + tD(epsilon**2) == epsilon) =}')\n",
    "    print(f'{respuesta(epsilon - tD(epsilon**2) == epsilon) =}')\n",
    "    \n",
    "    print('...\\n')\n",
    "    \n",
    "# Hacemos la comparacion para 32bits\n",
    "comparacion(eF)\n",
    "# y para 64\n",
    "comparacion(eD)"
   ]
  },
  {
   "cell_type": "markdown",
   "metadata": {
    "ExecuteTime": {
     "end_time": "2020-09-05T05:49:39.836337Z",
     "start_time": "2020-09-05T05:49:39.830509Z"
    }
   },
   "source": [
    "De manera que el programa calculo que el _epsilon de la maquina_ es {{eF}} y {{eD}} para las precisiones de _32_ y _64 bits_ correspondientemente, y repecto a las comparaciones unicamente se encontraron __dos igualdades__ cuando se uso preciosion de _64bits_."
   ]
  },
  {
   "cell_type": "markdown",
   "metadata": {},
   "source": [
    "#### Como ejecutar"
   ]
  },
  {
   "cell_type": "markdown",
   "metadata": {},
   "source": [
    "[GoogleColab](https://colab.research.google.com/gist/BenchHPZ/cd5bc176f3e3841fa1e84924feca9ec2/tarea1-benjamin_rivera-metodos_numericos.ipynb)\n",
    "<a href=\"https://colab.research.google.com/gist/BenchHPZ/cd5bc176f3e3841fa1e84924feca9ec2/tarea1-benjamin_rivera-metodos_numericos.ipynb\">\n",
    "    <img src=\"../../../assets/colab-badge.svg\" \n",
    "         alt=\"Open In Colab\"/>\n",
    "</a>\n",
    "\n",
    "Para ejecutar este ejercicio en __consola__ es importante ubicarse en la misma carpeta del \n",
    "[archivo `T1.py`](https://github.com/BenchHPZ/UG-Compu/blob/master/MN/Tareas/T1/T1.py)\n",
    "y ejecutar el siguiente comando en consola\n",
    "```console\n",
    "python3 T1.py\n",
    "```\n",
    "Este programa no espera recibir argumento alguno. La salida debe ser similar a la siguiente imagen\n",
    "\n",
    "\n",
    "![Evidencia Ejecucion](assets/E2-1.png)"
   ]
  },
  {
   "cell_type": "code",
   "execution_count": null,
   "metadata": {},
   "outputs": [],
   "source": []
  }
 ],
 "metadata": {
  "author": "me",
  "hide_input": false,
  "kernelspec": {
   "display_name": "MN-env",
   "language": "python",
   "name": "mn-env"
  },
  "language_info": {
   "codemirror_mode": {
    "name": "ipython",
    "version": 3
   },
   "file_extension": ".py",
   "mimetype": "text/x-python",
   "name": "python",
   "nbconvert_exporter": "python",
   "pygments_lexer": "ipython3",
   "version": "3.8.2"
  },
  "latex_envs": {
   "LaTeX_envs_menu_present": true,
   "autoclose": false,
   "autocomplete": true,
   "bibliofile": "biblio.bib",
   "cite_by": "apalike",
   "current_citInitial": 1,
   "eqLabelWithNumbers": true,
   "eqNumInitial": 1,
   "hotkeys": {
    "equation": "Ctrl-E",
    "itemize": "Ctrl-I"
   },
   "labels_anchors": false,
   "latex_user_defs": false,
   "report_style_numbering": false,
   "user_envs_cfg": false
  },
  "toc": {
   "base_numbering": 1,
   "nav_menu": {},
   "number_sections": true,
   "sideBar": true,
   "skip_h1_title": true,
   "title_cell": "Indice",
   "title_sidebar": "Contenido",
   "toc_cell": false,
   "toc_position": {},
   "toc_section_display": true,
   "toc_window_display": false
  },
  "varInspector": {
   "cols": {
    "lenName": 16,
    "lenType": 16,
    "lenVar": 40
   },
   "kernels_config": {
    "python": {
     "delete_cmd_postfix": "",
     "delete_cmd_prefix": "del ",
     "library": "var_list.py",
     "varRefreshCmd": "print(var_dic_list())"
    },
    "r": {
     "delete_cmd_postfix": ") ",
     "delete_cmd_prefix": "rm(",
     "library": "var_list.r",
     "varRefreshCmd": "cat(var_dic_list()) "
    }
   },
   "types_to_exclude": [
    "module",
    "function",
    "builtin_function_or_method",
    "instance",
    "_Feature"
   ],
   "window_display": false
  }
 },
 "nbformat": 4,
 "nbformat_minor": 4
}
