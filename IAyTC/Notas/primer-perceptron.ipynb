{
 "cells": [
  {
   "cell_type": "markdown",
   "metadata": {},
   "source": [
    "# Ejercicio de clase"
   ]
  },
  {
   "cell_type": "code",
   "execution_count": 32,
   "metadata": {},
   "outputs": [],
   "source": [
    "import numpy as np\n",
    "import matplotlib.pyplot as plt"
   ]
  },
  {
   "cell_type": "code",
   "execution_count": 6,
   "metadata": {},
   "outputs": [],
   "source": [
    "# DAtos\n",
    "d1 = [(0.5, 1.0, 0),\n",
    "     (1.2, 2.0, 0),\n",
    "     (2.5, 3.2, 0),\n",
    "     (3.0, 4.0, 0),\n",
    "     (4.2, 5.6, 0)]\n",
    "d1 = np.array(d1)\n",
    "\n",
    "d2 = [(1.0, 3.5, 1),\n",
    "     (1.7, 4.0, 1),\n",
    "     (2.2, 4.6, 1),\n",
    "     (3.5, 6.0, 1),\n",
    "     (4.1, 6.5, 1)]\n",
    "d2 = np.array(d2)"
   ]
  },
  {
   "cell_type": "code",
   "execution_count": 63,
   "metadata": {},
   "outputs": [],
   "source": [
    "\n",
    "def condicion_fin(D, w):\n",
    "    error = []\n",
    "    \n",
    "    for data in D:\n",
    "        y = data[-2]\n",
    "        x = np.append(data[0:-2], 1)\n",
    "        \n",
    "        sigma = 0\n",
    "        for i in range(len(x)):\n",
    "            sigma += x[i]*w[i]\n",
    "        sigma += w[-1]\n",
    "        error.append(abs(y - sigma))\n",
    "        \n",
    "    return np.mean(error)\n",
    "        \n",
    "    \n",
    "    \n",
    "\n",
    "def perceptron(D, nu, g, gp):\n",
    "    n = len(D[0]) -1\n",
    "    # pesos\n",
    "    w = np.array(np.random.randint(-3000, 3001, n)/300)\n",
    "    temp_w = []\n",
    "    \n",
    "    for _ in range(100000):\n",
    "        temp_w.append(w)\n",
    "        for data in D:\n",
    "            y = data[-2]\n",
    "            x = np.append(data[0:-2], 1)\n",
    "            \n",
    "            i_n = 0\n",
    "            for i in range(n):\n",
    "                i_n += w[i]*x[i]\n",
    "            o = g(i_n)\n",
    "                \n",
    "            for k in range(n):\n",
    "                w[i] = w[i] + nu*(y - o)* gp(i_n)*x[i]\n",
    "                \n",
    "        if condicion_fin(D, w) < 0.01:\n",
    "            print(_)\n",
    "            break\n",
    "    \n",
    "    plt.plot(D[:,0], D[:,0], 'o')\n",
    "    \n",
    "    aprox = lambda x: x*w[0] + w[1]\n",
    "    paso = 10\n",
    "    xs = np.linspace( min(D[:,0]), max(D[:,1]), paso, True)\n",
    "    plt.plot(xs, [aprox(x) for x in xs])\n",
    "    \n",
    "    return w, temp_w"
   ]
  },
  {
   "cell_type": "code",
   "execution_count": 65,
   "metadata": {},
   "outputs": [
    {
     "data": {
      "text/plain": [
       "array([-1.13666667, -5.81773773])"
      ]
     },
     "execution_count": 65,
     "metadata": {},
     "output_type": "execute_result"
    },
    {
     "data": {
      "image/png": "[encoded data removed]",
      "text/plain": [
       "<Figure size 432x288 with 1 Axes>"
      ]
     },
     "metadata": {
      "needs_background": "light"
     },
     "output_type": "display_data"
    }
   ],
   "source": [
    "# Inputs\n",
    "nu = 0.001\n",
    "g = lambda x: 1/(1 - np.e**(-x))\n",
    "gp = lambda x: -np.e**x/(-1 + np.e**x)**2\n",
    "\n",
    "_, __ = perceptron(d1, nu, g, gp)\n",
    "_"
   ]
  },
  {
   "cell_type": "code",
   "execution_count": null,
   "metadata": {},
   "outputs": [],
   "source": []
  }
 ],
 "metadata": {
  "kernelspec": {
   "display_name": "Python 3",
   "language": "python",
   "name": "python3"
  },
  "language_info": {
   "codemirror_mode": {
    "name": "ipython",
    "version": 3
   },
   "file_extension": ".py",
   "mimetype": "text/x-python",
   "name": "python",
   "nbconvert_exporter": "python",
   "pygments_lexer": "ipython3",
   "version": "3.8.5"
  }
 },
 "nbformat": 4,
 "nbformat_minor": 4
}
