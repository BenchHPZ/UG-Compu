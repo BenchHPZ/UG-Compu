{
 "cells": [
  {
   "cell_type": "markdown",
   "metadata": {},
   "source": [
    "# Ejercicio de clase"
   ]
  },
  {
   "cell_type": "code",
   "execution_count": 1,
   "metadata": {},
   "outputs": [],
   "source": [
    "import numpy as np"
   ]
  },
  {
   "cell_type": "code",
   "execution_count": 3,
   "metadata": {},
   "outputs": [],
   "source": [
    "# DAtos\n",
    "d1 = [(0.5, 1.0, 0),\n",
    "     (1.2, 2.0, 0),\n",
    "     (2.5, 3.2, 0),\n",
    "     (3.0, 4.0, 0),\n",
    "     (4.2, 5.6, 0)]\n",
    "d1 = np.array(d1)\n",
    "\n",
    "d2 = [(1.0, 3.5, 1),\n",
    "     (1.7, 4.0, 1),\n",
    "     (2.2, 4.6, 1),\n",
    "     (3.5, 6.0, 1),\n",
    "     (4.1, 6.5, 1)]\n",
    "d2 = np.array(d2)"
   ]
  },
  {
   "cell_type": "code",
   "execution_count": 16,
   "metadata": {},
   "outputs": [
    {
     "data": {
      "text/plain": [
       "array([-9.99379967,  2.66678081])"
      ]
     },
     "execution_count": 16,
     "metadata": {},
     "output_type": "execute_result"
    }
   ],
   "source": [
    "# Inputs\n",
    "nu = 1\n",
    "g = lambda x: 1/(1 - np.e**(-x))\n",
    "gp = lambda x: -np.e**x/(-1 + np.e**x)**2\n",
    "\n",
    "def perceptron(D, nu, g, gp):\n",
    "    n = len(D[0]) -1\n",
    "    # pesos\n",
    "    w = np.array(np.random.randint(-3000, 3001, n)/300)\n",
    "    \n",
    "    while True:\n",
    "        for data in D:\n",
    "            y = data[-1]\n",
    "            x = data[:-1]\n",
    "            \n",
    "            i_n = 0\n",
    "            for i in range(n):\n",
    "                i_n += w[i]*x[i]\n",
    "            o = g(i_n)\n",
    "                \n",
    "            for k in range(n):\n",
    "                w[i] = w[i] + nu*(y - o)* gp(i_n)*x[i]\n",
    "        \n",
    "        condicion_terminado = \n",
    "        if condicion_terminado:\n",
    "            break\n",
    "    \n",
    "    return w\n",
    "\n",
    "\n",
    "perceptron(d1, nu, g, gp)"
   ]
  },
  {
   "cell_type": "code",
   "execution_count": 8,
   "metadata": {},
   "outputs": [
    {
     "data": {
      "text/plain": [
       "5"
      ]
     },
     "execution_count": 8,
     "metadata": {},
     "output_type": "execute_result"
    }
   ],
   "source": [
    "len(d1)"
   ]
  },
  {
   "cell_type": "code",
   "execution_count": null,
   "metadata": {},
   "outputs": [],
   "source": []
  }
 ],
 "metadata": {
  "kernelspec": {
   "display_name": "Python 3",
   "language": "python",
   "name": "python3"
  },
  "language_info": {
   "codemirror_mode": {
    "name": "ipython",
    "version": 3
   },
   "file_extension": ".py",
   "mimetype": "text/x-python",
   "name": "python",
   "nbconvert_exporter": "python",
   "pygments_lexer": "ipython3",
   "version": "3.8.5"
  }
 },
 "nbformat": 4,
 "nbformat_minor": 4
}
