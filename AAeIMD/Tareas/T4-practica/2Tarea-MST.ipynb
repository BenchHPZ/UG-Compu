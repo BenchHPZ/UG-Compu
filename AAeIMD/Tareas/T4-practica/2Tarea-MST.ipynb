{
 "cells": [
  {
   "cell_type": "markdown",
   "metadata": {},
   "source": [
    "# Minimum Spanning Tree (MST)"
   ]
  },
  {
   "cell_type": "markdown",
   "metadata": {},
   "source": [
    "**NOTA**: Para esta tarea, es posible utilizar las funciones de la tarea anterior para definir y graficar un grafo."
   ]
  },
  {
   "cell_type": "markdown",
   "metadata": {},
   "source": [
    "## 0.- Para el ejercicio 1, construye y visualiza el siguiente **grafo G** con el modulo de **graphviz**"
   ]
  },
  {
   "cell_type": "markdown",
   "metadata": {},
   "source": [
    "<img src=\"MST.png\" width=\"50%\" height=\"50%\">"
   ]
  },
  {
   "cell_type": "markdown",
   "metadata": {},
   "source": [
    "## 1.- (10pts) Implementar el algoritmo Kruskal. Encuentra y visualiza el MST del grafo G."
   ]
  },
  {
   "cell_type": "code",
   "execution_count": null,
   "metadata": {},
   "outputs": [],
   "source": []
  },
  {
   "cell_type": "markdown",
   "metadata": {},
   "source": [
    "## 2.- (10pts) Agrupamiento con espacio maximo"
   ]
  },
  {
   "cell_type": "markdown",
   "metadata": {},
   "source": [
    "Dada una coleccion de objetos, el problema de **agrupamiento-k** consiste en dividir dichos objetos en k grupos, tal que, objetos que pertenecen al mismo grupo esten \"cercanos\", y objetos de diferentes grupos esten \"lejanos\". Para lograr este agrupamiento, es posible definir una funcion de distancia o similitud entre los objetos, con la idea de que objetos a una distancia grande son objectos poco similares.\n",
    "\n",
    "\n",
    "Definimos el **espacio** de un agrupamiento-k, como la distancia minimia entre cualquier par de puntos que pertenecen a diferente grupo. Un agrupamiento con espacio maximo consiste en encontrar el agrupamiento-k, tal que el distancia minima entre objetos de diferentes grupos es maxima."
   ]
  },
  {
   "cell_type": "markdown",
   "metadata": {},
   "source": [
    "<img src=\"AEM.png\" width=\"80%\" height=\"80%\">"
   ]
  },
  {
   "cell_type": "markdown",
   "metadata": {},
   "source": [
    "**Pregunta**: Describe como se relaciona el problema de MST y el problema de agrupamiento con espacio maximo?\n"
   ]
  },
  {
   "cell_type": "code",
   "execution_count": null,
   "metadata": {},
   "outputs": [],
   "source": []
  },
  {
   "cell_type": "markdown",
   "metadata": {},
   "source": [
    "**Implementacion**: Dado el conjuto de puntos del archivo X.txt, utiliza una de tus implementaciones para MST y resuelve le problema de **agrupamiento con espacio maximo**, con $k=2$\n",
    "\n",
    "**Como funcion de distancia utiliza la distancia euclidiana.**"
   ]
  },
  {
   "cell_type": "code",
   "execution_count": null,
   "metadata": {},
   "outputs": [],
   "source": []
  },
  {
   "cell_type": "markdown",
   "metadata": {},
   "source": [
    "Finalmente, visualiza el conjunto de puntos, dando un color diferente a cada grupo"
   ]
  },
  {
   "cell_type": "code",
   "execution_count": null,
   "metadata": {},
   "outputs": [],
   "source": []
  }
 ],
 "metadata": {
  "kernelspec": {
   "display_name": "Python 3",
   "language": "python",
   "name": "python3"
  },
  "language_info": {
   "codemirror_mode": {
    "name": "ipython",
    "version": 3
   },
   "file_extension": ".py",
   "mimetype": "text/x-python",
   "name": "python",
   "nbconvert_exporter": "python",
   "pygments_lexer": "ipython3",
   "version": "3.7.0"
  }
 },
 "nbformat": 4,
 "nbformat_minor": 1
}
