{
  "nbformat": 4,
  "nbformat_minor": 0,
  "metadata": {
    "kernelspec": {
      "display_name": "Python 3",
      "language": "python",
      "name": "python3"
    },
    "language_info": {
      "codemirror_mode": {
        "name": "ipython",
        "version": 3
      },
      "file_extension": ".py",
      "mimetype": "text/x-python",
      "name": "python",
      "nbconvert_exporter": "python",
      "pygments_lexer": "ipython3",
      "version": "3.7.0"
    },
    "colab": {
      "name": "2Tarea-MST.ipynb",
      "provenance": [],
      "collapsed_sections": [],
      "toc_visible": true
    }
  },
  "cells": [
    {
      "cell_type": "code",
      "metadata": {
        "colab": {
          "base_uri": "https://localhost:8080/"
        },
        "id": "qPawidy7ZXP8",
        "outputId": "ed810d9d-9bf2-4241-957a-5a7a52bf997c"
      },
      "source": [
        "!pip install graphviz"
      ],
      "execution_count": null,
      "outputs": [
        {
          "output_type": "stream",
          "text": [
            "Requirement already satisfied: graphviz in /usr/local/lib/python3.6/dist-packages (0.10.1)\n"
          ],
          "name": "stdout"
        }
      ]
    },
    {
      "cell_type": "markdown",
      "metadata": {
        "id": "hlNiQWICZTc8"
      },
      "source": [
        "# Minimum Spanning Tree (MST)"
      ]
    },
    {
      "cell_type": "markdown",
      "metadata": {
        "id": "Z5dd5ZL4ZTc9"
      },
      "source": [
        "**NOTA**: Para esta tarea, es posible utilizar las funciones de la tarea anterior para definir y graficar un grafo."
      ]
    },
    {
      "cell_type": "markdown",
      "metadata": {
        "id": "qTTIS-rIZTc9"
      },
      "source": [
        "## 0.- Para el ejercicio 1, construye y visualiza el siguiente **grafo G** con el modulo de **graphviz**"
      ]
    },
    {
      "cell_type": "markdown",
      "metadata": {
        "id": "2PANZa2HZTc9"
      },
      "source": [
        "<img src=\"MST.png\" width=\"50%\" height=\"50%\">"
      ]
    },
    {
      "cell_type": "markdown",
      "metadata": {
        "id": "ce1cqMLKZTc9"
      },
      "source": [
        "## 1.- (10pts) Implementar el algoritmo Kruskal. Encuentra y visualiza el MST del grafo G."
      ]
    },
    {
      "cell_type": "code",
      "metadata": {
        "id": "fe28ResfZTc9"
      },
      "source": [
        "from graphviz import Graph, Digraph\n",
        "from IPython.display import display\n",
        "import operator\n",
        "\n",
        "\n",
        "def plotear_grafica(G, color = {}, size = 7):\n",
        "  # Función para dibujar un grafo no dirigido\n",
        "    grafica = Graph(graph_attr = {'size':str(size)})\n",
        "    for vertice in G:\n",
        "        if not vertice in color or color[vertice] == 'white':\n",
        "            grafica.node(vertice)\n",
        "        else:\n",
        "            if color[vertice] == 'black':\n",
        "                grafica.node(vertice, \n",
        "                              style = 'filled', \n",
        "                              color = color[vertice], \n",
        "                              fontcolor = 'white')\n",
        "            else:\n",
        "                grafica.node(vertice, \n",
        "                              style = 'filled', \n",
        "                              color = color[vertice])\n",
        "    for n1 in G:\n",
        "        for n2 in G[n1]:\n",
        "            if n1 < n2:\n",
        "                grafica.edge(n1, n2, label=str((G[n1])[n2]))\n",
        "    display(grafica)\n",
        "    \n",
        "   \n",
        "def make_link(G, v1, v2, w):\n",
        "    # Creando el arbol\n",
        "    if v1 not in G:\n",
        "        G[v1] = {}\n",
        "    (G[v1])[v2] = w\n",
        "    if v2 not in G:\n",
        "        G[v2] = {}\n",
        "    (G[v2])[v1] = w\n",
        "    return G\n",
        "\n",
        "\n",
        "def crear_grafo(aristas):\n",
        "    # Funcion para crear grafos a partir de una lista de aristas\n",
        "    ret = {}\n",
        "    for v1, v2, w in aristas:\n",
        "        make_link(ret, v1, v2, w)\n",
        "    return ret\n",
        "\n",
        "\n",
        "def init_alg_kruskal(G):\n",
        "    # Implementaci\\'on del algoritmo de Kruskal\n",
        "    sets = {}\n",
        "    for vertice in G:\n",
        "        if vertice not in sets:\n",
        "            sets[vertice] = set([vertice])\n",
        "    return sets\n",
        "\n",
        "def srch_parent(sets, v):\n",
        "    while not isinstance( sets[v], set):\n",
        "        v = sets[v]\n",
        "    return v\n",
        "        \n",
        "def alg_kruskal(G, aristas):\n",
        "    MST = {}\n",
        "    sets = init_alg_kruskal(G); aristas.sort(key=operator.itemgetter(2))\n",
        "    \n",
        "    for v1, v2, w in aristas:\n",
        "        v1_p = srch_parent(sets, v1); v2_p = srch_parent(sets, v2)\n",
        "        \n",
        "        union = sets[v1_p]|sets[v2_p]\n",
        "        if (union != sets[v1_p]) and (union != sets[v2_p]):\n",
        "            sets[v1_p] = union\n",
        "            sets[v2_p] = v1_p\n",
        "            make_link(MST, v1, v2, w)\n",
        "            plotear_grafica(MST, {})\n",
        "        else:\n",
        "            print(\"Ignorado \" + v1+'-'+v2)\n",
        "            \n",
        "    return MST"
      ],
      "execution_count": null,
      "outputs": []
    },
    {
      "cell_type": "code",
      "metadata": {
        "colab": {
          "base_uri": "https://localhost:8080/",
          "height": 1000
        },
        "id": "9M1bX-xkaJ02",
        "outputId": "0afae764-4f91-4097-99c8-6dd5d62d80f2"
      },
      "source": [
        "# Creando grafo para el ejercicio 1\n",
        "aristas1 = [('A', 'B', 1), \n",
        "            ('A', 'D', 5), \n",
        "            ('A', 'F', 2), \n",
        "            ('B', 'E', 2), \n",
        "            ('C', 'E', 4),\n",
        "            ('C', 'H', 1),\n",
        "            ('D', 'E', 3),\n",
        "            ('D', 'G', 2),\n",
        "            ('E', 'G', 2),\n",
        "            ('F', 'G', 4),\n",
        "            ('G', 'H', 5)]\n",
        "G1 = crear_grafo(aristas1)\n",
        "plotear_grafica(G1, {})\n",
        "\n",
        "# Run\n",
        "__= alg_kruskal(G1, aristas1)"
      ],
      "execution_count": null,
      "outputs": [
        {
          "output_type": "display_data",
          "data": {
            "text/plain": [
              "<graphviz.dot.Graph at 0x7f3ea5c935f8>"
            ],
            "image/svg+xml": "<?xml version=\"1.0\" encoding=\"UTF-8\" standalone=\"no\"?>\n<!DOCTYPE svg PUBLIC \"-//W3C//DTD SVG 1.1//EN\"\n \"http://www.w3.org/Graphics/SVG/1.1/DTD/svg11.dtd\">\n<!-- Generated by graphviz version 2.40.1 (20161225.0304)\n -->\n<!-- Title: %3 Pages: 1 -->\n<svg width=\"254pt\" height=\"413pt\"\n viewBox=\"0.00 0.00 254.00 413.00\" xmlns=\"http://www.w3.org/2000/svg\" xmlns:xlink=\"http://www.w3.org/1999/xlink\">\n<g id=\"graph0\" class=\"graph\" transform=\"scale(1 1) rotate(0) translate(4 409)\">\n<title>%3</title>\n<polygon fill=\"#ffffff\" stroke=\"transparent\" points=\"-4,4 -4,-409 250,-409 250,4 -4,4\"/>\n<!-- A -->\n<g id=\"node1\" class=\"node\">\n<title>A</title>\n<ellipse fill=\"none\" stroke=\"#000000\" cx=\"75\" cy=\"-387\" rx=\"27\" ry=\"18\"/>\n<text text-anchor=\"middle\" x=\"75\" y=\"-383.3\" font-family=\"Times,serif\" font-size=\"14.00\" fill=\"#000000\">A</text>\n</g>\n<!-- B -->\n<g id=\"node2\" class=\"node\">\n<title>B</title>\n<ellipse fill=\"none\" stroke=\"#000000\" cx=\"147\" cy=\"-300\" rx=\"27\" ry=\"18\"/>\n<text text-anchor=\"middle\" x=\"147\" y=\"-296.3\" font-family=\"Times,serif\" font-size=\"14.00\" fill=\"#000000\">B</text>\n</g>\n<!-- A&#45;&#45;B -->\n<g id=\"edge1\" class=\"edge\">\n<title>A&#45;&#45;B</title>\n<path fill=\"none\" stroke=\"#000000\" d=\"M88.2059,-371.0429C101.197,-355.3453 120.9157,-331.5185 133.8778,-315.856\"/>\n<text text-anchor=\"middle\" x=\"119\" y=\"-339.8\" font-family=\"Times,serif\" font-size=\"14.00\" fill=\"#000000\">1</text>\n</g>\n<!-- D -->\n<g id=\"node3\" class=\"node\">\n<title>D</title>\n<ellipse fill=\"none\" stroke=\"#000000\" cx=\"75\" cy=\"-300\" rx=\"27\" ry=\"18\"/>\n<text text-anchor=\"middle\" x=\"75\" y=\"-296.3\" font-family=\"Times,serif\" font-size=\"14.00\" fill=\"#000000\">D</text>\n</g>\n<!-- A&#45;&#45;D -->\n<g id=\"edge2\" class=\"edge\">\n<title>A&#45;&#45;D</title>\n<path fill=\"none\" stroke=\"#000000\" d=\"M75,-368.9735C75,-354.0422 75,-332.9283 75,-318.0034\"/>\n<text text-anchor=\"middle\" x=\"79\" y=\"-339.8\" font-family=\"Times,serif\" font-size=\"14.00\" fill=\"#000000\">5</text>\n</g>\n<!-- F -->\n<g id=\"node4\" class=\"node\">\n<title>F</title>\n<ellipse fill=\"none\" stroke=\"#000000\" cx=\"27\" cy=\"-246\" rx=\"27\" ry=\"18\"/>\n<text text-anchor=\"middle\" x=\"27\" y=\"-242.3\" font-family=\"Times,serif\" font-size=\"14.00\" fill=\"#000000\">F</text>\n</g>\n<!-- A&#45;&#45;F -->\n<g id=\"edge3\" class=\"edge\">\n<title>A&#45;&#45;F</title>\n<path fill=\"none\" stroke=\"#000000\" d=\"M64.4074,-370.3689C56.2391,-356.7902 45.3048,-336.8348 39,-318 33.0465,-300.2148 29.966,-278.9293 28.4264,-264.135\"/>\n<text text-anchor=\"middle\" x=\"56\" y=\"-339.8\" font-family=\"Times,serif\" font-size=\"14.00\" fill=\"#000000\">2</text>\n</g>\n<!-- E -->\n<g id=\"node5\" class=\"node\">\n<title>E</title>\n<ellipse fill=\"none\" stroke=\"#000000\" cx=\"144\" cy=\"-192\" rx=\"27\" ry=\"18\"/>\n<text text-anchor=\"middle\" x=\"144\" y=\"-188.3\" font-family=\"Times,serif\" font-size=\"14.00\" fill=\"#000000\">E</text>\n</g>\n<!-- B&#45;&#45;E -->\n<g id=\"edge4\" class=\"edge\">\n<title>B&#45;&#45;E</title>\n<path fill=\"none\" stroke=\"#000000\" d=\"M146.4911,-281.6793C145.9361,-261.699 145.0534,-229.9231 144.5014,-210.0502\"/>\n<text text-anchor=\"middle\" x=\"149\" y=\"-242.3\" font-family=\"Times,serif\" font-size=\"14.00\" fill=\"#000000\">2</text>\n</g>\n<!-- D&#45;&#45;E -->\n<g id=\"edge5\" class=\"edge\">\n<title>D&#45;&#45;E</title>\n<path fill=\"none\" stroke=\"#000000\" d=\"M85.7813,-283.125C98.744,-262.8354 120.3655,-228.9931 133.2945,-208.7565\"/>\n<text text-anchor=\"middle\" x=\"123\" y=\"-242.3\" font-family=\"Times,serif\" font-size=\"14.00\" fill=\"#000000\">3</text>\n</g>\n<!-- G -->\n<g id=\"node8\" class=\"node\">\n<title>G</title>\n<ellipse fill=\"none\" stroke=\"#000000\" cx=\"118\" cy=\"-105\" rx=\"27\" ry=\"18\"/>\n<text text-anchor=\"middle\" x=\"118\" y=\"-101.3\" font-family=\"Times,serif\" font-size=\"14.00\" fill=\"#000000\">G</text>\n</g>\n<!-- D&#45;&#45;G -->\n<g id=\"edge6\" class=\"edge\">\n<title>D&#45;&#45;G</title>\n<path fill=\"none\" stroke=\"#000000\" d=\"M78.2269,-281.9843C82.6979,-257.465 91.2229,-212.2566 100,-174 104.0142,-156.5035 109.2558,-136.6909 113.0465,-122.7991\"/>\n<text text-anchor=\"middle\" x=\"104\" y=\"-188.3\" font-family=\"Times,serif\" font-size=\"14.00\" fill=\"#000000\">2</text>\n</g>\n<!-- F&#45;&#45;G -->\n<g id=\"edge7\" class=\"edge\">\n<title>F&#45;&#45;G</title>\n<path fill=\"none\" stroke=\"#000000\" d=\"M29.4768,-228.0464C33.4244,-205.4042 43.0677,-166.3729 65,-141 73.7289,-130.9018 85.92,-122.3605 96.4095,-116.1353\"/>\n<text text-anchor=\"middle\" x=\"48\" y=\"-188.3\" font-family=\"Times,serif\" font-size=\"14.00\" fill=\"#000000\">4</text>\n</g>\n<!-- E&#45;&#45;G -->\n<g id=\"edge8\" class=\"edge\">\n<title>E&#45;&#45;G</title>\n<path fill=\"none\" stroke=\"#000000\" d=\"M138.6128,-173.9735C134.1208,-158.9427 127.7564,-137.6465 123.2914,-122.7057\"/>\n<text text-anchor=\"middle\" x=\"136\" y=\"-144.8\" font-family=\"Times,serif\" font-size=\"14.00\" fill=\"#000000\">2</text>\n</g>\n<!-- C -->\n<g id=\"node6\" class=\"node\">\n<title>C</title>\n<ellipse fill=\"none\" stroke=\"#000000\" cx=\"219\" cy=\"-300\" rx=\"27\" ry=\"18\"/>\n<text text-anchor=\"middle\" x=\"219\" y=\"-296.3\" font-family=\"Times,serif\" font-size=\"14.00\" fill=\"#000000\">C</text>\n</g>\n<!-- C&#45;&#45;E -->\n<g id=\"edge9\" class=\"edge\">\n<title>C&#45;&#45;E</title>\n<path fill=\"none\" stroke=\"#000000\" d=\"M202.0137,-285.5866C195.2901,-279.3684 187.7988,-271.7502 182,-264 169.1293,-246.7982 158.1461,-224.6407 151.3464,-209.4767\"/>\n<text text-anchor=\"middle\" x=\"186\" y=\"-242.3\" font-family=\"Times,serif\" font-size=\"14.00\" fill=\"#000000\">4</text>\n</g>\n<!-- H -->\n<g id=\"node7\" class=\"node\">\n<title>H</title>\n<ellipse fill=\"none\" stroke=\"#000000\" cx=\"176\" cy=\"-18\" rx=\"27\" ry=\"18\"/>\n<text text-anchor=\"middle\" x=\"176\" y=\"-14.3\" font-family=\"Times,serif\" font-size=\"14.00\" fill=\"#000000\">H</text>\n</g>\n<!-- C&#45;&#45;H -->\n<g id=\"edge10\" class=\"edge\">\n<title>C&#45;&#45;H</title>\n<path fill=\"none\" stroke=\"#000000\" d=\"M216.2447,-281.9306C208.4781,-230.9957 186.4709,-86.6694 178.7323,-35.9189\"/>\n<text text-anchor=\"middle\" x=\"201\" y=\"-144.8\" font-family=\"Times,serif\" font-size=\"14.00\" fill=\"#000000\">1</text>\n</g>\n<!-- G&#45;&#45;H -->\n<g id=\"edge11\" class=\"edge\">\n<title>G&#45;&#45;H</title>\n<path fill=\"none\" stroke=\"#000000\" d=\"M129.183,-88.2255C139.4535,-72.8198 154.5917,-50.1124 164.8513,-34.723\"/>\n<text text-anchor=\"middle\" x=\"154\" y=\"-57.8\" font-family=\"Times,serif\" font-size=\"14.00\" fill=\"#000000\">5</text>\n</g>\n</g>\n</svg>\n"
          },
          "metadata": {
            "tags": []
          }
        },
        {
          "output_type": "display_data",
          "data": {
            "text/plain": [
              "<graphviz.dot.Graph at 0x7f3ea5c93f98>"
            ],
            "image/svg+xml": "<?xml version=\"1.0\" encoding=\"UTF-8\" standalone=\"no\"?>\n<!DOCTYPE svg PUBLIC \"-//W3C//DTD SVG 1.1//EN\"\n \"http://www.w3.org/Graphics/SVG/1.1/DTD/svg11.dtd\">\n<!-- Generated by graphviz version 2.40.1 (20161225.0304)\n -->\n<!-- Title: %3 Pages: 1 -->\n<svg width=\"62pt\" height=\"131pt\"\n viewBox=\"0.00 0.00 62.00 131.00\" xmlns=\"http://www.w3.org/2000/svg\" xmlns:xlink=\"http://www.w3.org/1999/xlink\">\n<g id=\"graph0\" class=\"graph\" transform=\"scale(1 1) rotate(0) translate(4 127)\">\n<title>%3</title>\n<polygon fill=\"#ffffff\" stroke=\"transparent\" points=\"-4,4 -4,-127 58,-127 58,4 -4,4\"/>\n<!-- A -->\n<g id=\"node1\" class=\"node\">\n<title>A</title>\n<ellipse fill=\"none\" stroke=\"#000000\" cx=\"27\" cy=\"-105\" rx=\"27\" ry=\"18\"/>\n<text text-anchor=\"middle\" x=\"27\" y=\"-101.3\" font-family=\"Times,serif\" font-size=\"14.00\" fill=\"#000000\">A</text>\n</g>\n<!-- B -->\n<g id=\"node2\" class=\"node\">\n<title>B</title>\n<ellipse fill=\"none\" stroke=\"#000000\" cx=\"27\" cy=\"-18\" rx=\"27\" ry=\"18\"/>\n<text text-anchor=\"middle\" x=\"27\" y=\"-14.3\" font-family=\"Times,serif\" font-size=\"14.00\" fill=\"#000000\">B</text>\n</g>\n<!-- A&#45;&#45;B -->\n<g id=\"edge1\" class=\"edge\">\n<title>A&#45;&#45;B</title>\n<path fill=\"none\" stroke=\"#000000\" d=\"M27,-86.9735C27,-72.0422 27,-50.9283 27,-36.0034\"/>\n<text text-anchor=\"middle\" x=\"31\" y=\"-57.8\" font-family=\"Times,serif\" font-size=\"14.00\" fill=\"#000000\">1</text>\n</g>\n</g>\n</svg>\n"
          },
          "metadata": {
            "tags": []
          }
        },
        {
          "output_type": "display_data",
          "data": {
            "text/plain": [
              "<graphviz.dot.Graph at 0x7f3ea5c93128>"
            ],
            "image/svg+xml": "<?xml version=\"1.0\" encoding=\"UTF-8\" standalone=\"no\"?>\n<!DOCTYPE svg PUBLIC \"-//W3C//DTD SVG 1.1//EN\"\n \"http://www.w3.org/Graphics/SVG/1.1/DTD/svg11.dtd\">\n<!-- Generated by graphviz version 2.40.1 (20161225.0304)\n -->\n<!-- Title: %3 Pages: 1 -->\n<svg width=\"134pt\" height=\"131pt\"\n viewBox=\"0.00 0.00 134.00 131.00\" xmlns=\"http://www.w3.org/2000/svg\" xmlns:xlink=\"http://www.w3.org/1999/xlink\">\n<g id=\"graph0\" class=\"graph\" transform=\"scale(1 1) rotate(0) translate(4 127)\">\n<title>%3</title>\n<polygon fill=\"#ffffff\" stroke=\"transparent\" points=\"-4,4 -4,-127 130,-127 130,4 -4,4\"/>\n<!-- A -->\n<g id=\"node1\" class=\"node\">\n<title>A</title>\n<ellipse fill=\"none\" stroke=\"#000000\" cx=\"27\" cy=\"-105\" rx=\"27\" ry=\"18\"/>\n<text text-anchor=\"middle\" x=\"27\" y=\"-101.3\" font-family=\"Times,serif\" font-size=\"14.00\" fill=\"#000000\">A</text>\n</g>\n<!-- B -->\n<g id=\"node2\" class=\"node\">\n<title>B</title>\n<ellipse fill=\"none\" stroke=\"#000000\" cx=\"27\" cy=\"-18\" rx=\"27\" ry=\"18\"/>\n<text text-anchor=\"middle\" x=\"27\" y=\"-14.3\" font-family=\"Times,serif\" font-size=\"14.00\" fill=\"#000000\">B</text>\n</g>\n<!-- A&#45;&#45;B -->\n<g id=\"edge1\" class=\"edge\">\n<title>A&#45;&#45;B</title>\n<path fill=\"none\" stroke=\"#000000\" d=\"M27,-86.9735C27,-72.0422 27,-50.9283 27,-36.0034\"/>\n<text text-anchor=\"middle\" x=\"31\" y=\"-57.8\" font-family=\"Times,serif\" font-size=\"14.00\" fill=\"#000000\">1</text>\n</g>\n<!-- C -->\n<g id=\"node3\" class=\"node\">\n<title>C</title>\n<ellipse fill=\"none\" stroke=\"#000000\" cx=\"99\" cy=\"-105\" rx=\"27\" ry=\"18\"/>\n<text text-anchor=\"middle\" x=\"99\" y=\"-101.3\" font-family=\"Times,serif\" font-size=\"14.00\" fill=\"#000000\">C</text>\n</g>\n<!-- H -->\n<g id=\"node4\" class=\"node\">\n<title>H</title>\n<ellipse fill=\"none\" stroke=\"#000000\" cx=\"99\" cy=\"-18\" rx=\"27\" ry=\"18\"/>\n<text text-anchor=\"middle\" x=\"99\" y=\"-14.3\" font-family=\"Times,serif\" font-size=\"14.00\" fill=\"#000000\">H</text>\n</g>\n<!-- C&#45;&#45;H -->\n<g id=\"edge2\" class=\"edge\">\n<title>C&#45;&#45;H</title>\n<path fill=\"none\" stroke=\"#000000\" d=\"M99,-86.9735C99,-72.0422 99,-50.9283 99,-36.0034\"/>\n<text text-anchor=\"middle\" x=\"103\" y=\"-57.8\" font-family=\"Times,serif\" font-size=\"14.00\" fill=\"#000000\">1</text>\n</g>\n</g>\n</svg>\n"
          },
          "metadata": {
            "tags": []
          }
        },
        {
          "output_type": "display_data",
          "data": {
            "text/plain": [
              "<graphviz.dot.Graph at 0x7f3ea5c93630>"
            ],
            "image/svg+xml": "<?xml version=\"1.0\" encoding=\"UTF-8\" standalone=\"no\"?>\n<!DOCTYPE svg PUBLIC \"-//W3C//DTD SVG 1.1//EN\"\n \"http://www.w3.org/Graphics/SVG/1.1/DTD/svg11.dtd\">\n<!-- Generated by graphviz version 2.40.1 (20161225.0304)\n -->\n<!-- Title: %3 Pages: 1 -->\n<svg width=\"206pt\" height=\"131pt\"\n viewBox=\"0.00 0.00 206.00 131.00\" xmlns=\"http://www.w3.org/2000/svg\" xmlns:xlink=\"http://www.w3.org/1999/xlink\">\n<g id=\"graph0\" class=\"graph\" transform=\"scale(1 1) rotate(0) translate(4 127)\">\n<title>%3</title>\n<polygon fill=\"#ffffff\" stroke=\"transparent\" points=\"-4,4 -4,-127 202,-127 202,4 -4,4\"/>\n<!-- A -->\n<g id=\"node1\" class=\"node\">\n<title>A</title>\n<ellipse fill=\"none\" stroke=\"#000000\" cx=\"63\" cy=\"-105\" rx=\"27\" ry=\"18\"/>\n<text text-anchor=\"middle\" x=\"63\" y=\"-101.3\" font-family=\"Times,serif\" font-size=\"14.00\" fill=\"#000000\">A</text>\n</g>\n<!-- B -->\n<g id=\"node2\" class=\"node\">\n<title>B</title>\n<ellipse fill=\"none\" stroke=\"#000000\" cx=\"27\" cy=\"-18\" rx=\"27\" ry=\"18\"/>\n<text text-anchor=\"middle\" x=\"27\" y=\"-14.3\" font-family=\"Times,serif\" font-size=\"14.00\" fill=\"#000000\">B</text>\n</g>\n<!-- A&#45;&#45;B -->\n<g id=\"edge1\" class=\"edge\">\n<title>A&#45;&#45;B</title>\n<path fill=\"none\" stroke=\"#000000\" d=\"M55.7149,-87.3943C49.469,-72.3001 40.517,-50.6661 34.2743,-35.5796\"/>\n<text text-anchor=\"middle\" x=\"52\" y=\"-57.8\" font-family=\"Times,serif\" font-size=\"14.00\" fill=\"#000000\">1</text>\n</g>\n<!-- F -->\n<g id=\"node5\" class=\"node\">\n<title>F</title>\n<ellipse fill=\"none\" stroke=\"#000000\" cx=\"99\" cy=\"-18\" rx=\"27\" ry=\"18\"/>\n<text text-anchor=\"middle\" x=\"99\" y=\"-14.3\" font-family=\"Times,serif\" font-size=\"14.00\" fill=\"#000000\">F</text>\n</g>\n<!-- A&#45;&#45;F -->\n<g id=\"edge2\" class=\"edge\">\n<title>A&#45;&#45;F</title>\n<path fill=\"none\" stroke=\"#000000\" d=\"M70.2851,-87.3943C76.531,-72.3001 85.483,-50.6661 91.7257,-35.5796\"/>\n<text text-anchor=\"middle\" x=\"88\" y=\"-57.8\" font-family=\"Times,serif\" font-size=\"14.00\" fill=\"#000000\">2</text>\n</g>\n<!-- C -->\n<g id=\"node3\" class=\"node\">\n<title>C</title>\n<ellipse fill=\"none\" stroke=\"#000000\" cx=\"171\" cy=\"-105\" rx=\"27\" ry=\"18\"/>\n<text text-anchor=\"middle\" x=\"171\" y=\"-101.3\" font-family=\"Times,serif\" font-size=\"14.00\" fill=\"#000000\">C</text>\n</g>\n<!-- H -->\n<g id=\"node4\" class=\"node\">\n<title>H</title>\n<ellipse fill=\"none\" stroke=\"#000000\" cx=\"171\" cy=\"-18\" rx=\"27\" ry=\"18\"/>\n<text text-anchor=\"middle\" x=\"171\" y=\"-14.3\" font-family=\"Times,serif\" font-size=\"14.00\" fill=\"#000000\">H</text>\n</g>\n<!-- C&#45;&#45;H -->\n<g id=\"edge3\" class=\"edge\">\n<title>C&#45;&#45;H</title>\n<path fill=\"none\" stroke=\"#000000\" d=\"M171,-86.9735C171,-72.0422 171,-50.9283 171,-36.0034\"/>\n<text text-anchor=\"middle\" x=\"175\" y=\"-57.8\" font-family=\"Times,serif\" font-size=\"14.00\" fill=\"#000000\">1</text>\n</g>\n</g>\n</svg>\n"
          },
          "metadata": {
            "tags": []
          }
        },
        {
          "output_type": "display_data",
          "data": {
            "text/plain": [
              "<graphviz.dot.Graph at 0x7f3ea5c93668>"
            ],
            "image/svg+xml": "<?xml version=\"1.0\" encoding=\"UTF-8\" standalone=\"no\"?>\n<!DOCTYPE svg PUBLIC \"-//W3C//DTD SVG 1.1//EN\"\n \"http://www.w3.org/Graphics/SVG/1.1/DTD/svg11.dtd\">\n<!-- Generated by graphviz version 2.40.1 (20161225.0304)\n -->\n<!-- Title: %3 Pages: 1 -->\n<svg width=\"206pt\" height=\"218pt\"\n viewBox=\"0.00 0.00 206.00 218.00\" xmlns=\"http://www.w3.org/2000/svg\" xmlns:xlink=\"http://www.w3.org/1999/xlink\">\n<g id=\"graph0\" class=\"graph\" transform=\"scale(1 1) rotate(0) translate(4 214)\">\n<title>%3</title>\n<polygon fill=\"#ffffff\" stroke=\"transparent\" points=\"-4,4 -4,-214 202,-214 202,4 -4,4\"/>\n<!-- A -->\n<g id=\"node1\" class=\"node\">\n<title>A</title>\n<ellipse fill=\"none\" stroke=\"#000000\" cx=\"63\" cy=\"-192\" rx=\"27\" ry=\"18\"/>\n<text text-anchor=\"middle\" x=\"63\" y=\"-188.3\" font-family=\"Times,serif\" font-size=\"14.00\" fill=\"#000000\">A</text>\n</g>\n<!-- B -->\n<g id=\"node2\" class=\"node\">\n<title>B</title>\n<ellipse fill=\"none\" stroke=\"#000000\" cx=\"27\" cy=\"-105\" rx=\"27\" ry=\"18\"/>\n<text text-anchor=\"middle\" x=\"27\" y=\"-101.3\" font-family=\"Times,serif\" font-size=\"14.00\" fill=\"#000000\">B</text>\n</g>\n<!-- A&#45;&#45;B -->\n<g id=\"edge1\" class=\"edge\">\n<title>A&#45;&#45;B</title>\n<path fill=\"none\" stroke=\"#000000\" d=\"M55.7149,-174.3943C49.469,-159.3001 40.517,-137.6661 34.2743,-122.5796\"/>\n<text text-anchor=\"middle\" x=\"52\" y=\"-144.8\" font-family=\"Times,serif\" font-size=\"14.00\" fill=\"#000000\">1</text>\n</g>\n<!-- F -->\n<g id=\"node5\" class=\"node\">\n<title>F</title>\n<ellipse fill=\"none\" stroke=\"#000000\" cx=\"99\" cy=\"-105\" rx=\"27\" ry=\"18\"/>\n<text text-anchor=\"middle\" x=\"99\" y=\"-101.3\" font-family=\"Times,serif\" font-size=\"14.00\" fill=\"#000000\">F</text>\n</g>\n<!-- A&#45;&#45;F -->\n<g id=\"edge2\" class=\"edge\">\n<title>A&#45;&#45;F</title>\n<path fill=\"none\" stroke=\"#000000\" d=\"M70.2851,-174.3943C76.531,-159.3001 85.483,-137.6661 91.7257,-122.5796\"/>\n<text text-anchor=\"middle\" x=\"88\" y=\"-144.8\" font-family=\"Times,serif\" font-size=\"14.00\" fill=\"#000000\">2</text>\n</g>\n<!-- E -->\n<g id=\"node6\" class=\"node\">\n<title>E</title>\n<ellipse fill=\"none\" stroke=\"#000000\" cx=\"27\" cy=\"-18\" rx=\"27\" ry=\"18\"/>\n<text text-anchor=\"middle\" x=\"27\" y=\"-14.3\" font-family=\"Times,serif\" font-size=\"14.00\" fill=\"#000000\">E</text>\n</g>\n<!-- B&#45;&#45;E -->\n<g id=\"edge3\" class=\"edge\">\n<title>B&#45;&#45;E</title>\n<path fill=\"none\" stroke=\"#000000\" d=\"M27,-86.9735C27,-72.0422 27,-50.9283 27,-36.0034\"/>\n<text text-anchor=\"middle\" x=\"31\" y=\"-57.8\" font-family=\"Times,serif\" font-size=\"14.00\" fill=\"#000000\">2</text>\n</g>\n<!-- C -->\n<g id=\"node3\" class=\"node\">\n<title>C</title>\n<ellipse fill=\"none\" stroke=\"#000000\" cx=\"171\" cy=\"-192\" rx=\"27\" ry=\"18\"/>\n<text text-anchor=\"middle\" x=\"171\" y=\"-188.3\" font-family=\"Times,serif\" font-size=\"14.00\" fill=\"#000000\">C</text>\n</g>\n<!-- H -->\n<g id=\"node4\" class=\"node\">\n<title>H</title>\n<ellipse fill=\"none\" stroke=\"#000000\" cx=\"171\" cy=\"-105\" rx=\"27\" ry=\"18\"/>\n<text text-anchor=\"middle\" x=\"171\" y=\"-101.3\" font-family=\"Times,serif\" font-size=\"14.00\" fill=\"#000000\">H</text>\n</g>\n<!-- C&#45;&#45;H -->\n<g id=\"edge4\" class=\"edge\">\n<title>C&#45;&#45;H</title>\n<path fill=\"none\" stroke=\"#000000\" d=\"M171,-173.9735C171,-159.0422 171,-137.9283 171,-123.0034\"/>\n<text text-anchor=\"middle\" x=\"175\" y=\"-144.8\" font-family=\"Times,serif\" font-size=\"14.00\" fill=\"#000000\">1</text>\n</g>\n</g>\n</svg>\n"
          },
          "metadata": {
            "tags": []
          }
        },
        {
          "output_type": "display_data",
          "data": {
            "text/plain": [
              "<graphviz.dot.Graph at 0x7f3ea5c93470>"
            ],
            "image/svg+xml": "<?xml version=\"1.0\" encoding=\"UTF-8\" standalone=\"no\"?>\n<!DOCTYPE svg PUBLIC \"-//W3C//DTD SVG 1.1//EN\"\n \"http://www.w3.org/Graphics/SVG/1.1/DTD/svg11.dtd\">\n<!-- Generated by graphviz version 2.40.1 (20161225.0304)\n -->\n<!-- Title: %3 Pages: 1 -->\n<svg width=\"278pt\" height=\"218pt\"\n viewBox=\"0.00 0.00 278.00 218.00\" xmlns=\"http://www.w3.org/2000/svg\" xmlns:xlink=\"http://www.w3.org/1999/xlink\">\n<g id=\"graph0\" class=\"graph\" transform=\"scale(1 1) rotate(0) translate(4 214)\">\n<title>%3</title>\n<polygon fill=\"#ffffff\" stroke=\"transparent\" points=\"-4,4 -4,-214 274,-214 274,4 -4,4\"/>\n<!-- A -->\n<g id=\"node1\" class=\"node\">\n<title>A</title>\n<ellipse fill=\"none\" stroke=\"#000000\" cx=\"63\" cy=\"-192\" rx=\"27\" ry=\"18\"/>\n<text text-anchor=\"middle\" x=\"63\" y=\"-188.3\" font-family=\"Times,serif\" font-size=\"14.00\" fill=\"#000000\">A</text>\n</g>\n<!-- B -->\n<g id=\"node2\" class=\"node\">\n<title>B</title>\n<ellipse fill=\"none\" stroke=\"#000000\" cx=\"27\" cy=\"-105\" rx=\"27\" ry=\"18\"/>\n<text text-anchor=\"middle\" x=\"27\" y=\"-101.3\" font-family=\"Times,serif\" font-size=\"14.00\" fill=\"#000000\">B</text>\n</g>\n<!-- A&#45;&#45;B -->\n<g id=\"edge1\" class=\"edge\">\n<title>A&#45;&#45;B</title>\n<path fill=\"none\" stroke=\"#000000\" d=\"M55.7149,-174.3943C49.469,-159.3001 40.517,-137.6661 34.2743,-122.5796\"/>\n<text text-anchor=\"middle\" x=\"52\" y=\"-144.8\" font-family=\"Times,serif\" font-size=\"14.00\" fill=\"#000000\">1</text>\n</g>\n<!-- F -->\n<g id=\"node5\" class=\"node\">\n<title>F</title>\n<ellipse fill=\"none\" stroke=\"#000000\" cx=\"99\" cy=\"-105\" rx=\"27\" ry=\"18\"/>\n<text text-anchor=\"middle\" x=\"99\" y=\"-101.3\" font-family=\"Times,serif\" font-size=\"14.00\" fill=\"#000000\">F</text>\n</g>\n<!-- A&#45;&#45;F -->\n<g id=\"edge2\" class=\"edge\">\n<title>A&#45;&#45;F</title>\n<path fill=\"none\" stroke=\"#000000\" d=\"M70.2851,-174.3943C76.531,-159.3001 85.483,-137.6661 91.7257,-122.5796\"/>\n<text text-anchor=\"middle\" x=\"88\" y=\"-144.8\" font-family=\"Times,serif\" font-size=\"14.00\" fill=\"#000000\">2</text>\n</g>\n<!-- E -->\n<g id=\"node6\" class=\"node\">\n<title>E</title>\n<ellipse fill=\"none\" stroke=\"#000000\" cx=\"27\" cy=\"-18\" rx=\"27\" ry=\"18\"/>\n<text text-anchor=\"middle\" x=\"27\" y=\"-14.3\" font-family=\"Times,serif\" font-size=\"14.00\" fill=\"#000000\">E</text>\n</g>\n<!-- B&#45;&#45;E -->\n<g id=\"edge3\" class=\"edge\">\n<title>B&#45;&#45;E</title>\n<path fill=\"none\" stroke=\"#000000\" d=\"M27,-86.9735C27,-72.0422 27,-50.9283 27,-36.0034\"/>\n<text text-anchor=\"middle\" x=\"31\" y=\"-57.8\" font-family=\"Times,serif\" font-size=\"14.00\" fill=\"#000000\">2</text>\n</g>\n<!-- C -->\n<g id=\"node3\" class=\"node\">\n<title>C</title>\n<ellipse fill=\"none\" stroke=\"#000000\" cx=\"171\" cy=\"-192\" rx=\"27\" ry=\"18\"/>\n<text text-anchor=\"middle\" x=\"171\" y=\"-188.3\" font-family=\"Times,serif\" font-size=\"14.00\" fill=\"#000000\">C</text>\n</g>\n<!-- H -->\n<g id=\"node4\" class=\"node\">\n<title>H</title>\n<ellipse fill=\"none\" stroke=\"#000000\" cx=\"171\" cy=\"-105\" rx=\"27\" ry=\"18\"/>\n<text text-anchor=\"middle\" x=\"171\" y=\"-101.3\" font-family=\"Times,serif\" font-size=\"14.00\" fill=\"#000000\">H</text>\n</g>\n<!-- C&#45;&#45;H -->\n<g id=\"edge4\" class=\"edge\">\n<title>C&#45;&#45;H</title>\n<path fill=\"none\" stroke=\"#000000\" d=\"M171,-173.9735C171,-159.0422 171,-137.9283 171,-123.0034\"/>\n<text text-anchor=\"middle\" x=\"175\" y=\"-144.8\" font-family=\"Times,serif\" font-size=\"14.00\" fill=\"#000000\">1</text>\n</g>\n<!-- D -->\n<g id=\"node7\" class=\"node\">\n<title>D</title>\n<ellipse fill=\"none\" stroke=\"#000000\" cx=\"243\" cy=\"-192\" rx=\"27\" ry=\"18\"/>\n<text text-anchor=\"middle\" x=\"243\" y=\"-188.3\" font-family=\"Times,serif\" font-size=\"14.00\" fill=\"#000000\">D</text>\n</g>\n<!-- G -->\n<g id=\"node8\" class=\"node\">\n<title>G</title>\n<ellipse fill=\"none\" stroke=\"#000000\" cx=\"243\" cy=\"-105\" rx=\"27\" ry=\"18\"/>\n<text text-anchor=\"middle\" x=\"243\" y=\"-101.3\" font-family=\"Times,serif\" font-size=\"14.00\" fill=\"#000000\">G</text>\n</g>\n<!-- D&#45;&#45;G -->\n<g id=\"edge5\" class=\"edge\">\n<title>D&#45;&#45;G</title>\n<path fill=\"none\" stroke=\"#000000\" d=\"M243,-173.9735C243,-159.0422 243,-137.9283 243,-123.0034\"/>\n<text text-anchor=\"middle\" x=\"247\" y=\"-144.8\" font-family=\"Times,serif\" font-size=\"14.00\" fill=\"#000000\">2</text>\n</g>\n</g>\n</svg>\n"
          },
          "metadata": {
            "tags": []
          }
        },
        {
          "output_type": "display_data",
          "data": {
            "text/plain": [
              "<graphviz.dot.Graph at 0x7f3ea5c93438>"
            ],
            "image/svg+xml": "<?xml version=\"1.0\" encoding=\"UTF-8\" standalone=\"no\"?>\n<!DOCTYPE svg PUBLIC \"-//W3C//DTD SVG 1.1//EN\"\n \"http://www.w3.org/Graphics/SVG/1.1/DTD/svg11.dtd\">\n<!-- Generated by graphviz version 2.40.1 (20161225.0304)\n -->\n<!-- Title: %3 Pages: 1 -->\n<svg width=\"206pt\" height=\"305pt\"\n viewBox=\"0.00 0.00 206.00 305.00\" xmlns=\"http://www.w3.org/2000/svg\" xmlns:xlink=\"http://www.w3.org/1999/xlink\">\n<g id=\"graph0\" class=\"graph\" transform=\"scale(1 1) rotate(0) translate(4 301)\">\n<title>%3</title>\n<polygon fill=\"#ffffff\" stroke=\"transparent\" points=\"-4,4 -4,-301 202,-301 202,4 -4,4\"/>\n<!-- A -->\n<g id=\"node1\" class=\"node\">\n<title>A</title>\n<ellipse fill=\"none\" stroke=\"#000000\" cx=\"63\" cy=\"-279\" rx=\"27\" ry=\"18\"/>\n<text text-anchor=\"middle\" x=\"63\" y=\"-275.3\" font-family=\"Times,serif\" font-size=\"14.00\" fill=\"#000000\">A</text>\n</g>\n<!-- B -->\n<g id=\"node2\" class=\"node\">\n<title>B</title>\n<ellipse fill=\"none\" stroke=\"#000000\" cx=\"27\" cy=\"-192\" rx=\"27\" ry=\"18\"/>\n<text text-anchor=\"middle\" x=\"27\" y=\"-188.3\" font-family=\"Times,serif\" font-size=\"14.00\" fill=\"#000000\">B</text>\n</g>\n<!-- A&#45;&#45;B -->\n<g id=\"edge1\" class=\"edge\">\n<title>A&#45;&#45;B</title>\n<path fill=\"none\" stroke=\"#000000\" d=\"M55.7149,-261.3943C49.469,-246.3001 40.517,-224.6661 34.2743,-209.5796\"/>\n<text text-anchor=\"middle\" x=\"52\" y=\"-231.8\" font-family=\"Times,serif\" font-size=\"14.00\" fill=\"#000000\">1</text>\n</g>\n<!-- F -->\n<g id=\"node5\" class=\"node\">\n<title>F</title>\n<ellipse fill=\"none\" stroke=\"#000000\" cx=\"99\" cy=\"-192\" rx=\"27\" ry=\"18\"/>\n<text text-anchor=\"middle\" x=\"99\" y=\"-188.3\" font-family=\"Times,serif\" font-size=\"14.00\" fill=\"#000000\">F</text>\n</g>\n<!-- A&#45;&#45;F -->\n<g id=\"edge2\" class=\"edge\">\n<title>A&#45;&#45;F</title>\n<path fill=\"none\" stroke=\"#000000\" d=\"M70.2851,-261.3943C76.531,-246.3001 85.483,-224.6661 91.7257,-209.5796\"/>\n<text text-anchor=\"middle\" x=\"88\" y=\"-231.8\" font-family=\"Times,serif\" font-size=\"14.00\" fill=\"#000000\">2</text>\n</g>\n<!-- E -->\n<g id=\"node6\" class=\"node\">\n<title>E</title>\n<ellipse fill=\"none\" stroke=\"#000000\" cx=\"27\" cy=\"-105\" rx=\"27\" ry=\"18\"/>\n<text text-anchor=\"middle\" x=\"27\" y=\"-101.3\" font-family=\"Times,serif\" font-size=\"14.00\" fill=\"#000000\">E</text>\n</g>\n<!-- B&#45;&#45;E -->\n<g id=\"edge3\" class=\"edge\">\n<title>B&#45;&#45;E</title>\n<path fill=\"none\" stroke=\"#000000\" d=\"M27,-173.9735C27,-159.0422 27,-137.9283 27,-123.0034\"/>\n<text text-anchor=\"middle\" x=\"31\" y=\"-144.8\" font-family=\"Times,serif\" font-size=\"14.00\" fill=\"#000000\">2</text>\n</g>\n<!-- C -->\n<g id=\"node3\" class=\"node\">\n<title>C</title>\n<ellipse fill=\"none\" stroke=\"#000000\" cx=\"171\" cy=\"-279\" rx=\"27\" ry=\"18\"/>\n<text text-anchor=\"middle\" x=\"171\" y=\"-275.3\" font-family=\"Times,serif\" font-size=\"14.00\" fill=\"#000000\">C</text>\n</g>\n<!-- H -->\n<g id=\"node4\" class=\"node\">\n<title>H</title>\n<ellipse fill=\"none\" stroke=\"#000000\" cx=\"171\" cy=\"-192\" rx=\"27\" ry=\"18\"/>\n<text text-anchor=\"middle\" x=\"171\" y=\"-188.3\" font-family=\"Times,serif\" font-size=\"14.00\" fill=\"#000000\">H</text>\n</g>\n<!-- C&#45;&#45;H -->\n<g id=\"edge4\" class=\"edge\">\n<title>C&#45;&#45;H</title>\n<path fill=\"none\" stroke=\"#000000\" d=\"M171,-260.9735C171,-246.0422 171,-224.9283 171,-210.0034\"/>\n<text text-anchor=\"middle\" x=\"175\" y=\"-231.8\" font-family=\"Times,serif\" font-size=\"14.00\" fill=\"#000000\">1</text>\n</g>\n<!-- G -->\n<g id=\"node8\" class=\"node\">\n<title>G</title>\n<ellipse fill=\"none\" stroke=\"#000000\" cx=\"63\" cy=\"-18\" rx=\"27\" ry=\"18\"/>\n<text text-anchor=\"middle\" x=\"63\" y=\"-14.3\" font-family=\"Times,serif\" font-size=\"14.00\" fill=\"#000000\">G</text>\n</g>\n<!-- E&#45;&#45;G -->\n<g id=\"edge5\" class=\"edge\">\n<title>E&#45;&#45;G</title>\n<path fill=\"none\" stroke=\"#000000\" d=\"M34.2851,-87.3943C40.531,-72.3001 49.483,-50.6661 55.7257,-35.5796\"/>\n<text text-anchor=\"middle\" x=\"52\" y=\"-57.8\" font-family=\"Times,serif\" font-size=\"14.00\" fill=\"#000000\">2</text>\n</g>\n<!-- D -->\n<g id=\"node7\" class=\"node\">\n<title>D</title>\n<ellipse fill=\"none\" stroke=\"#000000\" cx=\"99\" cy=\"-105\" rx=\"27\" ry=\"18\"/>\n<text text-anchor=\"middle\" x=\"99\" y=\"-101.3\" font-family=\"Times,serif\" font-size=\"14.00\" fill=\"#000000\">D</text>\n</g>\n<!-- D&#45;&#45;G -->\n<g id=\"edge6\" class=\"edge\">\n<title>D&#45;&#45;G</title>\n<path fill=\"none\" stroke=\"#000000\" d=\"M91.7149,-87.3943C85.469,-72.3001 76.517,-50.6661 70.2743,-35.5796\"/>\n<text text-anchor=\"middle\" x=\"88\" y=\"-57.8\" font-family=\"Times,serif\" font-size=\"14.00\" fill=\"#000000\">2</text>\n</g>\n</g>\n</svg>\n"
          },
          "metadata": {
            "tags": []
          }
        },
        {
          "output_type": "stream",
          "text": [
            "Ignorado D-E\n"
          ],
          "name": "stdout"
        },
        {
          "output_type": "display_data",
          "data": {
            "text/plain": [
              "<graphviz.dot.Graph at 0x7f3ea5c93438>"
            ],
            "image/svg+xml": "<?xml version=\"1.0\" encoding=\"UTF-8\" standalone=\"no\"?>\n<!DOCTYPE svg PUBLIC \"-//W3C//DTD SVG 1.1//EN\"\n \"http://www.w3.org/Graphics/SVG/1.1/DTD/svg11.dtd\">\n<!-- Generated by graphviz version 2.40.1 (20161225.0304)\n -->\n<!-- Title: %3 Pages: 1 -->\n<svg width=\"206pt\" height=\"305pt\"\n viewBox=\"0.00 0.00 206.00 305.00\" xmlns=\"http://www.w3.org/2000/svg\" xmlns:xlink=\"http://www.w3.org/1999/xlink\">\n<g id=\"graph0\" class=\"graph\" transform=\"scale(1 1) rotate(0) translate(4 301)\">\n<title>%3</title>\n<polygon fill=\"#ffffff\" stroke=\"transparent\" points=\"-4,4 -4,-301 202,-301 202,4 -4,4\"/>\n<!-- A -->\n<g id=\"node1\" class=\"node\">\n<title>A</title>\n<ellipse fill=\"none\" stroke=\"#000000\" cx=\"81\" cy=\"-279\" rx=\"27\" ry=\"18\"/>\n<text text-anchor=\"middle\" x=\"81\" y=\"-275.3\" font-family=\"Times,serif\" font-size=\"14.00\" fill=\"#000000\">A</text>\n</g>\n<!-- B -->\n<g id=\"node2\" class=\"node\">\n<title>B</title>\n<ellipse fill=\"none\" stroke=\"#000000\" cx=\"27\" cy=\"-192\" rx=\"27\" ry=\"18\"/>\n<text text-anchor=\"middle\" x=\"27\" y=\"-188.3\" font-family=\"Times,serif\" font-size=\"14.00\" fill=\"#000000\">B</text>\n</g>\n<!-- A&#45;&#45;B -->\n<g id=\"edge1\" class=\"edge\">\n<title>A&#45;&#45;B</title>\n<path fill=\"none\" stroke=\"#000000\" d=\"M70.5883,-262.2255C61.0261,-246.8198 46.9318,-224.1124 37.3798,-208.723\"/>\n<text text-anchor=\"middle\" x=\"62\" y=\"-231.8\" font-family=\"Times,serif\" font-size=\"14.00\" fill=\"#000000\">1</text>\n</g>\n<!-- F -->\n<g id=\"node5\" class=\"node\">\n<title>F</title>\n<ellipse fill=\"none\" stroke=\"#000000\" cx=\"99\" cy=\"-192\" rx=\"27\" ry=\"18\"/>\n<text text-anchor=\"middle\" x=\"99\" y=\"-188.3\" font-family=\"Times,serif\" font-size=\"14.00\" fill=\"#000000\">F</text>\n</g>\n<!-- A&#45;&#45;F -->\n<g id=\"edge2\" class=\"edge\">\n<title>A&#45;&#45;F</title>\n<path fill=\"none\" stroke=\"#000000\" d=\"M84.7296,-260.9735C87.8189,-246.0422 92.1872,-224.9283 95.2752,-210.0034\"/>\n<text text-anchor=\"middle\" x=\"95\" y=\"-231.8\" font-family=\"Times,serif\" font-size=\"14.00\" fill=\"#000000\">2</text>\n</g>\n<!-- E -->\n<g id=\"node6\" class=\"node\">\n<title>E</title>\n<ellipse fill=\"none\" stroke=\"#000000\" cx=\"27\" cy=\"-105\" rx=\"27\" ry=\"18\"/>\n<text text-anchor=\"middle\" x=\"27\" y=\"-101.3\" font-family=\"Times,serif\" font-size=\"14.00\" fill=\"#000000\">E</text>\n</g>\n<!-- B&#45;&#45;E -->\n<g id=\"edge3\" class=\"edge\">\n<title>B&#45;&#45;E</title>\n<path fill=\"none\" stroke=\"#000000\" d=\"M27,-173.9735C27,-159.0422 27,-137.9283 27,-123.0034\"/>\n<text text-anchor=\"middle\" x=\"31\" y=\"-144.8\" font-family=\"Times,serif\" font-size=\"14.00\" fill=\"#000000\">2</text>\n</g>\n<!-- C -->\n<g id=\"node3\" class=\"node\">\n<title>C</title>\n<ellipse fill=\"none\" stroke=\"#000000\" cx=\"171\" cy=\"-192\" rx=\"27\" ry=\"18\"/>\n<text text-anchor=\"middle\" x=\"171\" y=\"-188.3\" font-family=\"Times,serif\" font-size=\"14.00\" fill=\"#000000\">C</text>\n</g>\n<!-- H -->\n<g id=\"node4\" class=\"node\">\n<title>H</title>\n<ellipse fill=\"none\" stroke=\"#000000\" cx=\"171\" cy=\"-105\" rx=\"27\" ry=\"18\"/>\n<text text-anchor=\"middle\" x=\"171\" y=\"-101.3\" font-family=\"Times,serif\" font-size=\"14.00\" fill=\"#000000\">H</text>\n</g>\n<!-- C&#45;&#45;H -->\n<g id=\"edge4\" class=\"edge\">\n<title>C&#45;&#45;H</title>\n<path fill=\"none\" stroke=\"#000000\" d=\"M171,-173.9735C171,-159.0422 171,-137.9283 171,-123.0034\"/>\n<text text-anchor=\"middle\" x=\"175\" y=\"-144.8\" font-family=\"Times,serif\" font-size=\"14.00\" fill=\"#000000\">1</text>\n</g>\n<!-- C&#45;&#45;E -->\n<g id=\"edge5\" class=\"edge\">\n<title>C&#45;&#45;E</title>\n<path fill=\"none\" stroke=\"#000000\" d=\"M150.9774,-179.903C123.6204,-163.3748 74.8265,-133.8952 47.3168,-117.2747\"/>\n<text text-anchor=\"middle\" x=\"111\" y=\"-144.8\" font-family=\"Times,serif\" font-size=\"14.00\" fill=\"#000000\">4</text>\n</g>\n<!-- G -->\n<g id=\"node8\" class=\"node\">\n<title>G</title>\n<ellipse fill=\"none\" stroke=\"#000000\" cx=\"63\" cy=\"-18\" rx=\"27\" ry=\"18\"/>\n<text text-anchor=\"middle\" x=\"63\" y=\"-14.3\" font-family=\"Times,serif\" font-size=\"14.00\" fill=\"#000000\">G</text>\n</g>\n<!-- E&#45;&#45;G -->\n<g id=\"edge6\" class=\"edge\">\n<title>E&#45;&#45;G</title>\n<path fill=\"none\" stroke=\"#000000\" d=\"M34.2851,-87.3943C40.531,-72.3001 49.483,-50.6661 55.7257,-35.5796\"/>\n<text text-anchor=\"middle\" x=\"52\" y=\"-57.8\" font-family=\"Times,serif\" font-size=\"14.00\" fill=\"#000000\">2</text>\n</g>\n<!-- D -->\n<g id=\"node7\" class=\"node\">\n<title>D</title>\n<ellipse fill=\"none\" stroke=\"#000000\" cx=\"99\" cy=\"-105\" rx=\"27\" ry=\"18\"/>\n<text text-anchor=\"middle\" x=\"99\" y=\"-101.3\" font-family=\"Times,serif\" font-size=\"14.00\" fill=\"#000000\">D</text>\n</g>\n<!-- D&#45;&#45;G -->\n<g id=\"edge7\" class=\"edge\">\n<title>D&#45;&#45;G</title>\n<path fill=\"none\" stroke=\"#000000\" d=\"M91.7149,-87.3943C85.469,-72.3001 76.517,-50.6661 70.2743,-35.5796\"/>\n<text text-anchor=\"middle\" x=\"87\" y=\"-57.8\" font-family=\"Times,serif\" font-size=\"14.00\" fill=\"#000000\">2</text>\n</g>\n</g>\n</svg>\n"
          },
          "metadata": {
            "tags": []
          }
        },
        {
          "output_type": "stream",
          "text": [
            "Ignorado F-G\n",
            "Ignorado A-D\n",
            "Ignorado G-H\n"
          ],
          "name": "stdout"
        }
      ]
    },
    {
      "cell_type": "markdown",
      "metadata": {
        "id": "qZE5BsADZTc-"
      },
      "source": [
        "## 2.- (10pts) Agrupamiento con espacio maximo"
      ]
    },
    {
      "cell_type": "markdown",
      "metadata": {
        "id": "-rSZsDzcZTc-"
      },
      "source": [
        "Dada una coleccion de objetos, el problema de **agrupamiento-k** consiste en dividir dichos objetos en k grupos, tal que, objetos que pertenecen al mismo grupo esten \"cercanos\", y objetos de diferentes grupos esten \"lejanos\". Para lograr este agrupamiento, es posible definir una funcion de distancia o similitud entre los objetos, con la idea de que objetos a una distancia grande son objectos poco similares.\n",
        "\n",
        "\n",
        "Definimos el **espacio** de un agrupamiento-k, como la distancia minimia entre cualquier par de puntos que pertenecen a diferente grupo. Un agrupamiento con espacio maximo consiste en encontrar el agrupamiento-k, tal que el distancia minima entre objetos de diferentes grupos es maxima."
      ]
    },
    {
      "cell_type": "markdown",
      "metadata": {
        "id": "DyW93MnxZTc-"
      },
      "source": [
        "<img src=\"AEM.png\" width=\"80%\" height=\"80%\">"
      ]
    },
    {
      "cell_type": "markdown",
      "metadata": {
        "id": "M-vE2xzDZTc-"
      },
      "source": [
        "**Pregunta**: Describe como se relaciona el problema de MST y el problema de agrupamiento con espacio maximo?\n"
      ]
    },
    {
      "cell_type": "markdown",
      "metadata": {
        "id": "x8_0qtf3a3Af"
      },
      "source": [
        "### Respuesta\n",
        "De manera directa podemos ver que el _MST_ genera agrupaciones, si tomamos al algoritmo de __kruskal__ como metodo para generar el _MST_ , podemos ver que va formando agrupaciones de los datos que tienen un __menor__ costo comunicarse entre ellos. Siguiendo el mismo pensamiento, los ultimos nodos que se conectan seran aquellos con mayor distancia entre los dem\\'as nodos. Por lo que una estrategia para encontrar el __k-agrupamiento__ podr\\'ia ser ejecutar el algoritmo de __Kruskal__ hasta que \\'unicamente falten $k - 1$ _aristas_ para completar el _MST_ , dichas aristas seran las m\\'as pesadas, los bosques que ya esten formados hasta este momento seran los $k$ grupos buscados y las aristas faltantes seran las que unan a los grupos."
      ]
    },
    {
      "cell_type": "markdown",
      "metadata": {
        "id": "90pedLuiZTc-"
      },
      "source": [
        "**Implementacion**: Dado el conjuto de puntos del archivo X.txt, utiliza una de tus implementaciones para MST y resuelve le problema de **agrupamiento con espacio maximo**, con $k=2$\n",
        "\n",
        "**Como funcion de distancia utiliza la distancia euclidiana.**"
      ]
    },
    {
      "cell_type": "code",
      "metadata": {
        "colab": {
          "base_uri": "https://localhost:8080/",
          "height": 428
        },
        "id": "Zm8Oqnj7ZTc-",
        "outputId": "a6984731-646e-4c2f-8752-035d77b37a52"
      },
      "source": [
        "import numpy as np\n",
        "import matplotlib.pyplot as plt\n",
        "from matplotlib.colors import ListedColormap\n",
        "\n",
        "# importar informacion\n",
        "X = np.loadtxt('X.txt')\n",
        "\n",
        "# graficar todos los puntos\n",
        "plt.figure(figsize=(10,7))\n",
        "plt.scatter(X[:,0], X[:,1], color='b')\n",
        "\n",
        "# conexion entre dos nodos\n",
        "plt.plot([X[0,0], X[1,0]], [X[0,1],X[1,1]], c='red')\n",
        "\n",
        "plt.show()"
      ],
      "execution_count": null,
      "outputs": [
        {
          "output_type": "display_data",
          "data": {
            "image/png": "[encoded data removed]",
            "text/plain": [
              "<Figure size 720x504 with 1 Axes>"
            ]
          },
          "metadata": {
            "tags": [],
            "needs_background": "light"
          }
        }
      ]
    },
    {
      "cell_type": "markdown",
      "metadata": {
        "id": "X3D2wEs8ZTc-"
      },
      "source": [
        "Finalmente, visualiza el conjunto de puntos, dando un color diferente a cada grupo"
      ]
    },
    {
      "cell_type": "code",
      "metadata": {
        "id": "U3G53CBvZTc-"
      },
      "source": [
        "# Funciones\n",
        "#######################\n",
        "\n",
        "# imports\n",
        "from math import sqrt, factorial\n",
        "\n",
        "# Getters\n",
        "def getX(n):\n",
        "    return X[int(n),0]\n",
        "def getY(n):\n",
        "    return X[int(n),1]\n",
        "\n",
        "# Funcion para ploter linea entre puntos\n",
        "def l_puntos(x, y, color='red'):\n",
        "    plt.plot([getX(x), getX(y)], [getY(x),getY(y)], c=color)\n",
        "    \n",
        "# Funcion para ploter punto\n",
        "def p_punto(x, color='blue'):\n",
        "    plt.plot([getX(x)],[getY(x)], 'o', color=color)\n",
        "    \n",
        "# Funcion para medir la distancia euclidiana\n",
        "def d_puntos(x, y):\n",
        "    return ( (getX(x)-getX(y))**2 + (getY(x)-getY(y))**2 )**(1/2)\n",
        "\n",
        "# Funcion choos k on 2\n",
        "def comb(k):\n",
        "    return factorial(k)/(factorial(2)*factorial(k-2))\n",
        "\n",
        "\n",
        "# Recorrido de nodos al estilo DFS\n",
        "def DFS(G, nodo, colores, omitir, color):\n",
        "    colores[nodo] = 'grey'\n",
        "    p_punto(nodo, color=color)\n",
        "    for vecino in G[nodo]:\n",
        "        if (colores[vecino] == 'white') and (vecino not in omitir):\n",
        "            colores[vecino] = 'grey'\n",
        "            DFS(G, vecino, colores, omitir, color)\n",
        "\n",
        "def alg_kruskal_2(G, aristas):\n",
        "    MST = {}\n",
        "    sets = init_alg_kruskal(G); aristas.sort(key=operator.itemgetter(2))\n",
        "    \n",
        "    for v1, v2, w in aristas:\n",
        "        v1_p = srch_parent(sets, v1); v2_p = srch_parent(sets, v2)\n",
        "        \n",
        "        union = sets[v1_p]|sets[v2_p]\n",
        "        if (union != sets[v1_p]) and (union != sets[v2_p]):\n",
        "            sets[v1_p] = union\n",
        "            sets[v2_p] = v1_p\n",
        "            make_link(MST, v1, v2, w)\n",
        "            l_puntos(int(v1),int(v2))\n",
        "        else:\n",
        "            #print(\"Ignorado \" + v1+'-'+v2)\n",
        "            pass\n",
        "            \n",
        "    return MST"
      ],
      "execution_count": null,
      "outputs": []
    },
    {
      "cell_type": "code",
      "metadata": {
        "colab": {
          "base_uri": "https://localhost:8080/",
          "height": 676
        },
        "id": "cx5aXE9Lbnke",
        "outputId": "64349440-99ba-45d6-844b-029f729d259b"
      },
      "source": [
        "# Creacion aristas\n",
        "aristas2 = []\n",
        "\n",
        "n_datos = len(X[:,0])\n",
        "for i in range(n_datos):\n",
        "    for j in range(i+1, n_datos):\n",
        "        aristas2.append( (str(i), str(j), d_puntos(i,j)) )\n",
        "        \n",
        "# Creando grafo\n",
        "G2 = crear_grafo(aristas2)\n",
        "\n",
        "MST2 = alg_kruskal_2(G2, aristas2)\n",
        "\n",
        "# Colores para grupos\n",
        "color = ['c','r','y','b','m','g']\n",
        "\n",
        "# Listas para trabajar\n",
        "colores = {}    #dictenter\n",
        "omitir = []     #list\n",
        "\n",
        "for nodo in MST2:\n",
        "    colores[nodo] = 'white'\n",
        "\n",
        "# Encontrar vertice maximo\n",
        "# en este caso como solo se busca uno se implementa asi\n",
        "\n",
        "a_max = ('Err', 'Err', -np.Inf)      #Valor que sabemos no aparece en las longitudes\n",
        "for vertex in MST2:\n",
        "    for vecino in MST2[vertex]:\n",
        "        temp = (MST2[vertex])[vecino]\n",
        "        a_max = (vertex, vecino, temp) if temp > a_max[2] else a_max\n",
        "omitir.append(a_max[0])\n",
        "omitir.append(a_max[1])\n",
        "\n",
        "# visualizacion de los puntos\n",
        "plt.figure(figsize=(10,7))\n",
        "plt.scatter(X[:,0], X[:,1], color='b')\n",
        "\n",
        "# Visualizar aristas de union de grupos\n",
        "l_puntos(int(a_max[0]), int(a_max[1]), color='g')\n",
        "\n",
        "# Coloraci\\'on de grupos\n",
        "##### \n",
        "for i in range(len(omitir)):\n",
        "    DFS(MST2, omitir[i], colores, omitir, color[i])"
      ],
      "execution_count": null,
      "outputs": [
        {
          "output_type": "display_data",
          "data": {
            "image/png": "[encoded data removed]",
            "text/plain": [
              "<Figure size 432x288 with 1 Axes>"
            ]
          },
          "metadata": {
            "tags": [],
            "needs_background": "light"
          }
        },
        {
          "output_type": "display_data",
          "data": {
            "image/png": "[encoded data removed]",
            "text/plain": [
              "<Figure size 720x504 with 1 Axes>"
            ]
          },
          "metadata": {
            "tags": [],
            "needs_background": "light"
          }
        }
      ]
    },
    {
      "cell_type": "code",
      "metadata": {
        "id": "sdo8nnTFbuLs"
      },
      "source": [
        ""
      ],
      "execution_count": null,
      "outputs": []
    }
  ]
}