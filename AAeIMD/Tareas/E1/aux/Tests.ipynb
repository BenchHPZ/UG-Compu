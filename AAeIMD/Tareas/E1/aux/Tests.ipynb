{
 "cells": [
  {
   "cell_type": "code",
   "execution_count": 1,
   "metadata": {
    "ExecuteTime": {
     "end_time": "2020-10-12T16:55:23.581261Z",
     "start_time": "2020-10-12T16:55:23.578470Z"
    }
   },
   "outputs": [],
   "source": [
    "from Test import *"
   ]
  },
  {
   "cell_type": "code",
   "execution_count": 43,
   "metadata": {
    "ExecuteTime": {
     "end_time": "2020-10-12T17:16:40.887838Z",
     "start_time": "2020-10-12T17:16:40.859055Z"
    },
    "id": "eNCKlgytdzAT"
   },
   "outputs": [],
   "source": [
    "# Clase principal\n",
    "\n",
    "class Person():\n",
    "\n",
    "    def __init__(self, nombre, preferencias, genero):\n",
    "        self.nombre = nombre\n",
    "        self.preferencias = preferencias\n",
    "        self.genero = genero\n",
    "        self.pareja = None\n",
    "        self._opcion = -1\n",
    "  \n",
    "    def __str__(self):\n",
    "        return f'{self.genero}({self.nombre})'\n",
    "\n",
    "    def __repr__(self):  \n",
    "        return f'{self.genero}({self.nombre})'\n",
    "\n",
    "\n",
    "    ###########################\n",
    "    ##       Getters        ##\n",
    "    #########################\n",
    "    def get_next_preferencia(self):\n",
    "        self._opcion += 1\n",
    "        if self._opcion < len(self.preferencias):\n",
    "            return self.preferencias[self._opcion]\n",
    "        else:\n",
    "            raise Exception('Fin de opciones.')\n",
    "\n",
    "    def get_preferencias(self):\n",
    "        return self.preferencias\n",
    "    \n",
    "    \n",
    "    def is_solterx(self, prnt=False):\n",
    "        if prnt and self.pareja == None:\n",
    "            print(f'{self.nombre} esta solterx')\n",
    "        elif prnt:\n",
    "            print(f'{self.nombre} esta con {self.pareja}')\n",
    "        return (self.pareja == None)\n",
    "\n",
    "    def s_pareja(self):\n",
    "        return f'({self.nombre}, {self.pareja})'\n",
    "\n",
    "    ###########################\n",
    "    ##       Setters        ##\n",
    "    #########################\n",
    "    def set_pareja(self, person, prnt=False ):\n",
    "        if prnt and self.pareja != None:\n",
    "            print(f\"{self.nombre} deja a {self.pareja} por {person.nombre}\")\n",
    "        elif prnt:\n",
    "            print(f'{self.nombre} acepta a {person.nombre}')\n",
    "        self.pareja = person.nombre\n",
    "        \n",
    "\n",
    "    def solterx(self, prnt=False):\n",
    "        if prnt: print(f'{self.nombre} pasa a ser soltero')\n",
    "        self.pareja = None\n",
    "\n",
    "    ###########################\n",
    "    ##        Others        ##\n",
    "    #########################\n",
    "    \n",
    "    def match(self, person, hombres, prnt=False):\n",
    "        if (self.genero != person.genero):\n",
    "            i_other = search_person(hombres, person.pareja)\n",
    "            \n",
    "            # Si person esta solterx\n",
    "            if person.is_solterx(prnt=False):\n",
    "                # Emparejamos porque no hay mejor opcion\n",
    "                self.set_pareja(person, prnt=False) # Self se arrejunta\n",
    "                person.set_pareja(self, prnt=prnt)  # Person se arrejunta\n",
    "                return True\n",
    "            \n",
    "            # Si person esta con alguien\n",
    "            elif i_other >= 0:\n",
    "                pref = person.preferencias\n",
    "                self_i = (pref).index(self.nombre)\n",
    "                i_in = (pref).index(person.pareja)\n",
    "                # Si self es preferido sobre other\n",
    "                if self_i < i_in:\n",
    "                    # Other pasa a ser soltero\n",
    "                    hombres[i_other].solterx(prnt=prnt)\n",
    "                    # self y person se vuelven pareja\n",
    "                    self.set_pareja(person, prnt=False) # Self se arrejunta\n",
    "                    person.set_pareja(self, prnt=prnt)  # Person se arrejunta\n",
    "                    return False\n",
    "                \n",
    "                if prnt:\n",
    "                    print(f'{self.nombre} es rechazado por {person.nombre}')\n",
    "                    '''\n",
    "                    print(f'{person.nombre} := {person.preferencias}')\n",
    "                    print(f'\\tAct -> {person.pareja} :: {i_other}')\n",
    "                    print(f'\\tNue -> {self.nombre} :: {self_i}')'''\n",
    "                return False\n",
    "            \n",
    "            \n",
    "            raise Exception(\"Situacion no considerada.\")\n",
    "        else:\n",
    "            raise Exception(\"Restriciones de genero por planteamiento.\")\n"
   ]
  },
  {
   "cell_type": "code",
   "execution_count": 44,
   "metadata": {
    "ExecuteTime": {
     "end_time": "2020-10-12T17:16:41.743136Z",
     "start_time": "2020-10-12T17:16:41.730659Z"
    },
    "code_folding": [
     0
    ]
   },
   "outputs": [],
   "source": [
    "# Submodulos de Person\n",
    "class Male(Person):\n",
    "    def __init__(self, nombre, preferencias):\n",
    "        Person.__init__(self, nombre, preferencias, 'H')\n",
    "\n",
    "\n",
    "class Female(Person):\n",
    "    def __init__(self, nombre, preferencias):\n",
    "        Person.__init__(self, nombre, preferencias, 'M')\n",
    "        \n",
    "def personsFromMatrix(file):\n",
    "    \"\"\" Cargar personas y preferencias de archivo. \"\"\"\n",
    "\n",
    "    with open(file, 'r') as file:\n",
    "        hombres = []; mujeres = []; \n",
    "        i = 0; lim = None\n",
    "\n",
    "        first = True; second = False\n",
    "        for line in file:\n",
    "            if first: # Obtenemos lista de hombres\n",
    "                first = False; second = True;\n",
    "                hombres.extend(line.split())\n",
    "                continue\n",
    "            elif second: # Obtenemos lista de mujeres\n",
    "                second = False\n",
    "                mujeres.extend(line.split())\n",
    "                if len(hombres) != len(mujeres):\n",
    "                    raise Exception(\"Desigual numero de mujeres y hombres.\")\n",
    "                lim = len(mujeres)\n",
    "            else:\n",
    "                lista, i_t, Gender = ((hombres, i, Male) if i <= lim-1 else (mujeres, i-lim, Female))\n",
    "                nombre = lista[i_t]    \n",
    "                preferencias = line.split()\n",
    "                lista[i_t] = Gender(nombre, preferencias)\n",
    "\n",
    "                i += 1\n",
    "\n",
    "        return hombres, mujeres\n"
   ]
  },
  {
   "cell_type": "code",
   "execution_count": 45,
   "metadata": {
    "ExecuteTime": {
     "end_time": "2020-10-12T17:16:42.961147Z",
     "start_time": "2020-10-12T17:16:42.948947Z"
    },
    "id": "nc7Y4Tp8jQQH"
   },
   "outputs": [],
   "source": [
    "def matrimonio_estable(hombres, mujeres, prnt=False):\n",
    "    \"\"\" Funcion de matrimonio estable.\n",
    "  \n",
    "    Falta implementar que sea estable.\n",
    "    \"\"\"\n",
    "\n",
    "    estable = False\n",
    "    while not estable:\n",
    "        estable = True\n",
    "        for h in hombres:\n",
    "            if h.is_solterx(prnt=False):\n",
    "                n_m = h.get_next_preferencia()\n",
    "                i_m = search_person(mujeres, n_m)\n",
    "\n",
    "                estable = (h.match(mujeres[i_m], hombres, prnt=prnt) and estable)\n",
    "        \n",
    "        if prnt:\n",
    "            print('--- Parejas ---')\n",
    "            for h in hombres:\n",
    "                print(h.s_pareja())\n",
    "            print('--- ------ ---')\n",
    "    \n",
    "    print('--------------------------')\n",
    "    print(f'{estable}] Las parejas quedaron')\n",
    "    for h in hombres:\n",
    "        print(h.s_pareja())"
   ]
  },
  {
   "cell_type": "code",
   "execution_count": 59,
   "metadata": {
    "ExecuteTime": {
     "end_time": "2020-10-12T17:32:55.728599Z",
     "start_time": "2020-10-12T17:32:55.711932Z"
    },
    "colab": {
     "base_uri": "https://localhost:8080/",
     "height": 660
    },
    "id": "GYvmqQQyRhAA",
    "outputId": "ebd00113-f779-4dd0-a8f6-95872043d5d1"
   },
   "outputs": [
    {
     "name": "stdout",
     "output_type": "stream",
     "text": [
      "--------------------------\n",
      "True] Las parejas quedaron\n",
      "(A, v)\n",
      "(B, U)\n",
      "(C, S)\n",
      "(D, T)\n"
     ]
    }
   ],
   "source": [
    "hombres, mujeres = personsFromMatrix('test.txt')\n",
    "\n",
    "\n",
    "matrimonio_estable(hombres, mujeres, prnt=False)"
   ]
  },
  {
   "cell_type": "code",
   "execution_count": null,
   "metadata": {
    "id": "hEVlDdqrK7sT"
   },
   "outputs": [],
   "source": []
  },
  {
   "cell_type": "code",
   "execution_count": null,
   "metadata": {
    "id": "JIL_KoAzuzrC"
   },
   "outputs": [],
   "source": []
  }
 ],
 "metadata": {
  "colab": {
   "name": "Tests.ipynb",
   "provenance": []
  },
  "hide_input": false,
  "kernelspec": {
   "display_name": "Python 3",
   "language": "python",
   "name": "python3"
  },
  "language_info": {
   "codemirror_mode": {
    "name": "ipython",
    "version": 3
   },
   "file_extension": ".py",
   "mimetype": "text/x-python",
   "name": "python",
   "nbconvert_exporter": "python",
   "pygments_lexer": "ipython3",
   "version": "3.8.5"
  },
  "latex_envs": {
   "LaTeX_envs_menu_present": true,
   "autoclose": false,
   "autocomplete": true,
   "bibliofile": "biblio.bib",
   "cite_by": "apalike",
   "current_citInitial": 1,
   "eqLabelWithNumbers": true,
   "eqNumInitial": 1,
   "hotkeys": {
    "equation": "Ctrl-E",
    "itemize": "Ctrl-I"
   },
   "labels_anchors": false,
   "latex_user_defs": false,
   "report_style_numbering": false,
   "user_envs_cfg": false
  },
  "toc": {
   "base_numbering": 1,
   "nav_menu": {},
   "number_sections": true,
   "sideBar": true,
   "skip_h1_title": true,
   "title_cell": "Indice",
   "title_sidebar": "Contenido",
   "toc_cell": false,
   "toc_position": {},
   "toc_section_display": true,
   "toc_window_display": false
  },
  "varInspector": {
   "cols": {
    "lenName": 16,
    "lenType": 16,
    "lenVar": 40
   },
   "kernels_config": {
    "python": {
     "delete_cmd_postfix": "",
     "delete_cmd_prefix": "del ",
     "library": "var_list.py",
     "varRefreshCmd": "print(var_dic_list())"
    },
    "r": {
     "delete_cmd_postfix": ") ",
     "delete_cmd_prefix": "rm(",
     "library": "var_list.r",
     "varRefreshCmd": "cat(var_dic_list()) "
    }
   },
   "types_to_exclude": [
    "module",
    "function",
    "builtin_function_or_method",
    "instance",
    "_Feature"
   ],
   "window_display": false
  }
 },
 "nbformat": 4,
 "nbformat_minor": 1
}
