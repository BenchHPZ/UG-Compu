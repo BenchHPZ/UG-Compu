{
 "cells": [
  {
   "cell_type": "markdown",
   "metadata": {
    "ExecuteTime": {
     "end_time": "2020-09-15T02:40:45.521516Z",
     "start_time": "2020-09-15T02:40:45.503530Z"
    }
   },
   "source": [
    "# Tarea\n",
    "\n",
    "Implementación del algoritmo para resolver le problema de las Torres de Hanoi del \n",
    "[video](https://www.youtube.com/watch?v=8lhxIOAfDss)"
   ]
  },
  {
   "cell_type": "code",
   "execution_count": 1,
   "metadata": {
    "ExecuteTime": {
     "end_time": "2020-09-15T02:58:59.074068Z",
     "start_time": "2020-09-15T02:58:59.066480Z"
    }
   },
   "outputs": [],
   "source": [
    "def move(f, t):\n",
    "    print(f'Move {f} to {t}')\n",
    "\n",
    "\n",
    "def hanoi(n, f, h, t):\n",
    "    if n==0: # En caso de que ya no queden discos terminamos\n",
    "        pass\n",
    "    else:\n",
    "        #\n",
    "        hanoi(n-1, f, t, h) # Movemos del original al intermedio\n",
    "        move(f, t)\n",
    "        hanoi(n-1, h, f, t) # Movemos del intermedio al final"
   ]
  },
  {
   "cell_type": "code",
   "execution_count": 2,
   "metadata": {
    "ExecuteTime": {
     "end_time": "2020-09-15T02:58:59.154420Z",
     "start_time": "2020-09-15T02:58:59.077808Z"
    }
   },
   "outputs": [
    {
     "name": "stdout",
     "output_type": "stream",
     "text": [
      "Move A to B\n",
      "Move A to C\n",
      "Move B to C\n",
      "Move A to B\n",
      "Move C to A\n",
      "Move C to B\n",
      "Move A to B\n",
      "Move A to C\n",
      "Move B to C\n",
      "Move B to A\n",
      "Move C to A\n",
      "Move B to C\n",
      "Move A to B\n",
      "Move A to C\n",
      "Move B to C\n"
     ]
    }
   ],
   "source": [
    "# Ejecutamos para cuatro discos\n",
    "hanoi(4, 'A', 'B', 'C')"
   ]
  },
  {
   "cell_type": "code",
   "execution_count": null,
   "metadata": {},
   "outputs": [],
   "source": []
  }
 ],
 "metadata": {
  "hide_input": false,
  "kernelspec": {
   "display_name": "Python 3",
   "language": "python",
   "name": "python3"
  },
  "language_info": {
   "codemirror_mode": {
    "name": "ipython",
    "version": 3
   },
   "file_extension": ".py",
   "mimetype": "text/x-python",
   "name": "python",
   "nbconvert_exporter": "python",
   "pygments_lexer": "ipython3",
   "version": "3.8.2"
  },
  "latex_envs": {
   "LaTeX_envs_menu_present": true,
   "autoclose": false,
   "autocomplete": true,
   "bibliofile": "biblio.bib",
   "cite_by": "apalike",
   "current_citInitial": 1,
   "eqLabelWithNumbers": true,
   "eqNumInitial": 1,
   "hotkeys": {
    "equation": "Ctrl-E",
    "itemize": "Ctrl-I"
   },
   "labels_anchors": false,
   "latex_user_defs": false,
   "report_style_numbering": false,
   "user_envs_cfg": false
  },
  "toc": {
   "base_numbering": 1,
   "nav_menu": {},
   "number_sections": true,
   "sideBar": true,
   "skip_h1_title": true,
   "title_cell": "Indice",
   "title_sidebar": "Contenido",
   "toc_cell": false,
   "toc_position": {},
   "toc_section_display": true,
   "toc_window_display": false
  },
  "varInspector": {
   "cols": {
    "lenName": 16,
    "lenType": 16,
    "lenVar": 40
   },
   "kernels_config": {
    "python": {
     "delete_cmd_postfix": "",
     "delete_cmd_prefix": "del ",
     "library": "var_list.py",
     "varRefreshCmd": "print(var_dic_list())"
    },
    "r": {
     "delete_cmd_postfix": ") ",
     "delete_cmd_prefix": "rm(",
     "library": "var_list.r",
     "varRefreshCmd": "cat(var_dic_list()) "
    }
   },
   "types_to_exclude": [
    "module",
    "function",
    "builtin_function_or_method",
    "instance",
    "_Feature"
   ],
   "window_display": false
  }
 },
 "nbformat": 4,
 "nbformat_minor": 4
}
