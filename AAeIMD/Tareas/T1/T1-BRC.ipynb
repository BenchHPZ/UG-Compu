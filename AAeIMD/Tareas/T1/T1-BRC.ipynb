{
 "cells": [
  {
   "cell_type": "markdown",
   "metadata": {},
   "source": [
    "# Tarea 1\n",
    "## Gale-Shapley algorithm para apareamientos estables\n",
    "\n",
    "Instrucciones:\n",
    "> Implementar en Python el algoritmo de Gale-Shapley. Probar con varias entradas. Entregarlo como notebook de Jupyter. Recuerden documentar su código. \n"
   ]
  },
  {
   "cell_type": "code",
   "execution_count": 1,
   "metadata": {
    "ExecuteTime": {
     "end_time": "2020-08-28T00:39:51.588554Z",
     "start_time": "2020-08-28T00:39:51.567634Z"
    },
    "code_folding": [
     3,
     15,
     28
    ],
    "init_cell": true,
    "tags": [
     "Init",
     "Prueba",
     "Datos"
    ]
   },
   "outputs": [],
   "source": [
    "from copy import deepcopy\n",
    "\n",
    "# Caso de prueba robado de 1.2-3\n",
    "preferencias_h = {\n",
    " 'abe':  ['abi', 'eve', 'cath', 'ivy', 'jan', 'dee', 'fay', 'bea', 'hope', 'gay'],\n",
    " 'bob':  ['cath', 'hope', 'abi', 'dee', 'eve', 'fay', 'bea', 'jan', 'ivy', 'gay'],\n",
    " 'col':  ['hope', 'eve', 'abi', 'dee', 'bea', 'fay', 'ivy', 'gay', 'cath', 'jan'],\n",
    " 'dan':  ['ivy', 'fay', 'dee', 'gay', 'hope', 'eve', 'jan', 'bea', 'cath', 'abi'],\n",
    " 'ed':   ['jan', 'dee', 'bea', 'cath', 'fay', 'eve', 'abi', 'ivy', 'hope', 'gay'],\n",
    " 'fred': ['bea', 'abi', 'dee', 'gay', 'eve', 'ivy', 'cath', 'jan', 'hope', 'fay'],\n",
    " 'gav':  ['gay', 'eve', 'ivy', 'bea', 'cath', 'abi', 'dee', 'hope', 'jan', 'fay'],\n",
    " 'hal':  ['abi', 'eve', 'hope', 'fay', 'ivy', 'cath', 'jan', 'bea', 'gay', 'dee'],\n",
    " 'ian':  ['hope', 'cath', 'dee', 'gay', 'bea', 'abi', 'fay', 'ivy', 'jan', 'eve'],\n",
    " 'jon':  ['abi', 'fay', 'jan', 'gay', 'eve', 'bea', 'dee', 'cath', 'ivy', 'hope']}\n",
    "\n",
    "preferencias_m = {\n",
    " 'abi':  ['bob', 'fred', 'jon', 'gav', 'ian', 'abe', 'dan', 'ed', 'col', 'hal'],\n",
    " 'bea':  ['bob', 'abe', 'col', 'fred', 'gav', 'dan', 'ian', 'ed', 'jon', 'hal'],\n",
    " 'cath': ['fred', 'bob', 'ed', 'gav', 'hal', 'col', 'ian', 'abe', 'dan', 'jon'],\n",
    " 'dee':  ['fred', 'jon', 'col', 'abe', 'ian', 'hal', 'gav', 'dan', 'bob', 'ed'],\n",
    " 'eve':  ['jon', 'hal', 'fred', 'dan', 'abe', 'gav', 'col', 'ed', 'ian', 'bob'],\n",
    " 'fay':  ['bob', 'abe', 'ed', 'ian', 'jon', 'dan', 'fred', 'gav', 'col', 'hal'],\n",
    " 'gay':  ['jon', 'gav', 'hal', 'fred', 'bob', 'abe', 'col', 'ed', 'dan', 'ian'],\n",
    " 'hope': ['gav', 'jon', 'bob', 'abe', 'ian', 'dan', 'hal', 'ed', 'col', 'fred'],\n",
    " 'ivy':  ['ian', 'col', 'hal', 'gav', 'fred', 'bob', 'abe', 'ed', 'jon', 'dan'],\n",
    " 'jan':  ['ed', 'hal', 'gav', 'abe', 'bob', 'jon', 'col', 'ian', 'fred', 'dan']}\n",
    "\n",
    "# Funcion copiada de 1.2-3 para verificar los resultados\n",
    "def verificar(engaged, debug=False):\n",
    "    inverseengaged = dict((v,k) for k,v in engaged.items())\n",
    "    for she, he in engaged.items():\n",
    "        shelikes = preferencias_m[she]\n",
    "        shelikesbetter = shelikes[:shelikes.index(he)]\n",
    "        helikes = preferencias_h[he]\n",
    "        helikesbetter = helikes[:helikes.index(she)]\n",
    "        for guy in shelikesbetter:\n",
    "            guysgirl = inverseengaged[guy]\n",
    "            guylikes = preferencias_h[guy]\n",
    "            if guylikes.index(guysgirl) > guylikes.index(she):\n",
    "                if debug:\n",
    "                    print(\"%s and %s like each other better than \"\n",
    "                          \"their present partners: %s and %s, respectively\"\n",
    "                          % (she, guy, he, guysgirl))\n",
    "                return False\n",
    "        for gal in helikesbetter:\n",
    "            girlsguy = engaged[gal]\n",
    "            gallikes = preferencias_m[gal]\n",
    "            if gallikes.index(girlsguy) > gallikes.index(he):\n",
    "                if debug:\n",
    "                    print(\"%s and %s like each other better than \"\n",
    "                          \"their present partners: %s and %s, respectively\"\n",
    "                          % (he, gal, she, girlsguy))\n",
    "                return False\n",
    "    return True\n"
   ]
  },
  {
   "cell_type": "markdown",
   "metadata": {
    "deletable": false,
    "editable": false,
    "run_control": {
     "frozen": true
    }
   },
   "source": [
    " <img src=\"assets/trs.png\" alt=\"Pseudocodigo de ejercicio\" width=500>\n",
    " \n",
    " Pseudocodigo propuesto por la profesora en clase."
   ]
  },
  {
   "cell_type": "code",
   "execution_count": 90,
   "metadata": {
    "ExecuteTime": {
     "end_time": "2020-08-28T00:22:17.507132Z",
     "start_time": "2020-08-28T00:22:17.494022Z"
    },
    "code_folding": [
     4,
     9,
     16
    ],
    "tags": [
     "Intento_fallido_solucion"
    ]
   },
   "outputs": [],
   "source": [
    "\"\"\"  _               _                 _                         _\n",
    "| \\ | | ___     ___ (_) ___  ___ _   _| |_ __ _ _ __    ___  ___| |_ __ _ \n",
    "|  \\| |/ _ \\   / _ \\| |/ _ \\/ __| | | | __/ _` | '__|  / _ \\/ __| __/ _` |\n",
    "| |\\  | (_) | |  __/| |  __/ (__| |_| | || (_| | |    |  __/\\__ \\ || (_| |\n",
    "|_| \\_|\\___/   \\___|/ |\\___|\\___|\\__,_|\\__\\__,_|_|     \\___||___/\\__\\__,_|\n",
    "          _     _  |__/                                                    \n",
    "  ___ ___| | __| | __ _ \n",
    " / __/ _ \\ |/ _` |/ _` |\n",
    "| (_|  __/ | (_| | (_| |\n",
    " \\___\\___|_|\\__,_|\\__,_|\n",
    "\n",
    "    No pude hacer funcionar esta funcion, obtiene una lista de \n",
    "matrimonios pero no es estable.\n",
    "\"\"\"\n",
    "\n",
    "# Funcion principal\n",
    "def stable_marriage(p_h, p_m):\n",
    "    \"\"\"Funcion principal para tratar de resolver el pro_\n",
    "    blema del matrimonio estable. Trata de imitar el al_\n",
    "    goritmo propuesto por el pseudocodigo propuesto  en\n",
    "    clase.\n",
    "        Esta funcion recibe:\n",
    "            p_h := Lista de preferencias para hombres.\n",
    "            p_m := Lista de preferencias para mujeres.\n",
    "            \n",
    "        Esta funcion regresa:\n",
    "            parejas := Un diccionario con las parejas\n",
    "                tal que el nombre de las mujers estan \n",
    "                como clave y los de los hombres  como\n",
    "                valores de las claves correspondientes.\n",
    "                    'parejas[n_mujer] = n_hombre'\n",
    "    \"\"\"\n",
    "    \n",
    "    # Dadas las siguientes personas ...\n",
    "    hombres = list(p_h.keys())\n",
    "    mujeres = list(p_m.keys())\n",
    "    # ... y sus respectivas preferencias.\n",
    "    preferencias_h = deepcopy( p_h )\n",
    "    preferencias_m = deepcopy( p_m )\n",
    "    \"\"\" En esta seccion debi usar deepcopy (inspirado por\n",
    "    1.2-3 )  porque dentro de la funcion estaba alterando \n",
    "    los valores internos de las variables externas.\n",
    "    \"\"\"\n",
    "    \n",
    "    # Iniciamos con todes hombres y mujeres no comprometidos\n",
    "    h_libres = hombres[:]\n",
    "    parejas = {}\n",
    "    \n",
    "    # Mientras haya hombres libres ...\n",
    "    while len(h_libres) > 0:\n",
    "        # Tomamos a uno de los hombres\n",
    "        h = h_libres.pop()\n",
    "        \n",
    "        # ... y queden mujeres para proponer\n",
    "        for m in preferencias_h[h]:    \n",
    "            \n",
    "            # Tomamos a la siguiente mujer ideal\n",
    "            preferencias_h[h].remove(m)    # Solo proponemos una vez x m\n",
    "            \n",
    "            # Si ella ya esta comprometida\n",
    "            if (m in parejas):\n",
    "                # Si ella prefiere a h sobre parejas[m]\n",
    "                if ((preferencias_m[m]).index(h) <\n",
    "                    (preferencias_m[m]).index(parejas[m])):\n",
    "\n",
    "                    h_libres.append(parejas[m])   # El dejado es soltero\n",
    "                    parejas[m] = h        # Actualizamos la nueva pareja\n",
    "                    break\n",
    "\n",
    "            # Si ella no esta comprometida\n",
    "            else:\n",
    "                parejas[m] = h                # Creamos una nueva pareja\n",
    "                break\n",
    "\n",
    "\n",
    "        # Parejas parciales por iteracion\n",
    "        #print(f'{parejas=}')\n",
    "    \n",
    "    #print(preferencias_h)\n",
    "    #print(preferencias_m, end=\"\\n\\n\\n\")\n",
    "    # Regresamos el grupo de las parejas comprometidas\n",
    "    return parejas\n"
   ]
  },
  {
   "cell_type": "code",
   "execution_count": 2,
   "metadata": {
    "ExecuteTime": {
     "end_time": "2020-08-28T00:40:04.567794Z",
     "start_time": "2020-08-28T00:40:04.554409Z"
    },
    "code_folding": [],
    "tags": [
     "Posible_correcta_solucion"
    ]
   },
   "outputs": [],
   "source": [
    "\"\"\"___     _                      _         _  \n",
    "| ____|___| |_ __ _    ___  ___  | | __ _  | |__  _   _  ___ _ __   __ _ \n",
    "|  _| / __| __/ _` |  / _ \\/ __| | |/ _` | | '_ \\| | | |/ _ \\ '_ \\ / _` |\n",
    "| |___\\__ \\ || (_| | |  __/\\__ \\ | | (_| | | |_) | |_| |  __/ | | | (_| |\n",
    "|_____|___/\\__\\__,_|  \\___||___/ |_|\\__,_| |_.__/ \\__,_|\\___|_| |_|\\__,_|\n",
    "\n",
    "    En esta funcion decidi empezar escribiendo los comentarios basados \n",
    "en el pseudocodigo propuesto por la profesora. Todos los comentarios con \n",
    "comillas(\") corresponden al pseudocodigo y los que solo usan almohadilla \n",
    "(#) son respecto a la implementacion del mismo.\n",
    "\"\"\"\n",
    "\n",
    "# Funcion principal\n",
    "def stable_marriage(p_h, p_m):\n",
    "                                 # Hacemos una copia de las preferencias\n",
    "    preferencias_h = deepcopy(p_h)\n",
    "    preferencias_m = deepcopy(p_m)\n",
    "                          # Conseguimos los nombres de los participantes\n",
    "    hombres = list(preferencias_h.keys())\n",
    "    mujeres = list(preferencias_m.keys())\n",
    "    \n",
    "    \"\"\" Inicializar todos los hombres y mujeres como no \n",
    "    comprometidos. (disponibles) \n",
    "    \"\"\"\n",
    "    parejas = {}                     # Al inicio no hay parejas formadas\n",
    "    h_libres =hombres[:] # Al inicio todos los hombres estan disponibles\n",
    "    \n",
    "    \"\"\" Mientras haya un hombre soltero que no se haya \n",
    "    propuesto a todas las mujeres\n",
    "    \"\"\"\n",
    "    while len(h_libres) > 0:\n",
    "        \"\"\" Toma a dicho hombre h \"\"\"\n",
    "                    # Tomamos al primer hombre de la cola de disponibles\n",
    "            h = h_libres.pop(0)\n",
    "        \"\"\" Sea m la mujer mas preferida por el hombre y\n",
    "        a quien h no se haya propuesto \"\"\"\n",
    "               # Tomamos a la mujer mas preferida, aun disponible, por h\n",
    "        m = (preferencias_h[h]).pop(0)\n",
    "        \n",
    "        \"\"\" Si m esta disponible \"\"\"\n",
    "        if m not in parejas:          # Si no esta en una pareja lo esta\n",
    "            \"\"\" Haz que (m,h) se comprometan \"\"\"\n",
    "            parejas[m] = h\n",
    "            \n",
    "        # \"\"\" Si, por otro lado, m ya se comprometio con h' \"\"\"\n",
    "        else:\n",
    "            \"\"\" Si m prefiere a h' sobre h \"\"\"\n",
    "             # Mientras menor sea el indice de alguien, mas preferido es                \n",
    "            if (preferencias_m[m].index(parejas[m]) <\n",
    "                preferencias_m[m].index(h) ):\n",
    "                \"\"\" h permanece disponible \"\"\"\n",
    "   # Agregamos el hombre al final para que escoja hasta la proxima ronda\n",
    "                h_libres.append(h)\n",
    "\n",
    "            # \"\"\" Si, por otro lado, m prefiere a h sobre h' \"\"\"\n",
    "            else:            # Si no prefiere a uno, entonces al otro si\n",
    "                \"\"\" h' se vuelve soltero \"\"\"\n",
    "         # Ponemos a la antigua opcion de ella en la cola de disponibles\n",
    "                h_libres.append(parejas[m]) \n",
    "                \"\"\" (m, h) se comprometen \"\"\"\n",
    "                parejas[m] = h   # El actual se vuelve la opcion de ella\n",
    "    # Estos ultimos dos pasos los inverti para evitar usar una variable temporal           \n",
    "    \"\"\" EndWhile \"\"\"\n",
    "    \"\"\" Regresamos el conjunto de todas las parejas creadas \"\"\"\n",
    "    return parejas\n"
   ]
  },
  {
   "cell_type": "code",
   "execution_count": 3,
   "metadata": {
    "ExecuteTime": {
     "end_time": "2020-08-28T00:40:05.407637Z",
     "start_time": "2020-08-28T00:40:05.403522Z"
    },
    "tags": [
     "Ejecucion"
    ]
   },
   "outputs": [
    {
     "name": "stdout",
     "output_type": "stream",
     "text": [
      "{'abi': 'jon', 'cath': 'bob', 'hope': 'ian', 'ivy': 'abe', 'jan': 'ed', 'bea': 'fred', 'gay': 'gav', 'eve': 'hal', 'dee': 'col', 'fay': 'dan'}\n"
     ]
    }
   ],
   "source": [
    "parejas = stable_marriage(preferencias_h, preferencias_m)\n",
    "\n",
    "print( parejas if verificar(parejas, True) else \"Error\")"
   ]
  },
  {
   "cell_type": "markdown",
   "metadata": {
    "tags": [
     "Referencias"
    ]
   },
   "source": [
    "## Referencias\n",
    "\n",
    " 1. [Video profesora 1](https://www.youtube.com/watch?v=FW5MdZYzY5s)\n",
    " 2. [Video profesora 2](https://www.youtube.com/watch?v=j-RXyfjKbso)\n",
    " 3. [Inspiracion y caso de prueba](https://rosettacode.org/wiki/Stable_marriage_problem#Python)"
   ]
  }
 ],
 "metadata": {
  "hide_input": false,
  "kernelspec": {
   "display_name": "Python 3",
   "language": "python",
   "name": "python3"
  },
  "language_info": {
   "codemirror_mode": {
    "name": "ipython",
    "version": 3
   },
   "file_extension": ".py",
   "mimetype": "text/x-python",
   "name": "python",
   "nbconvert_exporter": "python",
   "pygments_lexer": "ipython3",
   "version": "3.8.2"
  },
  "latex_envs": {
   "LaTeX_envs_menu_present": true,
   "autoclose": false,
   "autocomplete": true,
   "bibliofile": "biblio.bib",
   "cite_by": "apalike",
   "current_citInitial": 1,
   "eqLabelWithNumbers": true,
   "eqNumInitial": 1,
   "hotkeys": {
    "equation": "Ctrl-E",
    "itemize": "Ctrl-I"
   },
   "labels_anchors": false,
   "latex_user_defs": false,
   "report_style_numbering": false,
   "user_envs_cfg": false
  },
  "toc": {
   "base_numbering": 1,
   "nav_menu": {},
   "number_sections": true,
   "sideBar": true,
   "skip_h1_title": false,
   "title_cell": "Table of Contents",
   "title_sidebar": "Contents",
   "toc_cell": false,
   "toc_position": {},
   "toc_section_display": true,
   "toc_window_display": false
  },
  "varInspector": {
   "cols": {
    "lenName": 16,
    "lenType": 16,
    "lenVar": 40
   },
   "kernels_config": {
    "python": {
     "delete_cmd_postfix": "",
     "delete_cmd_prefix": "del ",
     "library": "var_list.py",
     "varRefreshCmd": "print(var_dic_list())"
    },
    "r": {
     "delete_cmd_postfix": ") ",
     "delete_cmd_prefix": "rm(",
     "library": "var_list.r",
     "varRefreshCmd": "cat(var_dic_list()) "
    }
   },
   "oldHeight": 215.683666,
   "position": {
    "height": "205.85px",
    "left": "1420.5px",
    "right": "20px",
    "top": "175px",
    "width": "390.333px"
   },
   "types_to_exclude": [
    "module",
    "function",
    "builtin_function_or_method",
    "instance",
    "_Feature"
   ],
   "varInspector_section_display": "block",
   "window_display": false
  }
 },
 "nbformat": 4,
 "nbformat_minor": 4
}
